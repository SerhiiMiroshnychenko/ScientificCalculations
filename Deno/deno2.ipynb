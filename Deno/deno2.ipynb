{
 "cells": [
  {
   "cell_type": "code",
   "execution_count": 3,
   "id": "e967bbe0-a163-437a-a1ae-a6dce49c830a",
   "metadata": {},
   "outputs": [
    {
     "name": "stdout",
     "output_type": "stream",
     "text": [
      "[\n",
      "   \u001b[33m2\u001b[39m, \u001b[33m6\u001b[39m, \u001b[33m9\u001b[39m, \u001b[33m3\u001b[39m, \u001b[33m10\u001b[39m, \u001b[33m10\u001b[39m,  \u001b[33m7\u001b[39m, \u001b[33m10\u001b[39m, \u001b[33m0\u001b[39m, \u001b[33m9\u001b[39m,  \u001b[33m0\u001b[39m, \u001b[33m10\u001b[39m,\n",
      "   \u001b[33m5\u001b[39m, \u001b[33m6\u001b[39m, \u001b[33m1\u001b[39m, \u001b[33m5\u001b[39m,  \u001b[33m3\u001b[39m,  \u001b[33m3\u001b[39m,  \u001b[33m1\u001b[39m,  \u001b[33m8\u001b[39m, \u001b[33m4\u001b[39m, \u001b[33m2\u001b[39m,  \u001b[33m0\u001b[39m,  \u001b[33m5\u001b[39m,\n",
      "  \u001b[33m10\u001b[39m, \u001b[33m3\u001b[39m, \u001b[33m5\u001b[39m, \u001b[33m0\u001b[39m,  \u001b[33m2\u001b[39m,  \u001b[33m8\u001b[39m,  \u001b[33m7\u001b[39m,  \u001b[33m9\u001b[39m, \u001b[33m0\u001b[39m, \u001b[33m4\u001b[39m,  \u001b[33m7\u001b[39m,  \u001b[33m4\u001b[39m,\n",
      "   \u001b[33m2\u001b[39m, \u001b[33m8\u001b[39m, \u001b[33m3\u001b[39m, \u001b[33m9\u001b[39m,  \u001b[33m4\u001b[39m,  \u001b[33m4\u001b[39m,  \u001b[33m9\u001b[39m,  \u001b[33m1\u001b[39m, \u001b[33m9\u001b[39m, \u001b[33m3\u001b[39m, \u001b[33m10\u001b[39m,  \u001b[33m9\u001b[39m,\n",
      "   \u001b[33m1\u001b[39m, \u001b[33m9\u001b[39m, \u001b[33m3\u001b[39m, \u001b[33m3\u001b[39m,  \u001b[33m5\u001b[39m, \u001b[33m10\u001b[39m,  \u001b[33m8\u001b[39m,  \u001b[33m3\u001b[39m, \u001b[33m7\u001b[39m, \u001b[33m7\u001b[39m,  \u001b[33m7\u001b[39m,  \u001b[33m8\u001b[39m,\n",
      "   \u001b[33m0\u001b[39m, \u001b[33m3\u001b[39m, \u001b[33m7\u001b[39m, \u001b[33m9\u001b[39m, \u001b[33m10\u001b[39m,  \u001b[33m2\u001b[39m, \u001b[33m10\u001b[39m, \u001b[33m10\u001b[39m, \u001b[33m8\u001b[39m, \u001b[33m4\u001b[39m,  \u001b[33m8\u001b[39m,  \u001b[33m2\u001b[39m,\n",
      "   \u001b[33m1\u001b[39m, \u001b[33m5\u001b[39m, \u001b[33m7\u001b[39m, \u001b[33m5\u001b[39m, \u001b[33m10\u001b[39m,  \u001b[33m3\u001b[39m,  \u001b[33m2\u001b[39m, \u001b[33m10\u001b[39m, \u001b[33m3\u001b[39m, \u001b[33m3\u001b[39m,  \u001b[33m0\u001b[39m,  \u001b[33m2\u001b[39m,\n",
      "   \u001b[33m5\u001b[39m, \u001b[33m1\u001b[39m, \u001b[33m8\u001b[39m, \u001b[33m7\u001b[39m,  \u001b[33m2\u001b[39m,  \u001b[33m7\u001b[39m,  \u001b[33m2\u001b[39m,  \u001b[33m1\u001b[39m, \u001b[33m8\u001b[39m, \u001b[33m6\u001b[39m,  \u001b[33m1\u001b[39m,  \u001b[33m1\u001b[39m,\n",
      "   \u001b[33m6\u001b[39m, \u001b[33m3\u001b[39m, \u001b[33m9\u001b[39m, \u001b[33m8\u001b[39m\n",
      "]\n"
     ]
    }
   ],
   "source": [
    "// Генеруємо масив з 100 випадкових чисел від 0 до 10\n",
    "const randomNumbers: number[] = Array.from(\n",
    "  { length: 100 },\n",
    "  () => Math.floor(Math.random() * 11)\n",
    ");\n",
    "\n",
    "console.log(randomNumbers);"
   ]
  },
  {
   "cell_type": "code",
   "execution_count": 4,
   "id": "f00bbd7d-7db8-45f8-b4ca-109221988b41",
   "metadata": {},
   "outputs": [
    {
     "name": "stdout",
     "output_type": "stream",
     "text": [
      "[\n",
      "   \u001b[33m7\u001b[39m, \u001b[33m9\u001b[39m, \u001b[33m10\u001b[39m, \u001b[33m14\u001b[39m,  \u001b[33m6\u001b[39m,\n",
      "   \u001b[33m8\u001b[39m, \u001b[33m4\u001b[39m, \u001b[33m10\u001b[39m, \u001b[33m10\u001b[39m, \u001b[33m10\u001b[39m,\n",
      "  \u001b[33m12\u001b[39m\n",
      "]\n"
     ]
    }
   ],
   "source": [
    "// Рахуємо кількість кожного числа\n",
    "const counts: number[] = Array(11).fill(0);\n",
    "randomNumbers.forEach(num => counts[num]++);\n",
    "\n",
    "console.log(counts);"
   ]
  },
  {
   "cell_type": "code",
   "execution_count": 15,
   "id": "5598eee7-7f66-46c1-a119-9dd7f8ec2dbe",
   "metadata": {},
   "outputs": [
    {
     "data": {
      "text/html": [
       "<figure style=\"max-width:initial\" class=\"plot-d6a7b5-figure\"><h2>Розподіл випадкових чисел (0-10)</h2><svg viewBox=\"0 0 800 400\" height=\"400\" width=\"800\" text-anchor=\"middle\" font-size=\"10\" font-family=\"system-ui, sans-serif\" fill=\"currentColor\" class=\"plot-d6a7b5\"><style>:where(.plot-d6a7b5) {\n",
       "  --plot-background: white;\n",
       "  display: block;\n",
       "  height: auto;\n",
       "  height: intrinsic;\n",
       "  max-width: 100%;\n",
       "}\n",
       ":where(.plot-d6a7b5 text),\n",
       ":where(.plot-d6a7b5 tspan) {\n",
       "  white-space: pre;\n",
       "}</style><g stroke-opacity=\"0.1\" stroke=\"currentColor\" aria-hidden=\"true\" aria-label=\"y-grid\"><line y2=\"370\" y1=\"370\" x2=\"780\" x1=\"60\" /><line y2=\"345\" y1=\"345\" x2=\"780\" x1=\"60\" /><line y2=\"320\" y1=\"320\" x2=\"780\" x1=\"60\" /><line y2=\"295\" y1=\"295\" x2=\"780\" x1=\"60\" /><line y2=\"270\" y1=\"270\" x2=\"780\" x1=\"60\" /><line y2=\"244.99999999999997\" y1=\"244.99999999999997\" x2=\"780\" x1=\"60\" /><line y2=\"220\" y1=\"220\" x2=\"780\" x1=\"60\" /><line y2=\"195\" y1=\"195\" x2=\"780\" x1=\"60\" /><line y2=\"170\" y1=\"170\" x2=\"780\" x1=\"60\" /><line y2=\"145\" y1=\"145\" x2=\"780\" x1=\"60\" /><line y2=\"120\" y1=\"120\" x2=\"780\" x1=\"60\" /><line y2=\"95\" y1=\"95\" x2=\"780\" x1=\"60\" /><line y2=\"70.00000000000001\" y1=\"70.00000000000001\" x2=\"780\" x1=\"60\" /><line y2=\"44.999999999999986\" y1=\"44.999999999999986\" x2=\"780\" x1=\"60\" /><line y2=\"20\" y1=\"20\" x2=\"780\" x1=\"60\" /></g><g stroke=\"currentColor\" fill=\"none\" aria-hidden=\"true\" aria-label=\"y-axis tick\"><path d=\"M0,0L-6,0\" transform=\"translate(60,370)\" /><path d=\"M0,0L-6,0\" transform=\"translate(60,345)\" /><path d=\"M0,0L-6,0\" transform=\"translate(60,320)\" /><path d=\"M0,0L-6,0\" transform=\"translate(60,295)\" /><path d=\"M0,0L-6,0\" transform=\"translate(60,270)\" /><path d=\"M0,0L-6,0\" transform=\"translate(60,244.99999999999997)\" /><path d=\"M0,0L-6,0\" transform=\"translate(60,220)\" /><path d=\"M0,0L-6,0\" transform=\"translate(60,195)\" /><path d=\"M0,0L-6,0\" transform=\"translate(60,170)\" /><path d=\"M0,0L-6,0\" transform=\"translate(60,145)\" /><path d=\"M0,0L-6,0\" transform=\"translate(60,120)\" /><path d=\"M0,0L-6,0\" transform=\"translate(60,95)\" /><path d=\"M0,0L-6,0\" transform=\"translate(60,70.00000000000001)\" /><path d=\"M0,0L-6,0\" transform=\"translate(60,44.999999999999986)\" /><path d=\"M0,0L-6,0\" transform=\"translate(60,20)\" /></g><g transform=\"translate(-9,0)\" font-variant=\"tabular-nums\" text-anchor=\"end\" aria-label=\"y-axis tick label\"><text transform=\"translate(60,370)\" y=\"0.32em\">0</text><text transform=\"translate(60,345)\" y=\"0.32em\">1</text><text transform=\"translate(60,320)\" y=\"0.32em\">2</text><text transform=\"translate(60,295)\" y=\"0.32em\">3</text><text transform=\"translate(60,270)\" y=\"0.32em\">4</text><text transform=\"translate(60,244.99999999999997)\" y=\"0.32em\">5</text><text transform=\"translate(60,220)\" y=\"0.32em\">6</text><text transform=\"translate(60,195)\" y=\"0.32em\">7</text><text transform=\"translate(60,170)\" y=\"0.32em\">8</text><text transform=\"translate(60,145)\" y=\"0.32em\">9</text><text transform=\"translate(60,120)\" y=\"0.32em\">10</text><text transform=\"translate(60,95)\" y=\"0.32em\">11</text><text transform=\"translate(60,70.00000000000001)\" y=\"0.32em\">12</text><text transform=\"translate(60,44.999999999999986)\" y=\"0.32em\">13</text><text transform=\"translate(60,20)\" y=\"0.32em\">14</text></g><g transform=\"translate(-57,-17)\" text-anchor=\"start\" aria-label=\"y-axis label\"><text transform=\"translate(60,20)\" y=\"0.71em\">↑ Кількість</text></g><g transform=\"translate(29,0)\" stroke=\"currentColor\" fill=\"none\" aria-hidden=\"true\" aria-label=\"x-axis tick\"><path d=\"M0,0L0,6\" transform=\"translate(71,370)\" /><path d=\"M0,0L0,6\" transform=\"translate(135,370)\" /><path d=\"M0,0L0,6\" transform=\"translate(199,370)\" /><path d=\"M0,0L0,6\" transform=\"translate(263,370)\" /><path d=\"M0,0L0,6\" transform=\"translate(327,370)\" /><path d=\"M0,0L0,6\" transform=\"translate(391,370)\" /><path d=\"M0,0L0,6\" transform=\"translate(455,370)\" /><path d=\"M0,0L0,6\" transform=\"translate(519,370)\" /><path d=\"M0,0L0,6\" transform=\"translate(583,370)\" /><path d=\"M0,0L0,6\" transform=\"translate(647,370)\" /><path d=\"M0,0L0,6\" transform=\"translate(711,370)\" /></g><g transform=\"translate(29,9)\" aria-label=\"x-axis tick label\"><text transform=\"translate(71,370)\" y=\"0.71em\">0</text><text transform=\"translate(135,370)\" y=\"0.71em\">1</text><text transform=\"translate(199,370)\" y=\"0.71em\">10</text><text transform=\"translate(263,370)\" y=\"0.71em\">2</text><text transform=\"translate(327,370)\" y=\"0.71em\">3</text><text transform=\"translate(391,370)\" y=\"0.71em\">4</text><text transform=\"translate(455,370)\" y=\"0.71em\">5</text><text transform=\"translate(519,370)\" y=\"0.71em\">6</text><text transform=\"translate(583,370)\" y=\"0.71em\">7</text><text transform=\"translate(647,370)\" y=\"0.71em\">8</text><text transform=\"translate(711,370)\" y=\"0.71em\">9</text></g><g transform=\"translate(0,27)\" aria-label=\"x-axis label\"><text transform=\"translate(420,370)\">Значення</text></g><g fill=\"#4CAF50\" aria-label=\"bar\"><rect height=\"175\" y=\"195\" width=\"58\" x=\"71\" /><rect height=\"225\" y=\"145\" width=\"58\" x=\"135\" /><rect height=\"250\" y=\"120\" width=\"58\" x=\"263\" /><rect height=\"350\" y=\"20\" width=\"58\" x=\"327\" /><rect height=\"150\" y=\"220\" width=\"58\" x=\"391\" /><rect height=\"200\" y=\"170\" width=\"58\" x=\"455\" /><rect height=\"100\" y=\"270\" width=\"58\" x=\"519\" /><rect height=\"250\" y=\"120\" width=\"58\" x=\"583\" /><rect height=\"250\" y=\"120\" width=\"58\" x=\"647\" /><rect height=\"250\" y=\"120\" width=\"58\" x=\"711\" /><rect height=\"300\" y=\"70.00000000000001\" width=\"58\" x=\"199\" /></g><g stroke=\"currentColor\" aria-label=\"rule\"><line y2=\"370\" y1=\"370\" x2=\"780\" x1=\"60\" /></g></svg></figure>"
      ]
     },
     "execution_count": 15,
     "metadata": {},
     "output_type": "execute_result"
    }
   ],
   "source": [
    "// Перетворюємо дані для візуалізації\n",
    "const distributionData = counts.map((count, value) => ({\n",
    "  value: value.toString(),\n",
    "  count\n",
    "}));\n",
    "\n",
    "// Візуалізація розподілу за допомогою Plot\n",
    "await display(\n",
    "  Plot.plot({\n",
    "    title: \"Розподіл випадкових чисел (0-10)\",\n",
    "    marginLeft: 60,\n",
    "    x: {\n",
    "      label: \"Значення\",\n",
    "      type: \"band\"\n",
    "    },\n",
    "    y: {\n",
    "      label: \"Кількість\",\n",
    "      grid: true\n",
    "    },\n",
    "    marks: [\n",
    "      Plot.barY(distributionData, {x: \"value\", y: \"count\", fill: \"#4CAF50\"}),\n",
    "      Plot.ruleY([0])\n",
    "    ],\n",
    "    color: { legend: false },\n",
    "    width: 800,\n",
    "    height: 400,\n",
    "    document,\n",
    "  })\n",
    ");"
   ]
  },
  {
   "cell_type": "code",
   "execution_count": 6,
   "id": "2fa46c7e-c15c-4e6e-9b9c-65810ad96583",
   "metadata": {},
   "outputs": [],
   "source": [
    "import pl from \"npm:nodejs-polars\";\n",
    "import { display } from \"https://deno.land/x/display@v0.1.1/mod.ts\";"
   ]
  },
  {
   "cell_type": "code",
   "execution_count": 7,
   "id": "caca3d16-5a3f-4181-8c35-3dd1a194bae1",
   "metadata": {},
   "outputs": [
    {
     "data": {
      "application/vnd.dataresource+json": {
       "data": [
        {
         "ActualExpenses": 248,
         "ActualIncome": 343,
         "BudgetExpenses": 251,
         "BudgetIncome": 352,
         "Consulting": 4,
         "Date": "2022-02-03",
         "DiffExpenses": 3,
         "DiffIncome": 9,
         "Equipment": 49,
         "Expenses": 248,
         "Hardware": 1,
         "Income": 343,
         "Marketing": 30,
         "NetIncome": 95,
         "Office Supplies": 9,
         "R&D": 26,
         "Rent": 40,
         "Salaries": 36,
         "Software": 4,
         "Utilities": 49
        },
        {
         "ActualExpenses": 249,
         "ActualIncome": 346,
         "BudgetExpenses": 247,
         "BudgetIncome": 343,
         "Consulting": 8,
         "Date": "2022-01-30",
         "DiffExpenses": -2,
         "DiffIncome": -3,
         "Equipment": 37,
         "Expenses": 249,
         "Hardware": 8,
         "Income": 346,
         "Marketing": 49,
         "NetIncome": 97,
         "Office Supplies": 7,
         "R&D": 35,
         "Rent": 27,
         "Salaries": 28,
         "Software": 7,
         "Utilities": 43
        },
        {
         "ActualExpenses": 236,
         "ActualIncome": 247,
         "BudgetExpenses": 236,
         "BudgetIncome": 248,
         "Consulting": 1,
         "Date": "2022-06-14",
         "DiffExpenses": 0,
         "DiffIncome": 1,
         "Equipment": 39,
         "Expenses": 236,
         "Hardware": 2,
         "Income": 247,
         "Marketing": 25,
         "NetIncome": 11,
         "Office Supplies": 7,
         "R&D": 46,
         "Rent": 45,
         "Salaries": 25,
         "Software": 2,
         "Utilities": 44
        },
        {
         "ActualExpenses": 240,
         "ActualIncome": 288,
         "BudgetExpenses": 234,
         "BudgetIncome": 275,
         "Consulting": 9,
         "Date": "2022-05-23",
         "DiffExpenses": -6,
         "DiffIncome": -13,
         "Equipment": 39,
         "Expenses": 240,
         "Hardware": 9,
         "Income": 288,
         "Marketing": 41,
         "NetIncome": 48,
         "Office Supplies": 8,
         "R&D": 30,
         "Rent": 29,
         "Salaries": 33,
         "Software": 7,
         "Utilities": 35
        },
        {
         "ActualExpenses": 228,
         "ActualIncome": 280,
         "BudgetExpenses": 233,
         "BudgetIncome": 280,
         "Consulting": 3,
         "Date": "2022-02-28",
         "DiffExpenses": 5,
         "DiffIncome": 0,
         "Equipment": 27,
         "Expenses": 228,
         "Hardware": 8,
         "Income": 280,
         "Marketing": 29,
         "NetIncome": 52,
         "Office Supplies": 6,
         "R&D": 29,
         "Rent": 49,
         "Salaries": 43,
         "Software": 1,
         "Utilities": 33
        },
        {
         "ActualExpenses": 196,
         "ActualIncome": 223,
         "BudgetExpenses": 194,
         "BudgetIncome": 231,
         "Consulting": 2,
         "Date": "2022-03-04",
         "DiffExpenses": -2,
         "DiffIncome": 8,
         "Equipment": 27,
         "Expenses": 196,
         "Hardware": 9,
         "Income": 223,
         "Marketing": 21,
         "NetIncome": 27,
         "Office Supplies": 8,
         "R&D": 34,
         "Rent": 38,
         "Salaries": 21,
         "Software": 8,
         "Utilities": 28
        },
        {
         "ActualExpenses": 262,
         "ActualIncome": 299,
         "BudgetExpenses": 269,
         "BudgetIncome": 301,
         "Consulting": 1,
         "Date": "2022-02-22",
         "DiffExpenses": 7,
         "DiffIncome": 2,
         "Equipment": 35,
         "Expenses": 262,
         "Hardware": 9,
         "Income": 299,
         "Marketing": 45,
         "NetIncome": 37,
         "Office Supplies": 6,
         "R&D": 41,
         "Rent": 44,
         "Salaries": 43,
         "Software": 5,
         "Utilities": 33
        },
        {
         "ActualExpenses": 261,
         "ActualIncome": 307,
         "BudgetExpenses": 262,
         "BudgetIncome": 304,
         "Consulting": 6,
         "Date": "2022-02-19",
         "DiffExpenses": 1,
         "DiffIncome": -3,
         "Equipment": 39,
         "Expenses": 261,
         "Hardware": 3,
         "Income": 307,
         "Marketing": 40,
         "NetIncome": 46,
         "Office Supplies": 5,
         "R&D": 35,
         "Rent": 44,
         "Salaries": 44,
         "Software": 8,
         "Utilities": 37
        },
        {
         "ActualExpenses": 233,
         "ActualIncome": 271,
         "BudgetExpenses": 228,
         "BudgetIncome": 254,
         "Consulting": 4,
         "Date": "2022-07-01",
         "DiffExpenses": -5,
         "DiffIncome": -17,
         "Equipment": 20,
         "Expenses": 233,
         "Hardware": 6,
         "Income": 271,
         "Marketing": 42,
         "NetIncome": 38,
         "Office Supplies": 3,
         "R&D": 37,
         "Rent": 49,
         "Salaries": 30,
         "Software": 5,
         "Utilities": 37
        },
        {
         "ActualExpenses": 236,
         "ActualIncome": 346,
         "BudgetExpenses": 237,
         "BudgetIncome": 342,
         "Consulting": 3,
         "Date": "2022-03-25",
         "DiffExpenses": 1,
         "DiffIncome": -4,
         "Equipment": 44,
         "Expenses": 236,
         "Hardware": 4,
         "Income": 346,
         "Marketing": 48,
         "NetIncome": 110,
         "Office Supplies": 9,
         "R&D": 36,
         "Rent": 41,
         "Salaries": 24,
         "Software": 4,
         "Utilities": 23
        }
       ],
       "schema": {
        "fields": [
         {
          "name": "Date",
          "type": "string"
         },
         {
          "name": "Income",
          "type": "integer"
         },
         {
          "name": "Expenses",
          "type": "integer"
         },
         {
          "name": "NetIncome",
          "type": "integer"
         },
         {
          "name": "BudgetIncome",
          "type": "integer"
         },
         {
          "name": "ActualIncome",
          "type": "integer"
         },
         {
          "name": "BudgetExpenses",
          "type": "integer"
         },
         {
          "name": "ActualExpenses",
          "type": "integer"
         },
         {
          "name": "Salaries",
          "type": "integer"
         },
         {
          "name": "R&D",
          "type": "integer"
         },
         {
          "name": "Marketing",
          "type": "integer"
         },
         {
          "name": "Utilities",
          "type": "integer"
         },
         {
          "name": "Rent",
          "type": "integer"
         },
         {
          "name": "Equipment",
          "type": "integer"
         },
         {
          "name": "Software",
          "type": "integer"
         },
         {
          "name": "Hardware",
          "type": "integer"
         },
         {
          "name": "Consulting",
          "type": "integer"
         },
         {
          "name": "Office Supplies",
          "type": "integer"
         },
         {
          "name": "DiffIncome",
          "type": "integer"
         },
         {
          "name": "DiffExpenses",
          "type": "integer"
         }
        ]
       }
      },
      "text/html": [
       "<table><thead><tr><th>Date</th><th>Income</th><th>Expenses</th><th>NetIncome</th><th>BudgetIncome</th><th>ActualIncome</th><th>BudgetExpenses</th><th>ActualExpenses</th><th>Salaries</th><th>R&amp;D</th><th>Marketing</th><th>Utilities</th><th>Rent</th><th>Equipment</th><th>Software</th><th>Hardware</th><th>Consulting</th><th>Office Supplies</th><th>DiffIncome</th><th>DiffExpenses</th></tr></thead><tbody><tr><td>2022-02-03</td><td>343</td><td>248</td><td>95</td><td>352</td><td>343</td><td>251</td><td>248</td><td>36</td><td>26</td><td>30</td><td>49</td><td>40</td><td>49</td><td>4</td><td>1</td><td>4</td><td>9</td><td>9</td><td>3</td></tr><tr><td>2022-01-30</td><td>346</td><td>249</td><td>97</td><td>343</td><td>346</td><td>247</td><td>249</td><td>28</td><td>35</td><td>49</td><td>43</td><td>27</td><td>37</td><td>7</td><td>8</td><td>8</td><td>7</td><td>-3</td><td>-2</td></tr><tr><td>2022-06-14</td><td>247</td><td>236</td><td>11</td><td>248</td><td>247</td><td>236</td><td>236</td><td>25</td><td>46</td><td>25</td><td>44</td><td>45</td><td>39</td><td>2</td><td>2</td><td>1</td><td>7</td><td>1</td><td>0</td></tr><tr><td>2022-05-23</td><td>288</td><td>240</td><td>48</td><td>275</td><td>288</td><td>234</td><td>240</td><td>33</td><td>30</td><td>41</td><td>35</td><td>29</td><td>39</td><td>7</td><td>9</td><td>9</td><td>8</td><td>-13</td><td>-6</td></tr><tr><td>2022-02-28</td><td>280</td><td>228</td><td>52</td><td>280</td><td>280</td><td>233</td><td>228</td><td>43</td><td>29</td><td>29</td><td>33</td><td>49</td><td>27</td><td>1</td><td>8</td><td>3</td><td>6</td><td>0</td><td>5</td></tr><tr><td>2022-03-04</td><td>223</td><td>196</td><td>27</td><td>231</td><td>223</td><td>194</td><td>196</td><td>21</td><td>34</td><td>21</td><td>28</td><td>38</td><td>27</td><td>8</td><td>9</td><td>2</td><td>8</td><td>8</td><td>-2</td></tr><tr><td>2022-02-22</td><td>299</td><td>262</td><td>37</td><td>301</td><td>299</td><td>269</td><td>262</td><td>43</td><td>41</td><td>45</td><td>33</td><td>44</td><td>35</td><td>5</td><td>9</td><td>1</td><td>6</td><td>2</td><td>7</td></tr><tr><td>2022-02-19</td><td>307</td><td>261</td><td>46</td><td>304</td><td>307</td><td>262</td><td>261</td><td>44</td><td>35</td><td>40</td><td>37</td><td>44</td><td>39</td><td>8</td><td>3</td><td>6</td><td>5</td><td>-3</td><td>1</td></tr><tr><td>2022-07-01</td><td>271</td><td>233</td><td>38</td><td>254</td><td>271</td><td>228</td><td>233</td><td>30</td><td>37</td><td>42</td><td>37</td><td>49</td><td>20</td><td>5</td><td>6</td><td>4</td><td>3</td><td>-17</td><td>-5</td></tr><tr><td>2022-03-25</td><td>346</td><td>236</td><td>110</td><td>342</td><td>346</td><td>237</td><td>236</td><td>24</td><td>36</td><td>48</td><td>23</td><td>41</td><td>44</td><td>4</td><td>4</td><td>3</td><td>9</td><td>-4</td><td>1</td></tr></tbody></table>"
      ]
     },
     "execution_count": 7,
     "metadata": {},
     "output_type": "execute_result"
    }
   ],
   "source": [
    "let response = await fetch(\n",
    "  \"https://gist.githubusercontent.com/agustinustheo/195f32a4a6c68c493056c883d959ca35/raw/c7363d8b916ab00a2d1747adb89fca120da29f42/mock_financial_data.csv\",\n",
    ");\n",
    "\n",
    "let data = await response.text();\n",
    "\n",
    "let df = pl.readCSV(data, { sep: \",\" });\n",
    "\n",
    "await display(df.sample(10));"
   ]
  },
  {
   "cell_type": "code",
   "execution_count": 8,
   "id": "d3459eb2-91d5-4881-9e94-670ffcb41cec",
   "metadata": {},
   "outputs": [
    {
     "name": "stdout",
     "output_type": "stream",
     "text": [
      "\u001b[32mDownloading\u001b[39m https://github.com/DjDeveloperr/skia_canvas/releases/download/0.5.8/native_canvas.dll\n"
     ]
    }
   ],
   "source": [
    "import * as d3 from \"npm:d3\";\n",
    "import { createCanvas } from \"https://deno.land/x/skia_canvas/mod.ts\";"
   ]
  },
  {
   "cell_type": "code",
   "execution_count": 9,
   "id": "421fe042-05f8-4009-9536-0aa49df1053b",
   "metadata": {},
   "outputs": [
    {
     "name": "stdout",
     "output_type": "stream",
     "text": [
      "{\n",
      "  Date: \u001b[32m\"2022-07-19\"\u001b[39m,\n",
      "  Income: \u001b[33m316\u001b[39m,\n",
      "  Expenses: \u001b[33m211\u001b[39m,\n",
      "  NetIncome: \u001b[33m105\u001b[39m,\n",
      "  BudgetIncome: \u001b[33m317\u001b[39m,\n",
      "  ActualIncome: \u001b[33m316\u001b[39m,\n",
      "  BudgetExpenses: \u001b[33m212\u001b[39m,\n",
      "  ActualExpenses: \u001b[33m211\u001b[39m,\n",
      "  Salaries: \u001b[33m29\u001b[39m,\n",
      "  \u001b[32m\"R&D\"\u001b[39m: \u001b[33m48\u001b[39m,\n",
      "  Marketing: \u001b[33m20\u001b[39m,\n",
      "  Utilities: \u001b[33m35\u001b[39m,\n",
      "  Rent: \u001b[33m22\u001b[39m,\n",
      "  Equipment: \u001b[33m39\u001b[39m,\n",
      "  Software: \u001b[33m3\u001b[39m,\n",
      "  Hardware: \u001b[33m3\u001b[39m,\n",
      "  Consulting: \u001b[33m6\u001b[39m,\n",
      "  \u001b[32m\"Office Supplies\"\u001b[39m: \u001b[33m6\u001b[39m,\n",
      "  DiffIncome: \u001b[33m1\u001b[39m,\n",
      "  DiffExpenses: \u001b[33m1\u001b[39m\n",
      "}\n"
     ]
    }
   ],
   "source": [
    "const lastDataPoint = df.tail(1).toRecords()[0];\n",
    "console.log(lastDataPoint);"
   ]
  },
  {
   "cell_type": "code",
   "execution_count": 10,
   "id": "4eb6d2f3-d60f-4f97-94b3-1d79b0c9650e",
   "metadata": {},
   "outputs": [
    {
     "data": {
      "text/plain": [
       "\u001b[33m10\u001b[39m"
      ]
     },
     "execution_count": 10,
     "metadata": {},
     "output_type": "execute_result"
    }
   ],
   "source": [
    "let categories = ['Salaries', 'R&D', 'Marketing', 'Utilities', 'Rent', 'Equipment', 'Software', 'Hardware', 'Consulting', 'Office Supplies'];\n",
    "\n",
    "// Sample data\n",
    "const sampleData1 = [];\n",
    "for(let i = 0; i < categories.length; i++) {\n",
    "    const category = categories[i];\n",
    "    sampleData1.push({\n",
    "        category,\n",
    "        amount: lastDataPoint[category],\n",
    "    });\n",
    "}"
   ]
  },
  {
   "cell_type": "code",
   "execution_count": 11,
   "id": "ee0adb00-dba3-4fe7-9d6d-06bb4662a3a1",
   "metadata": {},
   "outputs": [
    {
     "data": {
      "image/png": "[encoded data removed]"
     },
     "execution_count": 11,
     "metadata": {},
     "output_type": "execute_result"
    }
   ],
   "source": [
    "const width = 500;\n",
    "const height = 500;\n",
    "const radius = Math.min(width, height) / 2;\n",
    "\n",
    "// Create a pie function\n",
    "const pie = d3.pie().value(d => d.amount);\n",
    "\n",
    "// Create an arc generator for the slices\n",
    "const arc = d3.arc()\n",
    "    .innerRadius(0)\n",
    "    .outerRadius(radius);\n",
    "\n",
    "// Create an arc generator for the labels\n",
    "const labelArc = d3.arc()\n",
    "    .innerRadius(radius - 40) // Adjust to position the labels\n",
    "    .outerRadius(radius - 40);\n",
    "\n",
    "// Create the canvas\n",
    "const canvas = createCanvas(width, height);\n",
    "const ctx = canvas.getContext(\"2d\");\n",
    "\n",
    "// Translate to center the pie chart\n",
    "ctx.translate(width / 2, height / 2);\n",
    "\n",
    "// Draw the pie chart\n",
    "pie(sampleData1).forEach((d, i) => {\n",
    "    // Draw the slice\n",
    "    ctx.beginPath();\n",
    "    arc.context(ctx)(d);\n",
    "    ctx.fillStyle = d3.schemeCategory10[i % 10];\n",
    "    ctx.fill();\n",
    "\n",
    "    // Draw the label\n",
    "    ctx.fillStyle = \"#000\"; // Label color\n",
    "    ctx.textAlign = \"center\";\n",
    "    ctx.textBaseline = \"middle\";\n",
    "\n",
    "    const centroid = labelArc.centroid(d);\n",
    "    ctx.fillText(d.data.category, centroid[0], centroid[1]);\n",
    "});\n",
    "\n",
    "// Display the canvas\n",
    "await display(canvas);"
   ]
  },
  {
   "cell_type": "code",
   "execution_count": 12,
   "id": "755800e4-a6c3-4bab-919e-205f5f0206e9",
   "metadata": {},
   "outputs": [],
   "source": [
    "import * as Plot from \"npm:@observablehq/plot\";\n",
    "import { DOMParser, SVGElement } from \"npm:linkedom\";\n",
    "const document = new DOMParser().parseFromString(\n",
    "  `<!DOCTYPE html><html lang=\"en\"></html>`,\n",
    "  \"text/html\",\n",
    ");\n",
    "\n",
    "let records = df.tail(40).toRecords();"
   ]
  },
  {
   "cell_type": "code",
   "execution_count": 13,
   "id": "4167c07a-579e-4480-8550-da484ed69a9f",
   "metadata": {},
   "outputs": [
    {
     "data": {
      "image/svg+xml": [
       "<svg viewBox=\"0 0 640 400\" height=\"400\" width=\"640\" text-anchor=\"middle\" font-size=\"10\" font-family=\"system-ui, sans-serif\" fill=\"currentColor\" class=\"plot-d6a7b5\"><style>:where(.plot-d6a7b5) {\n",
       "  --plot-background: white;\n",
       "  display: block;\n",
       "  height: auto;\n",
       "  height: intrinsic;\n",
       "  max-width: 100%;\n",
       "}\n",
       ":where(.plot-d6a7b5 text),\n",
       ":where(.plot-d6a7b5 tspan) {\n",
       "  white-space: pre;\n",
       "}</style><g stroke-opacity=\"0.1\" stroke=\"currentColor\" aria-hidden=\"true\" aria-label=\"y-grid\"><line y2=\"357.79069767441865\" y1=\"357.79069767441865\" x2=\"620\" x1=\"40\" /><line y2=\"317.09302325581393\" y1=\"317.09302325581393\" x2=\"620\" x1=\"40\" /><line y2=\"276.39534883720927\" y1=\"276.39534883720927\" x2=\"620\" x1=\"40\" /><line y2=\"235.69767441860463\" y1=\"235.69767441860463\" x2=\"620\" x1=\"40\" /><line y2=\"195\" y1=\"195\" x2=\"620\" x1=\"40\" /><line y2=\"154.30232558139537\" y1=\"154.30232558139537\" x2=\"620\" x1=\"40\" /><line y2=\"113.6046511627907\" y1=\"113.6046511627907\" x2=\"620\" x1=\"40\" /><line y2=\"72.90697674418607\" y1=\"72.90697674418607\" x2=\"620\" x1=\"40\" /><line y2=\"32.209302325581376\" y1=\"32.209302325581376\" x2=\"620\" x1=\"40\" /></g><g stroke=\"currentColor\" fill=\"none\" aria-hidden=\"true\" aria-label=\"y-axis tick\"><path d=\"M0,0L-6,0\" transform=\"translate(40,357.79069767441865)\" /><path d=\"M0,0L-6,0\" transform=\"translate(40,317.09302325581393)\" /><path d=\"M0,0L-6,0\" transform=\"translate(40,276.39534883720927)\" /><path d=\"M0,0L-6,0\" transform=\"translate(40,235.69767441860463)\" /><path d=\"M0,0L-6,0\" transform=\"translate(40,195)\" /><path d=\"M0,0L-6,0\" transform=\"translate(40,154.30232558139537)\" /><path d=\"M0,0L-6,0\" transform=\"translate(40,113.6046511627907)\" /><path d=\"M0,0L-6,0\" transform=\"translate(40,72.90697674418607)\" /><path d=\"M0,0L-6,0\" transform=\"translate(40,32.209302325581376)\" /></g><g transform=\"translate(-9,0)\" font-variant=\"tabular-nums\" text-anchor=\"end\" aria-label=\"y-axis tick label\"><text transform=\"translate(40,357.79069767441865)\" y=\"0.32em\">−20</text><text transform=\"translate(40,317.09302325581393)\" y=\"0.32em\">0</text><text transform=\"translate(40,276.39534883720927)\" y=\"0.32em\">20</text><text transform=\"translate(40,235.69767441860463)\" y=\"0.32em\">40</text><text transform=\"translate(40,195)\" y=\"0.32em\">60</text><text transform=\"translate(40,154.30232558139537)\" y=\"0.32em\">80</text><text transform=\"translate(40,113.6046511627907)\" y=\"0.32em\">100</text><text transform=\"translate(40,72.90697674418607)\" y=\"0.32em\">120</text><text transform=\"translate(40,32.209302325581376)\" y=\"0.32em\">140</text></g><g transform=\"translate(-37,-17)\" text-anchor=\"start\" aria-label=\"y-axis label\"><text transform=\"translate(40,20)\" y=\"0.71em\">↑ NetIncome</text></g><g transform=\"translate(6.5,0)\" stroke=\"currentColor\" fill=\"none\" aria-hidden=\"true\" aria-label=\"x-axis tick\"><path d=\"M0,0L0,6\" transform=\"translate(51,370)\" /><path d=\"M0,0L0,6\" transform=\"translate(65,370)\" /><path d=\"M0,0L0,6\" transform=\"translate(79,370)\" /><path d=\"M0,0L0,6\" transform=\"translate(93,370)\" /><path d=\"M0,0L0,6\" transform=\"translate(107,370)\" /><path d=\"M0,0L0,6\" transform=\"translate(121,370)\" /><path d=\"M0,0L0,6\" transform=\"translate(135,370)\" /><path d=\"M0,0L0,6\" transform=\"translate(149,370)\" /><path d=\"M0,0L0,6\" transform=\"translate(163,370)\" /><path d=\"M0,0L0,6\" transform=\"translate(177,370)\" /><path d=\"M0,0L0,6\" transform=\"translate(191,370)\" /><path d=\"M0,0L0,6\" transform=\"translate(205,370)\" /><path d=\"M0,0L0,6\" transform=\"translate(219,370)\" /><path d=\"M0,0L0,6\" transform=\"translate(233,370)\" /><path d=\"M0,0L0,6\" transform=\"translate(247,370)\" /><path d=\"M0,0L0,6\" transform=\"translate(261,370)\" /><path d=\"M0,0L0,6\" transform=\"translate(275,370)\" /><path d=\"M0,0L0,6\" transform=\"translate(289,370)\" /><path d=\"M0,0L0,6\" transform=\"translate(303,370)\" /><path d=\"M0,0L0,6\" transform=\"translate(317,370)\" /><path d=\"M0,0L0,6\" transform=\"translate(331,370)\" /><path d=\"M0,0L0,6\" transform=\"translate(345,370)\" /><path d=\"M0,0L0,6\" transform=\"translate(359,370)\" /><path d=\"M0,0L0,6\" transform=\"translate(373,370)\" /><path d=\"M0,0L0,6\" transform=\"translate(387,370)\" /><path d=\"M0,0L0,6\" transform=\"translate(401,370)\" /><path d=\"M0,0L0,6\" transform=\"translate(415,370)\" /><path d=\"M0,0L0,6\" transform=\"translate(429,370)\" /><path d=\"M0,0L0,6\" transform=\"translate(443,370)\" /><path d=\"M0,0L0,6\" transform=\"translate(457,370)\" /><path d=\"M0,0L0,6\" transform=\"translate(471,370)\" /><path d=\"M0,0L0,6\" transform=\"translate(485,370)\" /><path d=\"M0,0L0,6\" transform=\"translate(499,370)\" /><path d=\"M0,0L0,6\" transform=\"translate(513,370)\" /><path d=\"M0,0L0,6\" transform=\"translate(527,370)\" /><path d=\"M0,0L0,6\" transform=\"translate(541,370)\" /><path d=\"M0,0L0,6\" transform=\"translate(555,370)\" /><path d=\"M0,0L0,6\" transform=\"translate(569,370)\" /><path d=\"M0,0L0,6\" transform=\"translate(583,370)\" /><path d=\"M0,0L0,6\" transform=\"translate(597,370)\" /></g><g transform=\"translate(6.5,9)\" aria-label=\"x-axis tick label\"><text transform=\"translate(51,370)\"><tspan y=\"0.71em\" x=\"0\">10</tspan><tspan dy=\"1em\" x=\"0\">Jun</tspan></text><text transform=\"translate(65,370)\" y=\"0.71em\">11</text><text transform=\"translate(79,370)\" y=\"0.71em\">12</text><text transform=\"translate(93,370)\" y=\"0.71em\">13</text><text transform=\"translate(107,370)\" y=\"0.71em\">14</text><text transform=\"translate(121,370)\" y=\"0.71em\">15</text><text transform=\"translate(135,370)\" y=\"0.71em\">16</text><text transform=\"translate(149,370)\" y=\"0.71em\">17</text><text transform=\"translate(163,370)\" y=\"0.71em\">18</text><text transform=\"translate(177,370)\" y=\"0.71em\">19</text><text transform=\"translate(191,370)\" y=\"0.71em\">20</text><text transform=\"translate(205,370)\" y=\"0.71em\">21</text><text transform=\"translate(219,370)\" y=\"0.71em\">22</text><text transform=\"translate(233,370)\" y=\"0.71em\">23</text><text transform=\"translate(247,370)\" y=\"0.71em\">24</text><text transform=\"translate(261,370)\" y=\"0.71em\">25</text><text transform=\"translate(275,370)\" y=\"0.71em\">26</text><text transform=\"translate(289,370)\" y=\"0.71em\">27</text><text transform=\"translate(303,370)\" y=\"0.71em\">28</text><text transform=\"translate(317,370)\" y=\"0.71em\">29</text><text transform=\"translate(331,370)\" y=\"0.71em\">30</text><text transform=\"translate(345,370)\"><tspan y=\"0.71em\" x=\"0\">1</tspan><tspan dy=\"1em\" x=\"0\">Jul</tspan></text><text transform=\"translate(359,370)\" y=\"0.71em\">2</text><text transform=\"translate(373,370)\" y=\"0.71em\">3</text><text transform=\"translate(387,370)\" y=\"0.71em\">4</text><text transform=\"translate(401,370)\" y=\"0.71em\">5</text><text transform=\"translate(415,370)\" y=\"0.71em\">6</text><text transform=\"translate(429,370)\" y=\"0.71em\">7</text><text transform=\"translate(443,370)\" y=\"0.71em\">8</text><text transform=\"translate(457,370)\" y=\"0.71em\">9</text><text transform=\"translate(471,370)\" y=\"0.71em\">10</text><text transform=\"translate(485,370)\" y=\"0.71em\">11</text><text transform=\"translate(499,370)\" y=\"0.71em\">12</text><text transform=\"translate(513,370)\" y=\"0.71em\">13</text><text transform=\"translate(527,370)\" y=\"0.71em\">14</text><text transform=\"translate(541,370)\" y=\"0.71em\">15</text><text transform=\"translate(555,370)\" y=\"0.71em\">16</text><text transform=\"translate(569,370)\" y=\"0.71em\">17</text><text transform=\"translate(583,370)\" y=\"0.71em\">18</text><text transform=\"translate(597,370)\" y=\"0.71em\">19</text></g><g transform=\"translate(6.5,0)\" stroke-linecap=\"round\" stroke-linejoin=\"round\" stroke-width=\"1.5\" stroke=\"currentColor\" fill=\"none\" aria-label=\"line\"><path d=\"M51,245.872L65,227.558L79,217.384L93,276.395L107,294.709L121,52.558L135,190.93L149,245.872L163,174.651L177,235.698L191,315.058L205,66.802L219,270.291L233,331.337L247,95.291L261,256.047L275,203.14L289,117.674L303,197.035L317,20L331,223.488L345,239.767L359,353.721L373,148.198L387,81.047L401,70.872L415,180.756L429,370L443,258.081L457,209.244L471,323.198L485,270.291L499,152.267L513,278.43L527,195L541,247.907L555,184.826L569,219.419L583,176.686L597,103.43\" /></g></svg>"
      ]
     },
     "execution_count": 13,
     "metadata": {},
     "output_type": "execute_result"
    }
   ],
   "source": [
    "let convertedArray = records.map(item => {\n",
    "    return {\n",
    "        NetIncome: item.NetIncome,\n",
    "        Date: new Date(item.Date)\n",
    "    };\n",
    "});\n",
    "\n",
    "await display(\n",
    "  Plot.plot({\n",
    "    x: { type: \"band\" },\n",
    "    y: { grid: true },\n",
    "    marks: [\n",
    "      Plot.line(convertedArray, {x: \"Date\", y: \"NetIncome\"}),\n",
    "    ],\n",
    "    document,\n",
    "  }),\n",
    ");"
   ]
  },
  {
   "cell_type": "code",
   "execution_count": 14,
   "id": "4fd1b605-6b0e-4e05-9077-eade5c4e3d3f",
   "metadata": {},
   "outputs": [
    {
     "data": {
      "text/html": [
       "<figure style=\"max-width:initial\" class=\"plot-d6a7b5-figure\"><div class=\"plot-d6a7b5-swatches plot-d6a7b5-swatches-wrap\"><style>:where(.plot-d6a7b5-swatches) {\n",
       "  font-family: system-ui, sans-serif;\n",
       "  font-size: 10px;\n",
       "  margin-bottom: 0.5em;\n",
       "}\n",
       ":where(.plot-d6a7b5-swatch > svg) {\n",
       "  margin-right: 0.5em;\n",
       "  overflow: visible;\n",
       "}\n",
       ":where(.plot-d6a7b5-swatches-wrap) {\n",
       "  display: flex;\n",
       "  align-items: center;\n",
       "  min-height: 33px;\n",
       "  flex-wrap: wrap;\n",
       "}\n",
       ":where(.plot-d6a7b5-swatches-wrap .plot-d6a7b5-swatch) {\n",
       "  display: inline-flex;\n",
       "  align-items: center;\n",
       "  margin-right: 1em;\n",
       "}</style><span class=\"plot-d6a7b5-swatch\"><svg fill=\"#4269d0\" height=\"15\" width=\"15\"><rect height=\"100%\" width=\"100%\" /></svg>Consulting</span><span class=\"plot-d6a7b5-swatch\"><svg fill=\"#efb118\" height=\"15\" width=\"15\"><rect height=\"100%\" width=\"100%\" /></svg>Equipment</span><span class=\"plot-d6a7b5-swatch\"><svg fill=\"#ff725c\" height=\"15\" width=\"15\"><rect height=\"100%\" width=\"100%\" /></svg>Hardware</span><span class=\"plot-d6a7b5-swatch\"><svg fill=\"#6cc5b0\" height=\"15\" width=\"15\"><rect height=\"100%\" width=\"100%\" /></svg>Marketing</span><span class=\"plot-d6a7b5-swatch\"><svg fill=\"#3ca951\" height=\"15\" width=\"15\"><rect height=\"100%\" width=\"100%\" /></svg>Office Supplies</span><span class=\"plot-d6a7b5-swatch\"><svg fill=\"#ff8ab7\" height=\"15\" width=\"15\"><rect height=\"100%\" width=\"100%\" /></svg>R&amp;D</span><span class=\"plot-d6a7b5-swatch\"><svg fill=\"#a463f2\" height=\"15\" width=\"15\"><rect height=\"100%\" width=\"100%\" /></svg>Rent</span><span class=\"plot-d6a7b5-swatch\"><svg fill=\"#97bbf5\" height=\"15\" width=\"15\"><rect height=\"100%\" width=\"100%\" /></svg>Salaries</span><span class=\"plot-d6a7b5-swatch\"><svg fill=\"#9c6b4e\" height=\"15\" width=\"15\"><rect height=\"100%\" width=\"100%\" /></svg>Software</span><span class=\"plot-d6a7b5-swatch\"><svg fill=\"#9498a0\" height=\"15\" width=\"15\"><rect height=\"100%\" width=\"100%\" /></svg>Utilities</span></div><svg viewBox=\"0 0 640 400\" height=\"400\" width=\"640\" text-anchor=\"middle\" font-size=\"10\" font-family=\"system-ui, sans-serif\" fill=\"currentColor\" class=\"plot-d6a7b5\"><style>:where(.plot-d6a7b5) {\n",
       "  --plot-background: white;\n",
       "  display: block;\n",
       "  height: auto;\n",
       "  height: intrinsic;\n",
       "  max-width: 100%;\n",
       "}\n",
       ":where(.plot-d6a7b5 text),\n",
       ":where(.plot-d6a7b5 tspan) {\n",
       "  white-space: pre;\n",
       "}</style><g stroke-opacity=\"0.1\" stroke=\"currentColor\" aria-hidden=\"true\" aria-label=\"y-grid\"><line y2=\"370\" y1=\"370\" x2=\"620\" x1=\"40\" /><line y2=\"344.0740740740741\" y1=\"344.0740740740741\" x2=\"620\" x1=\"40\" /><line y2=\"318.14814814814815\" y1=\"318.14814814814815\" x2=\"620\" x1=\"40\" /><line y2=\"292.22222222222223\" y1=\"292.22222222222223\" x2=\"620\" x1=\"40\" /><line y2=\"266.2962962962963\" y1=\"266.2962962962963\" x2=\"620\" x1=\"40\" /><line y2=\"240.37037037037038\" y1=\"240.37037037037038\" x2=\"620\" x1=\"40\" /><line y2=\"214.44444444444446\" y1=\"214.44444444444446\" x2=\"620\" x1=\"40\" /><line y2=\"188.51851851851853\" y1=\"188.51851851851853\" x2=\"620\" x1=\"40\" /><line y2=\"162.5925925925926\" y1=\"162.5925925925926\" x2=\"620\" x1=\"40\" /><line y2=\"136.66666666666669\" y1=\"136.66666666666669\" x2=\"620\" x1=\"40\" /><line y2=\"110.74074074074075\" y1=\"110.74074074074075\" x2=\"620\" x1=\"40\" /><line y2=\"84.81481481481482\" y1=\"84.81481481481482\" x2=\"620\" x1=\"40\" /><line y2=\"58.88888888888891\" y1=\"58.88888888888891\" x2=\"620\" x1=\"40\" /><line y2=\"32.96296296296298\" y1=\"32.96296296296298\" x2=\"620\" x1=\"40\" /></g><g stroke=\"currentColor\" fill=\"none\" aria-hidden=\"true\" aria-label=\"y-axis tick\"><path d=\"M0,0L-6,0\" transform=\"translate(40,370)\" /><path d=\"M0,0L-6,0\" transform=\"translate(40,344.0740740740741)\" /><path d=\"M0,0L-6,0\" transform=\"translate(40,318.14814814814815)\" /><path d=\"M0,0L-6,0\" transform=\"translate(40,292.22222222222223)\" /><path d=\"M0,0L-6,0\" transform=\"translate(40,266.2962962962963)\" /><path d=\"M0,0L-6,0\" transform=\"translate(40,240.37037037037038)\" /><path d=\"M0,0L-6,0\" transform=\"translate(40,214.44444444444446)\" /><path d=\"M0,0L-6,0\" transform=\"translate(40,188.51851851851853)\" /><path d=\"M0,0L-6,0\" transform=\"translate(40,162.5925925925926)\" /><path d=\"M0,0L-6,0\" transform=\"translate(40,136.66666666666669)\" /><path d=\"M0,0L-6,0\" transform=\"translate(40,110.74074074074075)\" /><path d=\"M0,0L-6,0\" transform=\"translate(40,84.81481481481482)\" /><path d=\"M0,0L-6,0\" transform=\"translate(40,58.88888888888891)\" /><path d=\"M0,0L-6,0\" transform=\"translate(40,32.96296296296298)\" /></g><g transform=\"translate(-9,0)\" font-variant=\"tabular-nums\" text-anchor=\"end\" aria-label=\"y-axis tick label\"><text transform=\"translate(40,370)\" y=\"0.32em\">0</text><text transform=\"translate(40,344.0740740740741)\" y=\"0.32em\">20</text><text transform=\"translate(40,318.14814814814815)\" y=\"0.32em\">40</text><text transform=\"translate(40,292.22222222222223)\" y=\"0.32em\">60</text><text transform=\"translate(40,266.2962962962963)\" y=\"0.32em\">80</text><text transform=\"translate(40,240.37037037037038)\" y=\"0.32em\">100</text><text transform=\"translate(40,214.44444444444446)\" y=\"0.32em\">120</text><text transform=\"translate(40,188.51851851851853)\" y=\"0.32em\">140</text><text transform=\"translate(40,162.5925925925926)\" y=\"0.32em\">160</text><text transform=\"translate(40,136.66666666666669)\" y=\"0.32em\">180</text><text transform=\"translate(40,110.74074074074075)\" y=\"0.32em\">200</text><text transform=\"translate(40,84.81481481481482)\" y=\"0.32em\">220</text><text transform=\"translate(40,58.88888888888891)\" y=\"0.32em\">240</text><text transform=\"translate(40,32.96296296296298)\" y=\"0.32em\">260</text></g><g transform=\"translate(-37,-17)\" text-anchor=\"start\" aria-label=\"y-axis label\"><text transform=\"translate(40,20)\" y=\"0.71em\">↑ count</text></g><g transform=\"translate(6.5,0)\" stroke=\"currentColor\" fill=\"none\" aria-hidden=\"true\" aria-label=\"x-axis tick\"><path d=\"M0,0L0,6\" transform=\"translate(51,370)\" /><path d=\"M0,0L0,6\" transform=\"translate(65,370)\" /><path d=\"M0,0L0,6\" transform=\"translate(79,370)\" /><path d=\"M0,0L0,6\" transform=\"translate(93,370)\" /><path d=\"M0,0L0,6\" transform=\"translate(107,370)\" /><path d=\"M0,0L0,6\" transform=\"translate(121,370)\" /><path d=\"M0,0L0,6\" transform=\"translate(135,370)\" /><path d=\"M0,0L0,6\" transform=\"translate(149,370)\" /><path d=\"M0,0L0,6\" transform=\"translate(163,370)\" /><path d=\"M0,0L0,6\" transform=\"translate(177,370)\" /><path d=\"M0,0L0,6\" transform=\"translate(191,370)\" /><path d=\"M0,0L0,6\" transform=\"translate(205,370)\" /><path d=\"M0,0L0,6\" transform=\"translate(219,370)\" /><path d=\"M0,0L0,6\" transform=\"translate(233,370)\" /><path d=\"M0,0L0,6\" transform=\"translate(247,370)\" /><path d=\"M0,0L0,6\" transform=\"translate(261,370)\" /><path d=\"M0,0L0,6\" transform=\"translate(275,370)\" /><path d=\"M0,0L0,6\" transform=\"translate(289,370)\" /><path d=\"M0,0L0,6\" transform=\"translate(303,370)\" /><path d=\"M0,0L0,6\" transform=\"translate(317,370)\" /><path d=\"M0,0L0,6\" transform=\"translate(331,370)\" /><path d=\"M0,0L0,6\" transform=\"translate(345,370)\" /><path d=\"M0,0L0,6\" transform=\"translate(359,370)\" /><path d=\"M0,0L0,6\" transform=\"translate(373,370)\" /><path d=\"M0,0L0,6\" transform=\"translate(387,370)\" /><path d=\"M0,0L0,6\" transform=\"translate(401,370)\" /><path d=\"M0,0L0,6\" transform=\"translate(415,370)\" /><path d=\"M0,0L0,6\" transform=\"translate(429,370)\" /><path d=\"M0,0L0,6\" transform=\"translate(443,370)\" /><path d=\"M0,0L0,6\" transform=\"translate(457,370)\" /><path d=\"M0,0L0,6\" transform=\"translate(471,370)\" /><path d=\"M0,0L0,6\" transform=\"translate(485,370)\" /><path d=\"M0,0L0,6\" transform=\"translate(499,370)\" /><path d=\"M0,0L0,6\" transform=\"translate(513,370)\" /><path d=\"M0,0L0,6\" transform=\"translate(527,370)\" /><path d=\"M0,0L0,6\" transform=\"translate(541,370)\" /><path d=\"M0,0L0,6\" transform=\"translate(555,370)\" /><path d=\"M0,0L0,6\" transform=\"translate(569,370)\" /><path d=\"M0,0L0,6\" transform=\"translate(583,370)\" /><path d=\"M0,0L0,6\" transform=\"translate(597,370)\" /></g><g transform=\"translate(6.5,9)\" aria-label=\"x-axis tick label\"><text transform=\"translate(51,370)\"><tspan y=\"0.71em\" x=\"0\">10</tspan><tspan dy=\"1em\" x=\"0\">Jun</tspan></text><text transform=\"translate(65,370)\" y=\"0.71em\">11</text><text transform=\"translate(79,370)\" y=\"0.71em\">12</text><text transform=\"translate(93,370)\" y=\"0.71em\">13</text><text transform=\"translate(107,370)\" y=\"0.71em\">14</text><text transform=\"translate(121,370)\" y=\"0.71em\">15</text><text transform=\"translate(135,370)\" y=\"0.71em\">16</text><text transform=\"translate(149,370)\" y=\"0.71em\">17</text><text transform=\"translate(163,370)\" y=\"0.71em\">18</text><text transform=\"translate(177,370)\" y=\"0.71em\">19</text><text transform=\"translate(191,370)\" y=\"0.71em\">20</text><text transform=\"translate(205,370)\" y=\"0.71em\">21</text><text transform=\"translate(219,370)\" y=\"0.71em\">22</text><text transform=\"translate(233,370)\" y=\"0.71em\">23</text><text transform=\"translate(247,370)\" y=\"0.71em\">24</text><text transform=\"translate(261,370)\" y=\"0.71em\">25</text><text transform=\"translate(275,370)\" y=\"0.71em\">26</text><text transform=\"translate(289,370)\" y=\"0.71em\">27</text><text transform=\"translate(303,370)\" y=\"0.71em\">28</text><text transform=\"translate(317,370)\" y=\"0.71em\">29</text><text transform=\"translate(331,370)\" y=\"0.71em\">30</text><text transform=\"translate(345,370)\"><tspan y=\"0.71em\" x=\"0\">1</tspan><tspan dy=\"1em\" x=\"0\">Jul</tspan></text><text transform=\"translate(359,370)\" y=\"0.71em\">2</text><text transform=\"translate(373,370)\" y=\"0.71em\">3</text><text transform=\"translate(387,370)\" y=\"0.71em\">4</text><text transform=\"translate(401,370)\" y=\"0.71em\">5</text><text transform=\"translate(415,370)\" y=\"0.71em\">6</text><text transform=\"translate(429,370)\" y=\"0.71em\">7</text><text transform=\"translate(443,370)\" y=\"0.71em\">8</text><text transform=\"translate(457,370)\" y=\"0.71em\">9</text><text transform=\"translate(471,370)\" y=\"0.71em\">10</text><text transform=\"translate(485,370)\" y=\"0.71em\">11</text><text transform=\"translate(499,370)\" y=\"0.71em\">12</text><text transform=\"translate(513,370)\" y=\"0.71em\">13</text><text transform=\"translate(527,370)\" y=\"0.71em\">14</text><text transform=\"translate(541,370)\" y=\"0.71em\">15</text><text transform=\"translate(555,370)\" y=\"0.71em\">16</text><text transform=\"translate(569,370)\" y=\"0.71em\">17</text><text transform=\"translate(583,370)\" y=\"0.71em\">18</text><text transform=\"translate(597,370)\" y=\"0.71em\">19</text></g><g aria-label=\"bar\"><rect fill=\"#97bbf5\" height=\"51.85185185185185\" y=\"318.14814814814815\" width=\"13\" x=\"51\" /><rect fill=\"#ff8ab7\" height=\"63.51851851851853\" y=\"254.62962962962962\" width=\"13\" x=\"51\" /><rect fill=\"#6cc5b0\" height=\"31.111111111111086\" y=\"223.51851851851853\" width=\"13\" x=\"51\" /><rect fill=\"#9498a0\" height=\"32.40740740740739\" y=\"191.11111111111114\" width=\"13\" x=\"51\" /><rect fill=\"#a463f2\" height=\"62.22222222222226\" y=\"128.88888888888889\" width=\"13\" x=\"51\" /><rect fill=\"#efb118\" height=\"60.92592592592591\" y=\"67.96296296296298\" width=\"13\" x=\"51\" /><rect fill=\"#9c6b4e\" height=\"5.1851851851851904\" y=\"62.777777777777786\" width=\"13\" x=\"51\" /><rect fill=\"#ff725c\" height=\"10.370370370370395\" y=\"52.40740740740739\" width=\"13\" x=\"51\" /><rect fill=\"#4269d0\" height=\"10.370370370370338\" y=\"42.03703703703705\" width=\"13\" x=\"51\" /><rect fill=\"#3ca951\" height=\"7.777777777777793\" y=\"34.25925925925926\" width=\"13\" x=\"51\" /><rect fill=\"#97bbf5\" height=\"35\" y=\"335\" width=\"13\" x=\"65\" /><rect fill=\"#ff8ab7\" height=\"44.07407407407402\" y=\"290.925925925926\" width=\"13\" x=\"65\" /><rect fill=\"#6cc5b0\" height=\"46.666666666666714\" y=\"244.25925925925927\" width=\"13\" x=\"65\" /><rect fill=\"#9498a0\" height=\"32.40740740740742\" y=\"211.85185185185185\" width=\"13\" x=\"65\" /><rect fill=\"#a463f2\" height=\"34.99999999999997\" y=\"176.85185185185188\" width=\"13\" x=\"65\" /><rect fill=\"#efb118\" height=\"29.814814814814866\" y=\"147.037037037037\" width=\"13\" x=\"65\" /><rect fill=\"#9c6b4e\" height=\"1.2962962962962763\" y=\"145.74074074074073\" width=\"13\" x=\"65\" /><rect fill=\"#ff725c\" height=\"11.666666666666657\" y=\"134.07407407407408\" width=\"13\" x=\"65\" /><rect fill=\"#4269d0\" height=\"7.777777777777786\" y=\"126.29629629629629\" width=\"13\" x=\"65\" /><rect fill=\"#3ca951\" height=\"11.666666666666657\" y=\"114.62962962962963\" width=\"13\" x=\"65\" /><rect fill=\"#97bbf5\" height=\"50.555555555555486\" y=\"319.4444444444445\" width=\"13\" x=\"79\" /><rect fill=\"#ff8ab7\" height=\"49.25925925925935\" y=\"270.18518518518516\" width=\"13\" x=\"79\" /><rect fill=\"#6cc5b0\" height=\"36.29629629629625\" y=\"233.8888888888889\" width=\"13\" x=\"79\" /><rect fill=\"#9498a0\" height=\"33.703703703703724\" y=\"200.1851851851852\" width=\"13\" x=\"79\" /><rect fill=\"#a463f2\" height=\"60.925925925925924\" y=\"139.25925925925927\" width=\"13\" x=\"79\" /><rect fill=\"#efb118\" height=\"27.22222222222223\" y=\"112.03703703703704\" width=\"13\" x=\"79\" /><rect fill=\"#9c6b4e\" height=\"11.666666666666671\" y=\"100.37037037037037\" width=\"13\" x=\"79\" /><rect fill=\"#ff725c\" height=\"7.777777777777786\" y=\"92.59259259259258\" width=\"13\" x=\"79\" /><rect fill=\"#4269d0\" height=\"6.481481481481467\" y=\"86.11111111111111\" width=\"13\" x=\"79\" /><rect fill=\"#3ca951\" height=\"7.7777777777778\" y=\"78.33333333333331\" width=\"13\" x=\"79\" /><rect fill=\"#97bbf5\" height=\"25.925925925925924\" y=\"344.0740740740741\" width=\"13\" x=\"93\" /><rect fill=\"#ff8ab7\" height=\"32.40740740740739\" y=\"311.6666666666667\" width=\"13\" x=\"93\" /><rect fill=\"#6cc5b0\" height=\"59.62962962962965\" y=\"252.03703703703704\" width=\"13\" x=\"93\" /><rect fill=\"#9498a0\" height=\"29.81481481481481\" y=\"222.22222222222223\" width=\"13\" x=\"93\" /><rect fill=\"#a463f2\" height=\"57.03703703703704\" y=\"165.1851851851852\" width=\"13\" x=\"93\" /><rect fill=\"#efb118\" height=\"53.14814814814815\" y=\"112.03703703703704\" width=\"13\" x=\"93\" /><rect fill=\"#9c6b4e\" height=\"11.666666666666671\" y=\"100.37037037037037\" width=\"13\" x=\"93\" /><rect fill=\"#ff725c\" height=\"1.2962962962962763\" y=\"99.07407407407409\" width=\"13\" x=\"93\" /><rect fill=\"#4269d0\" height=\"3.888888888888914\" y=\"95.18518518518518\" width=\"13\" x=\"93\" /><rect fill=\"#3ca951\" height=\"1.2962962962962905\" y=\"93.88888888888889\" width=\"13\" x=\"93\" /><rect fill=\"#97bbf5\" height=\"32.40740740740739\" y=\"337.5925925925926\" width=\"13\" x=\"107\" /><rect fill=\"#ff8ab7\" height=\"59.629629629629676\" y=\"277.96296296296293\" width=\"13\" x=\"107\" /><rect fill=\"#6cc5b0\" height=\"32.40740740740739\" y=\"245.55555555555554\" width=\"13\" x=\"107\" /><rect fill=\"#9498a0\" height=\"57.03703703703701\" y=\"188.51851851851853\" width=\"13\" x=\"107\" /><rect fill=\"#a463f2\" height=\"58.33333333333337\" y=\"130.18518518518516\" width=\"13\" x=\"107\" /><rect fill=\"#efb118\" height=\"50.55555555555553\" y=\"79.62962962962963\" width=\"13\" x=\"107\" /><rect fill=\"#9c6b4e\" height=\"2.5925925925925952\" y=\"77.03703703703704\" width=\"13\" x=\"107\" /><rect fill=\"#ff725c\" height=\"2.5925925925925952\" y=\"74.44444444444444\" width=\"13\" x=\"107\" /><rect fill=\"#4269d0\" height=\"1.2962962962962763\" y=\"73.14814814814817\" width=\"13\" x=\"107\" /><rect fill=\"#3ca951\" height=\"9.074074074074105\" y=\"64.07407407407406\" width=\"13\" x=\"107\" /><rect fill=\"#97bbf5\" height=\"60.925925925925924\" y=\"309.0740740740741\" width=\"13\" x=\"121\" /><rect fill=\"#ff8ab7\" height=\"31.111111111111143\" y=\"277.96296296296293\" width=\"13\" x=\"121\" /><rect fill=\"#6cc5b0\" height=\"45.37037037037035\" y=\"232.59259259259258\" width=\"13\" x=\"121\" /><rect fill=\"#9498a0\" height=\"47.96296296296299\" y=\"184.6296296296296\" width=\"13\" x=\"121\" /><rect fill=\"#a463f2\" height=\"59.62962962962958\" y=\"125.00000000000001\" width=\"13\" x=\"121\" /><rect fill=\"#efb118\" height=\"54.44444444444444\" y=\"70.55555555555557\" width=\"13\" x=\"121\" /><rect fill=\"#9c6b4e\" height=\"11.666666666666664\" y=\"58.88888888888891\" width=\"13\" x=\"121\" /><rect fill=\"#ff725c\" height=\"7.777777777777793\" y=\"51.111111111111114\" width=\"13\" x=\"121\" /><rect fill=\"#4269d0\" height=\"11.666666666666657\" y=\"39.44444444444446\" width=\"13\" x=\"121\" /><rect fill=\"#3ca951\" height=\"2.5925925925925952\" y=\"36.85185185185186\" width=\"13\" x=\"121\" /><rect fill=\"#97bbf5\" height=\"40.18518518518516\" y=\"329.81481481481484\" width=\"13\" x=\"135\" /><rect fill=\"#ff8ab7\" height=\"47.96296296296299\" y=\"281.85185185185185\" width=\"13\" x=\"135\" /><rect fill=\"#6cc5b0\" height=\"32.40740740740742\" y=\"249.44444444444443\" width=\"13\" x=\"135\" /><rect fill=\"#9498a0\" height=\"45.37037037037035\" y=\"204.07407407407408\" width=\"13\" x=\"135\" /><rect fill=\"#a463f2\" height=\"57.03703703703707\" y=\"147.037037037037\" width=\"13\" x=\"135\" /><rect fill=\"#efb118\" height=\"60.925925925925895\" y=\"86.11111111111111\" width=\"13\" x=\"135\" /><rect fill=\"#9c6b4e\" height=\"10.370370370370381\" y=\"75.74074074074073\" width=\"13\" x=\"135\" /><rect fill=\"#ff725c\" height=\"2.592592592592567\" y=\"73.14814814814817\" width=\"13\" x=\"135\" /><rect fill=\"#4269d0\" height=\"10.370370370370381\" y=\"62.777777777777786\" width=\"13\" x=\"135\" /><rect fill=\"#3ca951\" height=\"6.481481481481474\" y=\"56.29629629629631\" width=\"13\" x=\"135\" /><rect fill=\"#97bbf5\" height=\"37.59259259259261\" y=\"332.4074074074074\" width=\"13\" x=\"149\" /><rect fill=\"#ff8ab7\" height=\"32.40740740740739\" y=\"300\" width=\"13\" x=\"149\" /><rect fill=\"#6cc5b0\" height=\"32.40740740740739\" y=\"267.5925925925926\" width=\"13\" x=\"149\" /><rect fill=\"#9498a0\" height=\"51.851851851851876\" y=\"215.74074074074073\" width=\"13\" x=\"149\" /><rect fill=\"#a463f2\" height=\"41.48148148148147\" y=\"174.25925925925927\" width=\"13\" x=\"149\" /><rect fill=\"#efb118\" height=\"31.111111111111114\" y=\"143.14814814814815\" width=\"13\" x=\"149\" /><rect fill=\"#9c6b4e\" height=\"7.7777777777778\" y=\"135.37037037037035\" width=\"13\" x=\"149\" /><rect fill=\"#ff725c\" height=\"6.481481481481467\" y=\"128.88888888888889\" width=\"13\" x=\"149\" /><rect fill=\"#4269d0\" height=\"2.5925925925925952\" y=\"126.29629629629629\" width=\"13\" x=\"149\" /><rect fill=\"#3ca951\" height=\"10.370370370370381\" y=\"115.92592592592591\" width=\"13\" x=\"149\" /><rect fill=\"#97bbf5\" height=\"50.555555555555486\" y=\"319.4444444444445\" width=\"13\" x=\"163\" /><rect fill=\"#ff8ab7\" height=\"57.03703703703707\" y=\"262.40740740740745\" width=\"13\" x=\"163\" /><rect fill=\"#6cc5b0\" height=\"60.92592592592595\" y=\"201.4814814814815\" width=\"13\" x=\"163\" /><rect fill=\"#9498a0\" height=\"49.25925925925927\" y=\"152.22222222222223\" width=\"13\" x=\"163\" /><rect fill=\"#a463f2\" height=\"42.7777777777778\" y=\"109.44444444444443\" width=\"13\" x=\"163\" /><rect fill=\"#efb118\" height=\"57.03703703703704\" y=\"52.40740740740739\" width=\"13\" x=\"163\" /><rect fill=\"#9c6b4e\" height=\"10.370370370370338\" y=\"42.03703703703705\" width=\"13\" x=\"163\" /><rect fill=\"#ff725c\" height=\"11.666666666666668\" y=\"30.370370370370384\" width=\"13\" x=\"163\" /><rect fill=\"#4269d0\" height=\"2.5925925925925988\" y=\"27.777777777777786\" width=\"13\" x=\"163\" /><rect fill=\"#3ca951\" height=\"7.777777777777786\" y=\"20\" width=\"13\" x=\"163\" /><rect fill=\"#97bbf5\" height=\"35\" y=\"335\" width=\"13\" x=\"177\" /><rect fill=\"#ff8ab7\" height=\"29.81481481481478\" y=\"305.1851851851852\" width=\"13\" x=\"177\" /><rect fill=\"#6cc5b0\" height=\"47.96296296296299\" y=\"257.22222222222223\" width=\"13\" x=\"177\" /><rect fill=\"#9498a0\" height=\"37.59259259259258\" y=\"219.62962962962965\" width=\"13\" x=\"177\" /><rect fill=\"#a463f2\" height=\"49.259259259259295\" y=\"170.37037037037035\" width=\"13\" x=\"177\" /><rect fill=\"#efb118\" height=\"53.148148148148124\" y=\"117.22222222222223\" width=\"13\" x=\"177\" /><rect fill=\"#9c6b4e\" height=\"6.481481481481481\" y=\"110.74074074074075\" width=\"13\" x=\"177\" /><rect fill=\"#ff725c\" height=\"3.8888888888889\" y=\"106.85185185185185\" width=\"13\" x=\"177\" /><rect fill=\"#4269d0\" height=\"2.5925925925925952\" y=\"104.25925925925925\" width=\"13\" x=\"177\" /><rect fill=\"#3ca951\" height=\"3.8888888888888857\" y=\"100.37037037037037\" width=\"13\" x=\"177\" /><rect fill=\"#97bbf5\" height=\"53.14814814814821\" y=\"316.8518518518518\" width=\"13\" x=\"191\" /><rect fill=\"#ff8ab7\" height=\"32.407407407407334\" y=\"284.44444444444446\" width=\"13\" x=\"191\" /><rect fill=\"#6cc5b0\" height=\"25.925925925925924\" y=\"258.51851851851853\" width=\"13\" x=\"191\" /><rect fill=\"#9498a0\" height=\"55.74074074074079\" y=\"202.77777777777774\" width=\"13\" x=\"191\" /><rect fill=\"#a463f2\" height=\"44.07407407407405\" y=\"158.7037037037037\" width=\"13\" x=\"191\" /><rect fill=\"#efb118\" height=\"35\" y=\"123.7037037037037\" width=\"13\" x=\"191\" /><rect fill=\"#9c6b4e\" height=\"1.2962962962962763\" y=\"122.40740740740742\" width=\"13\" x=\"191\" /><rect fill=\"#ff725c\" height=\"11.666666666666671\" y=\"110.74074074074075\" width=\"13\" x=\"191\" /><rect fill=\"#4269d0\" height=\"10.370370370370381\" y=\"100.37037037037037\" width=\"13\" x=\"191\" /><rect fill=\"#3ca951\" height=\"9.074074074074062\" y=\"91.2962962962963\" width=\"13\" x=\"191\" /><rect fill=\"#97bbf5\" height=\"32.40740740740739\" y=\"337.5925925925926\" width=\"13\" x=\"205\" /><rect fill=\"#ff8ab7\" height=\"36.296296296296305\" y=\"301.2962962962963\" width=\"13\" x=\"205\" /><rect fill=\"#6cc5b0\" height=\"46.666666666666686\" y=\"254.62962962962962\" width=\"13\" x=\"205\" /><rect fill=\"#9498a0\" height=\"31.111111111111086\" y=\"223.51851851851853\" width=\"13\" x=\"205\" /><rect fill=\"#a463f2\" height=\"44.074074074074076\" y=\"179.44444444444446\" width=\"13\" x=\"205\" /><rect fill=\"#efb118\" height=\"38.888888888888914\" y=\"140.55555555555554\" width=\"13\" x=\"205\" /><rect fill=\"#9c6b4e\" height=\"10.370370370370381\" y=\"130.18518518518516\" width=\"13\" x=\"205\" /><rect fill=\"#ff725c\" height=\"5.185185185185148\" y=\"125.00000000000001\" width=\"13\" x=\"205\" /><rect fill=\"#4269d0\" height=\"6.481481481481509\" y=\"118.5185185185185\" width=\"13\" x=\"205\" /><rect fill=\"#3ca951\" height=\"6.481481481481467\" y=\"112.03703703703704\" width=\"13\" x=\"205\" /><rect fill=\"#97bbf5\" height=\"62.22222222222223\" y=\"307.77777777777777\" width=\"13\" x=\"219\" /><rect fill=\"#ff8ab7\" height=\"31.111111111111086\" y=\"276.6666666666667\" width=\"13\" x=\"219\" /><rect fill=\"#6cc5b0\" height=\"46.666666666666686\" y=\"230\" width=\"13\" x=\"219\" /><rect fill=\"#9498a0\" height=\"47.96296296296299\" y=\"182.037037037037\" width=\"13\" x=\"219\" /><rect fill=\"#a463f2\" height=\"51.85185185185185\" y=\"130.18518518518516\" width=\"13\" x=\"219\" /><rect fill=\"#efb118\" height=\"38.88888888888886\" y=\"91.2962962962963\" width=\"13\" x=\"219\" /><rect fill=\"#9c6b4e\" height=\"3.888888888888914\" y=\"87.40740740740739\" width=\"13\" x=\"219\" /><rect fill=\"#ff725c\" height=\"5.185185185185162\" y=\"82.22222222222223\" width=\"13\" x=\"219\" /><rect fill=\"#4269d0\" height=\"11.666666666666657\" y=\"70.55555555555557\" width=\"13\" x=\"219\" /><rect fill=\"#3ca951\" height=\"10.370370370370388\" y=\"60.18518518518518\" width=\"13\" x=\"219\" /><rect fill=\"#97bbf5\" height=\"36.296296296296305\" y=\"333.7037037037037\" width=\"13\" x=\"233\" /><rect fill=\"#ff8ab7\" height=\"59.629629629629676\" y=\"274.074074074074\" width=\"13\" x=\"233\" /><rect fill=\"#6cc5b0\" height=\"25.92592592592584\" y=\"248.14814814814818\" width=\"13\" x=\"233\" /><rect fill=\"#9498a0\" height=\"57.03703703703704\" y=\"191.11111111111114\" width=\"13\" x=\"233\" /><rect fill=\"#a463f2\" height=\"35.00000000000006\" y=\"156.1111111111111\" width=\"13\" x=\"233\" /><rect fill=\"#efb118\" height=\"63.518518518518505\" y=\"92.59259259259258\" width=\"13\" x=\"233\" /><rect fill=\"#9c6b4e\" height=\"5.1851851851851904\" y=\"87.40740740740739\" width=\"13\" x=\"233\" /><rect fill=\"#ff725c\" height=\"10.370370370370352\" y=\"77.03703703703704\" width=\"13\" x=\"233\" /><rect fill=\"#4269d0\" height=\"9.074074074074062\" y=\"67.96296296296298\" width=\"13\" x=\"233\" /><rect fill=\"#3ca951\" height=\"5.1851851851851904\" y=\"62.777777777777786\" width=\"13\" x=\"233\" /><rect fill=\"#97bbf5\" height=\"40.18518518518516\" y=\"329.81481481481484\" width=\"13\" x=\"247\" /><rect fill=\"#ff8ab7\" height=\"47.96296296296299\" y=\"281.85185185185185\" width=\"13\" x=\"247\" /><rect fill=\"#6cc5b0\" height=\"38.88888888888886\" y=\"242.962962962963\" width=\"13\" x=\"247\" /><rect fill=\"#9498a0\" height=\"28.518518518518533\" y=\"214.44444444444446\" width=\"13\" x=\"247\" /><rect fill=\"#a463f2\" height=\"55.74074074074076\" y=\"158.7037037037037\" width=\"13\" x=\"247\" /><rect fill=\"#efb118\" height=\"47.96296296296295\" y=\"110.74074074074075\" width=\"13\" x=\"247\" /><rect fill=\"#9c6b4e\" height=\"7.777777777777786\" y=\"102.96296296296296\" width=\"13\" x=\"247\" /><rect fill=\"#ff725c\" height=\"6.481481481481467\" y=\"96.4814814814815\" width=\"13\" x=\"247\" /><rect fill=\"#4269d0\" height=\"2.5925925925926094\" y=\"93.88888888888889\" width=\"13\" x=\"247\" /><rect fill=\"#3ca951\" height=\"9.074074074074062\" y=\"84.81481481481482\" width=\"13\" x=\"247\" /><rect fill=\"#97bbf5\" height=\"44.07407407407402\" y=\"325.925925925926\" width=\"13\" x=\"261\" /><rect fill=\"#ff8ab7\" height=\"55.74074074074082\" y=\"270.18518518518516\" width=\"13\" x=\"261\" /><rect fill=\"#6cc5b0\" height=\"41.48148148148144\" y=\"228.70370370370372\" width=\"13\" x=\"261\" /><rect fill=\"#9498a0\" height=\"50.55555555555557\" y=\"178.14814814814815\" width=\"13\" x=\"261\" /><rect fill=\"#a463f2\" height=\"41.48148148148147\" y=\"136.66666666666669\" width=\"13\" x=\"261\" /><rect fill=\"#efb118\" height=\"63.51851851851852\" y=\"73.14814814814817\" width=\"13\" x=\"261\" /><rect fill=\"#9c6b4e\" height=\"6.481481481481509\" y=\"66.66666666666666\" width=\"13\" x=\"261\" /><rect fill=\"#ff725c\" height=\"11.666666666666664\" y=\"54.99999999999999\" width=\"13\" x=\"261\" /><rect fill=\"#4269d0\" height=\"3.8888888888888786\" y=\"51.111111111111114\" width=\"13\" x=\"261\" /><rect fill=\"#3ca951\" height=\"10.370370370370381\" y=\"40.74074074074073\" width=\"13\" x=\"261\" /><rect fill=\"#97bbf5\" height=\"25.925925925925924\" y=\"344.0740740740741\" width=\"13\" x=\"275\" /><rect fill=\"#ff8ab7\" height=\"57.03703703703701\" y=\"287.03703703703707\" width=\"13\" x=\"275\" /><rect fill=\"#6cc5b0\" height=\"63.51851851851853\" y=\"223.51851851851853\" width=\"13\" x=\"275\" /><rect fill=\"#9498a0\" height=\"29.81481481481481\" y=\"193.70370370370372\" width=\"13\" x=\"275\" /><rect fill=\"#a463f2\" height=\"40.18518518518516\" y=\"153.51851851851856\" width=\"13\" x=\"275\" /><rect fill=\"#efb118\" height=\"63.518518518518576\" y=\"89.99999999999999\" width=\"13\" x=\"275\" /><rect fill=\"#9c6b4e\" height=\"1.2962962962962763\" y=\"88.70370370370371\" width=\"13\" x=\"275\" /><rect fill=\"#ff725c\" height=\"5.185185185185205\" y=\"83.5185185185185\" width=\"13\" x=\"275\" /><rect fill=\"#4269d0\" height=\"11.666666666666657\" y=\"71.85185185185185\" width=\"13\" x=\"275\" /><rect fill=\"#3ca951\" height=\"1.2962962962962763\" y=\"70.55555555555557\" width=\"13\" x=\"275\" /><rect fill=\"#97bbf5\" height=\"36.296296296296305\" y=\"333.7037037037037\" width=\"13\" x=\"289\" /><rect fill=\"#ff8ab7\" height=\"27.22222222222223\" y=\"306.48148148148147\" width=\"13\" x=\"289\" /><rect fill=\"#6cc5b0\" height=\"25.925925925925924\" y=\"280.55555555555554\" width=\"13\" x=\"289\" /><rect fill=\"#9498a0\" height=\"42.77777777777777\" y=\"237.77777777777777\" width=\"13\" x=\"289\" /><rect fill=\"#a463f2\" height=\"53.14814814814818\" y=\"184.6296296296296\" width=\"13\" x=\"289\" /><rect fill=\"#efb118\" height=\"59.62962962962958\" y=\"125.00000000000001\" width=\"13\" x=\"289\" /><rect fill=\"#9c6b4e\" height=\"6.481481481481509\" y=\"118.5185185185185\" width=\"13\" x=\"289\" /><rect fill=\"#ff725c\" height=\"5.185185185185148\" y=\"113.33333333333336\" width=\"13\" x=\"289\" /><rect fill=\"#4269d0\" height=\"6.481481481481509\" y=\"106.85185185185185\" width=\"13\" x=\"289\" /><rect fill=\"#3ca951\" height=\"9.074074074074076\" y=\"97.77777777777777\" width=\"13\" x=\"289\" /><rect fill=\"#97bbf5\" height=\"50.555555555555486\" y=\"319.4444444444445\" width=\"13\" x=\"303\" /><rect fill=\"#ff8ab7\" height=\"49.25925925925935\" y=\"270.18518518518516\" width=\"13\" x=\"303\" /><rect fill=\"#6cc5b0\" height=\"63.518518518518476\" y=\"206.66666666666669\" width=\"13\" x=\"303\" /><rect fill=\"#9498a0\" height=\"40.18518518518522\" y=\"166.48148148148147\" width=\"13\" x=\"303\" /><rect fill=\"#a463f2\" height=\"60.925925925925895\" y=\"105.55555555555557\" width=\"13\" x=\"303\" /><rect fill=\"#efb118\" height=\"57.03703703703705\" y=\"48.51851851851852\" width=\"13\" x=\"303\" /><rect fill=\"#9c6b4e\" height=\"7.777777777777786\" y=\"40.74074074074073\" width=\"13\" x=\"303\" /><rect fill=\"#ff725c\" height=\"2.5925925925925952\" y=\"38.14814814814814\" width=\"13\" x=\"303\" /><rect fill=\"#4269d0\" height=\"10.370370370370352\" y=\"27.777777777777786\" width=\"13\" x=\"303\" /><rect fill=\"#3ca951\" height=\"6.481481481481506\" y=\"21.29629629629628\" width=\"13\" x=\"303\" /><rect fill=\"#97bbf5\" height=\"33.703703703703695\" y=\"336.2962962962963\" width=\"13\" x=\"317\" /><rect fill=\"#ff8ab7\" height=\"27.22222222222223\" y=\"309.0740740740741\" width=\"13\" x=\"317\" /><rect fill=\"#6cc5b0\" height=\"59.62962962962965\" y=\"249.44444444444443\" width=\"13\" x=\"317\" /><rect fill=\"#9498a0\" height=\"42.77777777777774\" y=\"206.66666666666669\" width=\"13\" x=\"317\" /><rect fill=\"#a463f2\" height=\"41.481481481481495\" y=\"165.1851851851852\" width=\"13\" x=\"317\" /><rect fill=\"#efb118\" height=\"49.25925925925928\" y=\"115.92592592592591\" width=\"13\" x=\"317\" /><rect fill=\"#9c6b4e\" height=\"11.666666666666657\" y=\"104.25925925925925\" width=\"13\" x=\"317\" /><rect fill=\"#ff725c\" height=\"10.370370370370367\" y=\"93.88888888888889\" width=\"13\" x=\"317\" /><rect fill=\"#4269d0\" height=\"11.666666666666657\" y=\"82.22222222222223\" width=\"13\" x=\"317\" /><rect fill=\"#3ca951\" height=\"3.888888888888914\" y=\"78.33333333333331\" width=\"13\" x=\"317\" /><rect fill=\"#97bbf5\" height=\"58.333333333333314\" y=\"311.6666666666667\" width=\"13\" x=\"331\" /><rect fill=\"#ff8ab7\" height=\"44.074074074074076\" y=\"267.5925925925926\" width=\"13\" x=\"331\" /><rect fill=\"#6cc5b0\" height=\"35.00000000000003\" y=\"232.59259259259258\" width=\"13\" x=\"331\" /><rect fill=\"#9498a0\" height=\"31.111111111111086\" y=\"201.4814814814815\" width=\"13\" x=\"331\" /><rect fill=\"#a463f2\" height=\"45.37037037037041\" y=\"156.1111111111111\" width=\"13\" x=\"331\" /><rect fill=\"#efb118\" height=\"46.66666666666666\" y=\"109.44444444444443\" width=\"13\" x=\"331\" /><rect fill=\"#9c6b4e\" height=\"2.592592592592581\" y=\"106.85185185185185\" width=\"13\" x=\"331\" /><rect fill=\"#ff725c\" height=\"7.777777777777757\" y=\"99.07407407407409\" width=\"13\" x=\"331\" /><rect fill=\"#4269d0\" height=\"11.6666666666667\" y=\"87.40740740740739\" width=\"13\" x=\"331\" /><rect fill=\"#3ca951\" height=\"5.185185185185162\" y=\"82.22222222222223\" width=\"13\" x=\"331\" /><rect fill=\"#97bbf5\" height=\"38.888888888888914\" y=\"331.1111111111111\" width=\"13\" x=\"345\" /><rect fill=\"#ff8ab7\" height=\"47.96296296296288\" y=\"283.1481481481482\" width=\"13\" x=\"345\" /><rect fill=\"#6cc5b0\" height=\"54.444444444444485\" y=\"228.70370370370372\" width=\"13\" x=\"345\" /><rect fill=\"#9498a0\" height=\"47.96296296296299\" y=\"180.74074074074073\" width=\"13\" x=\"345\" /><rect fill=\"#a463f2\" height=\"63.518518518518505\" y=\"117.22222222222223\" width=\"13\" x=\"345\" /><rect fill=\"#efb118\" height=\"25.925925925925924\" y=\"91.2962962962963\" width=\"13\" x=\"345\" /><rect fill=\"#9c6b4e\" height=\"6.481481481481481\" y=\"84.81481481481482\" width=\"13\" x=\"345\" /><rect fill=\"#ff725c\" height=\"7.777777777777786\" y=\"77.03703703703704\" width=\"13\" x=\"345\" /><rect fill=\"#4269d0\" height=\"5.1851851851851904\" y=\"71.85185185185185\" width=\"13\" x=\"345\" /><rect fill=\"#3ca951\" height=\"3.8888888888888715\" y=\"67.96296296296298\" width=\"13\" x=\"345\" /><rect fill=\"#97bbf5\" height=\"50.555555555555486\" y=\"319.4444444444445\" width=\"13\" x=\"359\" /><rect fill=\"#ff8ab7\" height=\"35.00000000000006\" y=\"284.44444444444446\" width=\"13\" x=\"359\" /><rect fill=\"#6cc5b0\" height=\"50.55555555555554\" y=\"233.8888888888889\" width=\"13\" x=\"359\" /><rect fill=\"#9498a0\" height=\"59.62962962962965\" y=\"174.25925925925927\" width=\"13\" x=\"359\" /><rect fill=\"#a463f2\" height=\"55.74074074074076\" y=\"118.5185185185185\" width=\"13\" x=\"359\" /><rect fill=\"#efb118\" height=\"31.111111111111114\" y=\"87.40740740740739\" width=\"13\" x=\"359\" /><rect fill=\"#9c6b4e\" height=\"11.666666666666657\" y=\"75.74074074074073\" width=\"13\" x=\"359\" /><rect fill=\"#ff725c\" height=\"10.370370370370352\" y=\"65.37037037037038\" width=\"13\" x=\"359\" /><rect fill=\"#4269d0\" height=\"3.888888888888914\" y=\"61.48148148148147\" width=\"13\" x=\"359\" /><rect fill=\"#3ca951\" height=\"1.2962962962962834\" y=\"60.18518518518518\" width=\"13\" x=\"359\" /><rect fill=\"#97bbf5\" height=\"28.518518518518533\" y=\"341.48148148148147\" width=\"13\" x=\"373\" /><rect fill=\"#ff8ab7\" height=\"53.14814814814815\" y=\"288.3333333333333\" width=\"13\" x=\"373\" /><rect fill=\"#6cc5b0\" height=\"32.40740740740739\" y=\"255.92592592592592\" width=\"13\" x=\"373\" /><rect fill=\"#9498a0\" height=\"33.703703703703695\" y=\"222.22222222222223\" width=\"13\" x=\"373\" /><rect fill=\"#a463f2\" height=\"40.18518518518522\" y=\"182.037037037037\" width=\"13\" x=\"373\" /><rect fill=\"#efb118\" height=\"28.518518518518448\" y=\"153.51851851851856\" width=\"13\" x=\"373\" /><rect fill=\"#9c6b4e\" height=\"1.2962962962963331\" y=\"152.22222222222223\" width=\"13\" x=\"373\" /><rect fill=\"#ff725c\" height=\"10.37037037037041\" y=\"141.85185185185182\" width=\"13\" x=\"373\" /><rect fill=\"#4269d0\" height=\"7.777777777777743\" y=\"134.07407407407408\" width=\"13\" x=\"373\" /><rect fill=\"#3ca951\" height=\"7.777777777777786\" y=\"126.29629629629629\" width=\"13\" x=\"373\" /><rect fill=\"#97bbf5\" height=\"60.925925925925924\" y=\"309.0740740740741\" width=\"13\" x=\"387\" /><rect fill=\"#ff8ab7\" height=\"40.18518518518516\" y=\"268.8888888888889\" width=\"13\" x=\"387\" /><rect fill=\"#6cc5b0\" height=\"31.111111111111143\" y=\"237.77777777777777\" width=\"13\" x=\"387\" /><rect fill=\"#9498a0\" height=\"45.37037037037035\" y=\"192.40740740740742\" width=\"13\" x=\"387\" /><rect fill=\"#a463f2\" height=\"42.7777777777778\" y=\"149.62962962962962\" width=\"13\" x=\"387\" /><rect fill=\"#efb118\" height=\"60.92592592592591\" y=\"88.70370370370371\" width=\"13\" x=\"387\" /><rect fill=\"#9c6b4e\" height=\"2.5925925925925952\" y=\"86.11111111111111\" width=\"13\" x=\"387\" /><rect fill=\"#ff725c\" height=\"5.185185185185205\" y=\"80.92592592592591\" width=\"13\" x=\"387\" /><rect fill=\"#4269d0\" height=\"9.074074074074062\" y=\"71.85185185185185\" width=\"13\" x=\"387\" /><rect fill=\"#3ca951\" height=\"11.666666666666664\" y=\"60.18518518518518\" width=\"13\" x=\"387\" /><rect fill=\"#97bbf5\" height=\"55.74074074074076\" y=\"314.25925925925924\" width=\"13\" x=\"401\" /><rect fill=\"#ff8ab7\" height=\"44.074074074074076\" y=\"270.18518518518516\" width=\"13\" x=\"401\" /><rect fill=\"#6cc5b0\" height=\"50.555555555555515\" y=\"219.62962962962965\" width=\"13\" x=\"401\" /><rect fill=\"#9498a0\" height=\"28.518518518518505\" y=\"191.11111111111114\" width=\"13\" x=\"401\" /><rect fill=\"#a463f2\" height=\"63.51851851851853\" y=\"127.59259259259261\" width=\"13\" x=\"401\" /><rect fill=\"#efb118\" height=\"42.777777777777786\" y=\"84.81481481481482\" width=\"13\" x=\"401\" /><rect fill=\"#9c6b4e\" height=\"2.5925925925925952\" y=\"82.22222222222223\" width=\"13\" x=\"401\" /><rect fill=\"#ff725c\" height=\"3.888888888888914\" y=\"78.33333333333331\" width=\"13\" x=\"401\" /><rect fill=\"#4269d0\" height=\"6.481481481481467\" y=\"71.85185185185185\" width=\"13\" x=\"401\" /><rect fill=\"#3ca951\" height=\"2.5925925925925952\" y=\"69.25925925925925\" width=\"13\" x=\"401\" /><rect fill=\"#97bbf5\" height=\"25.925925925925924\" y=\"344.0740740740741\" width=\"13\" x=\"415\" /><rect fill=\"#ff8ab7\" height=\"46.66666666666663\" y=\"297.40740740740745\" width=\"13\" x=\"415\" /><rect fill=\"#6cc5b0\" height=\"31.111111111111143\" y=\"266.2962962962963\" width=\"13\" x=\"415\" /><rect fill=\"#9498a0\" height=\"53.14814814814818\" y=\"213.14814814814812\" width=\"13\" x=\"415\" /><rect fill=\"#a463f2\" height=\"44.07407407407405\" y=\"169.07407407407408\" width=\"13\" x=\"415\" /><rect fill=\"#efb118\" height=\"27.222222222222257\" y=\"141.85185185185182\" width=\"13\" x=\"415\" /><rect fill=\"#9c6b4e\" height=\"11.666666666666657\" y=\"130.18518518518516\" width=\"13\" x=\"415\" /><rect fill=\"#ff725c\" height=\"2.5925925925925526\" y=\"127.59259259259261\" width=\"13\" x=\"415\" /><rect fill=\"#4269d0\" height=\"7.777777777777786\" y=\"119.81481481481482\" width=\"13\" x=\"415\" /><rect fill=\"#3ca951\" height=\"1.296296296296319\" y=\"118.5185185185185\" width=\"13\" x=\"415\" /><rect fill=\"#97bbf5\" height=\"50.555555555555486\" y=\"319.4444444444445\" width=\"13\" x=\"429\" /><rect fill=\"#ff8ab7\" height=\"51.851851851851904\" y=\"267.5925925925926\" width=\"13\" x=\"429\" /><rect fill=\"#6cc5b0\" height=\"32.40740740740742\" y=\"235.1851851851852\" width=\"13\" x=\"429\" /><rect fill=\"#9498a0\" height=\"51.851851851851876\" y=\"183.33333333333331\" width=\"13\" x=\"429\" /><rect fill=\"#a463f2\" height=\"49.25925925925924\" y=\"134.07407407407408\" width=\"13\" x=\"429\" /><rect fill=\"#efb118\" height=\"60.92592592592591\" y=\"73.14814814814817\" width=\"13\" x=\"429\" /><rect fill=\"#9c6b4e\" height=\"6.481481481481509\" y=\"66.66666666666666\" width=\"13\" x=\"429\" /><rect fill=\"#ff725c\" height=\"3.8888888888888715\" y=\"62.777777777777786\" width=\"13\" x=\"429\" /><rect fill=\"#4269d0\" height=\"10.370370370370395\" y=\"52.40740740740739\" width=\"13\" x=\"429\" /><rect fill=\"#3ca951\" height=\"7.777777777777743\" y=\"44.62962962962965\" width=\"13\" x=\"429\" /><rect fill=\"#97bbf5\" height=\"59.629629629629676\" y=\"310.3703703703703\" width=\"13\" x=\"443\" /><rect fill=\"#ff8ab7\" height=\"27.222222222222115\" y=\"283.1481481481482\" width=\"13\" x=\"443\" /><rect fill=\"#6cc5b0\" height=\"62.222222222222285\" y=\"220.92592592592592\" width=\"13\" x=\"443\" /><rect fill=\"#9498a0\" height=\"38.888888888888914\" y=\"182.037037037037\" width=\"13\" x=\"443\" /><rect fill=\"#a463f2\" height=\"31.111111111111086\" y=\"150.92592592592592\" width=\"13\" x=\"443\" /><rect fill=\"#efb118\" height=\"28.518518518518505\" y=\"122.40740740740742\" width=\"13\" x=\"443\" /><rect fill=\"#9c6b4e\" height=\"1.2962962962963047\" y=\"121.11111111111111\" width=\"13\" x=\"443\" /><rect fill=\"#ff725c\" height=\"7.777777777777757\" y=\"113.33333333333336\" width=\"13\" x=\"443\" /><rect fill=\"#4269d0\" height=\"1.296296296296319\" y=\"112.03703703703704\" width=\"13\" x=\"443\" /><rect fill=\"#3ca951\" height=\"3.8888888888888857\" y=\"108.14814814814815\" width=\"13\" x=\"443\" /><rect fill=\"#97bbf5\" height=\"44.07407407407402\" y=\"325.925925925926\" width=\"13\" x=\"457\" /><rect fill=\"#ff8ab7\" height=\"47.96296296296305\" y=\"277.96296296296293\" width=\"13\" x=\"457\" /><rect fill=\"#6cc5b0\" height=\"41.481481481481495\" y=\"236.48148148148144\" width=\"13\" x=\"457\" /><rect fill=\"#9498a0\" height=\"59.62962962962956\" y=\"176.85185185185188\" width=\"13\" x=\"457\" /><rect fill=\"#a463f2\" height=\"62.22222222222224\" y=\"114.62962962962963\" width=\"13\" x=\"457\" /><rect fill=\"#efb118\" height=\"28.51851851851852\" y=\"86.11111111111111\" width=\"13\" x=\"457\" /><rect fill=\"#9c6b4e\" height=\"5.185185185185205\" y=\"80.92592592592591\" width=\"13\" x=\"457\" /><rect fill=\"#ff725c\" height=\"11.666666666666657\" y=\"69.25925925925925\" width=\"13\" x=\"457\" /><rect fill=\"#4269d0\" height=\"5.1851851851851904\" y=\"64.07407407407406\" width=\"13\" x=\"457\" /><rect fill=\"#3ca951\" height=\"2.5925925925925952\" y=\"61.48148148148147\" width=\"13\" x=\"457\" /><rect fill=\"#97bbf5\" height=\"25.925925925925924\" y=\"344.0740740740741\" width=\"13\" x=\"471\" /><rect fill=\"#ff8ab7\" height=\"63.51851851851853\" y=\"280.55555555555554\" width=\"13\" x=\"471\" /><rect fill=\"#6cc5b0\" height=\"59.62962962962962\" y=\"220.92592592592592\" width=\"13\" x=\"471\" /><rect fill=\"#9498a0\" height=\"58.333333333333314\" y=\"162.5925925925926\" width=\"13\" x=\"471\" /><rect fill=\"#a463f2\" height=\"27.222222222222257\" y=\"135.37037037037035\" width=\"13\" x=\"471\" /><rect fill=\"#efb118\" height=\"50.55555555555553\" y=\"84.81481481481482\" width=\"13\" x=\"471\" /><rect fill=\"#9c6b4e\" height=\"1.296296296296319\" y=\"83.5185185185185\" width=\"13\" x=\"471\" /><rect fill=\"#ff725c\" height=\"11.666666666666657\" y=\"71.85185185185185\" width=\"13\" x=\"471\" /><rect fill=\"#4269d0\" height=\"7.777777777777786\" y=\"64.07407407407406\" width=\"13\" x=\"471\" /><rect fill=\"#3ca951\" height=\"5.185185185185155\" y=\"58.88888888888891\" width=\"13\" x=\"471\" /><rect fill=\"#97bbf5\" height=\"50.555555555555486\" y=\"319.4444444444445\" width=\"13\" x=\"485\" /><rect fill=\"#ff8ab7\" height=\"41.48148148148158\" y=\"277.96296296296293\" width=\"13\" x=\"485\" /><rect fill=\"#6cc5b0\" height=\"47.96296296296293\" y=\"230\" width=\"13\" x=\"485\" /><rect fill=\"#9498a0\" height=\"47.96296296296299\" y=\"182.037037037037\" width=\"13\" x=\"485\" /><rect fill=\"#a463f2\" height=\"47.96296296296293\" y=\"134.07407407407408\" width=\"13\" x=\"485\" /><rect fill=\"#efb118\" height=\"51.85185185185185\" y=\"82.22222222222223\" width=\"13\" x=\"485\" /><rect fill=\"#9c6b4e\" height=\"10.370370370370381\" y=\"71.85185185185185\" width=\"13\" x=\"485\" /><rect fill=\"#ff725c\" height=\"11.666666666666664\" y=\"60.18518518518518\" width=\"13\" x=\"485\" /><rect fill=\"#4269d0\" height=\"7.777777777777793\" y=\"52.40740740740739\" width=\"13\" x=\"485\" /><rect fill=\"#3ca951\" height=\"1.2962962962962763\" y=\"51.111111111111114\" width=\"13\" x=\"485\" /><rect fill=\"#97bbf5\" height=\"33.703703703703695\" y=\"336.2962962962963\" width=\"13\" x=\"499\" /><rect fill=\"#ff8ab7\" height=\"54.44444444444446\" y=\"281.85185185185185\" width=\"13\" x=\"499\" /><rect fill=\"#6cc5b0\" height=\"50.55555555555557\" y=\"231.29629629629628\" width=\"13\" x=\"499\" /><rect fill=\"#9498a0\" height=\"32.40740740740742\" y=\"198.88888888888886\" width=\"13\" x=\"499\" /><rect fill=\"#a463f2\" height=\"47.96296296296293\" y=\"150.92592592592592\" width=\"13\" x=\"499\" /><rect fill=\"#efb118\" height=\"59.62962962962962\" y=\"91.2962962962963\" width=\"13\" x=\"499\" /><rect fill=\"#9c6b4e\" height=\"1.296296296296319\" y=\"89.99999999999999\" width=\"13\" x=\"499\" /><rect fill=\"#ff725c\" height=\"3.8888888888888715\" y=\"86.11111111111111\" width=\"13\" x=\"499\" /><rect fill=\"#4269d0\" height=\"10.370370370370381\" y=\"75.74074074074073\" width=\"13\" x=\"499\" /><rect fill=\"#3ca951\" height=\"9.074074074074076\" y=\"66.66666666666666\" width=\"13\" x=\"499\" /><rect fill=\"#97bbf5\" height=\"27.22222222222223\" y=\"342.77777777777777\" width=\"13\" x=\"513\" /><rect fill=\"#ff8ab7\" height=\"44.074074074074076\" y=\"298.7037037037037\" width=\"13\" x=\"513\" /><rect fill=\"#6cc5b0\" height=\"41.48148148148147\" y=\"257.22222222222223\" width=\"13\" x=\"513\" /><rect fill=\"#9498a0\" height=\"58.33333333333337\" y=\"198.88888888888886\" width=\"13\" x=\"513\" /><rect fill=\"#a463f2\" height=\"55.740740740740705\" y=\"143.14814814814815\" width=\"13\" x=\"513\" /><rect fill=\"#efb118\" height=\"41.48148148148151\" y=\"101.66666666666664\" width=\"13\" x=\"513\" /><rect fill=\"#9c6b4e\" height=\"11.666666666666657\" y=\"89.99999999999999\" width=\"13\" x=\"513\" /><rect fill=\"#ff725c\" height=\"3.8888888888888715\" y=\"86.11111111111111\" width=\"13\" x=\"513\" /><rect fill=\"#4269d0\" height=\"11.666666666666671\" y=\"74.44444444444444\" width=\"13\" x=\"513\" /><rect fill=\"#3ca951\" height=\"1.2962962962962763\" y=\"73.14814814814817\" width=\"13\" x=\"513\" /><rect fill=\"#97bbf5\" height=\"41.48148148148147\" y=\"328.51851851851853\" width=\"13\" x=\"527\" /><rect fill=\"#ff8ab7\" height=\"54.444444444444514\" y=\"274.074074074074\" width=\"13\" x=\"527\" /><rect fill=\"#6cc5b0\" height=\"33.70370370370364\" y=\"240.37037037037038\" width=\"13\" x=\"527\" /><rect fill=\"#9498a0\" height=\"51.85185185185185\" y=\"188.51851851851853\" width=\"13\" x=\"527\" /><rect fill=\"#a463f2\" height=\"58.33333333333337\" y=\"130.18518518518516\" width=\"13\" x=\"527\" /><rect fill=\"#efb118\" height=\"34.999999999999986\" y=\"95.18518518518518\" width=\"13\" x=\"527\" /><rect fill=\"#9c6b4e\" height=\"2.5925925925925952\" y=\"92.59259259259258\" width=\"13\" x=\"527\" /><rect fill=\"#ff725c\" height=\"11.666666666666671\" y=\"80.92592592592591\" width=\"13\" x=\"527\" /><rect fill=\"#4269d0\" height=\"1.2962962962962763\" y=\"79.62962962962963\" width=\"13\" x=\"527\" /><rect fill=\"#3ca951\" height=\"10.370370370370381\" y=\"69.25925925925925\" width=\"13\" x=\"527\" /><rect fill=\"#97bbf5\" height=\"60.925925925925924\" y=\"309.0740740740741\" width=\"13\" x=\"541\" /><rect fill=\"#ff8ab7\" height=\"25.925925925925867\" y=\"283.1481481481482\" width=\"13\" x=\"541\" /><rect fill=\"#6cc5b0\" height=\"35.00000000000003\" y=\"248.14814814814818\" width=\"13\" x=\"541\" /><rect fill=\"#9498a0\" height=\"53.14814814814818\" y=\"195\" width=\"13\" x=\"541\" /><rect fill=\"#a463f2\" height=\"46.66666666666666\" y=\"148.33333333333334\" width=\"13\" x=\"541\" /><rect fill=\"#efb118\" height=\"53.14814814814817\" y=\"95.18518518518518\" width=\"13\" x=\"541\" /><rect fill=\"#9c6b4e\" height=\"3.8888888888888715\" y=\"91.2962962962963\" width=\"13\" x=\"541\" /><rect fill=\"#ff725c\" height=\"6.481481481481481\" y=\"84.81481481481482\" width=\"13\" x=\"541\" /><rect fill=\"#4269d0\" height=\"3.888888888888914\" y=\"80.92592592592591\" width=\"13\" x=\"541\" /><rect fill=\"#3ca951\" height=\"5.185185185185176\" y=\"75.74074074074073\" width=\"13\" x=\"541\" /><rect fill=\"#97bbf5\" height=\"58.333333333333314\" y=\"311.6666666666667\" width=\"13\" x=\"555\" /><rect fill=\"#ff8ab7\" height=\"28.518518518518476\" y=\"283.1481481481482\" width=\"13\" x=\"555\" /><rect fill=\"#6cc5b0\" height=\"51.85185185185193\" y=\"231.29629629629628\" width=\"13\" x=\"555\" /><rect fill=\"#9498a0\" height=\"55.74074074074073\" y=\"175.55555555555554\" width=\"13\" x=\"555\" /><rect fill=\"#a463f2\" height=\"37.59259259259258\" y=\"137.96296296296296\" width=\"13\" x=\"555\" /><rect fill=\"#efb118\" height=\"42.777777777777786\" y=\"95.18518518518518\" width=\"13\" x=\"555\" /><rect fill=\"#9c6b4e\" height=\"11.666666666666671\" y=\"83.5185185185185\" width=\"13\" x=\"555\" /><rect fill=\"#ff725c\" height=\"2.5925925925925952\" y=\"80.92592592592591\" width=\"13\" x=\"555\" /><rect fill=\"#4269d0\" height=\"9.074074074074062\" y=\"71.85185185185185\" width=\"13\" x=\"555\" /><rect fill=\"#3ca951\" height=\"11.666666666666664\" y=\"60.18518518518518\" width=\"13\" x=\"555\" /><rect fill=\"#97bbf5\" height=\"49.25925925925924\" y=\"320.74074074074076\" width=\"13\" x=\"569\" /><rect fill=\"#ff8ab7\" height=\"50.5555555555556\" y=\"270.18518518518516\" width=\"13\" x=\"569\" /><rect fill=\"#6cc5b0\" height=\"46.66666666666663\" y=\"223.51851851851853\" width=\"13\" x=\"569\" /><rect fill=\"#9498a0\" height=\"31.111111111111114\" y=\"192.40740740740742\" width=\"13\" x=\"569\" /><rect fill=\"#a463f2\" height=\"59.62962962962965\" y=\"132.77777777777777\" width=\"13\" x=\"569\" /><rect fill=\"#efb118\" height=\"47.96296296296295\" y=\"84.81481481481482\" width=\"13\" x=\"569\" /><rect fill=\"#9c6b4e\" height=\"7.777777777777786\" y=\"77.03703703703704\" width=\"13\" x=\"569\" /><rect fill=\"#ff725c\" height=\"2.5925925925925952\" y=\"74.44444444444444\" width=\"13\" x=\"569\" /><rect fill=\"#4269d0\" height=\"7.777777777777786\" y=\"66.66666666666666\" width=\"13\" x=\"569\" /><rect fill=\"#3ca951\" height=\"6.481481481481474\" y=\"60.18518518518518\" width=\"13\" x=\"569\" /><rect fill=\"#97bbf5\" height=\"42.77777777777777\" y=\"327.22222222222223\" width=\"13\" x=\"583\" /><rect fill=\"#ff8ab7\" height=\"55.74074074074076\" y=\"271.48148148148147\" width=\"13\" x=\"583\" /><rect fill=\"#6cc5b0\" height=\"63.518518518518505\" y=\"207.96296296296296\" width=\"13\" x=\"583\" /><rect fill=\"#9498a0\" height=\"31.111111111111086\" y=\"176.85185185185188\" width=\"13\" x=\"583\" /><rect fill=\"#a463f2\" height=\"46.666666666666714\" y=\"130.18518518518516\" width=\"13\" x=\"583\" /><rect fill=\"#efb118\" height=\"59.62962962962959\" y=\"70.55555555555557\" width=\"13\" x=\"583\" /><rect fill=\"#9c6b4e\" height=\"11.666666666666664\" y=\"58.88888888888891\" width=\"13\" x=\"583\" /><rect fill=\"#ff725c\" height=\"1.296296296296326\" y=\"57.59259259259258\" width=\"13\" x=\"583\" /><rect fill=\"#4269d0\" height=\"2.592592592592588\" y=\"54.99999999999999\" width=\"13\" x=\"583\" /><rect fill=\"#3ca951\" height=\"6.481481481481474\" y=\"48.51851851851852\" width=\"13\" x=\"583\" /><rect fill=\"#97bbf5\" height=\"37.59259259259261\" y=\"332.4074074074074\" width=\"13\" x=\"597\" /><rect fill=\"#ff8ab7\" height=\"62.22222222222223\" y=\"270.18518518518516\" width=\"13\" x=\"597\" /><rect fill=\"#6cc5b0\" height=\"25.925925925925895\" y=\"244.25925925925927\" width=\"13\" x=\"597\" /><rect fill=\"#9498a0\" height=\"45.37037037037041\" y=\"198.88888888888886\" width=\"13\" x=\"597\" /><rect fill=\"#a463f2\" height=\"28.518518518518505\" y=\"170.37037037037035\" width=\"13\" x=\"597\" /><rect fill=\"#efb118\" height=\"50.55555555555553\" y=\"119.81481481481482\" width=\"13\" x=\"597\" /><rect fill=\"#9c6b4e\" height=\"3.888888888888914\" y=\"115.92592592592591\" width=\"13\" x=\"597\" /><rect fill=\"#ff725c\" height=\"3.8888888888888715\" y=\"112.03703703703704\" width=\"13\" x=\"597\" /><rect fill=\"#4269d0\" height=\"7.777777777777786\" y=\"104.25925925925925\" width=\"13\" x=\"597\" /><rect fill=\"#3ca951\" height=\"7.777777777777757\" y=\"96.4814814814815\" width=\"13\" x=\"597\" /></g><g stroke=\"currentColor\" aria-label=\"rule\"><line y2=\"370\" y1=\"370\" x2=\"620\" x1=\"40\" /></g></svg></figure>"
      ]
     },
     "execution_count": 14,
     "metadata": {},
     "output_type": "execute_result"
    }
   ],
   "source": [
    "let sampleData2 = [];\n",
    "for (let i = 0; i < records.length; i++) {\n",
    "  const currentRecord = records[i];\n",
    "  for (let x = 0; x < categories.length; x++) {\n",
    "    const currentCategory = categories[x];\n",
    "    sampleData2.push({\n",
    "      date: new Date(currentRecord[\"Date\"]),\n",
    "      category: currentCategory,\n",
    "      count: currentRecord[currentCategory],\n",
    "    });\n",
    "  }\n",
    "}\n",
    "\n",
    "await display(\n",
    "  Plot.plot({\n",
    "    x: { type: \"band\" },\n",
    "    y: { grid: true },\n",
    "    marks: [\n",
    "      Plot.barY(sampleData2, { x: \"date\", y: \"count\", fill: \"category\" }),\n",
    "      Plot.ruleY([0]),\n",
    "    ],\n",
    "    color: { legend: true },\n",
    "    document,\n",
    "  }),\n",
    ");"
   ]
  },
  {
   "cell_type": "code",
   "execution_count": null,
   "id": "9230fcd7-789b-4575-be6f-7d2f367cdd4f",
   "metadata": {},
   "outputs": [],
   "source": []
  }
 ],
 "metadata": {
  "kernelspec": {
   "display_name": "Deno",
   "language": "typescript",
   "name": "deno"
  },
  "language_info": {
   "codemirror_mode": "typescript",
   "file_extension": ".ts",
   "mimetype": "text/x.typescript",
   "name": "typescript",
   "nbconvert_exporter": "script",
   "pygments_lexer": "typescript",
   "version": "5.7.3"
  }
 },
 "nbformat": 4,
 "nbformat_minor": 5
}
