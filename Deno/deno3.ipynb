{
 "cells": [
  {
   "cell_type": "code",
   "execution_count": 1,
   "id": "5764b969-1fcc-4762-92f1-6663c48e0daa",
   "metadata": {},
   "outputs": [],
   "source": [
    "// Імпорт необхідних бібліотек\n",
    "import { display } from \"https://deno.land/x/display@v0.1.1/mod.ts\"; // Для відображення графіків у Deno\n",
    "import * as Plot from \"npm:@observablehq/plot\"; // Бібліотека для створення візуалізацій\n",
    "import { DOMParser, SVGElement } from \"npm:linkedom\"; // Для роботи з DOM у середовищі Deno\n",
    "\n",
    "// Створюємо документ для рендерингу SVG (необхідно для коректної роботи Plot в Deno)\n",
    "const document = new DOMParser().parseFromString(\n",
    "  `<!DOCTYPE html><html lang=\"en\"></html>`,\n",
    "  \"text/html\",\n",
    ");"
   ]
  },
  {
   "cell_type": "code",
   "execution_count": 2,
   "id": "858b03c3-03ff-4b5a-bfda-6c005ce7f5cc",
   "metadata": {},
   "outputs": [
    {
     "name": "stdout",
     "output_type": "stream",
     "text": [
      "Згенеровані числа: [\n",
      "   \u001b[33m6\u001b[39m,  \u001b[33m2\u001b[39m,  \u001b[33m0\u001b[39m, \u001b[33m5\u001b[39m,  \u001b[33m8\u001b[39m,  \u001b[33m3\u001b[39m,  \u001b[33m3\u001b[39m,  \u001b[33m3\u001b[39m, \u001b[33m8\u001b[39m,  \u001b[33m7\u001b[39m,  \u001b[33m8\u001b[39m, \u001b[33m6\u001b[39m,\n",
      "   \u001b[33m1\u001b[39m,  \u001b[33m4\u001b[39m,  \u001b[33m6\u001b[39m, \u001b[33m5\u001b[39m, \u001b[33m10\u001b[39m,  \u001b[33m9\u001b[39m,  \u001b[33m8\u001b[39m,  \u001b[33m3\u001b[39m, \u001b[33m6\u001b[39m,  \u001b[33m6\u001b[39m, \u001b[33m10\u001b[39m, \u001b[33m5\u001b[39m,\n",
      "   \u001b[33m6\u001b[39m,  \u001b[33m9\u001b[39m,  \u001b[33m1\u001b[39m, \u001b[33m5\u001b[39m,  \u001b[33m3\u001b[39m, \u001b[33m10\u001b[39m, \u001b[33m10\u001b[39m,  \u001b[33m7\u001b[39m, \u001b[33m8\u001b[39m, \u001b[33m10\u001b[39m,  \u001b[33m7\u001b[39m, \u001b[33m0\u001b[39m,\n",
      "   \u001b[33m2\u001b[39m,  \u001b[33m8\u001b[39m,  \u001b[33m4\u001b[39m, \u001b[33m1\u001b[39m,  \u001b[33m6\u001b[39m,  \u001b[33m4\u001b[39m,  \u001b[33m3\u001b[39m,  \u001b[33m9\u001b[39m, \u001b[33m0\u001b[39m,  \u001b[33m7\u001b[39m,  \u001b[33m5\u001b[39m, \u001b[33m8\u001b[39m,\n",
      "   \u001b[33m3\u001b[39m,  \u001b[33m5\u001b[39m,  \u001b[33m4\u001b[39m, \u001b[33m9\u001b[39m,  \u001b[33m3\u001b[39m,  \u001b[33m5\u001b[39m,  \u001b[33m1\u001b[39m, \u001b[33m10\u001b[39m, \u001b[33m3\u001b[39m,  \u001b[33m7\u001b[39m,  \u001b[33m5\u001b[39m, \u001b[33m8\u001b[39m,\n",
      "   \u001b[33m3\u001b[39m, \u001b[33m10\u001b[39m,  \u001b[33m2\u001b[39m, \u001b[33m0\u001b[39m,  \u001b[33m1\u001b[39m,  \u001b[33m4\u001b[39m,  \u001b[33m5\u001b[39m,  \u001b[33m4\u001b[39m, \u001b[33m2\u001b[39m,  \u001b[33m0\u001b[39m,  \u001b[33m2\u001b[39m, \u001b[33m9\u001b[39m,\n",
      "  \u001b[33m10\u001b[39m,  \u001b[33m6\u001b[39m, \u001b[33m10\u001b[39m, \u001b[33m5\u001b[39m,  \u001b[33m3\u001b[39m,  \u001b[33m7\u001b[39m,  \u001b[33m0\u001b[39m,  \u001b[33m8\u001b[39m, \u001b[33m7\u001b[39m,  \u001b[33m7\u001b[39m,  \u001b[33m8\u001b[39m, \u001b[33m1\u001b[39m,\n",
      "   \u001b[33m0\u001b[39m,  \u001b[33m2\u001b[39m,  \u001b[33m2\u001b[39m, \u001b[33m5\u001b[39m,  \u001b[33m8\u001b[39m,  \u001b[33m5\u001b[39m,  \u001b[33m9\u001b[39m,  \u001b[33m8\u001b[39m, \u001b[33m2\u001b[39m,  \u001b[33m8\u001b[39m,  \u001b[33m4\u001b[39m, \u001b[33m6\u001b[39m,\n",
      "  \u001b[33m10\u001b[39m, \u001b[33m10\u001b[39m,  \u001b[33m8\u001b[39m, \u001b[33m6\u001b[39m\n",
      "]\n"
     ]
    }
   ],
   "source": [
    "/* ========== Генерація та підготовка даних ========== */\n",
    "// Створюємо масив з 100 випадкових чисел від 0 до 10\n",
    "const randomNumbers: number[] = Array.from(\n",
    "  { length: 100 }, // 100 елементів\n",
    "  () => Math.floor(Math.random() * 11) // Випадкове ціле число від 0 до 10\n",
    ");\n",
    "\n",
    "console.log(\"Згенеровані числа:\", randomNumbers); // Виводимо масив для перевірки"
   ]
  },
  {
   "cell_type": "code",
   "execution_count": 3,
   "id": "25ef6d44-1788-4156-9001-d168e4c0a6da",
   "metadata": {},
   "outputs": [
    {
     "name": "stdout",
     "output_type": "stream",
     "text": [
      "Розподіл кількостей: [\n",
      "   \u001b[33m7\u001b[39m,  \u001b[33m6\u001b[39m, \u001b[33m8\u001b[39m, \u001b[33m11\u001b[39m, \u001b[33m7\u001b[39m,\n",
      "  \u001b[33m12\u001b[39m, \u001b[33m10\u001b[39m, \u001b[33m8\u001b[39m, \u001b[33m14\u001b[39m, \u001b[33m6\u001b[39m,\n",
      "  \u001b[33m11\u001b[39m\n",
      "]\n"
     ]
    }
   ],
   "source": [
    "// Підрахунок кількості кожного числа (0-10)\n",
    "const counts: number[] = Array(11).fill(0); // Масив з 11 нулів\n",
    "randomNumbers.forEach(num => counts[num]++); // Інкрементуємо відповідний індекс\n",
    "\n",
    "console.log(\"Розподіл кількостей:\", counts); // Виводимо розподіл"
   ]
  },
  {
   "cell_type": "code",
   "execution_count": 4,
   "id": "fe0183ec-193e-4b3e-ae8c-be89d5cd9d98",
   "metadata": {},
   "outputs": [],
   "source": [
    "/* ========== Підготовка даних для візуалізації ========== */\n",
    "// Конвертуємо масив кількостей у формат {value: string, count: number}\n",
    "const distributionData = counts.map((count, value) => ({\n",
    "  value: value.toString(), // Число як рядок (напр. \"0\", \"1\")\n",
    "  count                   // Кількість появи числа\n",
    "}));"
   ]
  },
  {
   "cell_type": "code",
   "execution_count": 5,
   "id": "b4e8504a-0ff9-49fc-9b3c-070f2de5c92f",
   "metadata": {},
   "outputs": [],
   "source": [
    "// Функція генерації випадкового HEX-кольору\n",
    "const randomColor = () => \n",
    "  '#' + Math.floor(Math.random()*16777215).toString(16).padStart(6, '0');"
   ]
  },
  {
   "cell_type": "code",
   "execution_count": 6,
   "id": "4d93bc32-8a21-42fc-b24a-f313fd94dc1c",
   "metadata": {},
   "outputs": [],
   "source": [
    "// Генеруємо унікальні кольори для кожного значення 0-10\n",
    "const colorMap = Array.from({length: 11}, (_, i) => randomColor());"
   ]
  },
  {
   "cell_type": "code",
   "execution_count": 8,
   "id": "dd411722-2ed7-4f9b-952d-93e7c51e293e",
   "metadata": {},
   "outputs": [
    {
     "data": {
      "text/html": [
       "<figure style=\"max-width:initial\" class=\"plot-d6a7b5-figure\"><h2>Розподіл випадкових чисел (0-10)</h2><svg viewBox=\"0 0 800 400\" height=\"400\" width=\"800\" text-anchor=\"middle\" font-size=\"10\" font-family=\"system-ui, sans-serif\" fill=\"currentColor\" class=\"plot-d6a7b5\"><style>:where(.plot-d6a7b5) {\n",
       "  --plot-background: white;\n",
       "  display: block;\n",
       "  height: auto;\n",
       "  height: intrinsic;\n",
       "  max-width: 100%;\n",
       "}\n",
       ":where(.plot-d6a7b5 text),\n",
       ":where(.plot-d6a7b5 tspan) {\n",
       "  white-space: pre;\n",
       "}</style><g stroke-opacity=\"0.1\" stroke=\"currentColor\" aria-hidden=\"true\" aria-label=\"y-grid\"><line y2=\"370\" y1=\"370\" x2=\"780\" x1=\"60\" /><line y2=\"345\" y1=\"345\" x2=\"780\" x1=\"60\" /><line y2=\"320\" y1=\"320\" x2=\"780\" x1=\"60\" /><line y2=\"295\" y1=\"295\" x2=\"780\" x1=\"60\" /><line y2=\"270\" y1=\"270\" x2=\"780\" x1=\"60\" /><line y2=\"244.99999999999997\" y1=\"244.99999999999997\" x2=\"780\" x1=\"60\" /><line y2=\"220\" y1=\"220\" x2=\"780\" x1=\"60\" /><line y2=\"195\" y1=\"195\" x2=\"780\" x1=\"60\" /><line y2=\"170\" y1=\"170\" x2=\"780\" x1=\"60\" /><line y2=\"145\" y1=\"145\" x2=\"780\" x1=\"60\" /><line y2=\"120\" y1=\"120\" x2=\"780\" x1=\"60\" /><line y2=\"95\" y1=\"95\" x2=\"780\" x1=\"60\" /><line y2=\"70.00000000000001\" y1=\"70.00000000000001\" x2=\"780\" x1=\"60\" /><line y2=\"44.999999999999986\" y1=\"44.999999999999986\" x2=\"780\" x1=\"60\" /><line y2=\"20\" y1=\"20\" x2=\"780\" x1=\"60\" /></g><g stroke=\"currentColor\" fill=\"none\" aria-hidden=\"true\" aria-label=\"y-axis tick\"><path d=\"M0,0L-6,0\" transform=\"translate(60,370)\" /><path d=\"M0,0L-6,0\" transform=\"translate(60,345)\" /><path d=\"M0,0L-6,0\" transform=\"translate(60,320)\" /><path d=\"M0,0L-6,0\" transform=\"translate(60,295)\" /><path d=\"M0,0L-6,0\" transform=\"translate(60,270)\" /><path d=\"M0,0L-6,0\" transform=\"translate(60,244.99999999999997)\" /><path d=\"M0,0L-6,0\" transform=\"translate(60,220)\" /><path d=\"M0,0L-6,0\" transform=\"translate(60,195)\" /><path d=\"M0,0L-6,0\" transform=\"translate(60,170)\" /><path d=\"M0,0L-6,0\" transform=\"translate(60,145)\" /><path d=\"M0,0L-6,0\" transform=\"translate(60,120)\" /><path d=\"M0,0L-6,0\" transform=\"translate(60,95)\" /><path d=\"M0,0L-6,0\" transform=\"translate(60,70.00000000000001)\" /><path d=\"M0,0L-6,0\" transform=\"translate(60,44.999999999999986)\" /><path d=\"M0,0L-6,0\" transform=\"translate(60,20)\" /></g><g transform=\"translate(-9,0)\" font-variant=\"tabular-nums\" text-anchor=\"end\" aria-label=\"y-axis tick label\"><text transform=\"translate(60,370)\" y=\"0.32em\">0</text><text transform=\"translate(60,345)\" y=\"0.32em\">1</text><text transform=\"translate(60,320)\" y=\"0.32em\">2</text><text transform=\"translate(60,295)\" y=\"0.32em\">3</text><text transform=\"translate(60,270)\" y=\"0.32em\">4</text><text transform=\"translate(60,244.99999999999997)\" y=\"0.32em\">5</text><text transform=\"translate(60,220)\" y=\"0.32em\">6</text><text transform=\"translate(60,195)\" y=\"0.32em\">7</text><text transform=\"translate(60,170)\" y=\"0.32em\">8</text><text transform=\"translate(60,145)\" y=\"0.32em\">9</text><text transform=\"translate(60,120)\" y=\"0.32em\">10</text><text transform=\"translate(60,95)\" y=\"0.32em\">11</text><text transform=\"translate(60,70.00000000000001)\" y=\"0.32em\">12</text><text transform=\"translate(60,44.999999999999986)\" y=\"0.32em\">13</text><text transform=\"translate(60,20)\" y=\"0.32em\">14</text></g><g transform=\"translate(-57,-17)\" text-anchor=\"start\" aria-label=\"y-axis label\"><text transform=\"translate(60,20)\" y=\"0.71em\">↑ Кількість</text></g><g transform=\"translate(29,0)\" stroke=\"currentColor\" fill=\"none\" aria-hidden=\"true\" aria-label=\"x-axis tick\"><path d=\"M0,0L0,6\" transform=\"translate(71,370)\" /><path d=\"M0,0L0,6\" transform=\"translate(135,370)\" /><path d=\"M0,0L0,6\" transform=\"translate(199,370)\" /><path d=\"M0,0L0,6\" transform=\"translate(263,370)\" /><path d=\"M0,0L0,6\" transform=\"translate(327,370)\" /><path d=\"M0,0L0,6\" transform=\"translate(391,370)\" /><path d=\"M0,0L0,6\" transform=\"translate(455,370)\" /><path d=\"M0,0L0,6\" transform=\"translate(519,370)\" /><path d=\"M0,0L0,6\" transform=\"translate(583,370)\" /><path d=\"M0,0L0,6\" transform=\"translate(647,370)\" /><path d=\"M0,0L0,6\" transform=\"translate(711,370)\" /></g><g transform=\"translate(29,9)\" aria-label=\"x-axis tick label\"><text transform=\"translate(71,370)\" y=\"0.71em\">0</text><text transform=\"translate(135,370)\" y=\"0.71em\">1</text><text transform=\"translate(199,370)\" y=\"0.71em\">2</text><text transform=\"translate(263,370)\" y=\"0.71em\">3</text><text transform=\"translate(327,370)\" y=\"0.71em\">4</text><text transform=\"translate(391,370)\" y=\"0.71em\">5</text><text transform=\"translate(455,370)\" y=\"0.71em\">6</text><text transform=\"translate(519,370)\" y=\"0.71em\">7</text><text transform=\"translate(583,370)\" y=\"0.71em\">8</text><text transform=\"translate(647,370)\" y=\"0.71em\">9</text><text transform=\"translate(711,370)\" y=\"0.71em\">10</text></g><g transform=\"translate(0,27)\" aria-label=\"x-axis label\"><text transform=\"translate(420,370)\">Значення</text></g><g aria-label=\"bar\"><rect fill=\"#0e3be6\" height=\"175\" y=\"195\" width=\"58\" x=\"71\" /><rect fill=\"#8f6593\" height=\"150\" y=\"220\" width=\"58\" x=\"135\" /><rect fill=\"#db492b\" height=\"200\" y=\"170\" width=\"58\" x=\"199\" /><rect fill=\"#37d730\" height=\"275\" y=\"95\" width=\"58\" x=\"263\" /><rect fill=\"#b13dfc\" height=\"175\" y=\"195\" width=\"58\" x=\"327\" /><rect fill=\"#165b0d\" height=\"300\" y=\"70.00000000000001\" width=\"58\" x=\"391\" /><rect fill=\"#b83c5b\" height=\"250\" y=\"120\" width=\"58\" x=\"455\" /><rect fill=\"#2cba30\" height=\"200\" y=\"170\" width=\"58\" x=\"519\" /><rect fill=\"#d1cb73\" height=\"350\" y=\"20\" width=\"58\" x=\"583\" /><rect fill=\"#32e9b1\" height=\"150\" y=\"220\" width=\"58\" x=\"647\" /><rect fill=\"#052c79\" height=\"275\" y=\"95\" width=\"58\" x=\"711\" /></g><g stroke=\"currentColor\" aria-label=\"rule\"><line y2=\"370\" y1=\"370\" x2=\"780\" x1=\"60\" /></g></svg></figure>"
      ]
     },
     "execution_count": 8,
     "metadata": {},
     "output_type": "execute_result"
    }
   ],
   "source": [
    "/* ========== Створення стовпчикової діаграми ========== */\n",
    "await display( // Використовуємо функцію відображення\n",
    "  Plot.plot({\n",
    "    // Основні налаштування графіка\n",
    "    title: \"Розподіл випадкових чисел (0-10)\", // Заголовок\n",
    "    marginLeft: 60, // Відступ зліва для підписів осі Y\n",
    "    \n",
    "    // Налаштування осі X\n",
    "    x: {\n",
    "      label: \"Значення\",       // Підпис осі\n",
    "      type: \"band\",             // Тип даних - категоричні (дискретні значення)\n",
    "      domain: Array.from({length: 11}, (_, i) => i.toString()) // Фіксований порядок 0-10\n",
    "    },\n",
    "    \n",
    "    // Налаштування осі Y\n",
    "    y: {\n",
    "      label: \"Кількість\",      // Підпис осі\n",
    "      grid: true,              // Відображення сітки\n",
    "      ticks: 10\n",
    "    },\n",
    "    \n",
    "    // Елементи графіка\n",
    "    marks: [\n",
    "      // Стовпчики з даними\n",
    "      Plot.barY(distributionData, {\n",
    "        x: \"value\",       // Вісь X - значення чисел\n",
    "        y: \"count\",       // Вісь Y - кількість\n",
    "        fill: d => colorMap[parseInt(d.value)] // Використовуємо згенеровані кольори\n",
    "      }),\n",
    "      \n",
    "      // Базова лінія на рівні Y=0\n",
    "      Plot.ruleY([0])\n",
    "    ],\n",
    "\n",
    "    // Налаштування кольорів\n",
    "    color: {\n",
    "      legend: true,\n",
    "      range: colorMap // Підключаємо нашу палітру\n",
    "    },\n",
    "    \n",
    "    // Додаткові налаштування\n",
    "    width: 800,               // Ширина графіка\n",
    "    height: 400,              // Висота графіка\n",
    "    document,                 // Використання створеного DOM-документа\n",
    "  })\n",
    ");"
   ]
  },
  {
   "cell_type": "code",
   "execution_count": null,
   "id": "086ee696-3130-49ec-8f65-ad57e5aac086",
   "metadata": {},
   "outputs": [],
   "source": []
  }
 ],
 "metadata": {
  "kernelspec": {
   "display_name": "Deno",
   "language": "typescript",
   "name": "deno"
  },
  "language_info": {
   "codemirror_mode": "typescript",
   "file_extension": ".ts",
   "mimetype": "text/x.typescript",
   "name": "typescript",
   "nbconvert_exporter": "script",
   "pygments_lexer": "typescript",
   "version": "5.7.3"
  }
 },
 "nbformat": 4,
 "nbformat_minor": 5
}
