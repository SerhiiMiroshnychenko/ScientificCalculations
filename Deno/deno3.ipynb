{
 "cells": [
  {
   "cell_type": "code",
   "execution_count": 1,
   "id": "5764b969-1fcc-4762-92f1-6663c48e0daa",
   "metadata": {},
   "outputs": [],
   "source": [
    "// Імпорт необхідних бібліотек\n",
    "import { display } from \"https://deno.land/x/display@v0.1.1/mod.ts\"; // Для відображення графіків у Deno\n",
    "import * as Plot from \"npm:@observablehq/plot\"; // Бібліотека для створення візуалізацій\n",
    "import { DOMParser, SVGElement } from \"npm:linkedom\"; // Для роботи з DOM у середовищі Deno\n",
    "\n",
    "// Створюємо документ для рендерингу SVG (необхідно для коректної роботи Plot в Deno)\n",
    "const document = new DOMParser().parseFromString(\n",
    "  `<!DOCTYPE html><html lang=\"en\"></html>`,\n",
    "  \"text/html\",\n",
    ");"
   ]
  },
  {
   "cell_type": "code",
   "execution_count": 2,
   "id": "858b03c3-03ff-4b5a-bfda-6c005ce7f5cc",
   "metadata": {},
   "outputs": [
    {
     "name": "stdout",
     "output_type": "stream",
     "text": [
      "Згенеровані числа: [\n",
      "  \u001b[33m4\u001b[39m,  \u001b[33m6\u001b[39m,  \u001b[33m2\u001b[39m, \u001b[33m10\u001b[39m, \u001b[33m6\u001b[39m,  \u001b[33m4\u001b[39m, \u001b[33m10\u001b[39m, \u001b[33m9\u001b[39m,  \u001b[33m4\u001b[39m, \u001b[33m1\u001b[39m,  \u001b[33m0\u001b[39m, \u001b[33m8\u001b[39m,\n",
      "  \u001b[33m2\u001b[39m,  \u001b[33m8\u001b[39m,  \u001b[33m5\u001b[39m,  \u001b[33m3\u001b[39m, \u001b[33m5\u001b[39m,  \u001b[33m1\u001b[39m,  \u001b[33m3\u001b[39m, \u001b[33m8\u001b[39m,  \u001b[33m3\u001b[39m, \u001b[33m4\u001b[39m, \u001b[33m10\u001b[39m, \u001b[33m6\u001b[39m,\n",
      "  \u001b[33m6\u001b[39m, \u001b[33m10\u001b[39m,  \u001b[33m3\u001b[39m,  \u001b[33m3\u001b[39m, \u001b[33m4\u001b[39m,  \u001b[33m5\u001b[39m,  \u001b[33m5\u001b[39m, \u001b[33m6\u001b[39m,  \u001b[33m5\u001b[39m, \u001b[33m0\u001b[39m,  \u001b[33m5\u001b[39m, \u001b[33m0\u001b[39m,\n",
      "  \u001b[33m9\u001b[39m,  \u001b[33m7\u001b[39m, \u001b[33m10\u001b[39m,  \u001b[33m8\u001b[39m, \u001b[33m5\u001b[39m,  \u001b[33m2\u001b[39m,  \u001b[33m1\u001b[39m, \u001b[33m3\u001b[39m,  \u001b[33m2\u001b[39m, \u001b[33m2\u001b[39m,  \u001b[33m6\u001b[39m, \u001b[33m1\u001b[39m,\n",
      "  \u001b[33m9\u001b[39m,  \u001b[33m8\u001b[39m,  \u001b[33m9\u001b[39m,  \u001b[33m4\u001b[39m, \u001b[33m5\u001b[39m, \u001b[33m10\u001b[39m,  \u001b[33m2\u001b[39m, \u001b[33m4\u001b[39m,  \u001b[33m3\u001b[39m, \u001b[33m2\u001b[39m,  \u001b[33m6\u001b[39m, \u001b[33m3\u001b[39m,\n",
      "  \u001b[33m9\u001b[39m,  \u001b[33m5\u001b[39m,  \u001b[33m8\u001b[39m,  \u001b[33m1\u001b[39m, \u001b[33m2\u001b[39m,  \u001b[33m6\u001b[39m,  \u001b[33m8\u001b[39m, \u001b[33m9\u001b[39m, \u001b[33m10\u001b[39m, \u001b[33m6\u001b[39m,  \u001b[33m1\u001b[39m, \u001b[33m4\u001b[39m,\n",
      "  \u001b[33m0\u001b[39m,  \u001b[33m9\u001b[39m,  \u001b[33m8\u001b[39m,  \u001b[33m1\u001b[39m, \u001b[33m4\u001b[39m,  \u001b[33m8\u001b[39m,  \u001b[33m1\u001b[39m, \u001b[33m5\u001b[39m,  \u001b[33m7\u001b[39m, \u001b[33m5\u001b[39m,  \u001b[33m3\u001b[39m, \u001b[33m3\u001b[39m,\n",
      "  \u001b[33m4\u001b[39m,  \u001b[33m0\u001b[39m,  \u001b[33m0\u001b[39m, \u001b[33m10\u001b[39m, \u001b[33m2\u001b[39m,  \u001b[33m4\u001b[39m,  \u001b[33m3\u001b[39m, \u001b[33m0\u001b[39m,  \u001b[33m6\u001b[39m, \u001b[33m6\u001b[39m,  \u001b[33m4\u001b[39m, \u001b[33m3\u001b[39m,\n",
      "  \u001b[33m0\u001b[39m,  \u001b[33m4\u001b[39m,  \u001b[33m0\u001b[39m, \u001b[33m10\u001b[39m\n",
      "]\n"
     ]
    }
   ],
   "source": [
    "/* ========== Генерація та підготовка даних ========== */\n",
    "// Створюємо масив з 100 випадкових чисел від 0 до 10\n",
    "const randomNumbers: number[] = Array.from(\n",
    "  { length: 100 }, // 100 елементів\n",
    "  () => Math.floor(Math.random() * 11) // Випадкове ціле число від 0 до 10\n",
    ");\n",
    "\n",
    "console.log(\"Згенеровані числа:\", randomNumbers); // Виводимо масив для перевірки"
   ]
  },
  {
   "cell_type": "code",
   "execution_count": 3,
   "id": "25ef6d44-1788-4156-9001-d168e4c0a6da",
   "metadata": {},
   "outputs": [
    {
     "name": "stdout",
     "output_type": "stream",
     "text": [
      "Розподіл кількостей: [\n",
      "   \u001b[33m9\u001b[39m,  \u001b[33m8\u001b[39m, \u001b[33m9\u001b[39m, \u001b[33m12\u001b[39m, \u001b[33m13\u001b[39m,\n",
      "  \u001b[33m11\u001b[39m, \u001b[33m11\u001b[39m, \u001b[33m2\u001b[39m,  \u001b[33m9\u001b[39m,  \u001b[33m7\u001b[39m,\n",
      "   \u001b[33m9\u001b[39m\n",
      "]\n"
     ]
    }
   ],
   "source": [
    "// Підрахунок кількості кожного числа (0-10)\n",
    "const counts: number[] = Array(11).fill(0); // Масив з 11 нулів\n",
    "randomNumbers.forEach(num => counts[num]++); // Інкрементуємо відповідний індекс\n",
    "\n",
    "console.log(\"Розподіл кількостей:\", counts); // Виводимо розподіл"
   ]
  },
  {
   "cell_type": "code",
   "execution_count": 4,
   "id": "fe0183ec-193e-4b3e-ae8c-be89d5cd9d98",
   "metadata": {},
   "outputs": [],
   "source": [
    "/* ========== Підготовка даних для візуалізації ========== */\n",
    "// Конвертуємо масив кількостей у формат {value: string, count: number}\n",
    "const distributionData = counts.map((count, value) => ({\n",
    "  value: value.toString(), // Число як рядок (напр. \"0\", \"1\")\n",
    "  count                   // Кількість появи числа\n",
    "}));"
   ]
  },
  {
   "cell_type": "code",
   "execution_count": 5,
   "id": "c77e302a-bd87-430a-ac28-7214a91a155c",
   "metadata": {},
   "outputs": [],
   "source": [
    "// Список кольорів для кожного значення (12 кольорів зі схеми \"Paired\")\n",
    "const colorScheme = [\n",
    "  \"#a6cee3\", \"#1f78b4\", \"#b2df8a\", \"#33a02c\", \"#fb9a99\",\n",
    "  \"#e31a1c\", \"#fdbf6f\", \"#ff7f00\", \"#cab2d6\", \"#6a3d9a\",\n",
    "  \"#ffff99\", \"#b15928\"\n",
    "];"
   ]
  },
  {
   "cell_type": "code",
   "execution_count": 6,
   "id": "dd411722-2ed7-4f9b-952d-93e7c51e293e",
   "metadata": {},
   "outputs": [
    {
     "data": {
      "text/html": [
       "<figure style=\"max-width:initial\" class=\"plot-d6a7b5-figure\"><h2>Розподіл випадкових чисел (0-10)</h2><svg viewBox=\"0 0 800 400\" height=\"400\" width=\"800\" text-anchor=\"middle\" font-size=\"10\" font-family=\"system-ui, sans-serif\" fill=\"currentColor\" class=\"plot-d6a7b5\"><style>:where(.plot-d6a7b5) {\n",
       "  --plot-background: white;\n",
       "  display: block;\n",
       "  height: auto;\n",
       "  height: intrinsic;\n",
       "  max-width: 100%;\n",
       "}\n",
       ":where(.plot-d6a7b5 text),\n",
       ":where(.plot-d6a7b5 tspan) {\n",
       "  white-space: pre;\n",
       "}</style><g stroke-opacity=\"0.1\" stroke=\"currentColor\" aria-hidden=\"true\" aria-label=\"y-grid\"><line y2=\"370\" y1=\"370\" x2=\"780\" x1=\"60\" /><line y2=\"343.0769230769231\" y1=\"343.0769230769231\" x2=\"780\" x1=\"60\" /><line y2=\"316.1538461538462\" y1=\"316.1538461538462\" x2=\"780\" x1=\"60\" /><line y2=\"289.2307692307692\" y1=\"289.2307692307692\" x2=\"780\" x1=\"60\" /><line y2=\"262.30769230769226\" y1=\"262.30769230769226\" x2=\"780\" x1=\"60\" /><line y2=\"235.3846153846154\" y1=\"235.3846153846154\" x2=\"780\" x1=\"60\" /><line y2=\"208.46153846153845\" y1=\"208.46153846153845\" x2=\"780\" x1=\"60\" /><line y2=\"181.53846153846155\" y1=\"181.53846153846155\" x2=\"780\" x1=\"60\" /><line y2=\"154.6153846153846\" y1=\"154.6153846153846\" x2=\"780\" x1=\"60\" /><line y2=\"127.69230769230771\" y1=\"127.69230769230771\" x2=\"780\" x1=\"60\" /><line y2=\"100.76923076923076\" y1=\"100.76923076923076\" x2=\"780\" x1=\"60\" /><line y2=\"73.84615384615385\" y1=\"73.84615384615385\" x2=\"780\" x1=\"60\" /><line y2=\"46.923076923076906\" y1=\"46.923076923076906\" x2=\"780\" x1=\"60\" /><line y2=\"20\" y1=\"20\" x2=\"780\" x1=\"60\" /></g><g stroke=\"currentColor\" fill=\"none\" aria-hidden=\"true\" aria-label=\"y-axis tick\"><path d=\"M0,0L-6,0\" transform=\"translate(60,370)\" /><path d=\"M0,0L-6,0\" transform=\"translate(60,343.0769230769231)\" /><path d=\"M0,0L-6,0\" transform=\"translate(60,316.1538461538462)\" /><path d=\"M0,0L-6,0\" transform=\"translate(60,289.2307692307692)\" /><path d=\"M0,0L-6,0\" transform=\"translate(60,262.30769230769226)\" /><path d=\"M0,0L-6,0\" transform=\"translate(60,235.3846153846154)\" /><path d=\"M0,0L-6,0\" transform=\"translate(60,208.46153846153845)\" /><path d=\"M0,0L-6,0\" transform=\"translate(60,181.53846153846155)\" /><path d=\"M0,0L-6,0\" transform=\"translate(60,154.6153846153846)\" /><path d=\"M0,0L-6,0\" transform=\"translate(60,127.69230769230771)\" /><path d=\"M0,0L-6,0\" transform=\"translate(60,100.76923076923076)\" /><path d=\"M0,0L-6,0\" transform=\"translate(60,73.84615384615385)\" /><path d=\"M0,0L-6,0\" transform=\"translate(60,46.923076923076906)\" /><path d=\"M0,0L-6,0\" transform=\"translate(60,20)\" /></g><g transform=\"translate(-9,0)\" font-variant=\"tabular-nums\" text-anchor=\"end\" aria-label=\"y-axis tick label\"><text transform=\"translate(60,370)\" y=\"0.32em\">0</text><text transform=\"translate(60,343.0769230769231)\" y=\"0.32em\">1</text><text transform=\"translate(60,316.1538461538462)\" y=\"0.32em\">2</text><text transform=\"translate(60,289.2307692307692)\" y=\"0.32em\">3</text><text transform=\"translate(60,262.30769230769226)\" y=\"0.32em\">4</text><text transform=\"translate(60,235.3846153846154)\" y=\"0.32em\">5</text><text transform=\"translate(60,208.46153846153845)\" y=\"0.32em\">6</text><text transform=\"translate(60,181.53846153846155)\" y=\"0.32em\">7</text><text transform=\"translate(60,154.6153846153846)\" y=\"0.32em\">8</text><text transform=\"translate(60,127.69230769230771)\" y=\"0.32em\">9</text><text transform=\"translate(60,100.76923076923076)\" y=\"0.32em\">10</text><text transform=\"translate(60,73.84615384615385)\" y=\"0.32em\">11</text><text transform=\"translate(60,46.923076923076906)\" y=\"0.32em\">12</text><text transform=\"translate(60,20)\" y=\"0.32em\">13</text></g><g transform=\"translate(-57,-17)\" text-anchor=\"start\" aria-label=\"y-axis label\"><text transform=\"translate(60,20)\" y=\"0.71em\">↑ Кількість</text></g><g transform=\"translate(29,0)\" stroke=\"currentColor\" fill=\"none\" aria-hidden=\"true\" aria-label=\"x-axis tick\"><path d=\"M0,0L0,6\" transform=\"translate(71,370)\" /><path d=\"M0,0L0,6\" transform=\"translate(135,370)\" /><path d=\"M0,0L0,6\" transform=\"translate(199,370)\" /><path d=\"M0,0L0,6\" transform=\"translate(263,370)\" /><path d=\"M0,0L0,6\" transform=\"translate(327,370)\" /><path d=\"M0,0L0,6\" transform=\"translate(391,370)\" /><path d=\"M0,0L0,6\" transform=\"translate(455,370)\" /><path d=\"M0,0L0,6\" transform=\"translate(519,370)\" /><path d=\"M0,0L0,6\" transform=\"translate(583,370)\" /><path d=\"M0,0L0,6\" transform=\"translate(647,370)\" /><path d=\"M0,0L0,6\" transform=\"translate(711,370)\" /></g><g transform=\"translate(29,9)\" aria-label=\"x-axis tick label\"><text transform=\"translate(71,370)\" y=\"0.71em\">0</text><text transform=\"translate(135,370)\" y=\"0.71em\">1</text><text transform=\"translate(199,370)\" y=\"0.71em\">2</text><text transform=\"translate(263,370)\" y=\"0.71em\">3</text><text transform=\"translate(327,370)\" y=\"0.71em\">4</text><text transform=\"translate(391,370)\" y=\"0.71em\">5</text><text transform=\"translate(455,370)\" y=\"0.71em\">6</text><text transform=\"translate(519,370)\" y=\"0.71em\">7</text><text transform=\"translate(583,370)\" y=\"0.71em\">8</text><text transform=\"translate(647,370)\" y=\"0.71em\">9</text><text transform=\"translate(711,370)\" y=\"0.71em\">10</text></g><g transform=\"translate(0,27)\" aria-label=\"x-axis label\"><text transform=\"translate(420,370)\">Значення</text></g><g aria-label=\"bar\"><rect fill=\"#a6cee3\" height=\"242.3076923076923\" y=\"127.69230769230771\" width=\"58\" x=\"71\" /><rect fill=\"#1f78b4\" height=\"215.3846153846154\" y=\"154.6153846153846\" width=\"58\" x=\"135\" /><rect fill=\"#b2df8a\" height=\"242.3076923076923\" y=\"127.69230769230771\" width=\"58\" x=\"199\" /><rect fill=\"#33a02c\" height=\"323.0769230769231\" y=\"46.923076923076906\" width=\"58\" x=\"263\" /><rect fill=\"#fb9a99\" height=\"350\" y=\"20\" width=\"58\" x=\"327\" /><rect fill=\"#e31a1c\" height=\"296.15384615384613\" y=\"73.84615384615385\" width=\"58\" x=\"391\" /><rect fill=\"#fdbf6f\" height=\"296.15384615384613\" y=\"73.84615384615385\" width=\"58\" x=\"455\" /><rect fill=\"#ff7f00\" height=\"53.84615384615381\" y=\"316.1538461538462\" width=\"58\" x=\"519\" /><rect fill=\"#cab2d6\" height=\"242.3076923076923\" y=\"127.69230769230771\" width=\"58\" x=\"583\" /><rect fill=\"#6a3d9a\" height=\"188.46153846153845\" y=\"181.53846153846155\" width=\"58\" x=\"647\" /><rect fill=\"#ffff99\" height=\"242.3076923076923\" y=\"127.69230769230771\" width=\"58\" x=\"711\" /></g><g stroke=\"currentColor\" aria-label=\"rule\"><line y2=\"370\" y1=\"370\" x2=\"780\" x1=\"60\" /></g></svg></figure>"
      ]
     },
     "execution_count": 6,
     "metadata": {},
     "output_type": "execute_result"
    }
   ],
   "source": [
    "/* ========== Створення стовпчикової діаграми ========== */\n",
    "await display( // Використовуємо функцію відображення\n",
    "  Plot.plot({\n",
    "    // Основні налаштування графіка\n",
    "    title: \"Розподіл випадкових чисел (0-10)\", // Заголовок\n",
    "    marginLeft: 60, // Відступ зліва для підписів осі Y\n",
    "    \n",
    "    // Налаштування осі X\n",
    "    x: {\n",
    "      label: \"Значення\",       // Підпис осі\n",
    "      type: \"band\",             // Тип даних - категоричні (дискретні значення)\n",
    "      domain: Array.from({length: 11}, (_, i) => i.toString()) // Фіксований порядок 0-10\n",
    "    },\n",
    "    \n",
    "    // Налаштування осі Y\n",
    "    y: {\n",
    "      label: \"Кількість\",      // Підпис осі\n",
    "      grid: true,              // Відображення сітки\n",
    "      ticks: 10\n",
    "    },\n",
    "    \n",
    "    // Елементи графіка\n",
    "    marks: [\n",
    "      // Стовпчики з даними\n",
    "      Plot.barY(distributionData, {\n",
    "        x: \"value\",       // Вісь X - значення чисел\n",
    "        y: \"count\",       // Вісь Y - кількість\n",
    "        fill: d => colorScheme[parseInt(d.value)] // Прив'язка кольору до значення\n",
    "      }),\n",
    "      \n",
    "      // Базова лінія на рівні Y=0\n",
    "      Plot.ruleY([0])\n",
    "    ],\n",
    "\n",
    "    // Налаштування кольорів\n",
    "    color: {\n",
    "      legend: true,\n",
    "      scheme: colorScheme // Використання нашої власної схеми\n",
    "    },\n",
    "    \n",
    "    // Додаткові налаштування\n",
    "    width: 800,               // Ширина графіка\n",
    "    height: 400,              // Висота графіка\n",
    "    document,                 // Використання створеного DOM-документа\n",
    "  })\n",
    ");"
   ]
  },
  {
   "cell_type": "code",
   "execution_count": null,
   "id": "086ee696-3130-49ec-8f65-ad57e5aac086",
   "metadata": {},
   "outputs": [],
   "source": []
  }
 ],
 "metadata": {
  "kernelspec": {
   "display_name": "Deno",
   "language": "typescript",
   "name": "deno"
  },
  "language_info": {
   "codemirror_mode": "typescript",
   "file_extension": ".ts",
   "mimetype": "text/x.typescript",
   "name": "typescript",
   "nbconvert_exporter": "script",
   "pygments_lexer": "typescript",
   "version": "5.7.3"
  }
 },
 "nbformat": 4,
 "nbformat_minor": 5
}
