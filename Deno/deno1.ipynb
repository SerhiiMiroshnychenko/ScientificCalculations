{
 "cells": [
  {
   "cell_type": "markdown",
   "id": "b5ecae43-4105-486a-ae55-fa0b82a42571",
   "metadata": {},
   "source": [
    "Deno 🦕\n",
    "Next-generation JavaScript runtime\n",
    "Secure by default\n",
    "Native support for TypeScript and JSX\n",
    "Testing, linting, formatting, and more out of the box\n",
    "High performance async I/O with Rust and Tokio\n",
    "Backwards compatible with Node.js and npm\n",
    "Notebook friendliness\n",
    "ESM imports very friendlty\n",
    "Top level async await\n",
    "\n",
    "\n",
    "Deno by Example\n",
    "Deno programs can either be written in JavaScript or TypeScript, or a mixture of both. All code in these examples is written in TypeScript, but all the examples also work in JavaScript."
   ]
  },
  {
   "cell_type": "code",
   "execution_count": 1,
   "id": "2d03561a-b4e6-42ef-9b81-e7147956f80a",
   "metadata": {},
   "outputs": [
    {
     "name": "stdout",
     "output_type": "stream",
     "text": [
      "Welcome to Deno!\n"
     ]
    }
   ],
   "source": [
    "console.log(\"Welcome to Deno!\");"
   ]
  },
  {
   "cell_type": "code",
   "execution_count": 2,
   "id": "3ccf68fe-f329-4ce2-a929-6f4867f48dee",
   "metadata": {},
   "outputs": [
    {
     "name": "stdout",
     "output_type": "stream",
     "text": [
      "\u001b[48;2;21;128;61m\u001b[38;2;255;255;255m Hello Deno \u001b[0m\n"
     ]
    }
   ],
   "source": [
    "console.log(\"%c Hello Deno \", \"background-color: #15803d; color: #fff\");"
   ]
  },
  {
   "cell_type": "code",
   "execution_count": 3,
   "id": "ddc59158-6841-4bf2-acdd-6d97702a759d",
   "metadata": {},
   "outputs": [
    {
     "name": "stdout",
     "output_type": "stream",
     "text": [
      "┌───────┬────────┐\n",
      "│ (idx) │ Values │\n",
      "├───────┼────────┤\n",
      "│     0 │ \u001b[33m1\u001b[39m      │\n",
      "│     1 │ \u001b[33m2\u001b[39m      │\n",
      "│     2 │ \u001b[33m3\u001b[39m      │\n",
      "└───────┴────────┘\n"
     ]
    }
   ],
   "source": [
    "console.table([1, 2, 3]);"
   ]
  },
  {
   "cell_type": "code",
   "execution_count": 7,
   "id": "1d63b428-66bc-4a1d-ada5-f0c11748d249",
   "metadata": {},
   "outputs": [
    {
     "name": "stdout",
     "output_type": "stream",
     "text": [
      "Current Date and Time: Sun Apr 06 2025 20:40:06 GMT+0300\n"
     ]
    }
   ],
   "source": [
    "import moment from \"npm:moment@2.29.4\";\n",
    "\n",
    "moment.version;\n",
    "const now = moment();\n",
    "console.log(\"Current Date and Time:\", now.toString());"
   ]
  },
  {
   "cell_type": "code",
   "execution_count": 11,
   "id": "2ba8fc5f-db77-405a-ae88-b3eadb022e44",
   "metadata": {},
   "outputs": [
    {
     "data": {
      "image/svg+xml": [
       "\n",
       "          <svg height=\"282.842712474619\" width=\"282.842712474619\" viewBox=\"0 0 282.842712474619 282.842712474619\">\n",
       "            <defs>\n",
       "              <marker id=\"arrowhead\" markerWidth=\"5\" markerHeight=\"5\"\n",
       "              refX=\"5\" refY=\"2.5\" orient=\"auto\">\n",
       "                <polygon points=\"0 0, 5 2.5, 0 5\" fill=\"#15803d\" />\n",
       "              </marker>\n",
       "            </defs>\n",
       "\n",
       "            <line x1=\"141.4213562373095\" y1=\"141.4213562373095\" x2=\"241.4213562373095\" y2=\"41.42135623730951\"\n",
       "            style=\"stroke:#15803d;stroke-width:2\" marker-end=\"url(#arrowhead)\" />\n",
       "          </svg>\n",
       "      "
      ],
      "text/plain": [
       "Vector2D(x: 100, y: 100)"
      ]
     },
     "execution_count": 11,
     "metadata": {},
     "output_type": "execute_result"
    }
   ],
   "source": [
    "class Vector2D {\n",
    "  x: number;\n",
    "  y: number;\n",
    "\n",
    "  constructor(x: number, y: number) {\n",
    "    this.x = x;\n",
    "    this.y = y;\n",
    "  }\n",
    "\n",
    "  [Symbol.for(\"Jupyter.display\")]() {\n",
    "    // Calculate viewbox size based on vector magnitude\n",
    "    const magnitude = Math.sqrt(this.x ** 2 + this.y ** 2);\n",
    "    const viewboxSize = Math.max(100, 2 * magnitude);\n",
    "    const center = viewboxSize / 2;\n",
    "      \n",
    "    const color = \"#15803d\"\n",
    "\n",
    "    return {\n",
    "      \"text/plain\": `Vector2D(x: ${this.x}, y: ${this.y})`,\n",
    "      \"image/svg+xml\": `\n",
    "          <svg height=\"${viewboxSize}\" width=\"${viewboxSize}\" viewBox=\"0 0 ${viewboxSize} ${viewboxSize}\">\n",
    "            <defs>\n",
    "              <marker id=\"arrowhead\" markerWidth=\"5\" markerHeight=\"5\"\n",
    "              refX=\"5\" refY=\"2.5\" orient=\"auto\">\n",
    "                <polygon points=\"0 0, 5 2.5, 0 5\" fill=\"${color}\" />\n",
    "              </marker>\n",
    "            </defs>\n",
    "\n",
    "            <line x1=\"${center}\" y1=\"${center}\" x2=\"${center + this.x}\" y2=\"${center - this.y}\"\n",
    "            style=\"stroke:${color};stroke-width:2\" marker-end=\"url(#arrowhead)\" />\n",
    "          </svg>\n",
    "      `\n",
    "    };\n",
    "  }\n",
    "}\n",
    "\n",
    "const v = new Vector2D(100, 100);\n",
    "v"
   ]
  },
  {
   "cell_type": "code",
   "execution_count": 12,
   "id": "db7b068d-2002-4658-a3c3-e6b4e99dd86f",
   "metadata": {},
   "outputs": [
    {
     "data": {
      "image/svg+xml": [
       "\n",
       "          <svg height=\"100\" width=\"100\" viewBox=\"0 0 100 100\">\n",
       "            <defs>\n",
       "              <marker id=\"arrowhead\" markerWidth=\"5\" markerHeight=\"5\"\n",
       "              refX=\"5\" refY=\"2.5\" orient=\"auto\">\n",
       "                <polygon points=\"0 0, 5 2.5, 0 5\" fill=\"#15803d\" />\n",
       "              </marker>\n",
       "            </defs>\n",
       "\n",
       "            <line x1=\"50\" y1=\"50\" x2=\"30\" y2=\"80\"\n",
       "            style=\"stroke:#15803d;stroke-width:2\" marker-end=\"url(#arrowhead)\" />\n",
       "          </svg>\n",
       "      "
      ],
      "text/plain": [
       "Vector2D(x: -20, y: -30)"
      ]
     },
     "execution_count": 12,
     "metadata": {},
     "output_type": "execute_result"
    }
   ],
   "source": [
    "new Vector2D(-20, -30);"
   ]
  },
  {
   "cell_type": "code",
   "execution_count": 13,
   "id": "4735ce8b-c8e2-4571-8d73-b219c89e4a72",
   "metadata": {},
   "outputs": [
    {
     "data": {
      "image/svg+xml": [
       "\n",
       "          <svg height=\"100\" width=\"100\" viewBox=\"0 0 100 100\">\n",
       "            <defs>\n",
       "              <marker id=\"arrowhead\" markerWidth=\"5\" markerHeight=\"5\"\n",
       "              refX=\"5\" refY=\"2.5\" orient=\"auto\">\n",
       "                <polygon points=\"0 0, 5 2.5, 0 5\" fill=\"#15803d\" />\n",
       "              </marker>\n",
       "            </defs>\n",
       "\n",
       "            <line x1=\"50\" y1=\"50\" x2=\"30\" y2=\"80\"\n",
       "            style=\"stroke:#15803d;stroke-width:2\" marker-end=\"url(#arrowhead)\" />\n",
       "          </svg>\n",
       "      "
      ],
      "text/plain": [
       "Vector2D(x: -20, y: -30)"
      ]
     },
     "execution_count": 13,
     "metadata": {},
     "output_type": "execute_result"
    }
   ],
   "source": [
    "new Vector2D(-20, -30);"
   ]
  },
  {
   "cell_type": "code",
   "execution_count": 15,
   "id": "74e46aaa-88f0-415f-b4fa-b78f2b826029",
   "metadata": {},
   "outputs": [
    {
     "data": {
      "application/vnd.vegalite.v5+json": {
       "$schema": "https://vega.github.io/schema/vega-lite/v5.json",
       "data": {
        "url": "https://raw.githubusercontent.com/vega/vega/main/docs/data/gapminder-health-income.csv"
       },
       "description": "A bubble plot showing the correlation between health and income for 187 countries in the world (modified from an example in Lisa Charlotte Rost's blog post 'One Chart, Twelve Charting Libraries' --http://lisacharlotterost.github.io/2016/05/17/one-chart-code/).",
       "encoding": {
        "color": {
         "value": "yellow"
        },
        "size": {
         "field": "population",
         "type": "quantitative"
        },
        "x": {
         "field": "income",
         "scale": {
          "type": "log"
         }
        },
        "y": {
         "axis": {
          "minExtent": 30
         },
         "field": "health",
         "scale": {
          "zero": false
         },
         "type": "quantitative"
        }
       },
       "height": 300,
       "mark": "circle",
       "params": [
        {
         "bind": "scales",
         "name": "view",
         "select": "interval"
        }
       ],
       "width": 500
      },
      "image/png": "[encoded data removed]"
     },
     "metadata": {},
     "output_type": "display_data"
    }
   ],
   "source": [
    "let spec = {\n",
    "  $schema: \"https://vega.github.io/schema/vega-lite/v5.json\",\n",
    "  description:\n",
    "    \"A bubble plot showing the correlation between health and income for 187 countries in the world (modified from an example in Lisa Charlotte Rost's blog post 'One Chart, Twelve Charting Libraries' --http://lisacharlotterost.github.io/2016/05/17/one-chart-code/).\",\n",
    "  width: 500,\n",
    "  height: 300,\n",
    "  data: {\n",
    "    url: \"https://raw.githubusercontent.com/vega/vega/main/docs/data/gapminder-health-income.csv\",\n",
    "  },\n",
    "  params: [\n",
    "    {\n",
    "      name: \"view\",\n",
    "      select: \"interval\",\n",
    "      bind: \"scales\",\n",
    "    },\n",
    "  ],\n",
    "  mark: \"circle\",\n",
    "  encoding: {\n",
    "    y: {\n",
    "      field: \"health\",\n",
    "      type: \"quantitative\",\n",
    "      scale: { zero: false },\n",
    "      axis: { minExtent: 30 },\n",
    "    },\n",
    "    x: {\n",
    "      field: \"income\",\n",
    "      scale: { type: \"log\" },\n",
    "    },\n",
    "    size: { field: \"population\", type: \"quantitative\" },\n",
    "    color: { value: \"yellow\" },\n",
    "  },\n",
    "};\n",
    "\n",
    "await Deno.jupyter.display(\n",
    "  { \"application/vnd.vegalite.v5+json\": spec },\n",
    "  { raw: true }\n",
    ");\n"
   ]
  },
  {
   "cell_type": "code",
   "execution_count": null,
   "id": "15e5920a-5eaf-4c25-b750-4ceecfb6124d",
   "metadata": {},
   "outputs": [],
   "source": []
  }
 ],
 "metadata": {
  "kernelspec": {
   "display_name": "Deno",
   "language": "typescript",
   "name": "deno"
  },
  "language_info": {
   "codemirror_mode": "typescript",
   "file_extension": ".ts",
   "mimetype": "text/x.typescript",
   "name": "typescript",
   "nbconvert_exporter": "script",
   "pygments_lexer": "typescript",
   "version": "5.7.3"
  }
 },
 "nbformat": 4,
 "nbformat_minor": 5
}
