{
 "cells": [
  {
   "cell_type": "code",
   "execution_count": 1,
   "id": "26ff8f07-1aa5-4d23-bdf2-6b2dcc6640af",
   "metadata": {},
   "outputs": [
    {
     "data": {
      "text/html": [
       "<html lang=\"en\"> <body>\n",
       "     <div style=\"display: flex; flex-direction: row; gap: 20px; max-width: 1200px;\">\n",
       "       <div id=\"bar-chart\" style=\"flex: 1;\"><figure style=\"max-width:initial\" class=\"plot-d6a7b5-figure\"><h2>Розподіл випадкових чисел (0-10)</h2><svg viewBox=\"0 0 500 400\" height=\"400\" width=\"500\" text-anchor=\"middle\" font-size=\"10\" font-family=\"system-ui, sans-serif\" fill=\"currentColor\" class=\"plot-d6a7b5\"><style>:where(.plot-d6a7b5) {\n",
       "  --plot-background: white;\n",
       "  display: block;\n",
       "  height: auto;\n",
       "  height: intrinsic;\n",
       "  max-width: 100%;\n",
       "}\n",
       ":where(.plot-d6a7b5 text),\n",
       ":where(.plot-d6a7b5 tspan) {\n",
       "  white-space: pre;\n",
       "}</style><g stroke-opacity=\"0.1\" stroke=\"currentColor\" aria-hidden=\"true\" aria-label=\"y-grid\"><line y2=\"370\" y1=\"370\" x2=\"480\" x1=\"60\" /><line y2=\"343.0769230769231\" y1=\"343.0769230769231\" x2=\"480\" x1=\"60\" /><line y2=\"316.1538461538462\" y1=\"316.1538461538462\" x2=\"480\" x1=\"60\" /><line y2=\"289.2307692307692\" y1=\"289.2307692307692\" x2=\"480\" x1=\"60\" /><line y2=\"262.30769230769226\" y1=\"262.30769230769226\" x2=\"480\" x1=\"60\" /><line y2=\"235.3846153846154\" y1=\"235.3846153846154\" x2=\"480\" x1=\"60\" /><line y2=\"208.46153846153845\" y1=\"208.46153846153845\" x2=\"480\" x1=\"60\" /><line y2=\"181.53846153846155\" y1=\"181.53846153846155\" x2=\"480\" x1=\"60\" /><line y2=\"154.6153846153846\" y1=\"154.6153846153846\" x2=\"480\" x1=\"60\" /><line y2=\"127.69230769230771\" y1=\"127.69230769230771\" x2=\"480\" x1=\"60\" /><line y2=\"100.76923076923076\" y1=\"100.76923076923076\" x2=\"480\" x1=\"60\" /><line y2=\"73.84615384615385\" y1=\"73.84615384615385\" x2=\"480\" x1=\"60\" /><line y2=\"46.923076923076906\" y1=\"46.923076923076906\" x2=\"480\" x1=\"60\" /><line y2=\"20\" y1=\"20\" x2=\"480\" x1=\"60\" /></g><g stroke=\"currentColor\" fill=\"none\" aria-hidden=\"true\" aria-label=\"y-axis tick\"><path d=\"M0,0L-6,0\" transform=\"translate(60,370)\" /><path d=\"M0,0L-6,0\" transform=\"translate(60,343.0769230769231)\" /><path d=\"M0,0L-6,0\" transform=\"translate(60,316.1538461538462)\" /><path d=\"M0,0L-6,0\" transform=\"translate(60,289.2307692307692)\" /><path d=\"M0,0L-6,0\" transform=\"translate(60,262.30769230769226)\" /><path d=\"M0,0L-6,0\" transform=\"translate(60,235.3846153846154)\" /><path d=\"M0,0L-6,0\" transform=\"translate(60,208.46153846153845)\" /><path d=\"M0,0L-6,0\" transform=\"translate(60,181.53846153846155)\" /><path d=\"M0,0L-6,0\" transform=\"translate(60,154.6153846153846)\" /><path d=\"M0,0L-6,0\" transform=\"translate(60,127.69230769230771)\" /><path d=\"M0,0L-6,0\" transform=\"translate(60,100.76923076923076)\" /><path d=\"M0,0L-6,0\" transform=\"translate(60,73.84615384615385)\" /><path d=\"M0,0L-6,0\" transform=\"translate(60,46.923076923076906)\" /><path d=\"M0,0L-6,0\" transform=\"translate(60,20)\" /></g><g transform=\"translate(-9,0)\" font-variant=\"tabular-nums\" text-anchor=\"end\" aria-label=\"y-axis tick label\"><text transform=\"translate(60,370)\" y=\"0.32em\">0</text><text transform=\"translate(60,343.0769230769231)\" y=\"0.32em\">1</text><text transform=\"translate(60,316.1538461538462)\" y=\"0.32em\">2</text><text transform=\"translate(60,289.2307692307692)\" y=\"0.32em\">3</text><text transform=\"translate(60,262.30769230769226)\" y=\"0.32em\">4</text><text transform=\"translate(60,235.3846153846154)\" y=\"0.32em\">5</text><text transform=\"translate(60,208.46153846153845)\" y=\"0.32em\">6</text><text transform=\"translate(60,181.53846153846155)\" y=\"0.32em\">7</text><text transform=\"translate(60,154.6153846153846)\" y=\"0.32em\">8</text><text transform=\"translate(60,127.69230769230771)\" y=\"0.32em\">9</text><text transform=\"translate(60,100.76923076923076)\" y=\"0.32em\">10</text><text transform=\"translate(60,73.84615384615385)\" y=\"0.32em\">11</text><text transform=\"translate(60,46.923076923076906)\" y=\"0.32em\">12</text><text transform=\"translate(60,20)\" y=\"0.32em\">13</text></g><g transform=\"translate(-57,-17)\" text-anchor=\"start\" aria-label=\"y-axis label\"><text transform=\"translate(60,20)\" y=\"0.71em\">↑ Кількість</text></g><g transform=\"translate(16.5,0)\" stroke=\"currentColor\" fill=\"none\" aria-hidden=\"true\" aria-label=\"x-axis tick\"><path d=\"M0,0L0,6\" transform=\"translate(68,370)\" /><path d=\"M0,0L0,6\" transform=\"translate(105,370)\" /><path d=\"M0,0L0,6\" transform=\"translate(142,370)\" /><path d=\"M0,0L0,6\" transform=\"translate(179,370)\" /><path d=\"M0,0L0,6\" transform=\"translate(216,370)\" /><path d=\"M0,0L0,6\" transform=\"translate(253,370)\" /><path d=\"M0,0L0,6\" transform=\"translate(290,370)\" /><path d=\"M0,0L0,6\" transform=\"translate(327,370)\" /><path d=\"M0,0L0,6\" transform=\"translate(364,370)\" /><path d=\"M0,0L0,6\" transform=\"translate(401,370)\" /><path d=\"M0,0L0,6\" transform=\"translate(438,370)\" /></g><g transform=\"translate(16.5,9)\" aria-label=\"x-axis tick label\"><text transform=\"translate(68,370)\" y=\"0.71em\">0</text><text transform=\"translate(105,370)\" y=\"0.71em\">1</text><text transform=\"translate(142,370)\" y=\"0.71em\">2</text><text transform=\"translate(179,370)\" y=\"0.71em\">3</text><text transform=\"translate(216,370)\" y=\"0.71em\">4</text><text transform=\"translate(253,370)\" y=\"0.71em\">5</text><text transform=\"translate(290,370)\" y=\"0.71em\">6</text><text transform=\"translate(327,370)\" y=\"0.71em\">7</text><text transform=\"translate(364,370)\" y=\"0.71em\">8</text><text transform=\"translate(401,370)\" y=\"0.71em\">9</text><text transform=\"translate(438,370)\" y=\"0.71em\">10</text></g><g transform=\"translate(0,27)\" aria-label=\"x-axis label\"><text transform=\"translate(270,370)\">Значення</text></g><g aria-label=\"bar\"><rect fill=\"#c5a4ee\" height=\"296.15384615384613\" y=\"73.84615384615385\" width=\"33\" x=\"68\" /><rect fill=\"#31f842\" height=\"215.3846153846154\" y=\"154.6153846153846\" width=\"33\" x=\"105\" /><rect fill=\"#e7c289\" height=\"323.0769230769231\" y=\"46.923076923076906\" width=\"33\" x=\"142\" /><rect fill=\"#49c212\" height=\"269.2307692307692\" y=\"100.76923076923076\" width=\"33\" x=\"179\" /><rect fill=\"#0a27a3\" height=\"269.2307692307692\" y=\"100.76923076923076\" width=\"33\" x=\"216\" /><rect fill=\"#ebba18\" height=\"134.6153846153846\" y=\"235.3846153846154\" width=\"33\" x=\"253\" /><rect fill=\"#5746d7\" height=\"350\" y=\"20\" width=\"33\" x=\"290\" /><rect fill=\"#987fc9\" height=\"296.15384615384613\" y=\"73.84615384615385\" width=\"33\" x=\"327\" /><rect fill=\"#298b63\" height=\"188.46153846153845\" y=\"181.53846153846155\" width=\"33\" x=\"364\" /><rect fill=\"#1e7243\" height=\"161.53846153846155\" y=\"208.46153846153845\" width=\"33\" x=\"401\" /><rect fill=\"#27b241\" height=\"188.46153846153845\" y=\"181.53846153846155\" width=\"33\" x=\"438\" /></g><g stroke=\"currentColor\" aria-label=\"rule\"><line y2=\"370\" y1=\"370\" x2=\"480\" x1=\"60\" /></g></svg></figure></div>\n",
       "       <div id=\"pie-chart\" style=\"flex: 1;\"><svg viewBox=\"0 0 500 400\" height=\"400\" width=\"500\"><text font-weight=\"bold\" font-size=\"16px\" text-anchor=\"middle\" y=\"20\" x=\"250\">Розподіл випадкових чисел (кругова діаграма)</text><g transform=\"translate(250, 200)\"><path stroke-width=\"1\" stroke=\"#ffffff\" fill=\"#c5a4ee\" d=\"M0,-160A160,160,0,0,1,101.988,-123.282L0,0Z\" /><text font-size=\"12px\" dy=\"0.35em\" text-anchor=\"middle\" y=\"-90.32455381960564\" x=\"32.51884034354798\">0: 11</text><path stroke-width=\"1\" stroke=\"#ffffff\" fill=\"#31f842\" d=\"M101.988,-123.282A160,160,0,0,1,148.764,-58.9L0,0Z\" /><text font-size=\"12px\" dy=\"0.35em\" text-anchor=\"middle\" y=\"-56.427384220077414\" x=\"77.66563145999496\">1: 8</text><path stroke-width=\"1\" stroke=\"#ffffff\" fill=\"#e7c289\" d=\"M148.764,-58.9A160,160,0,0,1,148.764,58.9L0,0Z\" /><text font-size=\"12px\" dy=\"0.35em\" text-anchor=\"middle\" y=\"0\" x=\"96\">2: 12</text><path stroke-width=\"1\" stroke=\"#ffffff\" fill=\"#49c212\" d=\"M148.764,58.9A160,160,0,0,1,85.732,135.092L0,0Z\" /><text font-size=\"12px\" dy=\"0.35em\" text-anchor=\"middle\" y=\"61.192703015874216\" x=\"73.96927130647576\">3: 10</text><path stroke-width=\"1\" stroke=\"#ffffff\" fill=\"#0a27a3\" d=\"M85.732,135.092A160,160,0,0,1,-10.046,159.684L0,0Z\" /><text font-size=\"12px\" dy=\"0.35em\" text-anchor=\"middle\" y=\"92.98398346834858\" x=\"23.874229167826055\">4: 10</text><path stroke-width=\"1\" stroke=\"#ffffff\" fill=\"#ebba18\" d=\"M-10.046,159.684A160,160,0,0,1,-58.9,148.764L0,0Z\" /><text font-size=\"12px\" dy=\"0.35em\" text-anchor=\"middle\" y=\"93.68800914611975\" x=\"-20.941751174068088\">5: 5</text><path stroke-width=\"1\" stroke=\"#ffffff\" fill=\"#5746d7\" d=\"M-58.9,148.764A160,160,0,0,1,-148.764,58.9L0,0Z\" /><text font-size=\"12px\" dy=\"0.35em\" text-anchor=\"middle\" y=\"67.88225099390857\" x=\"-67.88225099390856\">6: 13</text><path stroke-width=\"1\" stroke=\"#ffffff\" fill=\"#987fc9\" d=\"M-148.764,58.9A160,160,0,0,1,-152.169,-49.443L0,0Z\" /><text font-size=\"12px\" dy=\"0.35em\" text-anchor=\"middle\" y=\"3.0154328715003107\" x=\"-95.95262979511023\">7: 11</text><path stroke-width=\"1\" stroke=\"#ffffff\" fill=\"#298b63\" d=\"M-152.169,-49.443A160,160,0,0,1,-116.635,-109.528L0,0Z\" /><text font-size=\"12px\" dy=\"0.35em\" text-anchor=\"middle\" y=\"-48.867975912035675\" x=\"-82.63123459237858\">8: 7</text><path stroke-width=\"1\" stroke=\"#ffffff\" fill=\"#1e7243\" d=\"M-116.635,-109.528A160,160,0,0,1,-68.125,-144.772L0,0Z\" /><text font-size=\"12px\" dy=\"0.35em\" text-anchor=\"middle\" y=\"-77.66563145999494\" x=\"-56.42738422007743\">9: 6</text><path stroke-width=\"1\" stroke=\"#ffffff\" fill=\"#27b241\" d=\"M-68.125,-144.772A160,160,0,0,1,0,-160L0,0Z\" /><text font-size=\"12px\" dy=\"0.35em\" text-anchor=\"middle\" y=\"-93.68800914611973\" x=\"-20.941751174068152\">10: 7</text></g></svg></div>\n",
       "     </div> </body> </html>"
      ]
     },
     "execution_count": 1,
     "metadata": {},
     "output_type": "execute_result"
    }
   ],
   "source": [
    "import { display } from \"https://deno.land/x/display@v0.1.1/mod.ts\";\n",
    "import * as Plot from \"npm:@observablehq/plot\";\n",
    "import { DOMParser, SVGElement } from \"npm:linkedom\";\n",
    "import * as d3 from \"npm:d3\";\n",
    "import { createCanvas } from \"https://deno.land/x/skia_canvas/mod.ts\";\n",
    "const document = new DOMParser().parseFromString(\n",
    "  `<!DOCTYPE html> <html lang=\"en\"> <body>\n",
    "     <div style=\"display: flex; flex-direction: row; gap: 20px; max-width: 1200px;\">\n",
    "       <div id=\"bar-chart\" style=\"flex: 1;\"></div>\n",
    "       <div id=\"pie-chart\" style=\"flex: 1;\"></div>\n",
    "     </div> </body> </html>`, \"text/html\");\n",
    "const randomNumbers: number[] = Array.from({ length: 100 }, () => Math.floor(Math.random() * 11));\n",
    "const counts: number[] = Array(11).fill(0); randomNumbers.forEach(num => counts[num]++);\n",
    "const distributionData = counts.map((count, value) => ({ value: value.toString(), count }));\n",
    "const randomColor = () => '#' + Math.floor(Math.random() * 16777215).toString(16).padStart(6, '0');\n",
    "const colorMap = Array.from({ length: 11 }, (_, i) => randomColor());\n",
    "const barChart = Plot.plot({ title: \"Розподіл випадкових чисел (0-10)\", marginLeft: 60,\n",
    "  x: { label: \"Значення\", type: \"band\", domain: Array.from({ length: 11 }, (_, i) => i.toString()) }, y: { label: \"Кількість\", grid: true, ticks: 10 },\n",
    "  marks: [Plot.barY(distributionData, { x: \"value\", y: \"count\", fill: d => colorMap[parseInt(d.value)] }), Plot.ruleY([0])], width: 500, height: 400, document,});\n",
    "document.getElementById(\"bar-chart\")?.appendChild(barChart); const width = 500; const height = 400; const radius = Math.min(width, height) / 2.5;\n",
    "const svg = document.createElementNS(\"http://www.w3.org/2000/svg\", \"svg\");\n",
    "svg.setAttribute(\"width\", width.toString()); svg.setAttribute(\"height\", height.toString()); svg.setAttribute(\"viewBox\", `0 0 ${width} ${height}`);\n",
    "const title = document.createElementNS(\"http://www.w3.org/2000/svg\", \"text\"); title.setAttribute(\"x\", (width / 2).toString()); title.setAttribute(\"y\", \"20\");\n",
    "title.setAttribute(\"text-anchor\", \"middle\"); title.setAttribute(\"font-size\", \"16px\");\n",
    "title.setAttribute(\"font-weight\", \"bold\"); title.textContent = \"Розподіл випадкових чисел (кругова діаграма)\";\n",
    "svg.appendChild(title); const g = document.createElementNS(\"http://www.w3.org/2000/svg\", \"g\");\n",
    "g.setAttribute(\"transform\", `translate(${width / 2}, ${height / 2})`); svg.appendChild(g);\n",
    "const sortedData = [...distributionData].sort((a, b) => parseInt(a.value) - parseInt(b.value));\n",
    "const pie = d3.pie<{ value: string, count: number }>().value(d => d.count).sort(null);\n",
    "const arc = d3.arc<d3.PieArcDatum<{ value: string, count: number }>>().innerRadius(0).outerRadius(radius);\n",
    "const labelArc = d3.arc<d3.PieArcDatum<{ value: string, count: number }>>().innerRadius(radius * 0.6).outerRadius(radius * 0.6);\n",
    "const arcs = pie(sortedData);\n",
    "arcs.forEach((d, i) => {const path = document.createElementNS(\"http://www.w3.org/2000/svg\", \"path\"); path.setAttribute(\"d\", arc(d) as string);\n",
    "  path.setAttribute(\"fill\", colorMap[parseInt(d.data.value)]); path.setAttribute(\"stroke\", \"#ffffff\"); path.setAttribute(\"stroke-width\", \"1\");\n",
    "  g.appendChild(path); const [x, y] = labelArc.centroid(d); const label = document.createElementNS(\"http://www.w3.org/2000/svg\", \"text\");\n",
    "  label.setAttribute(\"x\", x.toString()); label.setAttribute(\"y\", y.toString()); label.setAttribute(\"text-anchor\", \"middle\");\n",
    "  label.setAttribute(\"dy\", \"0.35em\"); label.setAttribute(\"font-size\", \"12px\"); label.textContent = `${d.data.value}: ${d.data.count}`;\n",
    "  g.appendChild(label);}); document.getElementById(\"pie-chart\")?.appendChild(svg); await display(document.documentElement);"
   ]
  },
  {
   "cell_type": "code",
   "execution_count": null,
   "id": "4adb90ba-11d8-47bb-b79f-8d19a79a3705",
   "metadata": {},
   "outputs": [],
   "source": []
  }
 ],
 "metadata": {
  "kernelspec": {
   "display_name": "Deno",
   "language": "typescript",
   "name": "deno"
  },
  "language_info": {
   "codemirror_mode": "typescript",
   "file_extension": ".ts",
   "mimetype": "text/x.typescript",
   "name": "typescript",
   "nbconvert_exporter": "script",
   "pygments_lexer": "typescript",
   "version": "5.7.3"
  }
 },
 "nbformat": 4,
 "nbformat_minor": 5
}
