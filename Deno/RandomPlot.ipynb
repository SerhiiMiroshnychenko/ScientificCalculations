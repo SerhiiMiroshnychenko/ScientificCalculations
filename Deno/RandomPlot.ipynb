{
 "cells": [
  {
   "cell_type": "code",
   "execution_count": 9,
   "id": "bfc69298-5d91-4f90-9cc2-a5b4613a25b9",
   "metadata": {},
   "outputs": [
    {
     "data": {
      "text/html": [
       "<figure style=\"max-width:initial\" class=\"plot-d6a7b5-figure\"><h2>Розподіл випадкових чисел (0-10)</h2><svg viewBox=\"0 0 800 400\" height=\"400\" width=\"800\" text-anchor=\"middle\" font-size=\"10\" font-family=\"system-ui, sans-serif\" fill=\"currentColor\" class=\"plot-d6a7b5\"><style>:where(.plot-d6a7b5) {\n",
       "  --plot-background: white;\n",
       "  display: block;\n",
       "  height: auto;\n",
       "  height: intrinsic;\n",
       "  max-width: 100%;\n",
       "}\n",
       ":where(.plot-d6a7b5 text),\n",
       ":where(.plot-d6a7b5 tspan) {\n",
       "  white-space: pre;\n",
       "}</style><g stroke-opacity=\"0.1\" stroke=\"currentColor\" aria-hidden=\"true\" aria-label=\"y-grid\"><line y2=\"370\" y1=\"370\" x2=\"780\" x1=\"60\" /><line y2=\"323.33333333333337\" y1=\"323.33333333333337\" x2=\"780\" x1=\"60\" /><line y2=\"276.6666666666667\" y1=\"276.6666666666667\" x2=\"780\" x1=\"60\" /><line y2=\"230\" y1=\"230\" x2=\"780\" x1=\"60\" /><line y2=\"183.33333333333331\" y1=\"183.33333333333331\" x2=\"780\" x1=\"60\" /><line y2=\"136.66666666666669\" y1=\"136.66666666666669\" x2=\"780\" x1=\"60\" /><line y2=\"89.99999999999999\" y1=\"89.99999999999999\" x2=\"780\" x1=\"60\" /><line y2=\"43.33333333333333\" y1=\"43.33333333333333\" x2=\"780\" x1=\"60\" /></g><g stroke=\"currentColor\" fill=\"none\" aria-hidden=\"true\" aria-label=\"y-axis tick\"><path d=\"M0,0L-6,0\" transform=\"translate(60,370)\" /><path d=\"M0,0L-6,0\" transform=\"translate(60,323.33333333333337)\" /><path d=\"M0,0L-6,0\" transform=\"translate(60,276.6666666666667)\" /><path d=\"M0,0L-6,0\" transform=\"translate(60,230)\" /><path d=\"M0,0L-6,0\" transform=\"translate(60,183.33333333333331)\" /><path d=\"M0,0L-6,0\" transform=\"translate(60,136.66666666666669)\" /><path d=\"M0,0L-6,0\" transform=\"translate(60,89.99999999999999)\" /><path d=\"M0,0L-6,0\" transform=\"translate(60,43.33333333333333)\" /></g><g transform=\"translate(-9,0)\" font-variant=\"tabular-nums\" text-anchor=\"end\" aria-label=\"y-axis tick label\"><text transform=\"translate(60,370)\" y=\"0.32em\">0</text><text transform=\"translate(60,323.33333333333337)\" y=\"0.32em\">2</text><text transform=\"translate(60,276.6666666666667)\" y=\"0.32em\">4</text><text transform=\"translate(60,230)\" y=\"0.32em\">6</text><text transform=\"translate(60,183.33333333333331)\" y=\"0.32em\">8</text><text transform=\"translate(60,136.66666666666669)\" y=\"0.32em\">10</text><text transform=\"translate(60,89.99999999999999)\" y=\"0.32em\">12</text><text transform=\"translate(60,43.33333333333333)\" y=\"0.32em\">14</text></g><g transform=\"translate(-57,-17)\" text-anchor=\"start\" aria-label=\"y-axis label\"><text transform=\"translate(60,20)\" y=\"0.71em\">↑ Кількість</text></g><g transform=\"translate(29,0)\" stroke=\"currentColor\" fill=\"none\" aria-hidden=\"true\" aria-label=\"x-axis tick\"><path d=\"M0,0L0,6\" transform=\"translate(71,370)\" /><path d=\"M0,0L0,6\" transform=\"translate(135,370)\" /><path d=\"M0,0L0,6\" transform=\"translate(199,370)\" /><path d=\"M0,0L0,6\" transform=\"translate(263,370)\" /><path d=\"M0,0L0,6\" transform=\"translate(327,370)\" /><path d=\"M0,0L0,6\" transform=\"translate(391,370)\" /><path d=\"M0,0L0,6\" transform=\"translate(455,370)\" /><path d=\"M0,0L0,6\" transform=\"translate(519,370)\" /><path d=\"M0,0L0,6\" transform=\"translate(583,370)\" /><path d=\"M0,0L0,6\" transform=\"translate(647,370)\" /><path d=\"M0,0L0,6\" transform=\"translate(711,370)\" /></g><g transform=\"translate(29,9)\" aria-label=\"x-axis tick label\"><text transform=\"translate(71,370)\" y=\"0.71em\">0</text><text transform=\"translate(135,370)\" y=\"0.71em\">1</text><text transform=\"translate(199,370)\" y=\"0.71em\">2</text><text transform=\"translate(263,370)\" y=\"0.71em\">3</text><text transform=\"translate(327,370)\" y=\"0.71em\">4</text><text transform=\"translate(391,370)\" y=\"0.71em\">5</text><text transform=\"translate(455,370)\" y=\"0.71em\">6</text><text transform=\"translate(519,370)\" y=\"0.71em\">7</text><text transform=\"translate(583,370)\" y=\"0.71em\">8</text><text transform=\"translate(647,370)\" y=\"0.71em\">9</text><text transform=\"translate(711,370)\" y=\"0.71em\">10</text></g><g transform=\"translate(0,27)\" aria-label=\"x-axis label\"><text transform=\"translate(420,370)\">Значення</text></g><g aria-label=\"bar\"><rect fill=\"#a6cee3\" height=\"140\" y=\"230\" width=\"58\" x=\"71\" /><rect fill=\"#1f78b4\" height=\"116.66666666666666\" y=\"253.33333333333334\" width=\"58\" x=\"135\" /><rect fill=\"#b2df8a\" height=\"116.66666666666666\" y=\"253.33333333333334\" width=\"58\" x=\"199\" /><rect fill=\"#33a02c\" height=\"163.33333333333331\" y=\"206.66666666666669\" width=\"58\" x=\"263\" /><rect fill=\"#fb9a99\" height=\"256.66666666666663\" y=\"113.33333333333336\" width=\"58\" x=\"327\" /><rect fill=\"#e31a1c\" height=\"163.33333333333331\" y=\"206.66666666666669\" width=\"58\" x=\"391\" /><rect fill=\"#fdbf6f\" height=\"186.66666666666669\" y=\"183.33333333333331\" width=\"58\" x=\"455\" /><rect fill=\"#ff7f00\" height=\"280\" y=\"89.99999999999999\" width=\"58\" x=\"519\" /><rect fill=\"#cab2d6\" height=\"326.6666666666667\" y=\"43.33333333333333\" width=\"58\" x=\"583\" /><rect fill=\"#6a3d9a\" height=\"350\" y=\"20\" width=\"58\" x=\"647\" /><rect fill=\"#ffff99\" height=\"233.33333333333331\" y=\"136.66666666666669\" width=\"58\" x=\"711\" /></g><g stroke=\"currentColor\" aria-label=\"rule\"><line y2=\"370\" y1=\"370\" x2=\"780\" x1=\"60\" /></g></svg></figure>"
      ]
     },
     "execution_count": 9,
     "metadata": {},
     "output_type": "execute_result"
    }
   ],
   "source": [
    "import { display } from \"https://deno.land/x/display@v0.1.1/mod.ts\";\n",
    "import * as Plot from \"npm:@observablehq/plot\";\n",
    "import { DOMParser, SVGElement } from \"npm:linkedom\";\n",
    "const document = new DOMParser().parseFromString(`<!DOCTYPE html><html lang=\"en\"></html>`,\"text/html\",);\n",
    "const randomNumbers: number[] = Array.from({ length: 100 },() => Math.floor(Math.random() * 11));\n",
    "const counts: number[] = Array(11).fill(0);\n",
    "randomNumbers.forEach(num => counts[num]++);\n",
    "const distributionData = counts.map((count, value) => ({value: value.toString(),count}));\n",
    "const colorScheme = [\"#a6cee3\", \"#1f78b4\", \"#b2df8a\", \"#33a02c\", \"#fb9a99\",\"#e31a1c\", \"#fdbf6f\", \"#ff7f00\", \"#cab2d6\", \"#6a3d9a\",\"#ffff99\", \"#b15928\"];\n",
    "await display(Plot.plot({\n",
    "    title: \"Розподіл випадкових чисел (0-10)\", marginLeft: 60,\n",
    "    x: {label: \"Значення\", type: \"band\", domain: Array.from({length: 11}, (_, i) => i.toString())},\n",
    "    y: {label: \"Кількість\", grid: true, ticks: 10},\n",
    "    marks: [Plot.barY(distributionData, {x: \"value\", y: \"count\", fill: d => colorScheme[parseInt(d.value)]}), Plot.ruleY([0])],\n",
    "    color: {legend: true, scheme: colorScheme},\n",
    "    width: 800, height: 400, document,}));"
   ]
  },
  {
   "cell_type": "code",
   "execution_count": null,
   "id": "55b5517c-84d4-4914-944a-fc6d3dd60e34",
   "metadata": {},
   "outputs": [],
   "source": []
  }
 ],
 "metadata": {
  "kernelspec": {
   "display_name": "Deno",
   "language": "typescript",
   "name": "deno"
  },
  "language_info": {
   "codemirror_mode": "typescript",
   "file_extension": ".ts",
   "mimetype": "text/x.typescript",
   "name": "typescript",
   "nbconvert_exporter": "script",
   "pygments_lexer": "typescript",
   "version": "5.7.3"
  }
 },
 "nbformat": 4,
 "nbformat_minor": 5
}
