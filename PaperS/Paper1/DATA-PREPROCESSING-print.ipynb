{
 "cells": [
  {
   "cell_type": "markdown",
   "id": "62e57312-2cc4-4aa2-934a-3073bcf1044c",
   "metadata": {},
   "source": [
    "# Data Preprocessing"
   ]
  },
  {
   "cell_type": "code",
   "id": "0d394681-b05a-4e3f-b6a9-9c9e362b933c",
   "metadata": {
    "ExecuteTime": {
     "end_time": "2025-05-06T09:21:47.853420Z",
     "start_time": "2025-05-06T09:21:47.844919Z"
    }
   },
   "source": [
    "import pandas as pd\n",
    "import numpy as np\n",
    "from sklearn.model_selection import KFold\n",
    "from sklearn.preprocessing import LabelEncoder\n",
    "from feature_engine.creation import CyclicalFeatures\n",
    "from sklearn.preprocessing import RobustScaler"
   ],
   "outputs": [],
   "execution_count": 113
  },
  {
   "cell_type": "code",
   "id": "408e42ea-7fc7-49bf-a2c1-0678f10d749f",
   "metadata": {
    "ExecuteTime": {
     "end_time": "2025-05-06T09:21:48.104122Z",
     "start_time": "2025-05-06T09:21:47.892999Z"
    }
   },
   "source": [
    "data = pd.read_csv('cleanest_data.csv')"
   ],
   "outputs": [],
   "execution_count": 114
  },
  {
   "metadata": {},
   "cell_type": "markdown",
   "source": "## Попередній огляд даних",
   "id": "55a7fa4396490101"
  },
  {
   "metadata": {
    "ExecuteTime": {
     "end_time": "2025-05-06T09:21:48.154070Z",
     "start_time": "2025-05-06T09:21:48.128775Z"
    }
   },
   "cell_type": "code",
   "source": "print(data)",
   "id": "bb63680ca1dc83bf",
   "outputs": [
    {
     "name": "stdout",
     "output_type": "stream",
     "text": [
      "       is_successful                 create_date  order_amount  \\\n",
      "0                  1  2017-07-29 07:48:26.812523       5235.66   \n",
      "1                  1  2017-07-29 07:54:09.954757        876.96   \n",
      "2                  1  2017-07-29 08:04:13.162858       3012.77   \n",
      "3                  1  2017-07-29 08:11:38.086709        621.34   \n",
      "4                  1  2017-07-29 08:15:05.548616        813.12   \n",
      "...              ...                         ...           ...   \n",
      "86789              1  2024-12-11 11:09:57.124395          0.53   \n",
      "86790              0  2024-12-16 08:38:35.387458        697.37   \n",
      "86791              1  2024-12-19 13:59:08.130686        129.96   \n",
      "86792              1  2025-01-02 08:33:33.424152        129.96   \n",
      "86793              1  2025-01-02 08:36:13.298285        190.44   \n",
      "\n",
      "       order_messages  order_changes  partner_success_rate  \\\n",
      "0                  25             22              0.000000   \n",
      "1                  10              5              0.000000   \n",
      "2                   7              4              0.000000   \n",
      "3                  10              6              0.000000   \n",
      "4                   6              3              0.000000   \n",
      "...               ...            ...                   ...   \n",
      "86789               5              2             11.111111   \n",
      "86790               2              0            100.000000   \n",
      "86791               2              1              0.000000   \n",
      "86792               2              1            100.000000   \n",
      "86793               4              2            100.000000   \n",
      "\n",
      "       partner_total_orders  partner_order_age_days  partner_avg_amount  \\\n",
      "0                         0                       0            0.000000   \n",
      "1                         0                       0            0.000000   \n",
      "2                         0                       0            0.000000   \n",
      "3                         0                       0            0.000000   \n",
      "4                         0                       0            0.000000   \n",
      "...                     ...                     ...                 ...   \n",
      "86789                     9                      57        71388.001111   \n",
      "86790                    24                     752          530.264583   \n",
      "86791                     0                       0            0.000000   \n",
      "86792                     1                      13          129.960000   \n",
      "86793                     7                     933          286.988571   \n",
      "\n",
      "       partner_success_avg_amount  ...  partner_success_avg_changes  \\\n",
      "0                        0.000000  ...                     0.000000   \n",
      "1                        0.000000  ...                     0.000000   \n",
      "2                        0.000000  ...                     0.000000   \n",
      "3                        0.000000  ...                     0.000000   \n",
      "4                        0.000000  ...                     0.000000   \n",
      "...                           ...  ...                          ...   \n",
      "86789                    0.000000  ...                     4.000000   \n",
      "86790                  530.264583  ...                     2.458333   \n",
      "86791                    0.000000  ...                     0.000000   \n",
      "86792                  129.960000  ...                     1.000000   \n",
      "86793                  286.988571  ...                     3.857143   \n",
      "\n",
      "       partner_fail_avg_changes  day_of_week     month  quarter  hour_of_day  \\\n",
      "0                         0.000     Saturday      July        3            7   \n",
      "1                         0.000     Saturday      July        3            7   \n",
      "2                         0.000     Saturday      July        3            8   \n",
      "3                         0.000     Saturday      July        3            8   \n",
      "4                         0.000     Saturday      July        3            8   \n",
      "...                         ...          ...       ...      ...          ...   \n",
      "86789                     3.375    Wednesday  December        4           11   \n",
      "86790                     0.000       Monday  December        4            8   \n",
      "86791                     0.000     Thursday  December        4           13   \n",
      "86792                     0.000     Thursday   January        1            8   \n",
      "86793                     0.000     Thursday   January        1            8   \n",
      "\n",
      "       order_lines_count discount_total salesperson  source  \n",
      "0                      6            0.0   user-1-76   False  \n",
      "1                      3            0.0   user-1-76   False  \n",
      "2                      4            0.0    user-1-9   False  \n",
      "3                      4            0.0    user-1-2   False  \n",
      "4                      3            0.0    user-1-9   False  \n",
      "...                  ...            ...         ...     ...  \n",
      "86789                  1            0.0   user-1-49   False  \n",
      "86790                  3            0.0  user-1-113   False  \n",
      "86791                  1            0.0    user-1-2   False  \n",
      "86792                  1            0.0    user-1-2   False  \n",
      "86793                  2            0.0   user-1-10   False  \n",
      "\n",
      "[86794 rows x 25 columns]\n"
     ]
    }
   ],
   "execution_count": 115
  },
  {
   "metadata": {
    "ExecuteTime": {
     "end_time": "2025-05-06T09:21:48.195679Z",
     "start_time": "2025-05-06T09:21:48.187448Z"
    }
   },
   "cell_type": "code",
   "source": "print(data.head(10))",
   "id": "5ec794cf10bd8a00",
   "outputs": [
    {
     "name": "stdout",
     "output_type": "stream",
     "text": [
      "   is_successful                 create_date  order_amount  order_messages  \\\n",
      "0              1  2017-07-29 07:48:26.812523       5235.66              25   \n",
      "1              1  2017-07-29 07:54:09.954757        876.96              10   \n",
      "2              1  2017-07-29 08:04:13.162858       3012.77               7   \n",
      "3              1  2017-07-29 08:11:38.086709        621.34              10   \n",
      "4              1  2017-07-29 08:15:05.548616        813.12               6   \n",
      "5              1  2017-07-29 08:19:38.625071       1029.62              22   \n",
      "6              1  2017-07-29 08:29:50.487564       2832.00              10   \n",
      "7              1  2017-07-29 08:40:21.407789        340.78              10   \n",
      "8              1  2017-07-29 08:44:45.461359       1546.80              11   \n",
      "9              1  2017-07-29 08:53:03.880701       2080.80               8   \n",
      "\n",
      "   order_changes  partner_success_rate  partner_total_orders  \\\n",
      "0             22                   0.0                     0   \n",
      "1              5                   0.0                     0   \n",
      "2              4                   0.0                     0   \n",
      "3              6                   0.0                     0   \n",
      "4              3                   0.0                     0   \n",
      "5             19                   0.0                     0   \n",
      "6              7                   0.0                     0   \n",
      "7              6                   0.0                     0   \n",
      "8              8                   0.0                     0   \n",
      "9              4                   0.0                     0   \n",
      "\n",
      "   partner_order_age_days  partner_avg_amount  partner_success_avg_amount  \\\n",
      "0                       0                 0.0                         0.0   \n",
      "1                       0                 0.0                         0.0   \n",
      "2                       0                 0.0                         0.0   \n",
      "3                       0                 0.0                         0.0   \n",
      "4                       0                 0.0                         0.0   \n",
      "5                       0                 0.0                         0.0   \n",
      "6                       0                 0.0                         0.0   \n",
      "7                       0                 0.0                         0.0   \n",
      "8                       0                 0.0                         0.0   \n",
      "9                       0                 0.0                         0.0   \n",
      "\n",
      "   ...  partner_success_avg_changes  partner_fail_avg_changes  day_of_week  \\\n",
      "0  ...                          0.0                       0.0     Saturday   \n",
      "1  ...                          0.0                       0.0     Saturday   \n",
      "2  ...                          0.0                       0.0     Saturday   \n",
      "3  ...                          0.0                       0.0     Saturday   \n",
      "4  ...                          0.0                       0.0     Saturday   \n",
      "5  ...                          0.0                       0.0     Saturday   \n",
      "6  ...                          0.0                       0.0     Saturday   \n",
      "7  ...                          0.0                       0.0     Saturday   \n",
      "8  ...                          0.0                       0.0     Saturday   \n",
      "9  ...                          0.0                       0.0     Saturday   \n",
      "\n",
      "   month  quarter  hour_of_day  order_lines_count discount_total salesperson  \\\n",
      "0   July        3            7                  6            0.0   user-1-76   \n",
      "1   July        3            7                  3            0.0   user-1-76   \n",
      "2   July        3            8                  4            0.0    user-1-9   \n",
      "3   July        3            8                  4            0.0    user-1-2   \n",
      "4   July        3            8                  3            0.0    user-1-9   \n",
      "5   July        3            8                  2            0.0    user-1-9   \n",
      "6   July        3            8                  2            0.0   user-1-76   \n",
      "7   July        3            8                  3            0.0    user-1-9   \n",
      "8   July        3            8                  2            0.0    user-1-9   \n",
      "9   July        3            8                  3            0.0    user-1-9   \n",
      "\n",
      "   source  \n",
      "0   False  \n",
      "1   False  \n",
      "2   False  \n",
      "3   False  \n",
      "4   False  \n",
      "5   False  \n",
      "6   False  \n",
      "7   False  \n",
      "8   False  \n",
      "9   False  \n",
      "\n",
      "[10 rows x 25 columns]\n"
     ]
    }
   ],
   "execution_count": 116
  },
  {
   "metadata": {
    "ExecuteTime": {
     "end_time": "2025-05-06T09:21:48.242952Z",
     "start_time": "2025-05-06T09:21:48.234835Z"
    }
   },
   "cell_type": "code",
   "source": "print(data.tail(10))",
   "id": "4478c6b197689a86",
   "outputs": [
    {
     "name": "stdout",
     "output_type": "stream",
     "text": [
      "       is_successful                 create_date  order_amount  \\\n",
      "86784              1  2024-11-26 09:23:06.451541         81.67   \n",
      "86785              0  2024-11-26 09:34:52.576840          0.00   \n",
      "86786              0  2024-12-04 15:14:51.956392          0.00   \n",
      "86787              1  2024-12-09 10:22:13.166600        203.96   \n",
      "86788              1  2024-12-10 11:07:58.049169        108.30   \n",
      "86789              1  2024-12-11 11:09:57.124395          0.53   \n",
      "86790              0  2024-12-16 08:38:35.387458        697.37   \n",
      "86791              1  2024-12-19 13:59:08.130686        129.96   \n",
      "86792              1  2025-01-02 08:33:33.424152        129.96   \n",
      "86793              1  2025-01-02 08:36:13.298285        190.44   \n",
      "\n",
      "       order_messages  order_changes  partner_success_rate  \\\n",
      "86784               2              1             33.333333   \n",
      "86785               1              0              0.000000   \n",
      "86786               1              0             58.196721   \n",
      "86787               2              1             81.651376   \n",
      "86788               5              4              0.000000   \n",
      "86789               5              2             11.111111   \n",
      "86790               2              0            100.000000   \n",
      "86791               2              1              0.000000   \n",
      "86792               2              1            100.000000   \n",
      "86793               4              2            100.000000   \n",
      "\n",
      "       partner_total_orders  partner_order_age_days  partner_avg_amount  \\\n",
      "86784                     3                     453           27.410000   \n",
      "86785                     0                       0            0.000000   \n",
      "86786                   122                    2158         4455.098197   \n",
      "86787                   109                    2685         6732.654220   \n",
      "86788                     0                       0            0.000000   \n",
      "86789                     9                      57        71388.001111   \n",
      "86790                    24                     752          530.264583   \n",
      "86791                     0                       0            0.000000   \n",
      "86792                     1                      13          129.960000   \n",
      "86793                     7                     933          286.988571   \n",
      "\n",
      "       partner_success_avg_amount  ...  partner_success_avg_changes  \\\n",
      "86784                   81.670000  ...                     1.000000   \n",
      "86785                    0.000000  ...                     0.000000   \n",
      "86786                 3069.750704  ...                     4.676056   \n",
      "86787                 5564.707528  ...                     7.101124   \n",
      "86788                    0.000000  ...                     0.000000   \n",
      "86789                    0.000000  ...                     4.000000   \n",
      "86790                  530.264583  ...                     2.458333   \n",
      "86791                    0.000000  ...                     0.000000   \n",
      "86792                  129.960000  ...                     1.000000   \n",
      "86793                  286.988571  ...                     3.857143   \n",
      "\n",
      "       partner_fail_avg_changes  day_of_week     month  quarter  hour_of_day  \\\n",
      "86784                  1.500000      Tuesday  November        4            9   \n",
      "86785                  0.000000      Tuesday  November        4            9   \n",
      "86786                  1.901961    Wednesday  December        4           15   \n",
      "86787                  5.450000       Monday  December        4           10   \n",
      "86788                  0.000000      Tuesday  December        4           11   \n",
      "86789                  3.375000    Wednesday  December        4           11   \n",
      "86790                  0.000000       Monday  December        4            8   \n",
      "86791                  0.000000     Thursday  December        4           13   \n",
      "86792                  0.000000     Thursday   January        1            8   \n",
      "86793                  0.000000     Thursday   January        1            8   \n",
      "\n",
      "       order_lines_count discount_total salesperson  source  \n",
      "86784                  1            0.0    user-1-9   False  \n",
      "86785                  0            0.0   user-1-39   False  \n",
      "86786                  0            0.0    user-1-9   False  \n",
      "86787                  2            0.0   user-1-10   False  \n",
      "86788                  1            0.0   user-1-39   False  \n",
      "86789                  1            0.0   user-1-49   False  \n",
      "86790                  3            0.0  user-1-113   False  \n",
      "86791                  1            0.0    user-1-2   False  \n",
      "86792                  1            0.0    user-1-2   False  \n",
      "86793                  2            0.0   user-1-10   False  \n",
      "\n",
      "[10 rows x 25 columns]\n"
     ]
    }
   ],
   "execution_count": 117
  },
  {
   "metadata": {
    "ExecuteTime": {
     "end_time": "2025-05-06T09:21:48.317176Z",
     "start_time": "2025-05-06T09:21:48.296194Z"
    }
   },
   "cell_type": "code",
   "source": "data.info()",
   "id": "456b0df4746d787c",
   "outputs": [
    {
     "name": "stdout",
     "output_type": "stream",
     "text": [
      "<class 'pandas.core.frame.DataFrame'>\n",
      "RangeIndex: 86794 entries, 0 to 86793\n",
      "Data columns (total 25 columns):\n",
      " #   Column                        Non-Null Count  Dtype  \n",
      "---  ------                        --------------  -----  \n",
      " 0   is_successful                 86794 non-null  int64  \n",
      " 1   create_date                   86794 non-null  object \n",
      " 2   order_amount                  86794 non-null  float64\n",
      " 3   order_messages                86794 non-null  int64  \n",
      " 4   order_changes                 86794 non-null  int64  \n",
      " 5   partner_success_rate          86794 non-null  float64\n",
      " 6   partner_total_orders          86794 non-null  int64  \n",
      " 7   partner_order_age_days        86794 non-null  int64  \n",
      " 8   partner_avg_amount            86794 non-null  float64\n",
      " 9   partner_success_avg_amount    86794 non-null  float64\n",
      " 10  partner_fail_avg_amount       86794 non-null  float64\n",
      " 11  partner_total_messages        86794 non-null  int64  \n",
      " 12  partner_success_avg_messages  86794 non-null  float64\n",
      " 13  partner_fail_avg_messages     86794 non-null  float64\n",
      " 14  partner_avg_changes           86794 non-null  float64\n",
      " 15  partner_success_avg_changes   86794 non-null  float64\n",
      " 16  partner_fail_avg_changes      86794 non-null  float64\n",
      " 17  day_of_week                   86794 non-null  object \n",
      " 18  month                         86794 non-null  object \n",
      " 19  quarter                       86794 non-null  int64  \n",
      " 20  hour_of_day                   86794 non-null  int64  \n",
      " 21  order_lines_count             86794 non-null  int64  \n",
      " 22  discount_total                86794 non-null  float64\n",
      " 23  salesperson                   86794 non-null  object \n",
      " 24  source                        86794 non-null  object \n",
      "dtypes: float64(11), int64(9), object(5)\n",
      "memory usage: 16.6+ MB\n"
     ]
    }
   ],
   "execution_count": 118
  },
  {
   "metadata": {
    "ExecuteTime": {
     "end_time": "2025-05-06T09:21:48.399060Z",
     "start_time": "2025-05-06T09:21:48.341657Z"
    }
   },
   "cell_type": "code",
   "source": "print(data.describe())",
   "id": "c13b32b6e153556",
   "outputs": [
    {
     "name": "stdout",
     "output_type": "stream",
     "text": [
      "       is_successful  order_amount  order_messages  order_changes  \\\n",
      "count   86794.000000  8.679400e+04    86794.000000   86794.000000   \n",
      "mean        0.630954  3.824407e+03        9.408542       3.904521   \n",
      "std         0.482549  3.141098e+04        8.222635       3.836411   \n",
      "min         0.000000 -6.242400e+03        1.000000       0.000000   \n",
      "25%         0.000000  4.012500e+00        5.000000       2.000000   \n",
      "50%         1.000000  6.159850e+02        7.000000       3.000000   \n",
      "75%         1.000000  1.912025e+03       11.000000       4.000000   \n",
      "max         1.000000  4.140000e+06      282.000000     274.000000   \n",
      "\n",
      "       partner_success_rate  partner_total_orders  partner_order_age_days  \\\n",
      "count          86794.000000          86794.000000            86794.000000   \n",
      "mean              59.600411             83.696258              899.232136   \n",
      "std               31.305902            151.012261              754.145810   \n",
      "min                0.000000              0.000000                0.000000   \n",
      "25%               44.186047              5.000000              219.000000   \n",
      "50%               66.666667             26.000000              764.000000   \n",
      "75%               83.333333             90.000000             1430.000000   \n",
      "max              100.000000           1307.000000             2685.000000   \n",
      "\n",
      "       partner_avg_amount  partner_success_avg_amount  \\\n",
      "count        8.679400e+04                86794.000000   \n",
      "mean         2.914209e+03                 1597.019479   \n",
      "std          1.393899e+04                 3562.194344   \n",
      "min          0.000000e+00                    0.000000   \n",
      "25%          4.738430e+02                  430.711667   \n",
      "50%          1.127518e+03                  933.960000   \n",
      "75%          2.545909e+03                 1789.247500   \n",
      "max          2.700000e+06               119310.000000   \n",
      "\n",
      "       partner_fail_avg_amount  partner_total_messages  \\\n",
      "count             8.679400e+04            86794.000000   \n",
      "mean              4.112985e+03              758.382688   \n",
      "std               1.946169e+04             1372.013756   \n",
      "min               0.000000e+00                0.000000   \n",
      "25%               0.000000e+00               47.000000   \n",
      "50%               8.216000e+02              240.000000   \n",
      "75%               3.337202e+03              803.000000   \n",
      "max               2.700000e+06            11481.000000   \n",
      "\n",
      "       partner_success_avg_messages  partner_fail_avg_messages  \\\n",
      "count                  86794.000000               86794.000000   \n",
      "mean                       9.556764                   5.705881   \n",
      "std                        5.916261                   4.532492   \n",
      "min                        0.000000                   0.000000   \n",
      "25%                        7.454545                   4.555556   \n",
      "50%                        9.474948                   5.666667   \n",
      "75%                       12.041667                   6.937500   \n",
      "max                      123.500000                 143.000000   \n",
      "\n",
      "       partner_avg_changes  partner_success_avg_changes  \\\n",
      "count         86794.000000                 86794.000000   \n",
      "mean              4.060877                     4.409310   \n",
      "std               2.372341                     2.945225   \n",
      "min               0.000000                     0.000000   \n",
      "25%               3.045045                     3.156250   \n",
      "50%               3.969032                     4.333333   \n",
      "75%               4.961039                     5.625000   \n",
      "max             137.500000                    57.000000   \n",
      "\n",
      "       partner_fail_avg_changes       quarter   hour_of_day  \\\n",
      "count              86794.000000  86794.000000  86794.000000   \n",
      "mean                   3.058853      2.472821     10.937000   \n",
      "std                    2.966175      1.108799      2.888376   \n",
      "min                    0.000000      1.000000      0.000000   \n",
      "25%                    2.000000      1.000000      9.000000   \n",
      "50%                    2.958333      2.000000     11.000000   \n",
      "75%                    3.666667      3.000000     13.000000   \n",
      "max                  137.500000      4.000000     23.000000   \n",
      "\n",
      "       order_lines_count  discount_total  \n",
      "count       86794.000000    86794.000000  \n",
      "mean            3.369645        0.039169  \n",
      "std             5.282779        2.226804  \n",
      "min             0.000000        0.000000  \n",
      "25%             2.000000        0.000000  \n",
      "50%             3.000000        0.000000  \n",
      "75%             4.000000        0.000000  \n",
      "max          1304.000000      390.000000  \n"
     ]
    }
   ],
   "execution_count": 119
  },
  {
   "metadata": {
    "ExecuteTime": {
     "end_time": "2025-05-06T09:21:48.479224Z",
     "start_time": "2025-05-06T09:21:48.426013Z"
    }
   },
   "cell_type": "code",
   "source": "print(data.nunique())",
   "id": "649c26caf3535825",
   "outputs": [
    {
     "name": "stdout",
     "output_type": "stream",
     "text": [
      "is_successful                       2\n",
      "create_date                     86791\n",
      "order_amount                    49339\n",
      "order_messages                    132\n",
      "order_changes                      70\n",
      "partner_success_rate            12791\n",
      "partner_total_orders             1308\n",
      "partner_order_age_days           2667\n",
      "partner_avg_amount              75712\n",
      "partner_success_avg_amount      49415\n",
      "partner_fail_avg_amount         24093\n",
      "partner_total_messages           6297\n",
      "partner_success_avg_messages    18883\n",
      "partner_fail_avg_messages        6294\n",
      "partner_avg_changes             23981\n",
      "partner_success_avg_changes     15727\n",
      "partner_fail_avg_changes         5687\n",
      "day_of_week                         7\n",
      "month                              12\n",
      "quarter                             4\n",
      "hour_of_day                        24\n",
      "order_lines_count                  59\n",
      "discount_total                     36\n",
      "salesperson                        31\n",
      "source                             66\n",
      "dtype: int64\n"
     ]
    }
   ],
   "execution_count": 120
  },
  {
   "metadata": {
    "ExecuteTime": {
     "end_time": "2025-05-06T09:21:48.521953Z",
     "start_time": "2025-05-06T09:21:48.505519Z"
    }
   },
   "cell_type": "code",
   "source": "print(data.isnull().sum())",
   "id": "915a7bb00678a2e1",
   "outputs": [
    {
     "name": "stdout",
     "output_type": "stream",
     "text": [
      "is_successful                   0\n",
      "create_date                     0\n",
      "order_amount                    0\n",
      "order_messages                  0\n",
      "order_changes                   0\n",
      "partner_success_rate            0\n",
      "partner_total_orders            0\n",
      "partner_order_age_days          0\n",
      "partner_avg_amount              0\n",
      "partner_success_avg_amount      0\n",
      "partner_fail_avg_amount         0\n",
      "partner_total_messages          0\n",
      "partner_success_avg_messages    0\n",
      "partner_fail_avg_messages       0\n",
      "partner_avg_changes             0\n",
      "partner_success_avg_changes     0\n",
      "partner_fail_avg_changes        0\n",
      "day_of_week                     0\n",
      "month                           0\n",
      "quarter                         0\n",
      "hour_of_day                     0\n",
      "order_lines_count               0\n",
      "discount_total                  0\n",
      "salesperson                     0\n",
      "source                          0\n",
      "dtype: int64\n"
     ]
    }
   ],
   "execution_count": 121
  },
  {
   "metadata": {
    "ExecuteTime": {
     "end_time": "2025-05-06T09:21:48.553258Z",
     "start_time": "2025-05-06T09:21:48.548686Z"
    }
   },
   "cell_type": "code",
   "source": "print(data['is_successful'].value_counts(normalize=True))",
   "id": "d8f06d541fd395f2",
   "outputs": [
    {
     "name": "stdout",
     "output_type": "stream",
     "text": [
      "is_successful\n",
      "1    0.630954\n",
      "0    0.369046\n",
      "Name: proportion, dtype: float64\n"
     ]
    }
   ],
   "execution_count": 122
  },
  {
   "metadata": {
    "ExecuteTime": {
     "end_time": "2025-05-06T09:21:48.596312Z",
     "start_time": "2025-05-06T09:21:48.580863Z"
    }
   },
   "cell_type": "code",
   "source": "print(pd.crosstab(data['day_of_week'], data['is_successful'], normalize='index'))",
   "id": "7dc43bf4f8ba1f4f",
   "outputs": [
    {
     "name": "stdout",
     "output_type": "stream",
     "text": [
      "is_successful         0         1\n",
      "day_of_week                      \n",
      "Friday         0.386884  0.613116\n",
      "Monday         0.353468  0.646532\n",
      "Saturday       0.294964  0.705036\n",
      "Sunday         0.278689  0.721311\n",
      "Thursday       0.363158  0.636842\n",
      "Tuesday        0.375406  0.624594\n",
      "Wednesday      0.368458  0.631542\n"
     ]
    }
   ],
   "execution_count": 123
  },
  {
   "metadata": {
    "ExecuteTime": {
     "end_time": "2025-05-06T09:21:48.635952Z",
     "start_time": "2025-05-06T09:21:48.621964Z"
    }
   },
   "cell_type": "code",
   "source": "print(pd.crosstab(data['month'], data['is_successful'], normalize='index'))",
   "id": "81aaef259517176f",
   "outputs": [
    {
     "name": "stdout",
     "output_type": "stream",
     "text": [
      "is_successful         0         1\n",
      "month                            \n",
      "April          0.401789  0.598211\n",
      "August         0.344703  0.655297\n",
      "December       0.403068  0.596932\n",
      "February       0.402014  0.597986\n",
      "January        0.360267  0.639733\n",
      "July           0.362590  0.637410\n",
      "June           0.365844  0.634156\n",
      "March          0.377981  0.622019\n",
      "May            0.365255  0.634745\n",
      "November       0.355967  0.644033\n",
      "October        0.349327  0.650673\n",
      "September      0.356758  0.643242\n"
     ]
    }
   ],
   "execution_count": 124
  },
  {
   "metadata": {
    "ExecuteTime": {
     "end_time": "2025-05-06T09:21:48.680045Z",
     "start_time": "2025-05-06T09:21:48.664266Z"
    }
   },
   "cell_type": "code",
   "source": "print(pd.crosstab(data['salesperson'], data['is_successful'], normalize='index'))",
   "id": "ad38e5c905cf9e59",
   "outputs": [
    {
     "name": "stdout",
     "output_type": "stream",
     "text": [
      "is_successful         0         1\n",
      "salesperson                      \n",
      "user-1-10      0.294904  0.705096\n",
      "user-1-100     0.400000  0.600000\n",
      "user-1-1066    0.500000  0.500000\n",
      "user-1-11      0.047619  0.952381\n",
      "user-1-113     0.299200  0.700800\n",
      "user-1-1366    0.214286  0.785714\n",
      "user-1-14      0.150794  0.849206\n",
      "user-1-1414    0.312169  0.687831\n",
      "user-1-142     0.290053  0.709947\n",
      "user-1-1451    0.000000  1.000000\n",
      "user-1-1465    1.000000  0.000000\n",
      "user-1-1582    0.000000  1.000000\n",
      "user-1-19      0.291667  0.708333\n",
      "user-1-2       0.459156  0.540844\n",
      "user-1-39      0.500000  0.500000\n",
      "user-1-4       0.111111  0.888889\n",
      "user-1-47      0.233333  0.766667\n",
      "user-1-49      0.384541  0.615459\n",
      "user-1-54      0.400000  0.600000\n",
      "user-1-56      0.500000  0.500000\n",
      "user-1-63      0.000000  1.000000\n",
      "user-1-67      0.090278  0.909722\n",
      "user-1-69      1.000000  0.000000\n",
      "user-1-7       0.424242  0.575758\n",
      "user-1-72      0.476190  0.523810\n",
      "user-1-76      0.346537  0.653463\n",
      "user-1-78      0.085106  0.914894\n",
      "user-1-8       0.863014  0.136986\n",
      "user-1-83      0.250000  0.750000\n",
      "user-1-9       0.311193  0.688807\n",
      "user-1-False   0.884488  0.115512\n"
     ]
    }
   ],
   "execution_count": 125
  },
  {
   "metadata": {
    "ExecuteTime": {
     "end_time": "2025-05-06T09:21:48.726263Z",
     "start_time": "2025-05-06T09:21:48.709078Z"
    }
   },
   "cell_type": "code",
   "source": "print(pd.crosstab(data['source'], data['is_successful'], normalize='index'))",
   "id": "5b83da6f3f76f6f5",
   "outputs": [
    {
     "name": "stdout",
     "output_type": "stream",
     "text": [
      "is_successful                                              0         1\n",
      "source                                                                \n",
      "150ml Translucent Purple PET Boston Round, 20/4...  0.500000  0.500000\n",
      "30ml, 50ml and 100ml Airless 5k                     1.000000  0.000000\n",
      "45125 and 3829T-300T                                0.000000  1.000000\n",
      "Abandoned Basket                                    0.000000  1.000000\n",
      "Already a Customer                                  0.612005  0.387995\n",
      "...                                                      ...       ...\n",
      "Website/Zendesk                                     0.575000  0.425000\n",
      "♻️  Upgrade your Roll-on! NEW Aluminium Bottle ...  1.000000  0.000000\n",
      "👀 Low MOQ, High-Quality Aluminium Bottle Printi...  1.000000  0.000000\n",
      "👀 Low MOQ, High-Quality Aluminium Bottle Printi...  0.000000  1.000000\n",
      "💃Shake Things Up! With Our Eco-Friendly Alumini...  0.000000  1.000000\n",
      "\n",
      "[66 rows x 2 columns]\n"
     ]
    }
   ],
   "execution_count": 126
  },
  {
   "cell_type": "markdown",
   "id": "c88e454f-9979-47f5-b553-725d949c2d33",
   "metadata": {},
   "source": [
    "## ДОСЛІДЖЕННЯ РОЗПОДІЛУ"
   ]
  },
  {
   "cell_type": "markdown",
   "id": "d10adf14-dc94-4ccf-9cf9-0865492ed959",
   "metadata": {},
   "source": [
    "*Перевірка на асиметрію*:"
   ]
  },
  {
   "cell_type": "code",
   "id": "02b4a5a6-d5db-4002-b247-adfe1748a551",
   "metadata": {
    "ExecuteTime": {
     "end_time": "2025-05-06T09:21:48.765475Z",
     "start_time": "2025-05-06T09:21:48.753918Z"
    }
   },
   "source": "print(data.skew(numeric_only=True))",
   "outputs": [
    {
     "name": "stdout",
     "output_type": "stream",
     "text": [
      "is_successful                    -0.542771\n",
      "order_amount                     63.597978\n",
      "order_messages                    5.475379\n",
      "order_changes                     8.201835\n",
      "partner_success_rate             -0.708427\n",
      "partner_total_orders              3.626058\n",
      "partner_order_age_days            0.570445\n",
      "partner_avg_amount               92.806970\n",
      "partner_success_avg_amount       18.085258\n",
      "partner_fail_avg_amount          46.378813\n",
      "partner_total_messages            3.568156\n",
      "partner_success_avg_messages      1.976863\n",
      "partner_fail_avg_messages         4.583495\n",
      "partner_avg_changes               4.765490\n",
      "partner_success_avg_changes       2.553038\n",
      "partner_fail_avg_changes          7.842901\n",
      "quarter                           0.015067\n",
      "hour_of_day                       0.331366\n",
      "order_lines_count               175.787705\n",
      "discount_total                  113.972894\n",
      "dtype: float64\n"
     ]
    }
   ],
   "execution_count": 127
  },
  {
   "cell_type": "markdown",
   "id": "753b824c-d309-4416-b7e5-a8d7a0383b77",
   "metadata": {},
   "source": [
    "### Статистичні тести нормальності розподілу\n",
    "**Тест Шапіро-Уілка** (scipy.stats.shapiro)\n",
    "- Дуже точний, але для малих вибірок (до 5000 записів).\n",
    "\n",
    "**Тест Д'Агостіно-Кільмейра** (scipy.stats.normaltest)\n",
    "- Підходить для великих вибірок.\n",
    "\n",
    "**Тест Андерсона-Дарлінга** (scipy.stats.anderson)\n",
    "- Ще один строгий тест для нормальності."
   ]
  },
  {
   "cell_type": "code",
   "id": "b641dfb4-4d23-407e-a2af-c0cea9afdfa6",
   "metadata": {
    "ExecuteTime": {
     "end_time": "2025-05-06T09:21:48.795414Z",
     "start_time": "2025-05-06T09:21:48.792995Z"
    }
   },
   "source": [
    "from scipy.stats import normaltest, anderson"
   ],
   "outputs": [],
   "execution_count": 128
  },
  {
   "cell_type": "code",
   "id": "74591eae-9680-451e-a893-9bdacc9414be",
   "metadata": {
    "ExecuteTime": {
     "end_time": "2025-05-06T09:21:49.081713Z",
     "start_time": "2025-05-06T09:21:48.822360Z"
    }
   },
   "source": [
    "# Вибираємо тільки числові колонки\n",
    "numeric_cols = data.select_dtypes(include=[np.number]).columns\n",
    "\n",
    "# Створюємо результуючу таблицю\n",
    "results = []\n",
    "\n",
    "for col in numeric_cols:\n",
    "    col_data = data[col]\n",
    "\n",
    "    # Тест Д'Агостіно-Кільмейра\n",
    "    stat_dagostino, p_dagostino = normaltest(col_data)\n",
    "\n",
    "    # Тест Андерсона-Дарлінга\n",
    "    result_anderson = anderson(col_data)\n",
    "    stat_anderson = result_anderson.statistic\n",
    "    critical_anderson = result_anderson.critical_values[2]  # поріг для рівня значущості 5%\n",
    "\n",
    "    # Оцінка нормальності\n",
    "    is_normal_dagostino = p_dagostino > 0.05\n",
    "    is_normal_anderson = stat_anderson < critical_anderson\n",
    "\n",
    "    results.append({\n",
    "        'column': col,\n",
    "        'dagostino_stat': stat_dagostino,\n",
    "        'dagostino_p': p_dagostino,\n",
    "        'dagostino_is_normal': is_normal_dagostino,\n",
    "        'anderson_stat': stat_anderson,\n",
    "        'anderson_critical_5%': critical_anderson,\n",
    "        'anderson_is_normal': is_normal_anderson\n",
    "    })\n",
    "\n",
    "# Перетворюємо в DataFrame для красивого вигляду\n",
    "normality_results = pd.DataFrame(results)"
   ],
   "outputs": [],
   "execution_count": 129
  },
  {
   "cell_type": "code",
   "id": "b7d4fe81-6925-4f92-a0e4-e1267f892c53",
   "metadata": {
    "ExecuteTime": {
     "end_time": "2025-05-06T09:21:49.115385Z",
     "start_time": "2025-05-06T09:21:49.109833Z"
    }
   },
   "source": "print(normality_results)",
   "outputs": [
    {
     "name": "stdout",
     "output_type": "stream",
     "text": [
      "                          column  dagostino_stat  dagostino_p  \\\n",
      "0                  is_successful    3.747188e+05          0.0   \n",
      "1                   order_amount    2.970682e+05          0.0   \n",
      "2                 order_messages    9.640125e+04          0.0   \n",
      "3                  order_changes    1.278144e+05          0.0   \n",
      "4           partner_success_rate    8.396103e+03          0.0   \n",
      "5           partner_total_orders    6.608209e+04          0.0   \n",
      "6         partner_order_age_days    1.044213e+04          0.0   \n",
      "7             partner_avg_amount    3.370831e+05          0.0   \n",
      "8     partner_success_avg_amount    1.818324e+05          0.0   \n",
      "9        partner_fail_avg_amount    2.666633e+05          0.0   \n",
      "10        partner_total_messages    6.488780e+04          0.0   \n",
      "11  partner_success_avg_messages    4.625269e+04          0.0   \n",
      "12     partner_fail_avg_messages    8.721932e+04          0.0   \n",
      "13           partner_avg_changes    9.553359e+04          0.0   \n",
      "14   partner_success_avg_changes    5.739677e+04          0.0   \n",
      "15      partner_fail_avg_changes    1.224070e+05          0.0   \n",
      "16                       quarter    2.922516e+06          0.0   \n",
      "17                   hour_of_day    1.920232e+03          0.0   \n",
      "18             order_lines_count    4.092148e+05          0.0   \n",
      "19                discount_total    3.590099e+05          0.0   \n",
      "\n",
      "    dagostino_is_normal  anderson_stat  anderson_critical_5%  \\\n",
      "0                 False   17025.011072                 0.787   \n",
      "1                 False   26444.435265                 0.787   \n",
      "2                 False    7509.998823                 0.787   \n",
      "3                 False    7624.119674                 0.787   \n",
      "4                 False    2632.940401                 0.787   \n",
      "5                 False   11546.879620                 0.787   \n",
      "6                 False    1867.569814                 0.787   \n",
      "7                 False   22123.840104                 0.787   \n",
      "8                 False   13989.165778                 0.787   \n",
      "9                 False   21310.127781                 0.787   \n",
      "10                False   11645.300877                 0.787   \n",
      "11                False    2412.202000                 0.787   \n",
      "12                False    4743.869101                 0.787   \n",
      "13                False    2325.177258                 0.787   \n",
      "14                False    1932.346219                 0.787   \n",
      "15                False    5489.818281                 0.787   \n",
      "16                False    4298.009860                 0.787   \n",
      "17                False     945.511171                 0.787   \n",
      "18                False   14035.588981                 0.787   \n",
      "19                False   33429.633908                 0.787   \n",
      "\n",
      "    anderson_is_normal  \n",
      "0                False  \n",
      "1                False  \n",
      "2                False  \n",
      "3                False  \n",
      "4                False  \n",
      "5                False  \n",
      "6                False  \n",
      "7                False  \n",
      "8                False  \n",
      "9                False  \n",
      "10               False  \n",
      "11               False  \n",
      "12               False  \n",
      "13               False  \n",
      "14               False  \n",
      "15               False  \n",
      "16               False  \n",
      "17               False  \n",
      "18               False  \n",
      "19               False  \n"
     ]
    }
   ],
   "execution_count": 130
  },
  {
   "cell_type": "markdown",
   "id": "fb07f580-1e19-41d6-9446-982f42c528a8",
   "metadata": {},
   "source": [
    "Поояснення показників:\n",
    "\n",
    "| Показник           | Що означає                                                               |\n",
    "| :----------------- | :----------------------------------------------------------------------- |\n",
    "| dagostino\\_stat    | Статистика тесту Д’Агостіно-Кільмейра (скошеність + ексцес).               |\n",
    "| dagostino\\_p       | P-значення тесту Д’Агостіно-Кільмейра.                                   |\n",
    "| dagostino\\_is\\_normal | Чи приймаємо нормальність за результатами Д’Агостіно-Кільмейра?         |\n",
    "| anderson\\_stat     | Статистика тесту Андерсона-Дарлінга.                                     |\n",
    "| anderson\\_critical\\_5% | Критичне значення тесту Андерсона-Дарлінга при рівні 5%.                |\n",
    "| anderson\\_is\\_normal | Чи приймаємо нормальність за результатами Андерсона-Дарлінга?           |"
   ]
  },
  {
   "cell_type": "markdown",
   "id": "486f1641-13e3-4032-ace6-fc9bcb9d5eda",
   "metadata": {},
   "source": [
    "**Висновок:** *всі данні мають не нормальний розподіл*"
   ]
  },
  {
   "cell_type": "markdown",
   "id": "0bfd17d5-88a1-4421-9d29-298b164d40e3",
   "metadata": {},
   "source": [
    "### ДОСЛІДЖЕННЯ ЧИСЛОВИХ СТАТИСТИК"
   ]
  },
  {
   "cell_type": "code",
   "id": "c2865689-26a8-4bc1-b103-f2e4fb623451",
   "metadata": {
    "ExecuteTime": {
     "end_time": "2025-05-06T09:21:49.147603Z",
     "start_time": "2025-05-06T09:21:49.143541Z"
    }
   },
   "source": [
    "def numeric_statistic(data):\n",
    "    # 1. Виділяємо тільки числові колонки\n",
    "    numeric_columns = data.select_dtypes(include=['number']).columns\n",
    "\n",
    "    # 2. Створюємо список для зберігання результатів\n",
    "    stats_list = []\n",
    "\n",
    "    # 3. Обходимо всі числові колонки\n",
    "    for col in numeric_columns:\n",
    "        col_min = data[col].min()\n",
    "        col_max = data[col].max()\n",
    "        col_mean = data[col].mean()\n",
    "        col_median = data[col].median()\n",
    "        # mode() може повертати кілька значень, беремо перше\n",
    "        col_mode = data[col].mode().iloc[0] if not data[col].mode().empty else None\n",
    "\n",
    "        stats_list.append({\n",
    "            'column': col,\n",
    "            'min': col_min,\n",
    "            'max': col_max,\n",
    "            'mean': col_mean,\n",
    "            'median': col_median,\n",
    "            'mode': col_mode\n",
    "        })\n",
    "\n",
    "    # 4. Створюємо фінальний DataFrame\n",
    "    stats_df = pd.DataFrame(stats_list)\n",
    "    return stats_df"
   ],
   "outputs": [],
   "execution_count": 131
  },
  {
   "metadata": {},
   "cell_type": "markdown",
   "source": "#### Додавання стовпця 'create_date_months'",
   "id": "1cafaaa462bea325"
  },
  {
   "metadata": {
    "ExecuteTime": {
     "end_time": "2025-05-06T09:21:49.227334Z",
     "start_time": "2025-05-06T09:21:49.176586Z"
    }
   },
   "cell_type": "code",
   "source": [
    "data['create_date'] = pd.to_datetime(data['create_date'])  # Перетворення стовпця 'create_date' у формат datetime\n",
    "min_date = data['create_date'].min()  # Знаходимо найпершу дату\n",
    "data.loc[:, 'create_date_months'] = ((data['create_date'] - min_date).dt.days / 30).astype(\n",
    "    int)  # Обчислюємо різницю в місяцях, перетворюємо у int"
   ],
   "id": "9e58c1906e3e3217",
   "outputs": [],
   "execution_count": 132
  },
  {
   "metadata": {
    "ExecuteTime": {
     "end_time": "2025-05-06T09:21:49.309260Z",
     "start_time": "2025-05-06T09:21:49.287962Z"
    }
   },
   "cell_type": "code",
   "source": "data.info()",
   "id": "424f6747616f6ceb",
   "outputs": [
    {
     "name": "stdout",
     "output_type": "stream",
     "text": [
      "<class 'pandas.core.frame.DataFrame'>\n",
      "RangeIndex: 86794 entries, 0 to 86793\n",
      "Data columns (total 26 columns):\n",
      " #   Column                        Non-Null Count  Dtype         \n",
      "---  ------                        --------------  -----         \n",
      " 0   is_successful                 86794 non-null  int64         \n",
      " 1   create_date                   86794 non-null  datetime64[ns]\n",
      " 2   order_amount                  86794 non-null  float64       \n",
      " 3   order_messages                86794 non-null  int64         \n",
      " 4   order_changes                 86794 non-null  int64         \n",
      " 5   partner_success_rate          86794 non-null  float64       \n",
      " 6   partner_total_orders          86794 non-null  int64         \n",
      " 7   partner_order_age_days        86794 non-null  int64         \n",
      " 8   partner_avg_amount            86794 non-null  float64       \n",
      " 9   partner_success_avg_amount    86794 non-null  float64       \n",
      " 10  partner_fail_avg_amount       86794 non-null  float64       \n",
      " 11  partner_total_messages        86794 non-null  int64         \n",
      " 12  partner_success_avg_messages  86794 non-null  float64       \n",
      " 13  partner_fail_avg_messages     86794 non-null  float64       \n",
      " 14  partner_avg_changes           86794 non-null  float64       \n",
      " 15  partner_success_avg_changes   86794 non-null  float64       \n",
      " 16  partner_fail_avg_changes      86794 non-null  float64       \n",
      " 17  day_of_week                   86794 non-null  object        \n",
      " 18  month                         86794 non-null  object        \n",
      " 19  quarter                       86794 non-null  int64         \n",
      " 20  hour_of_day                   86794 non-null  int64         \n",
      " 21  order_lines_count             86794 non-null  int64         \n",
      " 22  discount_total                86794 non-null  float64       \n",
      " 23  salesperson                   86794 non-null  object        \n",
      " 24  source                        86794 non-null  object        \n",
      " 25  create_date_months            86794 non-null  int64         \n",
      "dtypes: datetime64[ns](1), float64(11), int64(10), object(4)\n",
      "memory usage: 17.2+ MB\n"
     ]
    }
   ],
   "execution_count": 133
  },
  {
   "cell_type": "code",
   "id": "d0e69efb-b194-409a-9a5f-d91af9527a81",
   "metadata": {
    "ExecuteTime": {
     "end_time": "2025-05-06T09:21:49.508272Z",
     "start_time": "2025-05-06T09:21:49.373385Z"
    }
   },
   "source": [
    "num_stat = numeric_statistic(data)"
   ],
   "outputs": [],
   "execution_count": 134
  },
  {
   "cell_type": "code",
   "id": "bd426eca-ef09-4732-b119-7fed266749c9",
   "metadata": {
    "ExecuteTime": {
     "end_time": "2025-05-06T09:21:49.540432Z",
     "start_time": "2025-05-06T09:21:49.534510Z"
    }
   },
   "source": "print(num_stat)",
   "outputs": [
    {
     "name": "stdout",
     "output_type": "stream",
     "text": [
      "                          column     min        max         mean       median  \\\n",
      "0                  is_successful     0.0        1.0     0.630954     1.000000   \n",
      "1                   order_amount -6242.4  4140000.0  3824.406985   615.985000   \n",
      "2                 order_messages     1.0      282.0     9.408542     7.000000   \n",
      "3                  order_changes     0.0      274.0     3.904521     3.000000   \n",
      "4           partner_success_rate     0.0      100.0    59.600411    66.666667   \n",
      "5           partner_total_orders     0.0     1307.0    83.696258    26.000000   \n",
      "6         partner_order_age_days     0.0     2685.0   899.232136   764.000000   \n",
      "7             partner_avg_amount     0.0  2700000.0  2914.208745  1127.518158   \n",
      "8     partner_success_avg_amount     0.0   119310.0  1597.019479   933.960000   \n",
      "9        partner_fail_avg_amount     0.0  2700000.0  4112.985430   821.600000   \n",
      "10        partner_total_messages     0.0    11481.0   758.382688   240.000000   \n",
      "11  partner_success_avg_messages     0.0      123.5     9.556764     9.474948   \n",
      "12     partner_fail_avg_messages     0.0      143.0     5.705881     5.666667   \n",
      "13           partner_avg_changes     0.0      137.5     4.060877     3.969032   \n",
      "14   partner_success_avg_changes     0.0       57.0     4.409310     4.333333   \n",
      "15      partner_fail_avg_changes     0.0      137.5     3.058853     2.958333   \n",
      "16                       quarter     1.0        4.0     2.472821     2.000000   \n",
      "17                   hour_of_day     0.0       23.0    10.937000    11.000000   \n",
      "18             order_lines_count     0.0     1304.0     3.369645     3.000000   \n",
      "19                discount_total     0.0      390.0     0.039169     0.000000   \n",
      "20            create_date_months     0.0       90.0    43.099028    41.000000   \n",
      "\n",
      "    mode  \n",
      "0    1.0  \n",
      "1    0.0  \n",
      "2    6.0  \n",
      "3    2.0  \n",
      "4    0.0  \n",
      "5    0.0  \n",
      "6    0.0  \n",
      "7    0.0  \n",
      "8    0.0  \n",
      "9    0.0  \n",
      "10   0.0  \n",
      "11   0.0  \n",
      "12   0.0  \n",
      "13   0.0  \n",
      "14   0.0  \n",
      "15   0.0  \n",
      "16   3.0  \n",
      "17  10.0  \n",
      "18   2.0  \n",
      "19   0.0  \n",
      "20  34.0  \n"
     ]
    }
   ],
   "execution_count": 135
  },
  {
   "cell_type": "markdown",
   "id": "2827b920-6057-4e23-b225-55fe5b7802fc",
   "metadata": {},
   "source": [
    "#### Заміна від'ємних на 0"
   ]
  },
  {
   "cell_type": "code",
   "id": "6df20c8c-01cd-4201-aaad-d5d2d7902d76",
   "metadata": {
    "ExecuteTime": {
     "end_time": "2025-05-06T09:21:49.975667Z",
     "start_time": "2025-05-06T09:21:49.576216Z"
    }
   },
   "source": [
    "# Виділяємо тільки числові колонки\n",
    "numeric_columns = data.select_dtypes(include=['number']).columns\n",
    "\n",
    "# Заміна від'ємних значень на 0 у числових стовпцях\n",
    "for col in numeric_columns:\n",
    "    data[col] = data[col].apply(lambda x: max(0, x))  # Застосовуємо функцію max(0, x) до кожного елемента стовпця"
   ],
   "outputs": [],
   "execution_count": 136
  },
  {
   "cell_type": "markdown",
   "id": "d92b7b1f-e5ed-4bef-a276-3c6913bcb848",
   "metadata": {},
   "source": [
    "####  Виключення даних за 2025 рік"
   ]
  },
  {
   "cell_type": "code",
   "id": "bd7a43c6-53d8-4a39-8578-dbf066011d0c",
   "metadata": {
    "ExecuteTime": {
     "end_time": "2025-05-06T09:21:50.049596Z",
     "start_time": "2025-05-06T09:21:50.005687Z"
    }
   },
   "source": "data = data[data['create_date'].dt.year < 2025].copy()  # Фільтруємо рядки, залишаючи лише ті, де рік менш як 2025",
   "outputs": [],
   "execution_count": 137
  },
  {
   "cell_type": "markdown",
   "id": "39a576b3-772c-41c0-b909-4fb6b99eedca",
   "metadata": {},
   "source": [
    "#### Нормалізація `partner_success_rate`"
   ]
  },
  {
   "cell_type": "code",
   "id": "6d35fa82-6ede-4769-a43f-0ef2b27f76b6",
   "metadata": {
    "ExecuteTime": {
     "end_time": "2025-05-06T09:21:50.085384Z",
     "start_time": "2025-05-06T09:21:50.082231Z"
    }
   },
   "source": [
    "data['partner_success_rate'] = data['partner_success_rate'] / 100"
   ],
   "outputs": [],
   "execution_count": 138
  },
  {
   "cell_type": "markdown",
   "id": "d24c5d28-d14f-4ff9-acd6-b66e378f6bb9",
   "metadata": {},
   "source": [
    "### МАСШТАБУВАННЯ"
   ]
  },
  {
   "cell_type": "code",
   "id": "debcc040-13f6-4124-a3fb-754218ca949d",
   "metadata": {
    "ExecuteTime": {
     "end_time": "2025-05-06T09:21:50.115762Z",
     "start_time": "2025-05-06T09:21:50.113157Z"
    }
   },
   "source": [
    "# Список колонок, які потрібно масштабувати\n",
    "columns_to_scale = [\n",
    "    'order_amount',\n",
    "    'order_messages',\n",
    "    'order_changes',\n",
    "    'partner_total_orders',\n",
    "    'partner_order_age_days',\n",
    "    'partner_avg_amount',\n",
    "    'partner_success_avg_amount',\n",
    "    'partner_fail_avg_amount',\n",
    "    'partner_total_messages',\n",
    "    'partner_success_avg_messages',\n",
    "    'partner_fail_avg_messages',\n",
    "    'partner_avg_changes',\n",
    "    'partner_success_avg_changes',\n",
    "    'partner_fail_avg_changes',\n",
    "    'order_lines_count',\n",
    "    'discount_total',\n",
    "    'create_date_months'\n",
    "]"
   ],
   "outputs": [],
   "execution_count": 139
  },
  {
   "cell_type": "code",
   "id": "0faf61e0-fc5b-4d94-847e-9311324f84ec",
   "metadata": {
    "ExecuteTime": {
     "end_time": "2025-05-06T09:21:50.148479Z",
     "start_time": "2025-05-06T09:21:50.145894Z"
    }
   },
   "source": [
    "from sklearn.preprocessing import RobustScaler"
   ],
   "outputs": [],
   "execution_count": 140
  },
  {
   "cell_type": "code",
   "id": "69e71425-6200-4878-be0d-8a7868944179",
   "metadata": {
    "ExecuteTime": {
     "end_time": "2025-05-06T09:21:50.232688Z",
     "start_time": "2025-05-06T09:21:50.182407Z"
    }
   },
   "source": [
    "# Ініціалізуємо RobustScaler\n",
    "scaler = RobustScaler()\n",
    "\n",
    "# Масштабуємо тільки числові дані\n",
    "scaled_array = scaler.fit_transform(data[columns_to_scale])"
   ],
   "outputs": [],
   "execution_count": 141
  },
  {
   "cell_type": "code",
   "id": "7855fb59-f900-4b03-80d9-a608dea874e2",
   "metadata": {
    "ExecuteTime": {
     "end_time": "2025-05-06T09:21:50.259183Z",
     "start_time": "2025-05-06T09:21:50.255706Z"
    }
   },
   "source": [
    "# Перетворюємо назад у DataFrame\n",
    "scaled_df = pd.DataFrame(scaled_array, columns=[col for col in columns_to_scale])"
   ],
   "outputs": [],
   "execution_count": 142
  },
  {
   "cell_type": "code",
   "id": "824137ba-5ab2-4ec3-9f7a-367ecae36f39",
   "metadata": {
    "ExecuteTime": {
     "end_time": "2025-05-06T09:21:50.300272Z",
     "start_time": "2025-05-06T09:21:50.289251Z"
    }
   },
   "source": [
    "# Замінюємо оригінальні колонки в data масштабованими значеннями\n",
    "data[columns_to_scale] = scaled_df[columns_to_scale]"
   ],
   "outputs": [],
   "execution_count": 143
  },
  {
   "cell_type": "code",
   "id": "b58ec1d4-0d6a-47ee-b4f5-6ddd3a18fb99",
   "metadata": {
    "ExecuteTime": {
     "end_time": "2025-05-06T09:21:50.355705Z",
     "start_time": "2025-05-06T09:21:50.331136Z"
    }
   },
   "source": "print(data)",
   "outputs": [
    {
     "name": "stdout",
     "output_type": "stream",
     "text": [
      "       is_successful                create_date  order_amount  order_messages  \\\n",
      "0                  1 2017-07-29 07:48:26.812523      2.421132        3.000000   \n",
      "1                  1 2017-07-29 07:54:09.954757      0.136770        0.500000   \n",
      "2                  1 2017-07-29 08:04:13.162858      1.256132        0.000000   \n",
      "3                  1 2017-07-29 08:11:38.086709      0.002801        0.500000   \n",
      "4                  1 2017-07-29 08:15:05.548616      0.103312       -0.166667   \n",
      "...              ...                        ...           ...             ...   \n",
      "86787              1 2024-12-09 10:22:13.166600     -0.215944       -0.833333   \n",
      "86788              1 2024-12-10 11:07:58.049169     -0.266079       -0.333333   \n",
      "86789              1 2024-12-11 11:09:57.124395     -0.322561       -0.333333   \n",
      "86790              0 2024-12-16 08:38:35.387458      0.042648       -0.833333   \n",
      "86791              1 2024-12-19 13:59:08.130686     -0.254727       -0.833333   \n",
      "\n",
      "       order_changes  partner_success_rate  partner_total_orders  \\\n",
      "0                9.5              0.000000             -0.305882   \n",
      "1                1.0              0.000000             -0.305882   \n",
      "2                0.5              0.000000             -0.305882   \n",
      "3                1.5              0.000000             -0.305882   \n",
      "4                0.0              0.000000             -0.305882   \n",
      "...              ...                   ...                   ...   \n",
      "86787           -1.0              0.816514              0.976471   \n",
      "86788            0.5              0.000000             -0.305882   \n",
      "86789           -0.5              0.111111             -0.200000   \n",
      "86790           -1.5              1.000000             -0.023529   \n",
      "86791           -1.0              0.000000             -0.305882   \n",
      "\n",
      "       partner_order_age_days  partner_avg_amount  partner_success_avg_amount  \\\n",
      "0                   -0.630884           -0.544190                   -0.687509   \n",
      "1                   -0.630884           -0.544190                   -0.687509   \n",
      "2                   -0.630884           -0.544190                   -0.687509   \n",
      "3                   -0.630884           -0.544190                   -0.687509   \n",
      "4                   -0.630884           -0.544190                   -0.687509   \n",
      "...                       ...                 ...                         ...   \n",
      "86787                1.586292            2.705002                    3.408798   \n",
      "86788               -0.630884           -0.544190                   -0.687509   \n",
      "86789               -0.583815           33.907794                   -0.687509   \n",
      "86790               -0.009909           -0.288283                   -0.297169   \n",
      "86791               -0.630884           -0.544190                   -0.687509   \n",
      "\n",
      "       ...  partner_fail_avg_changes  day_of_week     month  quarter  \\\n",
      "0      ...                    -1.775     Saturday      July        3   \n",
      "1      ...                    -1.775     Saturday      July        3   \n",
      "2      ...                    -1.775     Saturday      July        3   \n",
      "3      ...                    -1.775     Saturday      July        3   \n",
      "4      ...                    -1.775     Saturday      July        3   \n",
      "...    ...                       ...          ...       ...      ...   \n",
      "86787  ...                     1.495       Monday  December        4   \n",
      "86788  ...                    -1.775      Tuesday  December        4   \n",
      "86789  ...                     0.250    Wednesday  December        4   \n",
      "86790  ...                    -1.775       Monday  December        4   \n",
      "86791  ...                    -1.775     Thursday  December        4   \n",
      "\n",
      "       hour_of_day  order_lines_count  discount_total salesperson source  \\\n",
      "0                7                1.5             0.0   user-1-76  False   \n",
      "1                7                0.0             0.0   user-1-76  False   \n",
      "2                8                0.5             0.0    user-1-9  False   \n",
      "3                8                0.5             0.0    user-1-2  False   \n",
      "4                8                0.0             0.0    user-1-9  False   \n",
      "...            ...                ...             ...         ...    ...   \n",
      "86787           10               -0.5             0.0   user-1-10  False   \n",
      "86788           11               -1.0             0.0   user-1-39  False   \n",
      "86789           11               -1.0             0.0   user-1-49  False   \n",
      "86790            8                0.0             0.0  user-1-113  False   \n",
      "86791           13               -1.0             0.0    user-1-2  False   \n",
      "\n",
      "       create_date_months  \n",
      "0               -1.000000  \n",
      "1               -1.000000  \n",
      "2               -1.000000  \n",
      "3               -1.000000  \n",
      "4               -1.000000  \n",
      "...                   ...  \n",
      "86787            1.170732  \n",
      "86788            1.170732  \n",
      "86789            1.170732  \n",
      "86790            1.170732  \n",
      "86791            1.195122  \n",
      "\n",
      "[86792 rows x 26 columns]\n"
     ]
    }
   ],
   "execution_count": 144
  },
  {
   "metadata": {},
   "cell_type": "markdown",
   "source": "# ДОСЛІДЖЕННЯ КАТЕГОРІАЛЬНИХ",
   "id": "c09094e602611888"
  },
  {
   "metadata": {},
   "cell_type": "markdown",
   "source": "## `salesperson` та `source`",
   "id": "f34ab2ac811dfb18"
  },
  {
   "metadata": {},
   "cell_type": "markdown",
   "source": "1. Унікальні значення",
   "id": "e052a30a5f8a928a"
  },
  {
   "metadata": {
    "ExecuteTime": {
     "end_time": "2025-05-06T09:21:50.391155Z",
     "start_time": "2025-05-06T09:21:50.382896Z"
    }
   },
   "cell_type": "code",
   "source": "data['salesperson'].unique()",
   "id": "f1a32b30bcd3fc4b",
   "outputs": [
    {
     "data": {
      "text/plain": [
       "array(['user-1-76', 'user-1-9', 'user-1-2', 'user-1-49', 'user-1-10',\n",
       "       'user-1-142', 'user-1-7', 'user-1-False', 'user-1-8', 'user-1-83',\n",
       "       'user-1-100', 'user-1-54', 'user-1-69', 'user-1-113', 'user-1-72',\n",
       "       'user-1-14', 'user-1-78', 'user-1-67', 'user-1-63', 'user-1-19',\n",
       "       'user-1-1066', 'user-1-1414', 'user-1-1366', 'user-1-11',\n",
       "       'user-1-4', 'user-1-56', 'user-1-1451', 'user-1-1465',\n",
       "       'user-1-1582', 'user-1-47', 'user-1-39'], dtype=object)"
      ]
     },
     "execution_count": 145,
     "metadata": {},
     "output_type": "execute_result"
    }
   ],
   "execution_count": 145
  },
  {
   "metadata": {
    "ExecuteTime": {
     "end_time": "2025-05-06T09:21:50.430830Z",
     "start_time": "2025-05-06T09:21:50.423846Z"
    }
   },
   "cell_type": "code",
   "source": "data['source'].unique()",
   "id": "aa94c8703e602bdb",
   "outputs": [
    {
     "data": {
      "text/plain": [
       "array(['False', 'Referral – Supplier – GPP',\n",
       "       'Referral – Supplier – Grams', 'Google / Search engine',\n",
       "       'Lead Generation', 'Already a Customer',\n",
       "       'Proactive - Exhibition 11-12/09/2019', 'PI 2020',\n",
       "       'Hand-San Enquiries', 'NOT ON PIPELINE', 'LOST ENQUIRY',\n",
       "       'Mixed Hand-san', 'Website/Zendesk',\n",
       "       '150ml Translucent Purple PET Boston Round, 20/410 Neck + UV Inhibitor (code TBC)',\n",
       "       '30ml, 50ml and 100ml Airless 5k', 'Webpackaging',\n",
       "       '45125 and 3829T-300T', 'Customer FU Call / F2F Visit', 'Facebook',\n",
       "       'Email', 'LinkedIn', 'Referral - Supplier - Alpha',\n",
       "       'Referral – Existing Customer', 'SalesBond', 'Past Enquiry',\n",
       "       'Referral – Supplier – Non Core', 'Proactive – Telemarketing',\n",
       "       'Sample Request', 'Referral – Supplier – RMP',\n",
       "       'Website Contact Form', 'Enquire Now Form', 'Sample Request Form',\n",
       "       'Exhibition - Packaging Innovations 2023', 'Proactive - Other',\n",
       "       'Lapsed Customer', 'Brochure Form',\n",
       "       'As Simple As... VMS\\xa0🤸\\u200d♀️ 🤸\\u200d♂️ 2023-04-05 16:30:21',\n",
       "       '💃Shake Things Up! With Our Eco-Friendly Aluminium Shaker Can! 2023-04-24 16:30:21',\n",
       "       'Powder, Perfectly Packaged 2023-04-14 16:30:27',\n",
       "       'Hair & Skin From Within 2023-05-15 16:30:23',\n",
       "       '♻️  Upgrade your Roll-on! NEW Aluminium Bottle 2023-05-11 16:30:23',\n",
       "       'Product Request Form',\n",
       "       '👀 Low MOQ, High-Quality Aluminium Bottle Printing 2023-04-14 16:30:22',\n",
       "       'Exhibition - Spirit of Christmas', 'BCMPA',\n",
       "       'Inbound Phone Enquiry ',\n",
       "       'Aluminium Sifter Cap ♻️ 2023-11-21 16:30:23',\n",
       "       'Clear PET -  Is it the one for you? 2023-11-10 13:10:18',\n",
       "       'Sales Inbox', 'Referral – Partner (Cambrian/Richmond etc)',\n",
       "       'Think Sustainably - Post-Consumer Recycled PET ♻️ 2024-02-05 16:30:38',\n",
       "       'PI 2024',\n",
       "       '👀 Low MOQ, High-Quality Aluminium Bottle Printing 2023-04-14 16:30:24',\n",
       "       'Aluminium Roll-On Cans 2023-04-28 16:30:32',\n",
       "       'Referral – Supplier – Pretium', 'Lapsed Customer Lead',\n",
       "       'Unbeatable Pair: Aluminium Bottles & Lotion Pumps 👏 2024-04-22 16:30:23',\n",
       "       'Referral - Supplier - Plastikse',\n",
       "       'Bespoke Pouch Packaging Solutions ✨ 2024-04-22 12:30:19',\n",
       "       'Custom Packaging Boxes', 'Aluminium Pill Jars',\n",
       "       'Pouches Sample Pack Form',\n",
       "       'Coming Soon! 100% PE Recyclable Disc Tops 2024-08-19 16:30:29',\n",
       "       'Imbibe London 2023', 'Abandoned Basket',\n",
       "       'In Stock: 100% PE Disc Tops ♻️ – Ready to Ship! 2024-10-23 08:30:39'],\n",
       "      dtype=object)"
      ]
     },
     "execution_count": 146,
     "metadata": {},
     "output_type": "execute_result"
    }
   ],
   "execution_count": 146
  },
  {
   "metadata": {},
   "cell_type": "markdown",
   "source": "2. Розподіл унікальних значень",
   "id": "d9a2cc9021928f06"
  },
  {
   "metadata": {
    "ExecuteTime": {
     "end_time": "2025-05-06T09:21:50.469087Z",
     "start_time": "2025-05-06T09:21:50.461492Z"
    }
   },
   "cell_type": "code",
   "source": "print(data['salesperson'].value_counts())",
   "id": "ad9d87a5af31ae37",
   "outputs": [
    {
     "name": "stdout",
     "output_type": "stream",
     "text": [
      "salesperson\n",
      "user-1-2        25890\n",
      "user-1-9        21424\n",
      "user-1-76       14036\n",
      "user-1-49        8267\n",
      "user-1-10        7927\n",
      "user-1-113       3623\n",
      "user-1-7         1881\n",
      "user-1-142       1317\n",
      "user-1-1414      1134\n",
      "user-1-14         378\n",
      "user-1-False      303\n",
      "user-1-78         188\n",
      "user-1-67         144\n",
      "user-1-8           73\n",
      "user-1-47          30\n",
      "user-1-1366        28\n",
      "user-1-19          24\n",
      "user-1-72          21\n",
      "user-1-11          21\n",
      "user-1-83          20\n",
      "user-1-1066        18\n",
      "user-1-100         15\n",
      "user-1-4            9\n",
      "user-1-1582         6\n",
      "user-1-54           5\n",
      "user-1-69           3\n",
      "user-1-39           2\n",
      "user-1-56           2\n",
      "user-1-63           1\n",
      "user-1-1451         1\n",
      "user-1-1465         1\n",
      "Name: count, dtype: int64\n"
     ]
    }
   ],
   "execution_count": 147
  },
  {
   "metadata": {
    "ExecuteTime": {
     "end_time": "2025-05-06T09:21:50.509652Z",
     "start_time": "2025-05-06T09:21:50.502040Z"
    }
   },
   "cell_type": "code",
   "source": "print(data['source'].value_counts())",
   "id": "64496235a6234643",
   "outputs": [
    {
     "name": "stdout",
     "output_type": "stream",
     "text": [
      "source\n",
      "False                                                                  80097\n",
      "Already a Customer                                                      2299\n",
      "NOT ON PIPELINE                                                         1908\n",
      "Hand-San Enquiries                                                       618\n",
      "Product Request Form                                                     401\n",
      "                                                                       ...  \n",
      "Bespoke Pouch Packaging Solutions ✨ 2024-04-22 12:30:19                    1\n",
      "Coming Soon! 100% PE Recyclable Disc Tops 2024-08-19 16:30:29              1\n",
      "Imbibe London 2023                                                         1\n",
      "Abandoned Basket                                                           1\n",
      "In Stock: 100% PE Disc Tops ♻️ – Ready to Ship! 2024-10-23 08:30:39        1\n",
      "Name: count, Length: 66, dtype: int64\n"
     ]
    }
   ],
   "execution_count": 148
  },
  {
   "metadata": {},
   "cell_type": "markdown",
   "source": "3. Розподіл `salesperson` за `is_successful`",
   "id": "48ae4934a7ad9db9"
  },
  {
   "metadata": {
    "ExecuteTime": {
     "end_time": "2025-05-06T09:21:50.548287Z",
     "start_time": "2025-05-06T09:21:50.537718Z"
    }
   },
   "cell_type": "code",
   "source": "salesperson_success = data.groupby('salesperson')['is_successful'].value_counts(normalize=True).unstack(fill_value=0)",
   "id": "a1538ae9c40722d9",
   "outputs": [],
   "execution_count": 149
  },
  {
   "metadata": {
    "ExecuteTime": {
     "end_time": "2025-05-06T09:21:50.575222Z",
     "start_time": "2025-05-06T09:21:50.571464Z"
    }
   },
   "cell_type": "code",
   "source": "print(salesperson_success)",
   "id": "d49c6cd3ca46bd1f",
   "outputs": [
    {
     "name": "stdout",
     "output_type": "stream",
     "text": [
      "is_successful         0         1\n",
      "salesperson                      \n",
      "user-1-10      0.294941  0.705059\n",
      "user-1-100     0.400000  0.600000\n",
      "user-1-1066    0.500000  0.500000\n",
      "user-1-11      0.047619  0.952381\n",
      "user-1-113     0.299200  0.700800\n",
      "user-1-1366    0.214286  0.785714\n",
      "user-1-14      0.150794  0.849206\n",
      "user-1-1414    0.312169  0.687831\n",
      "user-1-142     0.290053  0.709947\n",
      "user-1-1451    0.000000  1.000000\n",
      "user-1-1465    1.000000  0.000000\n",
      "user-1-1582    0.000000  1.000000\n",
      "user-1-19      0.291667  0.708333\n",
      "user-1-2       0.459173  0.540827\n",
      "user-1-39      0.500000  0.500000\n",
      "user-1-4       0.111111  0.888889\n",
      "user-1-47      0.233333  0.766667\n",
      "user-1-49      0.384541  0.615459\n",
      "user-1-54      0.400000  0.600000\n",
      "user-1-56      0.500000  0.500000\n",
      "user-1-63      0.000000  1.000000\n",
      "user-1-67      0.090278  0.909722\n",
      "user-1-69      1.000000  0.000000\n",
      "user-1-7       0.424242  0.575758\n",
      "user-1-72      0.476190  0.523810\n",
      "user-1-76      0.346537  0.653463\n",
      "user-1-78      0.085106  0.914894\n",
      "user-1-8       0.863014  0.136986\n",
      "user-1-83      0.250000  0.750000\n",
      "user-1-9       0.311193  0.688807\n",
      "user-1-False   0.884488  0.115512\n"
     ]
    }
   ],
   "execution_count": 150
  },
  {
   "metadata": {},
   "cell_type": "markdown",
   "source": "4. Розподіл `source` за `is_successful`",
   "id": "7ed7956e8ba5238b"
  },
  {
   "metadata": {
    "ExecuteTime": {
     "end_time": "2025-05-06T09:21:50.612379Z",
     "start_time": "2025-05-06T09:21:50.602571Z"
    }
   },
   "cell_type": "code",
   "source": "source_success = data.groupby('source')['is_successful'].value_counts(normalize=True).unstack(fill_value=0)",
   "id": "ed508b4a4382b896",
   "outputs": [],
   "execution_count": 151
  },
  {
   "metadata": {
    "ExecuteTime": {
     "end_time": "2025-05-06T09:21:50.643236Z",
     "start_time": "2025-05-06T09:21:50.639235Z"
    }
   },
   "cell_type": "code",
   "source": "print(source_success)",
   "id": "e868e7bd1eb50193",
   "outputs": [
    {
     "name": "stdout",
     "output_type": "stream",
     "text": [
      "is_successful                                              0         1\n",
      "source                                                                \n",
      "150ml Translucent Purple PET Boston Round, 20/4...  0.500000  0.500000\n",
      "30ml, 50ml and 100ml Airless 5k                     1.000000  0.000000\n",
      "45125 and 3829T-300T                                0.000000  1.000000\n",
      "Abandoned Basket                                    0.000000  1.000000\n",
      "Already a Customer                                  0.612005  0.387995\n",
      "...                                                      ...       ...\n",
      "Website/Zendesk                                     0.575000  0.425000\n",
      "♻️  Upgrade your Roll-on! NEW Aluminium Bottle ...  1.000000  0.000000\n",
      "👀 Low MOQ, High-Quality Aluminium Bottle Printi...  1.000000  0.000000\n",
      "👀 Low MOQ, High-Quality Aluminium Bottle Printi...  0.000000  1.000000\n",
      "💃Shake Things Up! With Our Eco-Friendly Alumini...  0.000000  1.000000\n",
      "\n",
      "[66 rows x 2 columns]\n"
     ]
    }
   ],
   "execution_count": 152
  },
  {
   "metadata": {},
   "cell_type": "markdown",
   "source": "## Кодуємо`salesperson` та `source`",
   "id": "eaafe4b00a314f95"
  },
  {
   "metadata": {
    "ExecuteTime": {
     "end_time": "2025-05-06T09:21:50.673394Z",
     "start_time": "2025-05-06T09:21:50.670250Z"
    }
   },
   "cell_type": "code",
   "source": [
    "# Ініціалізуємо LabelEncoder для кожного стовпця\n",
    "le_salesperson = LabelEncoder()\n",
    "le_source = LabelEncoder()"
   ],
   "id": "8c98d112c22c631e",
   "outputs": [],
   "execution_count": 153
  },
  {
   "metadata": {
    "ExecuteTime": {
     "end_time": "2025-05-06T09:21:50.721652Z",
     "start_time": "2025-05-06T09:21:50.702016Z"
    }
   },
   "cell_type": "code",
   "source": [
    "# Кодуємо категоріальні змінні\n",
    "data['salesperson'] = le_salesperson.fit_transform(data['salesperson'])\n",
    "data['source'] = le_source.fit_transform(data['source'])"
   ],
   "id": "c87778631b908c54",
   "outputs": [],
   "execution_count": 154
  },
  {
   "metadata": {
    "ExecuteTime": {
     "end_time": "2025-05-06T09:21:50.753459Z",
     "start_time": "2025-05-06T09:21:50.748867Z"
    }
   },
   "cell_type": "code",
   "source": "data['salesperson'].unique()",
   "id": "c13e2096246269fb",
   "outputs": [
    {
     "data": {
      "text/plain": [
       "array([25, 29, 13, 17,  0,  8, 23, 30, 27, 28,  1, 18, 22,  4, 24,  6, 26,\n",
       "       21, 20, 12,  2,  7,  5,  3, 15, 19,  9, 10, 11, 16, 14])"
      ]
     },
     "execution_count": 155,
     "metadata": {},
     "output_type": "execute_result"
    }
   ],
   "execution_count": 155
  },
  {
   "metadata": {
    "ExecuteTime": {
     "end_time": "2025-05-06T09:21:50.789800Z",
     "start_time": "2025-05-06T09:21:50.785373Z"
    }
   },
   "cell_type": "code",
   "source": "data['source'].unique()",
   "id": "a138fcc627594205",
   "outputs": [
    {
     "data": {
      "text/plain": [
       "array([21, 48, 49, 22, 31,  4, 40, 35, 24, 34, 28, 33, 61,  0,  1, 59,  2,\n",
       "       15, 20, 16, 32, 44, 46, 54, 37, 50, 42, 55, 52, 60, 17, 56, 18, 41,\n",
       "       29, 11,  8, 65, 39, 23, 62, 43, 63, 19,  9, 27,  7, 12, 53, 47, 57,\n",
       "       36, 64,  6, 51, 30, 58, 45, 10, 14,  5, 38, 13, 25,  3, 26])"
      ]
     },
     "execution_count": 156,
     "metadata": {},
     "output_type": "execute_result"
    }
   ],
   "execution_count": 156
  },
  {
   "metadata": {},
   "cell_type": "markdown",
   "source": "## Дослідження ознак дати та часу",
   "id": "90cae8c065f0ef4b"
  },
  {
   "metadata": {
    "ExecuteTime": {
     "end_time": "2025-05-06T09:21:50.828769Z",
     "start_time": "2025-05-06T09:21:50.821529Z"
    }
   },
   "cell_type": "code",
   "source": [
    "# Дослідження колонки 'day_of_week'\n",
    "print(\"\\nРозподіл за днями тижня:\")\n",
    "print(data['day_of_week'].value_counts().sort_index())"
   ],
   "id": "f4fccf1485b16053",
   "outputs": [
    {
     "name": "stdout",
     "output_type": "stream",
     "text": [
      "\n",
      "Розподіл за днями тижня:\n",
      "day_of_week\n",
      "Friday       15188\n",
      "Monday       16307\n",
      "Saturday       139\n",
      "Sunday         122\n",
      "Thursday     17679\n",
      "Tuesday      18785\n",
      "Wednesday    18572\n",
      "Name: count, dtype: int64\n"
     ]
    }
   ],
   "execution_count": 157
  },
  {
   "metadata": {
    "ExecuteTime": {
     "end_time": "2025-05-06T09:21:50.867466Z",
     "start_time": "2025-05-06T09:21:50.859819Z"
    }
   },
   "cell_type": "code",
   "source": [
    "# Дослідження колонки 'month'\n",
    "print(\"\\nРозподіл за місяцями:\")\n",
    "print(data['month'].value_counts().sort_index())"
   ],
   "id": "27231f03c7ef21c7",
   "outputs": [
    {
     "name": "stdout",
     "output_type": "stream",
     "text": [
      "\n",
      "Розподіл за місяцями:\n",
      "month\n",
      "April        7265\n",
      "August       7740\n",
      "December     4694\n",
      "February     7052\n",
      "January      7176\n",
      "July         7212\n",
      "June         7208\n",
      "March        8093\n",
      "May          6850\n",
      "November     7349\n",
      "October      8170\n",
      "September    7983\n",
      "Name: count, dtype: int64\n"
     ]
    }
   ],
   "execution_count": 158
  },
  {
   "metadata": {
    "ExecuteTime": {
     "end_time": "2025-05-06T09:21:50.899052Z",
     "start_time": "2025-05-06T09:21:50.895028Z"
    }
   },
   "cell_type": "code",
   "source": [
    "# Дослідження колонки 'quarter'\n",
    "print(\"\\nРозподіл за кварталами:\")\n",
    "print(data['quarter'].value_counts().sort_index())"
   ],
   "id": "86cfa60f3ae354cf",
   "outputs": [
    {
     "name": "stdout",
     "output_type": "stream",
     "text": [
      "\n",
      "Розподіл за кварталами:\n",
      "quarter\n",
      "1    22321\n",
      "2    21323\n",
      "3    22935\n",
      "4    20213\n",
      "Name: count, dtype: int64\n"
     ]
    }
   ],
   "execution_count": 159
  },
  {
   "metadata": {
    "ExecuteTime": {
     "end_time": "2025-05-06T09:21:50.928945Z",
     "start_time": "2025-05-06T09:21:50.924940Z"
    }
   },
   "cell_type": "code",
   "source": [
    "# Дослідження колонки 'hour_of_day'\n",
    "print(\"\\nРозподіл за годинами:\")\n",
    "print(data['hour_of_day'].value_counts().sort_index())"
   ],
   "id": "f3bcd855f2de7aef",
   "outputs": [
    {
     "name": "stdout",
     "output_type": "stream",
     "text": [
      "\n",
      "Розподіл за годинами:\n",
      "hour_of_day\n",
      "0         3\n",
      "1         2\n",
      "2         2\n",
      "3         2\n",
      "4        25\n",
      "5       325\n",
      "6      2526\n",
      "7      7768\n",
      "8     10245\n",
      "9     10072\n",
      "10    10675\n",
      "11     8801\n",
      "12     8150\n",
      "13     9004\n",
      "14     8811\n",
      "15     6358\n",
      "16     2709\n",
      "17      488\n",
      "18      110\n",
      "19      147\n",
      "20      233\n",
      "21      243\n",
      "22       79\n",
      "23       14\n",
      "Name: count, dtype: int64\n"
     ]
    }
   ],
   "execution_count": 160
  },
  {
   "metadata": {
    "ExecuteTime": {
     "end_time": "2025-05-06T09:21:50.961372Z",
     "start_time": "2025-05-06T09:21:50.958776Z"
    }
   },
   "cell_type": "code",
   "source": [
    "# Створення мапінгів для днів тижня та місяців\n",
    "day_mapping = {'Monday': 1, 'Tuesday': 2, 'Wednesday': 3, 'Thursday': 4, 'Friday': 5, 'Saturday': 6, 'Sunday': 7}\n",
    "month_mapping = {'January': 1, 'February': 2, 'March': 3, 'April': 4, 'May': 5, 'June': 6,\n",
    "                 'July': 7, 'August': 8, 'September': 9, 'October': 10, 'November': 11, 'December': 12}"
   ],
   "id": "bae0ccf4790be35",
   "outputs": [],
   "execution_count": 161
  },
  {
   "metadata": {
    "ExecuteTime": {
     "end_time": "2025-05-06T09:21:51.004865Z",
     "start_time": "2025-05-06T09:21:50.994795Z"
    }
   },
   "cell_type": "code",
   "source": [
    "# Застосування мапінгів до відповідних колонок\n",
    "data['day_of_week'] = data['day_of_week'].map(day_mapping)\n",
    "data['month'] = data['month'].map(month_mapping)"
   ],
   "id": "d34e0b5f0d541e17",
   "outputs": [],
   "execution_count": 162
  },
  {
   "metadata": {
    "ExecuteTime": {
     "end_time": "2025-05-06T09:21:51.030571Z",
     "start_time": "2025-05-06T09:21:51.028187Z"
    }
   },
   "cell_type": "code",
   "source": [
    "# Ініціалізуй енкодер для циклічних ознак\n",
    "cyclical_encoder = CyclicalFeatures(variables=['day_of_week', 'month', 'quarter', 'hour_of_day'],\n",
    "                                     drop_original=True)"
   ],
   "id": "bf6ebc3bae7607a7",
   "outputs": [],
   "execution_count": 163
  },
  {
   "metadata": {
    "ExecuteTime": {
     "end_time": "2025-05-06T09:21:51.107405Z",
     "start_time": "2025-05-06T09:21:51.056702Z"
    }
   },
   "cell_type": "code",
   "source": [
    "# Навчай та трансформуй дані\n",
    "data = cyclical_encoder.fit_transform(data)"
   ],
   "id": "3a97083a936a3cbb",
   "outputs": [],
   "execution_count": 164
  },
  {
   "metadata": {
    "ExecuteTime": {
     "end_time": "2025-05-06T09:21:51.153100Z",
     "start_time": "2025-05-06T09:21:51.134070Z"
    }
   },
   "cell_type": "code",
   "source": "print(data)",
   "id": "93637b085430fd69",
   "outputs": [
    {
     "name": "stdout",
     "output_type": "stream",
     "text": [
      "       is_successful                create_date  order_amount  order_messages  \\\n",
      "0                  1 2017-07-29 07:48:26.812523      2.421132        3.000000   \n",
      "1                  1 2017-07-29 07:54:09.954757      0.136770        0.500000   \n",
      "2                  1 2017-07-29 08:04:13.162858      1.256132        0.000000   \n",
      "3                  1 2017-07-29 08:11:38.086709      0.002801        0.500000   \n",
      "4                  1 2017-07-29 08:15:05.548616      0.103312       -0.166667   \n",
      "...              ...                        ...           ...             ...   \n",
      "86787              1 2024-12-09 10:22:13.166600     -0.215944       -0.833333   \n",
      "86788              1 2024-12-10 11:07:58.049169     -0.266079       -0.333333   \n",
      "86789              1 2024-12-11 11:09:57.124395     -0.322561       -0.333333   \n",
      "86790              0 2024-12-16 08:38:35.387458      0.042648       -0.833333   \n",
      "86791              1 2024-12-19 13:59:08.130686     -0.254727       -0.833333   \n",
      "\n",
      "       order_changes  partner_success_rate  partner_total_orders  \\\n",
      "0                9.5              0.000000             -0.305882   \n",
      "1                1.0              0.000000             -0.305882   \n",
      "2                0.5              0.000000             -0.305882   \n",
      "3                1.5              0.000000             -0.305882   \n",
      "4                0.0              0.000000             -0.305882   \n",
      "...              ...                   ...                   ...   \n",
      "86787           -1.0              0.816514              0.976471   \n",
      "86788            0.5              0.000000             -0.305882   \n",
      "86789           -0.5              0.111111             -0.200000   \n",
      "86790           -1.5              1.000000             -0.023529   \n",
      "86791           -1.0              0.000000             -0.305882   \n",
      "\n",
      "       partner_order_age_days  partner_avg_amount  partner_success_avg_amount  \\\n",
      "0                   -0.630884           -0.544190                   -0.687509   \n",
      "1                   -0.630884           -0.544190                   -0.687509   \n",
      "2                   -0.630884           -0.544190                   -0.687509   \n",
      "3                   -0.630884           -0.544190                   -0.687509   \n",
      "4                   -0.630884           -0.544190                   -0.687509   \n",
      "...                       ...                 ...                         ...   \n",
      "86787                1.586292            2.705002                    3.408798   \n",
      "86788               -0.630884           -0.544190                   -0.687509   \n",
      "86789               -0.583815           33.907794                   -0.687509   \n",
      "86790               -0.009909           -0.288283                   -0.297169   \n",
      "86791               -0.630884           -0.544190                   -0.687509   \n",
      "\n",
      "       ...  source  create_date_months  day_of_week_sin  day_of_week_cos  \\\n",
      "0      ...      21           -1.000000        -0.781831         0.623490   \n",
      "1      ...      21           -1.000000        -0.781831         0.623490   \n",
      "2      ...      21           -1.000000        -0.781831         0.623490   \n",
      "3      ...      21           -1.000000        -0.781831         0.623490   \n",
      "4      ...      21           -1.000000        -0.781831         0.623490   \n",
      "...    ...     ...                 ...              ...              ...   \n",
      "86787  ...      21            1.170732         0.781831         0.623490   \n",
      "86788  ...      21            1.170732         0.974928        -0.222521   \n",
      "86789  ...      21            1.170732         0.433884        -0.900969   \n",
      "86790  ...      21            1.170732         0.781831         0.623490   \n",
      "86791  ...      21            1.195122        -0.433884        -0.900969   \n",
      "\n",
      "          month_sin  month_cos   quarter_sin   quarter_cos  hour_of_day_sin  \\\n",
      "0     -5.000000e-01  -0.866025 -1.000000e+00 -1.836970e-16         0.942261   \n",
      "1     -5.000000e-01  -0.866025 -1.000000e+00 -1.836970e-16         0.942261   \n",
      "2     -5.000000e-01  -0.866025 -1.000000e+00 -1.836970e-16         0.816970   \n",
      "3     -5.000000e-01  -0.866025 -1.000000e+00 -1.836970e-16         0.816970   \n",
      "4     -5.000000e-01  -0.866025 -1.000000e+00 -1.836970e-16         0.816970   \n",
      "...             ...        ...           ...           ...              ...   \n",
      "86787 -2.449294e-16   1.000000 -2.449294e-16  1.000000e+00         0.398401   \n",
      "86788 -2.449294e-16   1.000000 -2.449294e-16  1.000000e+00         0.136167   \n",
      "86789 -2.449294e-16   1.000000 -2.449294e-16  1.000000e+00         0.136167   \n",
      "86790 -2.449294e-16   1.000000 -2.449294e-16  1.000000e+00         0.816970   \n",
      "86791 -2.449294e-16   1.000000 -2.449294e-16  1.000000e+00        -0.398401   \n",
      "\n",
      "       hour_of_day_cos  \n",
      "0            -0.334880  \n",
      "1            -0.334880  \n",
      "2            -0.576680  \n",
      "3            -0.576680  \n",
      "4            -0.576680  \n",
      "...                ...  \n",
      "86787        -0.917211  \n",
      "86788        -0.990686  \n",
      "86789        -0.990686  \n",
      "86790        -0.576680  \n",
      "86791        -0.917211  \n",
      "\n",
      "[86792 rows x 30 columns]\n"
     ]
    }
   ],
   "execution_count": 165
  },
  {
   "metadata": {
    "ExecuteTime": {
     "end_time": "2025-05-06T09:21:51.192604Z",
     "start_time": "2025-05-06T09:21:51.184209Z"
    }
   },
   "cell_type": "code",
   "source": "print(data.head(10))",
   "id": "5d7c12279f721660",
   "outputs": [
    {
     "name": "stdout",
     "output_type": "stream",
     "text": [
      "   is_successful                create_date  order_amount  order_messages  \\\n",
      "0              1 2017-07-29 07:48:26.812523      2.421132        3.000000   \n",
      "1              1 2017-07-29 07:54:09.954757      0.136770        0.500000   \n",
      "2              1 2017-07-29 08:04:13.162858      1.256132        0.000000   \n",
      "3              1 2017-07-29 08:11:38.086709      0.002801        0.500000   \n",
      "4              1 2017-07-29 08:15:05.548616      0.103312       -0.166667   \n",
      "5              1 2017-07-29 08:19:38.625071      0.216778        2.500000   \n",
      "6              1 2017-07-29 08:29:50.487564      1.161392        0.500000   \n",
      "7              1 2017-07-29 08:40:21.407789     -0.144238        0.500000   \n",
      "8              1 2017-07-29 08:44:45.461359      0.487828        0.666667   \n",
      "9              1 2017-07-29 08:53:03.880701      0.767693        0.166667   \n",
      "\n",
      "   order_changes  partner_success_rate  partner_total_orders  \\\n",
      "0            9.5                   0.0             -0.305882   \n",
      "1            1.0                   0.0             -0.305882   \n",
      "2            0.5                   0.0             -0.305882   \n",
      "3            1.5                   0.0             -0.305882   \n",
      "4            0.0                   0.0             -0.305882   \n",
      "5            8.0                   0.0             -0.305882   \n",
      "6            2.0                   0.0             -0.305882   \n",
      "7            1.5                   0.0             -0.305882   \n",
      "8            2.5                   0.0             -0.305882   \n",
      "9            0.5                   0.0             -0.305882   \n",
      "\n",
      "   partner_order_age_days  partner_avg_amount  partner_success_avg_amount  \\\n",
      "0               -0.630884            -0.54419                   -0.687509   \n",
      "1               -0.630884            -0.54419                   -0.687509   \n",
      "2               -0.630884            -0.54419                   -0.687509   \n",
      "3               -0.630884            -0.54419                   -0.687509   \n",
      "4               -0.630884            -0.54419                   -0.687509   \n",
      "5               -0.630884            -0.54419                   -0.687509   \n",
      "6               -0.630884            -0.54419                   -0.687509   \n",
      "7               -0.630884            -0.54419                   -0.687509   \n",
      "8               -0.630884            -0.54419                   -0.687509   \n",
      "9               -0.630884            -0.54419                   -0.687509   \n",
      "\n",
      "   ...  source  create_date_months  day_of_week_sin  day_of_week_cos  \\\n",
      "0  ...      21                -1.0        -0.781831          0.62349   \n",
      "1  ...      21                -1.0        -0.781831          0.62349   \n",
      "2  ...      21                -1.0        -0.781831          0.62349   \n",
      "3  ...      21                -1.0        -0.781831          0.62349   \n",
      "4  ...      21                -1.0        -0.781831          0.62349   \n",
      "5  ...      21                -1.0        -0.781831          0.62349   \n",
      "6  ...      21                -1.0        -0.781831          0.62349   \n",
      "7  ...      21                -1.0        -0.781831          0.62349   \n",
      "8  ...      21                -1.0        -0.781831          0.62349   \n",
      "9  ...      21                -1.0        -0.781831          0.62349   \n",
      "\n",
      "   month_sin  month_cos  quarter_sin   quarter_cos  hour_of_day_sin  \\\n",
      "0       -0.5  -0.866025         -1.0 -1.836970e-16         0.942261   \n",
      "1       -0.5  -0.866025         -1.0 -1.836970e-16         0.942261   \n",
      "2       -0.5  -0.866025         -1.0 -1.836970e-16         0.816970   \n",
      "3       -0.5  -0.866025         -1.0 -1.836970e-16         0.816970   \n",
      "4       -0.5  -0.866025         -1.0 -1.836970e-16         0.816970   \n",
      "5       -0.5  -0.866025         -1.0 -1.836970e-16         0.816970   \n",
      "6       -0.5  -0.866025         -1.0 -1.836970e-16         0.816970   \n",
      "7       -0.5  -0.866025         -1.0 -1.836970e-16         0.816970   \n",
      "8       -0.5  -0.866025         -1.0 -1.836970e-16         0.816970   \n",
      "9       -0.5  -0.866025         -1.0 -1.836970e-16         0.816970   \n",
      "\n",
      "   hour_of_day_cos  \n",
      "0         -0.33488  \n",
      "1         -0.33488  \n",
      "2         -0.57668  \n",
      "3         -0.57668  \n",
      "4         -0.57668  \n",
      "5         -0.57668  \n",
      "6         -0.57668  \n",
      "7         -0.57668  \n",
      "8         -0.57668  \n",
      "9         -0.57668  \n",
      "\n",
      "[10 rows x 30 columns]\n"
     ]
    }
   ],
   "execution_count": 166
  },
  {
   "metadata": {
    "ExecuteTime": {
     "end_time": "2025-05-06T09:21:51.230307Z",
     "start_time": "2025-05-06T09:21:51.222125Z"
    }
   },
   "cell_type": "code",
   "source": "print(data.tail(10))",
   "id": "b7d4c1a3daafe50f",
   "outputs": [
    {
     "name": "stdout",
     "output_type": "stream",
     "text": [
      "       is_successful                create_date  order_amount  order_messages  \\\n",
      "86782              0 2024-11-26 09:17:07.654485     -0.322838       -1.000000   \n",
      "86783              1 2024-11-26 09:20:42.531614     -0.280036       -0.833333   \n",
      "86784              1 2024-11-26 09:23:06.451541     -0.280036       -0.833333   \n",
      "86785              0 2024-11-26 09:34:52.576840     -0.322838       -1.000000   \n",
      "86786              0 2024-12-04 15:14:51.956392     -0.322838       -1.000000   \n",
      "86787              1 2024-12-09 10:22:13.166600     -0.215944       -0.833333   \n",
      "86788              1 2024-12-10 11:07:58.049169     -0.266079       -0.333333   \n",
      "86789              1 2024-12-11 11:09:57.124395     -0.322561       -0.333333   \n",
      "86790              0 2024-12-16 08:38:35.387458      0.042648       -0.833333   \n",
      "86791              1 2024-12-19 13:59:08.130686     -0.254727       -0.833333   \n",
      "\n",
      "       order_changes  partner_success_rate  partner_total_orders  \\\n",
      "86782           -1.5              0.569231              1.223529   \n",
      "86783           -1.0              0.000000             -0.282353   \n",
      "86784           -1.0              0.333333             -0.270588   \n",
      "86785           -1.5              0.000000             -0.305882   \n",
      "86786           -1.5              0.581967              1.129412   \n",
      "86787           -1.0              0.816514              0.976471   \n",
      "86788            0.5              0.000000             -0.305882   \n",
      "86789           -0.5              0.111111             -0.200000   \n",
      "86790           -1.5              1.000000             -0.023529   \n",
      "86791           -1.0              0.000000             -0.305882   \n",
      "\n",
      "       partner_order_age_days  partner_avg_amount  partner_success_avg_amount  \\\n",
      "86782                1.562345            2.338429                    3.177613   \n",
      "86783               -0.256813           -0.544054                   -0.687509   \n",
      "86784               -0.256813           -0.530961                   -0.627390   \n",
      "86785               -0.630884           -0.544190                   -0.687509   \n",
      "86786                1.151115            1.605849                    1.572204   \n",
      "86787                1.586292            2.705002                    3.408798   \n",
      "86788               -0.630884           -0.544190                   -0.687509   \n",
      "86789               -0.583815           33.907794                   -0.687509   \n",
      "86790               -0.009909           -0.288283                   -0.297169   \n",
      "86791               -0.630884           -0.544190                   -0.687509   \n",
      "\n",
      "       ...  source  create_date_months  day_of_week_sin  day_of_week_cos  \\\n",
      "86782  ...      21            1.170732         0.974928        -0.222521   \n",
      "86783  ...      21            1.170732         0.974928        -0.222521   \n",
      "86784  ...      21            1.170732         0.974928        -0.222521   \n",
      "86785  ...      21            1.170732         0.974928        -0.222521   \n",
      "86786  ...      21            1.170732         0.433884        -0.900969   \n",
      "86787  ...      21            1.170732         0.781831         0.623490   \n",
      "86788  ...      21            1.170732         0.974928        -0.222521   \n",
      "86789  ...      21            1.170732         0.433884        -0.900969   \n",
      "86790  ...      21            1.170732         0.781831         0.623490   \n",
      "86791  ...      21            1.195122        -0.433884        -0.900969   \n",
      "\n",
      "          month_sin  month_cos   quarter_sin  quarter_cos  hour_of_day_sin  \\\n",
      "86782 -5.000000e-01   0.866025 -2.449294e-16          1.0         0.631088   \n",
      "86783 -5.000000e-01   0.866025 -2.449294e-16          1.0         0.631088   \n",
      "86784 -5.000000e-01   0.866025 -2.449294e-16          1.0         0.631088   \n",
      "86785 -5.000000e-01   0.866025 -2.449294e-16          1.0         0.631088   \n",
      "86786 -2.449294e-16   1.000000 -2.449294e-16          1.0        -0.816970   \n",
      "86787 -2.449294e-16   1.000000 -2.449294e-16          1.0         0.398401   \n",
      "86788 -2.449294e-16   1.000000 -2.449294e-16          1.0         0.136167   \n",
      "86789 -2.449294e-16   1.000000 -2.449294e-16          1.0         0.136167   \n",
      "86790 -2.449294e-16   1.000000 -2.449294e-16          1.0         0.816970   \n",
      "86791 -2.449294e-16   1.000000 -2.449294e-16          1.0        -0.398401   \n",
      "\n",
      "       hour_of_day_cos  \n",
      "86782        -0.775711  \n",
      "86783        -0.775711  \n",
      "86784        -0.775711  \n",
      "86785        -0.775711  \n",
      "86786        -0.576680  \n",
      "86787        -0.917211  \n",
      "86788        -0.990686  \n",
      "86789        -0.990686  \n",
      "86790        -0.576680  \n",
      "86791        -0.917211  \n",
      "\n",
      "[10 rows x 30 columns]\n"
     ]
    }
   ],
   "execution_count": 167
  },
  {
   "metadata": {
    "ExecuteTime": {
     "end_time": "2025-05-06T09:21:51.262982Z",
     "start_time": "2025-05-06T09:21:51.252611Z"
    }
   },
   "cell_type": "code",
   "source": "data.info()",
   "id": "ca04fc036b831929",
   "outputs": [
    {
     "name": "stdout",
     "output_type": "stream",
     "text": [
      "<class 'pandas.core.frame.DataFrame'>\n",
      "Index: 86792 entries, 0 to 86791\n",
      "Data columns (total 30 columns):\n",
      " #   Column                        Non-Null Count  Dtype         \n",
      "---  ------                        --------------  -----         \n",
      " 0   is_successful                 86792 non-null  int64         \n",
      " 1   create_date                   86792 non-null  datetime64[ns]\n",
      " 2   order_amount                  86792 non-null  float64       \n",
      " 3   order_messages                86792 non-null  float64       \n",
      " 4   order_changes                 86792 non-null  float64       \n",
      " 5   partner_success_rate          86792 non-null  float64       \n",
      " 6   partner_total_orders          86792 non-null  float64       \n",
      " 7   partner_order_age_days        86792 non-null  float64       \n",
      " 8   partner_avg_amount            86792 non-null  float64       \n",
      " 9   partner_success_avg_amount    86792 non-null  float64       \n",
      " 10  partner_fail_avg_amount       86792 non-null  float64       \n",
      " 11  partner_total_messages        86792 non-null  float64       \n",
      " 12  partner_success_avg_messages  86792 non-null  float64       \n",
      " 13  partner_fail_avg_messages     86792 non-null  float64       \n",
      " 14  partner_avg_changes           86792 non-null  float64       \n",
      " 15  partner_success_avg_changes   86792 non-null  float64       \n",
      " 16  partner_fail_avg_changes      86792 non-null  float64       \n",
      " 17  order_lines_count             86792 non-null  float64       \n",
      " 18  discount_total                86792 non-null  float64       \n",
      " 19  salesperson                   86792 non-null  int64         \n",
      " 20  source                        86792 non-null  int64         \n",
      " 21  create_date_months            86792 non-null  float64       \n",
      " 22  day_of_week_sin               86792 non-null  float64       \n",
      " 23  day_of_week_cos               86792 non-null  float64       \n",
      " 24  month_sin                     86792 non-null  float64       \n",
      " 25  month_cos                     86792 non-null  float64       \n",
      " 26  quarter_sin                   86792 non-null  float64       \n",
      " 27  quarter_cos                   86792 non-null  float64       \n",
      " 28  hour_of_day_sin               86792 non-null  float64       \n",
      " 29  hour_of_day_cos               86792 non-null  float64       \n",
      "dtypes: datetime64[ns](1), float64(26), int64(3)\n",
      "memory usage: 20.5 MB\n"
     ]
    }
   ],
   "execution_count": 168
  },
  {
   "metadata": {
    "ExecuteTime": {
     "end_time": "2025-05-06T09:21:51.374966Z",
     "start_time": "2025-05-06T09:21:51.289373Z"
    }
   },
   "cell_type": "code",
   "source": "print(data.describe())",
   "id": "be21623097f9e3a3",
   "outputs": [
    {
     "name": "stdout",
     "output_type": "stream",
     "text": [
      "       is_successful                    create_date  order_amount  \\\n",
      "count   86792.000000                          86792  86792.000000   \n",
      "mean        0.630945  2021-02-25 23:17:14.904852736      1.681594   \n",
      "min         0.000000     2017-07-29 07:48:26.812523     -0.322838   \n",
      "25%         0.000000  2019-06-26 08:24:19.036283648     -0.320737   \n",
      "50%         1.000000  2021-01-06 07:53:00.763869952      0.000000   \n",
      "75%         1.000000  2022-11-28 15:51:16.311046400      0.679263   \n",
      "max         1.000000     2024-12-19 13:59:08.130686   2169.420251   \n",
      "std         0.482552                            NaN     16.462440   \n",
      "\n",
      "       order_messages  order_changes  partner_success_rate  \\\n",
      "count    86792.000000   86792.000000          86792.000000   \n",
      "mean         0.401448       0.452288              0.595995   \n",
      "min         -1.000000      -1.500000              0.000000   \n",
      "25%         -0.333333      -0.500000              0.441860   \n",
      "50%          0.000000       0.000000              0.666667   \n",
      "75%          0.666667       0.500000              0.833333   \n",
      "max         45.833333     135.500000              1.000000   \n",
      "std          1.370445       1.918219              0.313057   \n",
      "\n",
      "       partner_total_orders  partner_order_age_days  partner_avg_amount  \\\n",
      "count          86792.000000            86792.000000        86792.000000   \n",
      "mean               0.678801                0.111678            0.862243   \n",
      "min               -0.305882               -0.630884           -0.544190   \n",
      "25%               -0.247059               -0.450041           -0.315511   \n",
      "50%                0.000000                0.000000            0.000000   \n",
      "75%                0.752941                0.549959            0.684489   \n",
      "max               15.070588                1.586292         1302.480880   \n",
      "std                1.776630                0.622749            6.727057   \n",
      "\n",
      "       partner_success_avg_amount  ...        source  create_date_months  \\\n",
      "count                86792.000000  ...  86792.000000        86792.000000   \n",
      "mean                     0.488117  ...     21.296583            0.051169   \n",
      "min                     -0.687509  ...      0.000000           -1.000000   \n",
      "25%                     -0.370389  ...     21.000000           -0.439024   \n",
      "50%                      0.000000  ...     21.000000            0.000000   \n",
      "75%                      0.629611  ...     21.000000            0.560976   \n",
      "max                     87.139277  ...     65.000000            1.195122   \n",
      "std                      2.622237  ...      5.000590            0.607934   \n",
      "\n",
      "       day_of_week_sin  day_of_week_cos     month_sin     month_cos  \\\n",
      "count     86792.000000     86792.000000  8.679200e+04  8.679200e+04   \n",
      "mean          0.190512        -0.343866 -1.770991e-02 -2.309579e-02   \n",
      "min          -0.974928        -0.900969 -1.000000e+00 -1.000000e+00   \n",
      "25%          -0.433884        -0.900969 -8.660254e-01 -5.000000e-01   \n",
      "50%           0.433884        -0.222521  1.224647e-16 -1.836970e-16   \n",
      "75%           0.781831        -0.222521  8.660254e-01  5.000000e-01   \n",
      "max           0.974928         1.000000  1.000000e+00  1.000000e+00   \n",
      "std           0.728159         0.561476  7.269542e-01  6.860773e-01   \n",
      "\n",
      "        quarter_sin   quarter_cos  hour_of_day_sin  hour_of_day_cos  \n",
      "count  8.679200e+04  8.679200e+04     86792.000000     86792.000000  \n",
      "mean  -7.074385e-03 -1.278920e-02         0.130349        -0.716047  \n",
      "min   -1.000000e+00 -1.000000e+00        -0.997669        -0.990686  \n",
      "25%   -1.000000e+00 -1.836970e-16        -0.398401        -0.917211  \n",
      "50%    1.224647e-16 -1.836970e-16         0.136167        -0.775711  \n",
      "75%    1.000000e+00  6.123234e-17         0.631088        -0.576680  \n",
      "max    1.000000e+00  1.000000e+00         0.997669         1.000000  \n",
      "std    7.220710e-01  6.916729e-01         0.622364         0.288017  \n",
      "\n",
      "[8 rows x 30 columns]\n"
     ]
    }
   ],
   "execution_count": 169
  }
 ],
 "metadata": {
  "kernelspec": {
   "display_name": "Python 3 (ipykernel)",
   "language": "python",
   "name": "python3"
  },
  "language_info": {
   "codemirror_mode": {
    "name": "ipython",
    "version": 3
   },
   "file_extension": ".py",
   "mimetype": "text/x-python",
   "name": "python",
   "nbconvert_exporter": "python",
   "pygments_lexer": "ipython3",
   "version": "3.13.0"
  }
 },
 "nbformat": 4,
 "nbformat_minor": 5
}
