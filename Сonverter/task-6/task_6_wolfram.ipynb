{
 "cells": [
  {
   "cell_type": "markdown",
   "id": "05c138b3-7530-4aff-8a77-89940bd4b02b",
   "metadata": {},
   "source": [
    "# Задача 6: Розрахунок середньої питомої теплоємності оксиду кальцію\n",
    "\n",
    "## Умова задачі\n",
    "Визначити середню питому теплоємність оксиду кальцію в інтервалі температур від 1200 до 1300 °С, якщо\n",
    "\n",
    "$$ c = 43,77 + 4,525 \\cdot 10^{-3}T, \\text{ кДж/(моль·K)}. $$"
   ]
  },
  {
   "cell_type": "code",
   "execution_count": 1,
   "id": "11885ecf-56c2-421c-9041-1d51e7d1926c",
   "metadata": {},
   "outputs": [
    {
     "data": {
      "text/html": [
       "<div><pre style=\"&#102;&#111;&#110;&#116;&#45;&#102;&#97;&#109;&#105;&#108;&#121;&#58;&#32;&#34;&#67;&#111;&#117;&#114;&#105;&#101;&#114;&#32;&#78;&#101;&#119;&#34;&#44;&#67;&#111;&#117;&#114;&#105;&#101;&#114;&#44;&#109;&#111;&#110;&#111;&#115;&#112;&#97;&#99;&#101;&#59;\">&#49;&#52;&#55;&#51;&#46;&#49;&#53;</pre></div>"
      ],
      "text/plain": [
       "1473.15"
      ]
     },
     "execution_count": 1,
     "metadata": {
      "text/html": [],
      "text/plain": []
     },
     "output_type": "execute_result"
    }
   ],
   "source": [
    "T1 = 1200 + 273.15"
   ]
  },
  {
   "cell_type": "code",
   "execution_count": 2,
   "id": "80db930e-4559-4e77-9b8c-b1abb73d0f96",
   "metadata": {},
   "outputs": [
    {
     "data": {
      "text/html": [
       "<div><pre style=\"&#102;&#111;&#110;&#116;&#45;&#102;&#97;&#109;&#105;&#108;&#121;&#58;&#32;&#34;&#67;&#111;&#117;&#114;&#105;&#101;&#114;&#32;&#78;&#101;&#119;&#34;&#44;&#67;&#111;&#117;&#114;&#105;&#101;&#114;&#44;&#109;&#111;&#110;&#111;&#115;&#112;&#97;&#99;&#101;&#59;\">&#49;&#53;&#55;&#51;&#46;&#49;&#53;</pre></div>"
      ],
      "text/plain": [
       "1573.15"
      ]
     },
     "execution_count": 2,
     "metadata": {
      "text/html": [],
      "text/plain": []
     },
     "output_type": "execute_result"
    }
   ],
   "source": [
    "T2 = 1300 +  273.15"
   ]
  },
  {
   "cell_type": "code",
   "execution_count": 3,
   "id": "c00f3a3c-8702-4974-9724-4eb108208acb",
   "metadata": {},
   "outputs": [],
   "source": [
    "c[T_]:= 43.77 + 4.525*10^(-3)*T"
   ]
  },
  {
   "cell_type": "markdown",
   "id": "71626d56-3f84-4a78-be51-c3f29d924cfd",
   "metadata": {},
   "source": [
    "## Теоретичні відомості\n",
    "\n",
    "Середня теплоємність в інтервалі температур визначається як:\n",
    "\n",
    "$$ \\bar{c} = \\frac{1}{T_2 - T_1} \\int_{T_1}^{T_2} c dT $$"
   ]
  },
  {
   "cell_type": "code",
   "execution_count": 6,
   "id": "2ded69a3-cffb-4503-9637-718ce5535645",
   "metadata": {},
   "outputs": [
    {
     "data": {
      "text/html": [
       "<div><pre style=\"&#102;&#111;&#110;&#116;&#45;&#102;&#97;&#109;&#105;&#108;&#121;&#58;&#32;&#34;&#67;&#111;&#117;&#114;&#105;&#101;&#114;&#32;&#78;&#101;&#119;&#34;&#44;&#67;&#111;&#117;&#114;&#105;&#101;&#114;&#44;&#109;&#111;&#110;&#111;&#115;&#112;&#97;&#99;&#101;&#59;\">&#53;&#48;&#46;&#54;&#54;&#50;&#51;</pre></div>"
      ],
      "text/plain": [
       "50.6623"
      ]
     },
     "execution_count": 6,
     "metadata": {
      "text/html": [],
      "text/plain": []
     },
     "output_type": "execute_result"
    }
   ],
   "source": [
    "c_avg = 1/(T2-T1) * Integrate[c[T], {T, T1, T2}]"
   ]
  },
  {
   "cell_type": "code",
   "execution_count": null,
   "id": "73751655-67d0-4c3d-8021-18d090534c10",
   "metadata": {},
   "outputs": [],
   "source": []
  }
 ],
 "metadata": {
  "kernelspec": {
   "display_name": "Wolfram Language 14.2",
   "language": "Wolfram Language",
   "name": "wolframlanguage14.2"
  },
  "language_info": {
   "codemirror_mode": "mathematica",
   "file_extension": ".m",
   "mimetype": "application/vnd.wolfram.m",
   "name": "Wolfram Language",
   "pygments_lexer": "mathematica",
   "version": "12.0"
  }
 },
 "nbformat": 4,
 "nbformat_minor": 5
}
