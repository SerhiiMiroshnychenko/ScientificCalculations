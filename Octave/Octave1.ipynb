{
 "cells": [
  {
   "cell_type": "markdown",
   "id": "edd30eb4-5270-4f89-9c3b-34c3cb4ac121",
   "metadata": {},
   "source": [
    "# Базові приклади коду Octave з поясненнями\n",
    "\n",
    "---\n",
    "\n",
    "## 🔢 1. Прості обчислення\n",
    "```octave"
   ]
  },
  {
   "cell_type": "code",
   "execution_count": 1,
   "id": "a6fbf67a-e3c8-47c5-b297-76ee40fcccd5",
   "metadata": {},
   "outputs": [
    {
     "name": "stdout",
     "output_type": "stream",
     "text": [
      "warning: using the fltk graphics toolkit is discouraged\n",
      "\n",
      "The FLTK graphics toolkit is not actively maintained and has a number\n",
      "of limitations that are unlikely to be fixed.\n",
      "The qt toolkit is recommended instead.\n",
      "\n",
      "a = 8\n",
      "b = 5\n",
      "c = 4\n"
     ]
    }
   ],
   "source": [
    "a = 5 + 3\n",
    "b = 10 / 2\n",
    "c = sqrt(16)"
   ]
  },
  {
   "cell_type": "markdown",
   "id": "953536c6-0fa6-4977-b891-0e7ee67f6152",
   "metadata": {},
   "source": [
    "- `a` отримає значення **8**  \n",
    "- `b` отримає значення **5**  \n",
    "- `c` обчислює квадратний корінь, результат **4**  \n",
    "\n",
    "👉 Octave працює як калькулятор, але з можливістю зберігати змінні.\n",
    "\n",
    "---\n",
    "\n",
    "## 📐 2. Створення вектора та матриці"
   ]
  },
  {
   "cell_type": "code",
   "execution_count": 2,
   "id": "9a3aefa3-218c-4525-bdba-ae50f98b2481",
   "metadata": {},
   "outputs": [
    {
     "name": "stdout",
     "output_type": "stream",
     "text": [
      "v =\n",
      "\n",
      "   1   2   3   4\n",
      "\n",
      "m =\n",
      "\n",
      "   1   2\n",
      "   3   4\n",
      "\n"
     ]
    }
   ],
   "source": [
    "v = [1, 2, 3, 4]       % рядковий вектор\n",
    "m = [1 2; 3 4]         % матриця 2x2"
   ]
  },
  {
   "cell_type": "markdown",
   "id": "6a106df2-d555-4d76-9b4b-275044e5a591",
   "metadata": {},
   "source": [
    "- `v` — вектор з чотирма елементами  \n",
    "- `m` — матриця:\n",
    "  $$\n",
    "  \\begin{bmatrix}\n",
    "  1 & 2 \\\\\n",
    "  3 & 4\n",
    "  \\end{bmatrix}\n",
    "  $$\n",
    "\n",
    "---\n",
    "\n",
    "## ➕ 3. Арифметика з матрицями"
   ]
  },
  {
   "cell_type": "code",
   "execution_count": 3,
   "id": "984cb552-a421-4b5a-8842-bdc05ba5cdea",
   "metadata": {},
   "outputs": [
    {
     "name": "stdout",
     "output_type": "stream",
     "text": [
      "C =\n",
      "\n",
      "    6    8\n",
      "   10   12\n",
      "\n",
      "D =\n",
      "\n",
      "   19   22\n",
      "   43   50\n",
      "\n"
     ]
    }
   ],
   "source": [
    "A = [1 2; 3 4];\n",
    "B = [5 6; 7 8];\n",
    "\n",
    "C = A + B\n",
    "D = A * B"
   ]
  },
  {
   "cell_type": "markdown",
   "id": "fe87b8b0-457a-4eb3-aa1a-ddf573cc78c1",
   "metadata": {},
   "source": [
    "- `C` — покомпонентне додавання  \n",
    "- `D` — матричний добуток (лінійна алгебра)  \n",
    "\n",
    "---\n",
    "\n",
    "## 📊 4. Побудова графіка"
   ]
  },
  {
   "cell_type": "code",
   "execution_count": 11,
   "id": "444abf59-ec79-46bd-80b8-1e9a11bd5ba6",
   "metadata": {},
   "outputs": [
    {
     "data": {
      "image/png": "[encoded data removed]",
      "text/plain": [
       "<IPython.core.display.Image object>"
      ]
     },
     "metadata": {},
     "output_type": "display_data"
    }
   ],
   "source": [
    "graphics_toolkit(\"gnuplot\")\n",
    "x = 0:0.1:2*pi;     % вектор від 0 до 2π з кроком 0.1\n",
    "y = sin(x);\n",
    "\n",
    "plot(x, y)\n",
    "title(\"Графік функції sin(x)\")\n",
    "xlabel(\"x\")\n",
    "ylabel(\"sin(x)\")"
   ]
  },
  {
   "cell_type": "markdown",
   "id": "7debf97c-5a14-42f8-abc0-1f154bbb1238",
   "metadata": {},
   "source": [
    "- Створює графік синусоїди  \n",
    "- `plot` — базова функція для візуалізації  \n",
    "\n",
    "---\n",
    "\n",
    "## 🔄 5. Цикли та умови"
   ]
  },
  {
   "cell_type": "code",
   "execution_count": 5,
   "id": "55f13a6c-5459-43e1-a12b-5ee7798f1dd2",
   "metadata": {},
   "outputs": [
    {
     "name": "stdout",
     "output_type": "stream",
     "text": [
      "Крок: 1\n",
      "Крок: 2\n",
      "Крок: 3\n",
      "Крок: 4\n",
      "Крок: 5\n",
      "Непарне число\n"
     ]
    }
   ],
   "source": [
    "for i = 1:5\n",
    "  disp([\"Крок: \", num2str(i)])\n",
    "end\n",
    "\n",
    "n = 7;\n",
    "if mod(n,2) == 0\n",
    "  disp(\"Парне число\")\n",
    "else\n",
    "  disp(\"Непарне число\")\n",
    "end"
   ]
  },
  {
   "cell_type": "markdown",
   "id": "2e2c8bbd-5d69-4025-ad97-0d6167a804b2",
   "metadata": {},
   "source": [
    "- Цикл `for` виведе числа від 1 до 5  \n",
    "- Умова `if` перевіряє, чи число парне  \n",
    "\n",
    "---\n",
    "\n",
    "## 📈 6. Розв’язання системи рівнянь"
   ]
  },
  {
   "cell_type": "code",
   "execution_count": 6,
   "id": "0b713bc7-7e21-463b-bd32-c87b6537be90",
   "metadata": {},
   "outputs": [
    {
     "name": "stdout",
     "output_type": "stream",
     "text": [
      "x =\n",
      "\n",
      "   1.6667\n",
      "   0.6667\n",
      "\n"
     ]
    }
   ],
   "source": [
    "A = [2 1; 1 -1];\n",
    "b = [4; 1];\n",
    "\n",
    "x = A \\ b"
   ]
  },
  {
   "cell_type": "markdown",
   "id": "7c117841-9105-49ff-bb21-03c61e44a939",
   "metadata": {},
   "source": [
    "- Використання оператора `\\` дозволяє розв’язати систему лінійних рівнянь  \n",
    "- У цьому випадку розв’язок:  \n",
    "  $$\n",
    "  x = \\begin{bmatrix} 1.6667 \\\\ 0.6667 \\end{bmatrix}\n",
    "  $$\n",
    "\n",
    "---\n",
    "\n",
    "✅ **Висновок:** Octave дуже схожий на MATLAB, але є безкоштовним і відкритим. Він зручний для **лінійної алгебри, чисельних методів, побудови графіків та автоматизації обчислень**.  "
   ]
  },
  {
   "cell_type": "markdown",
   "id": "6fa76f61-14f1-4b6c-aa64-4fb336f7ad87",
   "metadata": {},
   "source": [
    "---\n",
    "\n",
    "## 📘 Шпаргалка Octave\n",
    "\n",
    "| Категорія              | Команда / Приклад                          | Пояснення |\n",
    "|-------------------------|--------------------------------------------|-----------|\n",
    "| **Арифметика**         | `a = 5 + 3`                                | Додавання (результат 8) |\n",
    "|                         | `b = 10 / 2`                               | Ділення (результат 5) |\n",
    "|                         | `c = sqrt(16)`                             | Квадратний корінь (результат 4) |\n",
    "| **Вектори**            | `v = [1, 2, 3]`                            | Рядковий вектор |\n",
    "|                         | `v = 1:5`                                  | Вектор від 1 до 5 |\n",
    "|                         | `v = 0:0.1:1`                              | Вектор від 0 до 1 з кроком 0.1 |\n",
    "| **Матриці**            | `A = [1 2; 3 4]`                           | Матриця 2×2 |\n",
    "|                         | `A'`                                       | Транспонування |\n",
    "|                         | `inv(A)`                                   | Обернена матриця |\n",
    "| **Лінійна алгебра**    | `det(A)`                                   | Визначник матриці |\n",
    "|                         | `eig(A)`                                   | Власні значення |\n",
    "|                         | `x = A \\ b`                               | Розв’язання системи рівнянь |\n",
    "| **Цикли та умови**     | `for i=1:5, disp(i), end`                  | Цикл від 1 до 5 |\n",
    "|                         | `if x>0, disp(\"позитивне\"), end`           | Умова |\n",
    "| **Функції**            | ```octave<br>function y = sqr(x)<br> y = x^2;<br>end``` | Визначення власної функції |\n",
    "| **Графіки**            | `plot(x, y)`                               | Побудова графіка |\n",
    "|                         | `title(\"Назва\")`                           | Заголовок |\n",
    "|                         | `xlabel(\"x\")`, `ylabel(\"y\")`               | Підписи осей |\n",
    "|                         | `grid on`                                  | Вмикає сітку |\n",
    "| **Файли**              | `save data.mat A b`                        | Зберегти змінні у файл |\n",
    "|                         | `load data.mat`                            | Завантажити змінні |\n",
    "| **Довідка**            | `help plot`                                | Довідка по команді |\n",
    "|                         | `doc plot`                                 | Документація (якщо доступна) |\n",
    "\n",
    "---\n",
    "\n",
    "✅ Ця таблиця охоплює **основи роботи з числами, векторами, матрицями, циклами, графіками та файлами**.  \n",
    "Її можна тримати під рукою як швидкий довідник.  \n",
    "\n",
    "Хочеш, я розширю цю шпаргалку ще й **блоком про роботу з графіками у headless‑середовищах (Jupyter/WSL)**, щоб одразу було видно, як правильно зберігати графіки у PNG чи PDF?\n"
   ]
  },
  {
   "cell_type": "markdown",
   "id": "1d4a2481-3185-4f80-80dd-2979c51a4233",
   "metadata": {},
   "source": [
    "---\n",
    "\n",
    "## 🖼️ Графіки у headless‑середовищах (Jupyter/WSL/сервери)\n",
    "\n",
    "| Завдання | Команда / Приклад | Пояснення |\n",
    "|----------|-------------------|-----------|\n",
    "| **Вибрати рушій** | `graphics_toolkit(\"gnuplot\")` | У headless‑режимі найкраще працює `gnuplot` |\n",
    "| **Побудувати графік** | ```octave<br>x = 0:0.1:2*pi;<br>y = sin(x);<br>plot(x,y)<br>``` | Побудова синусоїди (попередження можна ігнорувати) |\n",
    "| **Зберегти у PNG** | `print(\"plot.png\", \"-dpng\")` | Зберігає графік у файл PNG |\n",
    "| **Зберегти у PDF** | `print(\"plot.pdf\", \"-dpdf\")` | Зручно для статей і звітів |\n",
    "| **Зберегти у SVG** | `print(\"plot.svg\", \"-dsvg\")` | Векторний формат для редагування в Inkscape/Illustrator |\n",
    "| **Відображення у Jupyter** | ```octave<br>graphics_toolkit(\"gnuplot\")<br>plot(x,y)<br>print(\"-dpng\")<br>``` | У Jupyter графік збережеться і одразу відобразиться в ноутбуку |\n",
    "\n",
    "---\n",
    "\n",
    "## 🔑 Ключові поради\n",
    "- Якщо бачиш помилку `requires visible figure (DISPLAY='')` → це означає, що **FLTK не працює без дисплея**. Використовуй `gnuplot`.  \n",
    "- Для інтерактивних вікон (масштабування, закриття мишею) потрібен **Qt toolkit**, але він доступний лише у повноцінних GUI‑збірках Octave.  \n",
    "- У Jupyter найкраща стратегія: **малювати з `gnuplot` і одразу зберігати у файл**.  \n",
    "\n",
    "---"
   ]
  },
  {
   "cell_type": "code",
   "execution_count": 13,
   "id": "950dc9dc-0813-45c2-98ab-8bf6f61afe65",
   "metadata": {},
   "outputs": [
    {
     "name": "stdout",
     "output_type": "stream",
     "text": [
      "DEBUG: FC_WEIGHT didn't match\n"
     ]
    },
    {
     "data": {
      "image/png": "[encoded data removed]",
      "text/plain": [
       "<IPython.core.display.Image object>"
      ]
     },
     "metadata": {},
     "output_type": "display_data"
    }
   ],
   "source": [
    "graphics_toolkit(\"gnuplot\")\n",
    "x = 0:0.1:2*pi;\n",
    "y = sin(x);\n",
    "plot(x, y);\n",
    "\n",
    "print(\"sin_plot.png\", \"-dpng\");   % збереження у PNG"
   ]
  },
  {
   "cell_type": "code",
   "execution_count": null,
   "id": "54a3148b-53f7-470e-b426-494b4c536c5f",
   "metadata": {},
   "outputs": [],
   "source": []
  }
 ],
 "metadata": {
  "kernelspec": {
   "display_name": "Octave",
   "language": "octave",
   "name": "octave"
  },
  "language_info": {
   "file_extension": ".m",
   "help_links": [
    {
     "text": "GNU Octave",
     "url": "https://www.gnu.org/software/octave/support.html"
    },
    {
     "text": "Octave Kernel",
     "url": "https://github.com/Calysto/octave_kernel"
    },
    {
     "text": "MetaKernel Magics",
     "url": "https://metakernel.readthedocs.io/en/latest/source/README.html"
    }
   ],
   "mimetype": "text/x-octave",
   "name": "octave",
   "version": "10.3.0"
  }
 },
 "nbformat": 4,
 "nbformat_minor": 5
}
