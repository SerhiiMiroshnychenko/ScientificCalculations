{
 "cells": [
  {
   "cell_type": "markdown",
   "id": "93bf0c79-cdb9-44be-9636-82b8b98fd3d4",
   "metadata": {},
   "source": [
    "# Лекція 1 2"
   ]
  },
  {
   "cell_type": "code",
   "execution_count": 1,
   "id": "f71a11a0-8b24-4c1d-af30-945235b201f8",
   "metadata": {},
   "outputs": [
    {
     "name": "stdout",
     "output_type": "stream",
     "text": [
      "warning: using the fltk graphics toolkit is discouraged\n",
      "\n",
      "The FLTK graphics toolkit is not actively maintained and has a number\n",
      "of limitations that are unlikely to be fixed.\n",
      "The qt toolkit is recommended instead.\n",
      "\n",
      "error: unpack: unarchiving program exited with status: 1\n",
      "tar: Error opening archive: Failed to open '/C/Users/Asus/AppData/Local/Temp/fuzzy-logic-toolkit-0.6.2-8SDP4h.tar.gz'\n",
      "error: called from\n",
      "    unpack at line 287 column 5\n",
      "    untar at line 48 column 5\n",
      "    install at line 99 column 9\n",
      "    pkg at line 619 column 9\n"
     ]
    }
   ],
   "source": [
    "pkg install -forge fuzzy-logic-toolkit"
   ]
  },
  {
   "cell_type": "code",
   "execution_count": 2,
   "id": "44c82094-d73d-4158-9dd7-cf4431172d13",
   "metadata": {},
   "outputs": [],
   "source": [
    "pkg load fuzzy-logic-toolkit"
   ]
  },
  {
   "cell_type": "markdown",
   "id": "394ef1c1-43cd-4c97-bd7e-de1903dc6ec6",
   "metadata": {},
   "source": [
    "## L1evalmf11.m"
   ]
  },
  {
   "cell_type": "code",
   "execution_count": 3,
   "id": "347e526a-7c08-40c9-91c8-76569580ed9d",
   "metadata": {},
   "outputs": [],
   "source": [
    "x = [3 4 5];"
   ]
  },
  {
   "cell_type": "code",
   "execution_count": 4,
   "id": "dbbb6ecd-b0ee-430e-8d01-1452d06d2184",
   "metadata": {},
   "outputs": [
    {
     "name": "stdout",
     "output_type": "stream",
     "text": [
      "y =\n",
      "\n",
      "   0.2222   0.7778   1.0000\n",
      "\n"
     ]
    }
   ],
   "source": [
    "y = pimf(x, [2 5 8 9])  % y = evalmmf (x, [2 5 8 9], 'pimf')"
   ]
  },
  {
   "cell_type": "markdown",
   "id": "9d191677-ebbc-4c0b-a3e4-c51a7b0ee9f2",
   "metadata": {},
   "source": [
    "## L1evalmmf12.m"
   ]
  },
  {
   "cell_type": "code",
   "execution_count": 5,
   "id": "b595eb0d-9436-4dcf-b68e-4b7e0c04bc9f",
   "metadata": {},
   "outputs": [],
   "source": [
    "% Визначити діапазон x\n",
    "x = (-2:0.1:12)';"
   ]
  },
  {
   "cell_type": "code",
   "execution_count": 6,
   "id": "262270ea-87aa-4c9e-8397-6a529582375d",
   "metadata": {},
   "outputs": [],
   "source": [
    "% Обчислити функції приналежності безпосередньо\n",
    "y1 = gaussmf(x, [1.5 5]);        % Гауссова: sigma=1.5, center=5"
   ]
  },
  {
   "cell_type": "code",
   "execution_count": 7,
   "id": "0b608434-61f8-4cd3-9d73-1ceade4e8449",
   "metadata": {},
   "outputs": [],
   "source": [
    "y2 = trapmf(x, [3 4 6 7]);       % Трапецієподібна: [a b c d]"
   ]
  },
  {
   "cell_type": "code",
   "execution_count": 12,
   "id": "3ebf203c-3da0-4c78-8db5-ce8e54800ded",
   "metadata": {},
   "outputs": [
    {
     "name": "stdout",
     "output_type": "stream",
     "text": [
      "y =\n",
      "\n",
      "   0.0000        0\n",
      "   0.0000        0\n",
      "   0.0000        0\n",
      "   0.0000        0\n",
      "   0.0001        0\n",
      "   0.0001        0\n",
      "   0.0001        0\n",
      "   0.0001        0\n",
      "   0.0002        0\n",
      "   0.0003        0\n",
      "   0.0003        0\n",
      "   0.0004        0\n",
      "   0.0006        0\n",
      "   0.0007        0\n",
      "   0.0009        0\n",
      "   0.0012        0\n",
      "   0.0015        0\n",
      "   0.0019        0\n",
      "   0.0025        0\n",
      "   0.0031        0\n",
      "   0.0039        0\n",
      "   0.0048        0\n",
      "   0.0060        0\n",
      "   0.0074        0\n",
      "   0.0091        0\n",
      "   0.0111        0\n",
      "   0.0135        0\n",
      "   0.0164        0\n",
      "   0.0198        0\n",
      "   0.0239        0\n",
      "   0.0286        0\n",
      "   0.0340        0\n",
      "   0.0404        0\n",
      "   0.0477        0\n",
      "   0.0561        0\n",
      "   0.0657        0\n",
      "   0.0766        0\n",
      "   0.0889        0\n",
      "   0.1027        0\n",
      "   0.1182        0\n",
      "   0.1353        0\n",
      "   0.1543        0\n",
      "   0.1751        0\n",
      "   0.1979        0\n",
      "   0.2226        0\n",
      "   0.2494        0\n",
      "   0.2780        0\n",
      "   0.3086        0\n",
      "   0.3411        0\n",
      "   0.3753        0\n",
      "   0.4111        0\n",
      "   0.4483   0.1000\n",
      "   0.4868   0.2000\n",
      "   0.5261   0.3000\n",
      "   0.5662   0.4000\n",
      "   0.6065   0.5000\n",
      "   0.6469   0.6000\n",
      "   0.6869   0.7000\n",
      "   0.7261   0.8000\n",
      "   0.7642   0.9000\n",
      "   0.8007   1.0000\n",
      "   0.8353   1.0000\n",
      "   0.8674   1.0000\n",
      "   0.8968   1.0000\n",
      "   0.9231   1.0000\n",
      "   0.9460   1.0000\n",
      "   0.9651   1.0000\n",
      "   0.9802   1.0000\n",
      "   0.9912   1.0000\n",
      "   0.9978   1.0000\n",
      "   1.0000   1.0000\n",
      "   0.9978   1.0000\n",
      "   0.9912   1.0000\n",
      "   0.9802   1.0000\n",
      "   0.9651   1.0000\n",
      "   0.9460   1.0000\n",
      "   0.9231   1.0000\n",
      "   0.8968   1.0000\n",
      "   0.8674   1.0000\n",
      "   0.8353   1.0000\n",
      "   0.8007   1.0000\n",
      "   0.7642   0.9000\n",
      "   0.7261   0.8000\n",
      "   0.6869   0.7000\n",
      "   0.6469   0.6000\n",
      "   0.6065   0.5000\n",
      "   0.5662   0.4000\n",
      "   0.5261   0.3000\n",
      "   0.4868   0.2000\n",
      "   0.4483   0.1000\n",
      "   0.4111        0\n",
      "   0.3753        0\n",
      "   0.3411        0\n",
      "   0.3086        0\n",
      "   0.2780        0\n",
      "   0.2494        0\n",
      "   0.2226        0\n",
      "   0.1979        0\n",
      "   0.1751        0\n",
      "   0.1543        0\n",
      "   0.1353        0\n",
      "   0.1182        0\n",
      "   0.1027        0\n",
      "   0.0889        0\n",
      "   0.0766        0\n",
      "   0.0657        0\n",
      "   0.0561        0\n",
      "   0.0477        0\n",
      "   0.0404        0\n",
      "   0.0340        0\n",
      "   0.0286        0\n",
      "   0.0239        0\n",
      "   0.0198        0\n",
      "   0.0164        0\n",
      "   0.0135        0\n",
      "   0.0111        0\n",
      "   0.0091        0\n",
      "   0.0074        0\n",
      "   0.0060        0\n",
      "   0.0048        0\n",
      "   0.0039        0\n",
      "   0.0031        0\n",
      "   0.0025        0\n",
      "   0.0019        0\n",
      "   0.0015        0\n",
      "   0.0012        0\n",
      "   0.0009        0\n",
      "   0.0007        0\n",
      "   0.0006        0\n",
      "   0.0004        0\n",
      "   0.0003        0\n",
      "   0.0003        0\n",
      "   0.0002        0\n",
      "   0.0001        0\n",
      "   0.0001        0\n",
      "   0.0001        0\n",
      "   0.0001        0\n",
      "   0.0000        0\n",
      "   0.0000        0\n",
      "   0.0000        0\n",
      "   0.0000        0\n",
      "\n"
     ]
    }
   ],
   "source": [
    "% Об'єднати результати в матрицю\n",
    "y = [y1 y2]"
   ]
  },
  {
   "cell_type": "code",
   "execution_count": 10,
   "id": "816f73e5-cac0-4ca2-82ef-47e86bb43f94",
   "metadata": {},
   "outputs": [
    {
     "name": "stdout",
     "output_type": "stream",
     "text": [
      "warning: using the gnuplot graphics toolkit is discouraged\n",
      "\n",
      "The gnuplot graphics toolkit is not actively maintained and has a number\n",
      "of limitations that are unlikely to be fixed.  Communication with gnuplot\n",
      "uses a one-directional pipe and limited information is passed back to the\n",
      "Octave interpreter so most changes made interactively in the plot window\n",
      "will not be reflected in the graphics properties managed by Octave.  For\n",
      "example, if the plot window is closed with a mouse click, Octave will not\n",
      "be notified and will not update its internal list of open figure windows.\n",
      "The qt toolkit is recommended instead.\n"
     ]
    },
    {
     "data": {
      "image/png": "[encoded data removed]",
      "text/plain": [
       "<IPython.core.display.Image object>"
      ]
     },
     "metadata": {},
     "output_type": "display_data"
    }
   ],
   "source": [
    "% Побудувати графік\n",
    "graphics_toolkit(\"gnuplot\")\n",
    "plot(x, y); \n",
    "grid on;\n",
    "xlabel('Universe of discourse (x)');\n",
    "ylabel('Membership value (y)');\n",
    "legend('gaussmf, P=[1.5 5]', 'trapmf, P=[3 4 6 7]');"
   ]
  },
  {
   "cell_type": "code",
   "execution_count": null,
   "id": "729fe703-a702-4ce7-89e1-142864fbc121",
   "metadata": {},
   "outputs": [],
   "source": []
  }
 ],
 "metadata": {
  "kernelspec": {
   "display_name": "Octave",
   "language": "octave",
   "name": "octave"
  },
  "language_info": {
   "file_extension": ".m",
   "help_links": [
    {
     "text": "GNU Octave",
     "url": "https://www.gnu.org/software/octave/support.html"
    },
    {
     "text": "Octave Kernel",
     "url": "https://github.com/Calysto/octave_kernel"
    },
    {
     "text": "MetaKernel Magics",
     "url": "https://metakernel.readthedocs.io/en/latest/source/README.html"
    }
   ],
   "mimetype": "text/x-octave",
   "name": "octave",
   "version": "10.3.0"
  }
 },
 "nbformat": 4,
 "nbformat_minor": 5
}
