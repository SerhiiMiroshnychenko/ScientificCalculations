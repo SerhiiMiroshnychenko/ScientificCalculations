{
 "cells": [
  {
   "cell_type": "code",
   "execution_count": 9,
   "id": "1c81ec3b-51d2-4642-8ba9-5ea02bdf3f80",
   "metadata": {},
   "outputs": [],
   "source": [
    "c[T_]:= 43.77 + 4.525*10^(-3)*T"
   ]
  },
  {
   "cell_type": "code",
   "execution_count": 10,
   "id": "e2ac3279-62e8-410f-8e6e-ae7b4286e547",
   "metadata": {},
   "outputs": [
    {
     "data": {
      "text/html": [
       "<div><pre style=\"&#102;&#111;&#110;&#116;&#45;&#102;&#97;&#109;&#105;&#108;&#121;&#58;&#32;&#34;&#67;&#111;&#117;&#114;&#105;&#101;&#114;&#32;&#78;&#101;&#119;&#34;&#44;&#67;&#111;&#117;&#114;&#105;&#101;&#114;&#44;&#109;&#111;&#110;&#111;&#115;&#112;&#97;&#99;&#101;&#59;\">&#49;&#52;&#55;&#51;&#46;&#49;&#53;</pre></div>"
      ],
      "text/plain": [
       "1473.15"
      ]
     },
     "execution_count": 10,
     "metadata": {
      "text/html": [],
      "text/plain": []
     },
     "output_type": "execute_result"
    }
   ],
   "source": [
    "T1=1200+273.15"
   ]
  },
  {
   "cell_type": "code",
   "execution_count": 11,
   "id": "249efbee-f107-43ea-aa41-2bf61183c5cd",
   "metadata": {},
   "outputs": [
    {
     "data": {
      "text/html": [
       "<div><pre style=\"&#102;&#111;&#110;&#116;&#45;&#102;&#97;&#109;&#105;&#108;&#121;&#58;&#32;&#34;&#67;&#111;&#117;&#114;&#105;&#101;&#114;&#32;&#78;&#101;&#119;&#34;&#44;&#67;&#111;&#117;&#114;&#105;&#101;&#114;&#44;&#109;&#111;&#110;&#111;&#115;&#112;&#97;&#99;&#101;&#59;\">&#49;&#53;&#55;&#51;&#46;&#49;&#53;</pre></div>"
      ],
      "text/plain": [
       "1573.15"
      ]
     },
     "execution_count": 11,
     "metadata": {
      "text/html": [],
      "text/plain": []
     },
     "output_type": "execute_result"
    }
   ],
   "source": [
    "T2=1300+273.15"
   ]
  },
  {
   "cell_type": "code",
   "execution_count": 15,
   "id": "a0c8bbcd-7cbc-4554-8439-ab18bd1412d1",
   "metadata": {},
   "outputs": [
    {
     "data": {
      "text/html": [
       "<div><pre style=\"&#102;&#111;&#110;&#116;&#45;&#102;&#97;&#109;&#105;&#108;&#121;&#58;&#32;&#34;&#67;&#111;&#117;&#114;&#105;&#101;&#114;&#32;&#78;&#101;&#119;&#34;&#44;&#67;&#111;&#117;&#114;&#105;&#101;&#114;&#44;&#109;&#111;&#110;&#111;&#115;&#112;&#97;&#99;&#101;&#59;\">&#53;&#48;&#46;&#54;&#54;&#50;&#51;</pre></div>"
      ],
      "text/plain": [
       "50.6623"
      ]
     },
     "execution_count": 15,
     "metadata": {
      "text/html": [],
      "text/plain": []
     },
     "output_type": "execute_result"
    }
   ],
   "source": [
    "c_avg=1/(T2-T1)*Integrate[c[T], {T, T1, T2}]"
   ]
  },
  {
   "cell_type": "code",
   "execution_count": null,
   "id": "82a9abdc-aa0a-4740-a601-913d4592c426",
   "metadata": {},
   "outputs": [],
   "source": []
  }
 ],
 "metadata": {
  "kernelspec": {
   "display_name": "Wolfram Language 14.2",
   "language": "Wolfram Language",
   "name": "wolframlanguage14.2"
  },
  "language_info": {
   "codemirror_mode": "mathematica",
   "file_extension": ".m",
   "mimetype": "application/vnd.wolfram.m",
   "name": "Wolfram Language",
   "pygments_lexer": "mathematica",
   "version": "12.0"
  }
 },
 "nbformat": 4,
 "nbformat_minor": 5
}
