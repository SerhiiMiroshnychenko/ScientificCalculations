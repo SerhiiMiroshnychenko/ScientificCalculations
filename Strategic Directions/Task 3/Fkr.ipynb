{
 "cells": [
  {
   "metadata": {},
   "cell_type": "markdown",
   "source": "Розрахунок критичного значення F-критерія Фішера $F_{кр}$",
   "id": "293ca1bafe8a8f40"
  },
  {
   "metadata": {
    "ExecuteTime": {
     "end_time": "2025-04-18T09:26:28.392168Z",
     "start_time": "2025-04-18T09:26:28.388878Z"
    }
   },
   "cell_type": "code",
   "source": [
    "from scipy.stats import f\n",
    "\n",
    "alpha = 0.05  # Рівень значущості\n",
    "n = 150\n",
    "dfn = m = 2       # Ступені вільності чисельника (кількість факторів)\n",
    "dfd = n - m - 1      # Ступені вільності знаменника (n - m - 1)\n",
    "\n",
    "f_critical = f.ppf(1 - alpha, dfn, dfd)\n",
    "print(f\"Критичне значення F-розподілу (F_кр): {f_critical:.3f}\")"
   ],
   "id": "84d684792d2d3f4",
   "outputs": [
    {
     "name": "stdout",
     "output_type": "stream",
     "text": [
      "Критичне значення F-розподілу (F_кр): 3.058\n"
     ]
    }
   ],
   "execution_count": 3
  }
 ],
 "metadata": {
  "kernelspec": {
   "display_name": "Python 3",
   "language": "python",
   "name": "python3"
  },
  "language_info": {
   "codemirror_mode": {
    "name": "ipython",
    "version": 2
   },
   "file_extension": ".py",
   "mimetype": "text/x-python",
   "name": "python",
   "nbconvert_exporter": "python",
   "pygments_lexer": "ipython2",
   "version": "2.7.6"
  }
 },
 "nbformat": 4,
 "nbformat_minor": 5
}
