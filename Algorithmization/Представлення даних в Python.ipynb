{
 "cells": [
  {
   "metadata": {},
   "cell_type": "markdown",
   "source": "# Основи програмування на Python",
   "id": "1f497de71fd2f1f5",
   "attachments": {
    "0a78cafb-375d-408b-bdc5-9cc020675ae2.png": {
     "image/png": "[encoded data removed]"
    }
   }
  },
  {
   "metadata": {},
   "cell_type": "markdown",
   "source": "## 1. Робота з редактором Python. Загальні питання. Інтерактивний та програмний режими роботи. Набір тексту програми",
   "id": "a7d6ff6232f76c02"
  },
  {
   "metadata": {},
   "cell_type": "markdown",
   "source": "## 2. Представлення даних в Python. Поняття об’єкту. Ідентичність, тип, значення об’єкту. Функції id(), type(). Оператори is, is not",
   "id": "e92ea2c8f43c235e"
  },
  {
   "metadata": {},
   "cell_type": "markdown",
   "source": [
    "### Поняття об’єкту\n",
    "Дані в Python представлені у вигляді об’єктів або зв’язків між ними. Об’єкт – це область пам’яті, яка містить деяке значення даних та асоціаційовані з ними набори операцій. Об’єкт – це абстракція, яка використовується для представлення даних у мові Python. Об’єкт є фундаментальним поняттям у мові програмування Python (і не тільки в Python). Об’єкт є синонімом до слова екземпляр, який містить деяке значення даних.\n",
    "\n",
    "Будь-які операції (додавання, віднімання тощо) у мові Python виконуються над об’єктами."
   ],
   "id": "ff2d38bad71d07ea"
  },
  {
   "metadata": {},
   "cell_type": "markdown",
   "source": [
    "### Якими способами можна представляти дані у вигляді об’єктів?\n",
    "Дані у вигляді об’єктів можуть бути представлені двома способами:\n",
    "\n",
    "* вбудованими об’єктами, які предоставляються мовою Python;\n",
    "* власноруч створеними об’єктами, з застосуванням конструкцій мови Python чи бібліотек розширень."
   ],
   "id": "3a1694719cc84ad4"
  },
  {
   "metadata": {},
   "cell_type": "markdown",
   "source": [
    "### Які переваги дає використання вбудованих об’єктів мови Python порівняно з власноруч розробленими об’єктами?\n",
    "Використання вбудованих об’єктів дає наступні переваги:\n",
    "\n",
    "* спрощується розробка програм. Не витрачаються зайві ресурси на розробку власних складних об’єктів. Достатньо використовувати наявні потужні вбудовані засоби мови Python;\n",
    "* знижується кількість помилок на розробку власних об’єктів, оскільки програмний код вбудованих об’єктів є протестований;\n",
    "* забезпечується достатньо висока швидкодія з обробки колекцій, списків, таблиць тощо. Це пояснюється тим, що програмний код вбудованих об’єктів є максимально оптимізований;\n",
    "* можливість розробки власних складних об’єктів на базі вбудованих класів мови Python чи інтерфейсів мови C. Це в свою чергу полегшує розширюваність вже існуючого коду;\n",
    "* вбудовані об’єкти реалізовані так, що вони є стандартною і незмінною частиною мови Python. Це дає перевагу зручності та високій ефективності їх використання у програмах. Власно розроблені об’єкти мають схильність змінюватись від одного випадку до іншого."
   ],
   "id": "d5f1fed79d41ad53"
  },
  {
   "metadata": {},
   "cell_type": "markdown",
   "source": [
    "### Якими характеристиками володіє кожен об’єкт?\n",
    "Кожен об’єкт має такі характеристики як:\n",
    "\n",
    "* ідентичність;\n",
    "* тип;\n",
    "* значення."
   ],
   "id": "65d32143aecd093f"
  },
  {
   "metadata": {},
   "cell_type": "markdown",
   "source": [
    "### Що таке ідентичність об’єкту?\n",
    "Ідентичність об’єкту – це ціле унікальне і постійне (константне) число, яке встановлюється для даного конкретного об’єкту. Ідентичність об’єкту встановлюється тільки один раз при створенні об’єкту. Ідентичність даного об’єкту ніколи не змінюється після його створення. Ідентичність об’єкту асоціюється з адресою об’єкту в пам’яті."
   ],
   "id": "a1c958cd7f731480"
  },
  {
   "metadata": {},
   "cell_type": "markdown",
   "source": [
    "### Як визначити значення ідентичності для даного об’єкту? Функція id(). Приклад\n",
    "Функція id() призначена для отримання значення ідентичності об’єкту. Функція повертає ціле число, яке для даного об’єкту є унікальним та постійним."
   ],
   "id": "e1f93d5dd8684d4a"
  },
  {
   "metadata": {
    "ExecuteTime": {
     "end_time": "2025-09-02T10:34:54.313447Z",
     "start_time": "2025-09-02T10:34:54.310698Z"
    }
   },
   "cell_type": "code",
   "source": "a = 5",
   "id": "d57deacec84912cc",
   "outputs": [],
   "execution_count": 468
  },
  {
   "metadata": {
    "ExecuteTime": {
     "end_time": "2025-09-02T10:34:54.333253Z",
     "start_time": "2025-09-02T10:34:54.329642Z"
    }
   },
   "cell_type": "code",
   "source": "id(5)",
   "id": "ab78822660042ac3",
   "outputs": [
    {
     "data": {
      "text/plain": [
       "140709236696104"
      ]
     },
     "execution_count": 469,
     "metadata": {},
     "output_type": "execute_result"
    }
   ],
   "execution_count": 469
  },
  {
   "metadata": {
    "ExecuteTime": {
     "end_time": "2025-09-02T10:34:54.381186Z",
     "start_time": "2025-09-02T10:34:54.378768Z"
    }
   },
   "cell_type": "code",
   "source": "pa = id(a)",
   "id": "2d5634cd0984de5b",
   "outputs": [],
   "execution_count": 470
  },
  {
   "metadata": {
    "ExecuteTime": {
     "end_time": "2025-09-02T10:34:54.402518Z",
     "start_time": "2025-09-02T10:34:54.399472Z"
    }
   },
   "cell_type": "code",
   "source": "pa",
   "id": "15059bea5d946744",
   "outputs": [
    {
     "data": {
      "text/plain": [
       "140709236696104"
      ]
     },
     "execution_count": 471,
     "metadata": {},
     "output_type": "execute_result"
    }
   ],
   "execution_count": 471
  },
  {
   "metadata": {
    "ExecuteTime": {
     "end_time": "2025-09-02T10:34:54.458803Z",
     "start_time": "2025-09-02T10:34:54.455417Z"
    }
   },
   "cell_type": "code",
   "source": "id(5)",
   "id": "71fe54b4b38a27b9",
   "outputs": [
    {
     "data": {
      "text/plain": [
       "140709236696104"
      ]
     },
     "execution_count": 472,
     "metadata": {},
     "output_type": "execute_result"
    }
   ],
   "execution_count": 472
  },
  {
   "metadata": {
    "ExecuteTime": {
     "end_time": "2025-09-02T10:34:54.518922Z",
     "start_time": "2025-09-02T10:34:54.515827Z"
    }
   },
   "cell_type": "code",
   "source": "id(6)",
   "id": "3733aae2fbaea1c7",
   "outputs": [
    {
     "data": {
      "text/plain": [
       "140709236696136"
      ]
     },
     "execution_count": 473,
     "metadata": {},
     "output_type": "execute_result"
    }
   ],
   "execution_count": 473
  },
  {
   "metadata": {
    "ExecuteTime": {
     "end_time": "2025-09-02T10:34:54.586457Z",
     "start_time": "2025-09-02T10:34:54.583215Z"
    }
   },
   "cell_type": "code",
   "source": "id(5.0)",
   "id": "402079d809cc37ba",
   "outputs": [
    {
     "data": {
      "text/plain": [
       "2227257272880"
      ]
     },
     "execution_count": 474,
     "metadata": {},
     "output_type": "execute_result"
    }
   ],
   "execution_count": 474
  },
  {
   "metadata": {
    "ExecuteTime": {
     "end_time": "2025-09-02T10:34:54.647372Z",
     "start_time": "2025-09-02T10:34:54.644148Z"
    }
   },
   "cell_type": "code",
   "source": "id(2+3)",
   "id": "8815ec1103896d18",
   "outputs": [
    {
     "data": {
      "text/plain": [
       "140709236696104"
      ]
     },
     "execution_count": 475,
     "metadata": {},
     "output_type": "execute_result"
    }
   ],
   "execution_count": 475
  },
  {
   "metadata": {
    "ExecuteTime": {
     "end_time": "2025-09-02T10:34:54.704025Z",
     "start_time": "2025-09-02T10:34:54.701255Z"
    }
   },
   "cell_type": "code",
   "source": "id(id)",
   "id": "7ea330061599d82a",
   "outputs": [
    {
     "data": {
      "text/plain": [
       "2227183804688"
      ]
     },
     "execution_count": 476,
     "metadata": {},
     "output_type": "execute_result"
    }
   ],
   "execution_count": 476
  },
  {
   "metadata": {},
   "cell_type": "markdown",
   "source": [
    "### Як порівняти два об’єкти на ідентичність? Оператори is та is not. Приклади\n",
    "З допомогою операторів is та is not можна порівнювати значення об’єктів на ідентичність.\n",
    "\n",
    "Приклад. Порівнюються значення різних об’єктів на ідентичність з допомогою операторів is та is not."
   ],
   "id": "aaed0cb3ebd76485"
  },
  {
   "metadata": {
    "ExecuteTime": {
     "end_time": "2025-09-02T10:34:54.751073Z",
     "start_time": "2025-09-02T10:34:54.748407Z"
    }
   },
   "cell_type": "code",
   "source": [
    "a = 3\n",
    "b = 5"
   ],
   "id": "5463d1cb2e770d5f",
   "outputs": [],
   "execution_count": 477
  },
  {
   "metadata": {
    "ExecuteTime": {
     "end_time": "2025-09-02T10:34:54.768526Z",
     "start_time": "2025-09-02T10:34:54.765169Z"
    }
   },
   "cell_type": "code",
   "source": "a is b",
   "id": "d8d365935e0e0e23",
   "outputs": [
    {
     "data": {
      "text/plain": [
       "False"
      ]
     },
     "execution_count": 478,
     "metadata": {},
     "output_type": "execute_result"
    }
   ],
   "execution_count": 478
  },
  {
   "metadata": {
    "ExecuteTime": {
     "end_time": "2025-09-02T10:34:54.807593Z",
     "start_time": "2025-09-02T10:34:54.805589Z"
    }
   },
   "cell_type": "code",
   "source": "a = 5",
   "id": "6e0e9ee6826244ee",
   "outputs": [],
   "execution_count": 479
  },
  {
   "metadata": {
    "ExecuteTime": {
     "end_time": "2025-09-02T10:34:54.825353Z",
     "start_time": "2025-09-02T10:34:54.821660Z"
    }
   },
   "cell_type": "code",
   "source": "a is b",
   "id": "cf031f665d4aa0b9",
   "outputs": [
    {
     "data": {
      "text/plain": [
       "True"
      ]
     },
     "execution_count": 480,
     "metadata": {},
     "output_type": "execute_result"
    }
   ],
   "execution_count": 480
  },
  {
   "metadata": {
    "ExecuteTime": {
     "end_time": "2025-09-02T10:34:54.873961Z",
     "start_time": "2025-09-02T10:34:54.871798Z"
    }
   },
   "cell_type": "code",
   "source": [
    "a = 256\n",
    "b = 256"
   ],
   "id": "11c410102322e260",
   "outputs": [],
   "execution_count": 481
  },
  {
   "metadata": {
    "ExecuteTime": {
     "end_time": "2025-09-02T10:34:54.890521Z",
     "start_time": "2025-09-02T10:34:54.887763Z"
    }
   },
   "cell_type": "code",
   "source": "a is b",
   "id": "1c849a6c9c65b54f",
   "outputs": [
    {
     "data": {
      "text/plain": [
       "True"
      ]
     },
     "execution_count": 482,
     "metadata": {},
     "output_type": "execute_result"
    }
   ],
   "execution_count": 482
  },
  {
   "metadata": {
    "ExecuteTime": {
     "end_time": "2025-09-02T10:34:54.931899Z",
     "start_time": "2025-09-02T10:34:54.929712Z"
    }
   },
   "cell_type": "code",
   "source": [
    "a = 257\n",
    "b = 257"
   ],
   "id": "4cfbb56dc20b7902",
   "outputs": [],
   "execution_count": 483
  },
  {
   "metadata": {
    "ExecuteTime": {
     "end_time": "2025-09-02T10:34:54.949414Z",
     "start_time": "2025-09-02T10:34:54.946390Z"
    }
   },
   "cell_type": "code",
   "source": "a == b",
   "id": "1654899e469e8cbf",
   "outputs": [
    {
     "data": {
      "text/plain": [
       "True"
      ]
     },
     "execution_count": 484,
     "metadata": {},
     "output_type": "execute_result"
    }
   ],
   "execution_count": 484
  },
  {
   "metadata": {
    "ExecuteTime": {
     "end_time": "2025-09-02T10:34:54.992130Z",
     "start_time": "2025-09-02T10:34:54.989065Z"
    }
   },
   "cell_type": "code",
   "source": "a is b",
   "id": "375eee6907fb66d0",
   "outputs": [
    {
     "data": {
      "text/plain": [
       "False"
      ]
     },
     "execution_count": 485,
     "metadata": {},
     "output_type": "execute_result"
    }
   ],
   "execution_count": 485
  },
  {
   "metadata": {
    "ExecuteTime": {
     "end_time": "2025-09-02T10:34:55.032082Z",
     "start_time": "2025-09-02T10:34:55.030008Z"
    }
   },
   "cell_type": "code",
   "source": [
    "a = 5\n",
    "b = 5.0"
   ],
   "id": "d778fcdc7c1a9153",
   "outputs": [],
   "execution_count": 486
  },
  {
   "metadata": {
    "ExecuteTime": {
     "end_time": "2025-09-02T10:34:55.047546Z",
     "start_time": "2025-09-02T10:34:55.044102Z"
    }
   },
   "cell_type": "code",
   "source": "a == b",
   "id": "5fdf85691624a3c8",
   "outputs": [
    {
     "data": {
      "text/plain": [
       "True"
      ]
     },
     "execution_count": 487,
     "metadata": {},
     "output_type": "execute_result"
    }
   ],
   "execution_count": 487
  },
  {
   "metadata": {
    "ExecuteTime": {
     "end_time": "2025-09-02T10:34:55.091434Z",
     "start_time": "2025-09-02T10:34:55.088249Z"
    }
   },
   "cell_type": "code",
   "source": "a is b",
   "id": "cb34a581eb4d5a57",
   "outputs": [
    {
     "data": {
      "text/plain": [
       "False"
      ]
     },
     "execution_count": 488,
     "metadata": {},
     "output_type": "execute_result"
    }
   ],
   "execution_count": 488
  },
  {
   "metadata": {
    "ExecuteTime": {
     "end_time": "2025-09-02T10:34:55.140287Z",
     "start_time": "2025-09-02T10:34:55.136710Z"
    }
   },
   "cell_type": "code",
   "source": "a is not b",
   "id": "319e588b2d701a3e",
   "outputs": [
    {
     "data": {
      "text/plain": [
       "True"
      ]
     },
     "execution_count": 489,
     "metadata": {},
     "output_type": "execute_result"
    }
   ],
   "execution_count": 489
  },
  {
   "metadata": {},
   "cell_type": "markdown",
   "source": [
    "### Що таке тип об’єкту в Python?\n",
    "У мові Python кожен об’єкт має визначений тип. Тип об’єкту визначає:\n",
    "\n",
    "множину (набір) операцій, які підтримуються даним об’єктом;\n",
    "можливі значення для об’єктів цього типу.\n",
    "Після створення об’єкту певного типу, тип цього об’єкту вважається незмінним. Однак, в Python існують засоби зміни типу об’єкту."
   ],
   "id": "a98a553988956f74"
  },
  {
   "metadata": {},
   "cell_type": "markdown",
   "source": [
    "### Як отримати тип об’єкту? Функція type(). Приклади\n",
    "З допомогою функції type() можна отримати тип конкретного об’єкту."
   ],
   "id": "befe2d6da245931"
  },
  {
   "metadata": {
    "ExecuteTime": {
     "end_time": "2025-09-02T10:34:55.183889Z",
     "start_time": "2025-09-02T10:34:55.181532Z"
    }
   },
   "cell_type": "code",
   "source": [
    "# Приклад 1. Отримання інформації про тип цілочисельного об’єкту\n",
    "a = 10\n",
    "ta = type(a)"
   ],
   "id": "78c155b1c764288b",
   "outputs": [],
   "execution_count": 490
  },
  {
   "metadata": {
    "ExecuteTime": {
     "end_time": "2025-09-02T10:34:55.195528Z",
     "start_time": "2025-09-02T10:34:55.192673Z"
    }
   },
   "cell_type": "code",
   "source": "ta",
   "id": "d9a942ab79f36a04",
   "outputs": [
    {
     "data": {
      "text/plain": [
       "int"
      ]
     },
     "execution_count": 491,
     "metadata": {},
     "output_type": "execute_result"
    }
   ],
   "execution_count": 491
  },
  {
   "metadata": {
    "ExecuteTime": {
     "end_time": "2025-09-02T10:34:55.232758Z",
     "start_time": "2025-09-02T10:34:55.230061Z"
    }
   },
   "cell_type": "code",
   "source": [
    "# Приклад 2. Отримання інформації про тип об’єкту, що містить значення з плаваючою комою.\n",
    "b = 3.85\n",
    "tb = type(b)"
   ],
   "id": "5a134685dbae29f4",
   "outputs": [],
   "execution_count": 492
  },
  {
   "metadata": {
    "ExecuteTime": {
     "end_time": "2025-09-02T10:34:55.245645Z",
     "start_time": "2025-09-02T10:34:55.242477Z"
    }
   },
   "cell_type": "code",
   "source": "tb",
   "id": "42d41c1fc38e773e",
   "outputs": [
    {
     "data": {
      "text/plain": [
       "float"
      ]
     },
     "execution_count": 493,
     "metadata": {},
     "output_type": "execute_result"
    }
   ],
   "execution_count": 493
  },
  {
   "metadata": {
    "ExecuteTime": {
     "end_time": "2025-09-02T10:34:55.269664Z",
     "start_time": "2025-09-02T10:34:55.266364Z"
    }
   },
   "cell_type": "code",
   "source": [
    "# Приклад 3. Отримання інформації про тип об’єкту c, який є рядком символів\n",
    "c = \"abcd\""
   ],
   "id": "1aa96510dc62c7e1",
   "outputs": [],
   "execution_count": 494
  },
  {
   "metadata": {
    "ExecuteTime": {
     "end_time": "2025-09-02T10:34:55.294041Z",
     "start_time": "2025-09-02T10:34:55.291202Z"
    }
   },
   "cell_type": "code",
   "source": "c",
   "id": "d77f1e8526452456",
   "outputs": [
    {
     "data": {
      "text/plain": [
       "'abcd'"
      ]
     },
     "execution_count": 495,
     "metadata": {},
     "output_type": "execute_result"
    }
   ],
   "execution_count": 495
  },
  {
   "metadata": {
    "ExecuteTime": {
     "end_time": "2025-09-02T10:34:55.333386Z",
     "start_time": "2025-09-02T10:34:55.331049Z"
    }
   },
   "cell_type": "code",
   "source": "tc = type(c)",
   "id": "581d0bdccc0ee418",
   "outputs": [],
   "execution_count": 496
  },
  {
   "metadata": {
    "ExecuteTime": {
     "end_time": "2025-09-02T10:34:55.346230Z",
     "start_time": "2025-09-02T10:34:55.342881Z"
    }
   },
   "cell_type": "code",
   "source": "tc",
   "id": "994063be49c9ebf0",
   "outputs": [
    {
     "data": {
      "text/plain": [
       "str"
      ]
     },
     "execution_count": 497,
     "metadata": {},
     "output_type": "execute_result"
    }
   ],
   "execution_count": 497
  },
  {
   "metadata": {
    "ExecuteTime": {
     "end_time": "2025-09-02T10:34:55.392344Z",
     "start_time": "2025-09-02T10:34:55.388881Z"
    }
   },
   "cell_type": "code",
   "source": "type(c)",
   "id": "747555bed6566002",
   "outputs": [
    {
     "data": {
      "text/plain": [
       "str"
      ]
     },
     "execution_count": 498,
     "metadata": {},
     "output_type": "execute_result"
    }
   ],
   "execution_count": 498
  },
  {
   "metadata": {},
   "cell_type": "markdown",
   "source": [
    "### Як формуються значення об’єктів? Присвоєння значень об’єктам. Приклади\n",
    "Щоб змінити значення об’єкту потрібно виконати оператор присвоювання ‘=’. Оператор присвоювання застосовується для задавання об’єкту деякого значення.\n",
    "\n",
    "У загальному випадку присвоєння значення об’єкту виконується наступним чином\n",
    "```python\n",
    "object_name = value\n",
    "```\n",
    "де *value* – значення, яке присвоюється об’єкту з іменем objName.\n",
    "\n",
    "Оператор присвоювання в Python має декілька різновидів і будуть описані далі"
   ],
   "id": "309fd1d701e82aab"
  },
  {
   "metadata": {
    "ExecuteTime": {
     "end_time": "2025-09-02T10:34:55.427952Z",
     "start_time": "2025-09-02T10:34:55.425973Z"
    }
   },
   "cell_type": "code",
   "source": "object_name = 11",
   "id": "3e6da087fec77734",
   "outputs": [],
   "execution_count": 499
  },
  {
   "metadata": {
    "ExecuteTime": {
     "end_time": "2025-09-02T10:34:55.437099Z",
     "start_time": "2025-09-02T10:34:55.434778Z"
    }
   },
   "cell_type": "code",
   "source": [
    "x = 5\n",
    "y = 8\n",
    "ans = x * y"
   ],
   "id": "3c20f854daf6f8a0",
   "outputs": [],
   "execution_count": 500
  },
  {
   "metadata": {
    "ExecuteTime": {
     "end_time": "2025-09-02T10:34:55.452466Z",
     "start_time": "2025-09-02T10:34:55.449274Z"
    }
   },
   "cell_type": "code",
   "source": "x",
   "id": "37ae9d387b863d5c",
   "outputs": [
    {
     "data": {
      "text/plain": [
       "5"
      ]
     },
     "execution_count": 501,
     "metadata": {},
     "output_type": "execute_result"
    }
   ],
   "execution_count": 501
  },
  {
   "metadata": {
    "ExecuteTime": {
     "end_time": "2025-09-02T10:34:55.477145Z",
     "start_time": "2025-09-02T10:34:55.473401Z"
    }
   },
   "cell_type": "code",
   "source": "y",
   "id": "84b163649373f4e1",
   "outputs": [
    {
     "data": {
      "text/plain": [
       "8"
      ]
     },
     "execution_count": 502,
     "metadata": {},
     "output_type": "execute_result"
    }
   ],
   "execution_count": 502
  },
  {
   "metadata": {
    "ExecuteTime": {
     "end_time": "2025-09-02T10:34:55.502428Z",
     "start_time": "2025-09-02T10:34:55.499176Z"
    }
   },
   "cell_type": "code",
   "source": "ans",
   "id": "3eb1b13ffeadfb90",
   "outputs": [
    {
     "data": {
      "text/plain": [
       "40"
      ]
     },
     "execution_count": 503,
     "metadata": {},
     "output_type": "execute_result"
    }
   ],
   "execution_count": 503
  },
  {
   "metadata": {
    "ExecuteTime": {
     "end_time": "2025-09-02T10:35:26.447693Z",
     "start_time": "2025-09-02T10:35:26.443828Z"
    }
   },
   "cell_type": "code",
   "source": "y,ans",
   "id": "11bc83c90d7ce8d8",
   "outputs": [
    {
     "data": {
      "text/plain": [
       "(8, 40)"
      ]
     },
     "execution_count": 504,
     "metadata": {},
     "output_type": "execute_result"
    }
   ],
   "execution_count": 504
  },
  {
   "metadata": {},
   "cell_type": "code",
   "outputs": [],
   "execution_count": null,
   "source": "x,y,ans = 1, 3, 5",
   "id": "6d88ca15cbb5401e"
  },
  {
   "metadata": {
    "ExecuteTime": {
     "end_time": "2025-09-02T10:36:01.249793Z",
     "start_time": "2025-09-02T10:36:01.246477Z"
    }
   },
   "cell_type": "code",
   "source": "x,y,ans",
   "id": "17ca7664c839c91c",
   "outputs": [
    {
     "data": {
      "text/plain": [
       "(5, 8, 40)"
      ]
     },
     "execution_count": 505,
     "metadata": {},
     "output_type": "execute_result"
    }
   ],
   "execution_count": 505
  },
  {
   "metadata": {
    "ExecuteTime": {
     "end_time": "2025-09-02T10:36:29.390288Z",
     "start_time": "2025-09-02T10:36:29.387063Z"
    }
   },
   "cell_type": "code",
   "source": "x",
   "id": "97e15210486479a1",
   "outputs": [
    {
     "data": {
      "text/plain": [
       "5"
      ]
     },
     "execution_count": 506,
     "metadata": {},
     "output_type": "execute_result"
    }
   ],
   "execution_count": 506
  },
  {
   "metadata": {},
   "cell_type": "markdown",
   "source": "https://www.bestprog.net/uk/2019/02/02/presentation-of-data-in-python-the-concept-of-the-object-identity-type-value-of-the-object-the-functions-id-type-operators-is-is-not-ua/",
   "id": "12da2093a4d19d24"
  },
  {
   "metadata": {},
   "cell_type": "markdown",
   "source": "## 3. Літерали. Створення (генерування) об’єкту деякого типу. Базові типи об’єктів",
   "id": "3e1ac824789dcb3c"
  },
  {
   "metadata": {},
   "cell_type": "markdown",
   "source": [
    "### Поняття літералу в Python. Особливості використання літералів. Приклади літералів\n",
    "У мові програмування Python літерал – це вираз (або константа), що створює (генерує) об’єкт. Якщо в тексті програми зустрічається літерал, то для цього літералу створюється окремий об’єкт деякого типу. Тобто, система генерує відповідний код, що створює об’єкт який містить значення цього літералу. Створений об’єкт має визначений час існування.\n",
    "\n",
    "На відміну від інших мов програмування (C++, C# та інших) у мові Python термін “константа” означає, що літерали не є об’єктами які не можна змінювати. Так звані об’єкти-константи в Python можуть бути змінені."
   ],
   "id": "5ecce249f8d0e324"
  },
  {
   "metadata": {
    "ExecuteTime": {
     "end_time": "2025-09-02T14:16:21.141383Z",
     "start_time": "2025-09-02T14:16:21.133953Z"
    }
   },
   "cell_type": "code",
   "source": [
    "# Приклади літералів:\n",
    "1234\n",
    "2.71\n",
    "1+2j\n",
    "'Hello world!'\n",
    "[1, 3, [2, 4, 6]]\n",
    "{ 'Sun', 'Mon', 'Tue', 'Wed' }\n",
    "set('jklmn')"
   ],
   "id": "e90bff8c0bb2745a",
   "outputs": [
    {
     "data": {
      "text/plain": [
       "{'j', 'k', 'l', 'm', 'n'}"
      ]
     },
     "execution_count": 1,
     "metadata": {},
     "output_type": "execute_result"
    }
   ],
   "execution_count": 1
  },
  {
   "metadata": {},
   "cell_type": "markdown",
   "source": [
    "# Генерування об’єкту. Поняття вбудованого типу об’єкту\n",
    "У мові Python все, що використовується у програмі є об’єктом. Тобто для кожного рядка програмного коду система генерує відповідний об’єкт. Наприклад, об’єкти генеруються для:\n",
    "\n",
    "* цілого числа;\n",
    "* рядка символів;\n",
    "* списку;\n",
    "* файлу;\n",
    "* функції;\n",
    "* модуля;\n",
    "* класу;\n",
    "* інших елементів мови.\n",
    "*\n",
    "Кожен об’єкт має свою власну поведінку. Об’єкти створюються з допомогою інструкцій та виразів.\n",
    "\n",
    "Мова Python містить набір власних вбудованих типів об’єктів. При використанні такого типу генерується об’єкт. Наприклад, при використанні у програмі літерала-рядка\n",
    "```python\n",
    "'Hello world!'\n",
    "```\n",
    "створюється (генерується) об’єкт рядкового типу зі значенням ‘Hello world!’."
   ],
   "id": "2828fe8cde3991e9"
  },
  {
   "metadata": {},
   "cell_type": "markdown",
   "source": [
    "### Базові (вбудовані) типи об’єктів у мові Python\n",
    "| Тип об'єкту | Літерал |\n",
    "| :--- | :--- |\n",
    "| Число | `12`, `2.855`, `1+2j` |\n",
    "| Рядок | `'Sunday'`, `\"Monday\"` |\n",
    "| Список | `[1,2, [3, 4 [5]]]`, `[13, 'Text']` |\n",
    "| Словник | `{ 1:\"One\", 2:\"Two\", 3:\"Three\" }` |\n",
    "| Кортеж | `(8, 'bestprog')` |\n",
    "| Файл | `filename=open('myfile.txt', 'r')` |\n",
    "| Множина | `set(\"jklmn\")`, `{ 'j', 'k', 'l', 'm', 'n' }` |\n",
    "| Інші типи | `None`, `True`, об'єкти-шаблонів та інше |\n",
    "\n",
    "З кожним створеним об’єктом асоціюється власний набір операцій. Наприклад, для рядків можна виконувати тільки операції над рядками, для числових об’єктів можна виконувати допустимі операції над числами."
   ],
   "id": "fc8443cb0fd44a2c"
  },
  {
   "metadata": {},
   "cell_type": "markdown",
   "source": [
    "### Чи існує у мові Python конструкція оголошення типу для об’єкту?\n",
    "Ні, не існує. Тип створюваного об’єкту визначається синтаксисом виразу що виконується. Іншими словами, синтаксис виразу задає тип створюваного і використовуваного об’єкту. Джерелом типу є вираз.\n",
    "### Що означає термін “динамічна типізація об’єкту”?\n",
    "У Python термін “динамічна типізація об’єкту” означає, що тип даних об’єкту визначається автоматично і їх не потрібно оголошувати в програмному коді.\n",
    "### Що в мові Python означає термін “строга типізація об’єкту”?\n",
    "Термін “строга типізація об’єкту” означає, що після створення об’єкту деякого типу, над цим об’єктом можна виконувати тільки ті строго визначені операції, які є застосовні до його типу."
   ],
   "id": "533387ba3763cc0a"
  }
 ],
 "metadata": {
  "kernelspec": {
   "display_name": "Python 3",
   "language": "python",
   "name": "python3"
  },
  "language_info": {
   "codemirror_mode": {
    "name": "ipython",
    "version": 2
   },
   "file_extension": ".py",
   "mimetype": "text/x-python",
   "name": "python",
   "nbconvert_exporter": "python",
   "pygments_lexer": "ipython2",
   "version": "2.7.6"
  }
 },
 "nbformat": 4,
 "nbformat_minor": 5
}
