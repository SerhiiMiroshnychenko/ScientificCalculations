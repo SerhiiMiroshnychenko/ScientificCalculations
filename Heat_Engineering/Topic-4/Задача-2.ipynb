{
 "cells": [
  {
   "cell_type": "markdown",
   "id": "352019d9a921cba7",
   "metadata": {},
   "source": [
    "# Задача 2"
   ]
  },
  {
   "cell_type": "markdown",
   "id": "fd25539c6d62a94",
   "metadata": {},
   "source": [
    "Для умов опалення приватної оселі через циркуляцію нагрітої води в замкненому контурі,\n",
    "порівняти витрати на енергоносії в умовах існуючих цін (з'ясувати) при використанні природного газу та електрики.\n",
    "Для інженерного розрахунку вважати, що склад природного газу 100% метан, а ККД процесу нагріву води в обох випадках однаковий.\n",
    "Теплоту згоряння метану взяти в довіднику."
   ]
  },
  {
   "cell_type": "markdown",
   "id": "d486093435df489d",
   "metadata": {},
   "source": [
    "## Вступ\n",
    "\n",
    "Питання енергоефективності та оптимального вибору енергоносіїв для опалення приватних осель є надзвичайно актуальним у контексті постійних змін на енергетичному ринку України. Дане дослідження присвячене порівняльному аналізу економічної доцільності використання природного газу та електроенергії для опалення приватної оселі в умовах існуючих цін на енергоносії. Особлива увага приділяється розрахунку вартості генерації однакової кількості теплової енергії за допомогою різних енергоносіїв з урахуванням їхніх теплотворних характеристик та ефективності систем опалення.\n"
   ]
  },
  {
   "cell_type": "markdown",
   "id": "52372d2b24bcc4d7",
   "metadata": {},
   "source": [
    "## Теоретичні основи\n",
    "\n",
    "### Термодинамічні аспекти процесів опалення\n",
    "\n",
    "Для коректного порівняння енергоносіїв необхідно враховувати їхні фізичні властивості, зокрема теплоту згоряння. Теплота згоряння – це кількість теплової енергії, що виділяється при повному згорянні одиниці маси або об'єму палива за нормальних умов.\n",
    "\n",
    "Для природного газу теплота згоряння зазвичай вимірюється в МДж/м³. Відповідно до наданих даних, теплота згоряння чистого метану становить:\n",
    "\n",
    "$$Q_{\\text{метан}} = 50.03 \\text{ МДж/м³}$$\n",
    "\n",
    "Для природного газу, який містить домішки інших компонентів, теплота згоряння нижча і становить:\n",
    "\n",
    "$$Q_{\\text{прир.газ}} = 33.50 \\text{ МДж/м³}$$"
   ]
  },
  {
   "cell_type": "code",
   "execution_count": 47,
   "id": "311c7ab1714f209a",
   "metadata": {
    "ExecuteTime": {
     "end_time": "2025-04-19T09:29:09.270234Z",
     "start_time": "2025-04-19T09:29:09.267579Z"
    }
   },
   "outputs": [],
   "source": [
    "# Теплота згоряння\n",
    "METHANE_HEAT_VALUE = 50.03  # МДж/м³ (для чистого метану)\n",
    "NATURAL_GAS_HEAT_VALUE = 33.50  # МДж/м³ (для природного газу)"
   ]
  },
  {
   "cell_type": "markdown",
   "id": "8f5b68b3e03f2497",
   "metadata": {},
   "source": [
    "### Коефіцієнт корисної дії (ККД)\n",
    "\n",
    "Важливою характеристикою системи опалення є коефіцієнт корисної дії (ККД), який визначає частку енергії, що ефективно перетворюється на корисне тепло. Для різних типів опалювальних систем ККД може суттєво відрізнятися:\n",
    "\n",
    "$$\\eta = \\frac{Q_{\\text{корисне}}}{Q_{\\text{загальне}}}$$\n",
    "\n",
    "де $\\eta$ – коефіцієнт корисної дії системи опалення, $Q_{\\text{корисне}}$ – корисна теплова енергія, $Q_{\\text{загальне}}$ – загальна затрачена енергія.\n",
    "\n",
    "У нашому дослідженні прийнято такі значення ККД:\n",
    "- ККД газового котла: $\\eta_{\\text{газ}} = 0.9$ (90%)\n",
    "- ККД електричного котла: $\\eta_{\\text{електр}} = 0.9$ (90%)\n",
    "- ККД системи в цілому (з урахуванням втрат у трубах тощо): $\\eta_{\\text{система}} = 0.9$ (90%)"
   ]
  },
  {
   "cell_type": "code",
   "execution_count": 48,
   "id": "23e4741456e66356",
   "metadata": {
    "ExecuteTime": {
     "end_time": "2025-04-19T09:29:09.289852Z",
     "start_time": "2025-04-19T09:29:09.287474Z"
    }
   },
   "outputs": [],
   "source": [
    "# ККД\n",
    "GAS_BOILER_EFFICIENCY = 0.9  # 90% ККД газового котла\n",
    "ELECTRIC_BOILER_EFFICIENCY = 0.9  # 90% ККД електричного котла\n",
    "SYSTEM_EFFICIENCY = 0.9  # 90% ККД системи опалення (втрати у трубах тощо)"
   ]
  },
  {
   "cell_type": "markdown",
   "id": "e63a090c450d6860",
   "metadata": {},
   "source": [
    "### Перетворення енергетичних одиниць\n",
    "\n",
    "Для коректного порівняння різних енергоносіїв необхідно перевести всі енергетичні величини до єдиної системи одиниць. У даному дослідженні використовується коефіцієнт перетворення мегаджоулів у кіловат-години:\n",
    "\n",
    "$$1 \\text{ МДж} = 0.2778 \\text{ кВт·год}$$"
   ]
  },
  {
   "cell_type": "code",
   "execution_count": 49,
   "id": "975cb80c8efa187c",
   "metadata": {
    "ExecuteTime": {
     "end_time": "2025-04-19T09:29:09.305148Z",
     "start_time": "2025-04-19T09:29:09.302940Z"
    }
   },
   "outputs": [],
   "source": [
    "# Константи для перетворення одиниць\n",
    "MJ_TO_KWH = 0.2778  # 1 МДж = 0.2778 кВт·год"
   ]
  },
  {
   "cell_type": "markdown",
   "id": "d0a41731c0bb762b",
   "metadata": {},
   "source": [
    "### Тепловий насос та коефіцієнт перетворення енергії (COP)\n",
    "\n",
    "Тепловий насос – це пристрій, який переносить теплову енергію від нижчого потенціалу до вищого за допомогою затрати зовнішньої роботи. Ефективність теплового насоса характеризується коефіцієнтом перетворення енергії (COP - Coefficient of Performance):\n",
    "\n",
    "$$COP = \\frac{Q_{\\text{теплова}}}{W_{\\text{електрична}}}$$\n",
    "\n",
    "де $Q_{\\text{теплова}}$ – отримана теплова енергія, $W_{\\text{електрична}}$ – затрачена електрична енергія.\n",
    "\n",
    "Для сучасних теплових насосів COP може варіюватися від 2.5 до 5.0 і вище, залежно від типу теплового насоса та умов експлуатації."
   ]
  },
  {
   "cell_type": "markdown",
   "id": "8ba4e4f7c282329f",
   "metadata": {},
   "source": [
    "## Розв'язання\n",
    "\n",
    "### Вхідні дані\n",
    "\n",
    "Для проведення порівняльного аналізу використано наступні вхідні дані:\n",
    "\n",
    "1. Тарифи на енергоносії:\n",
    "   - Електроенергія: 4.32 грн/кВт·год\n",
    "   - Природний газ: 7.96 грн/м³\n",
    "\n",
    "2. Теплотворна здатність палива:\n",
    "   - Метану: 50.03 МДж/м³\n",
    "   - Природного газу: 33.50 МДж/м³\n",
    "\n",
    "3. Коефіцієнти корисної дії:\n",
    "   - Газового котла: 90%\n",
    "   - Електричного котла: 90%\n",
    "   - Системи опалення в цілому: 90%\n",
    "\n",
    "4. Потреба в тепловій енергії: 1000 кВт·год"
   ]
  },
  {
   "cell_type": "code",
   "execution_count": 50,
   "id": "45ddc0aa5096671f",
   "metadata": {
    "ExecuteTime": {
     "end_time": "2025-04-19T09:29:09.318047Z",
     "start_time": "2025-04-19T09:29:09.315651Z"
    }
   },
   "outputs": [],
   "source": [
    "# Константи для розрахунків (актуальні дані 2025 року)\n",
    "ELECTRICITY_PRICE = 4.32  # грн/кВт·год\n",
    "GAS_PRICE = 7.96  # грн/м³\n",
    "\n",
    "# Теплова потреба будинку для розрахунку\n",
    "HEAT_DEMAND = 1000  # кВт·год тепла за місяць"
   ]
  },
  {
   "cell_type": "markdown",
   "id": "9a1ca6ec3371fd64",
   "metadata": {},
   "source": [
    "### Методика розрахунку\n",
    "\n",
    "Розрахунок витрат на різні енергоносії здійснювався за наступним алгоритмом:\n",
    "\n",
    "1. Обчислення енергетичного еквіваленту 1 м³ газу (в кВт·год):\n",
    "   $$E_{\\text{газ/м³}} = Q_{\\text{газ}} \\cdot 0.2778$$\n",
    "\n",
    "2. Визначення ефективної енергії з урахуванням ККД:\n",
    "   $$E_{\\text{ефект}} = E_{\\text{газ/м³}} \\cdot \\eta_{\\text{газ}} \\cdot \\eta_{\\text{система}}$$\n",
    "\n",
    "3. Розрахунок необхідного об'єму газу для задоволення потреби в теплі:\n",
    "   $$V_{\\text{газ}} = \\frac{E_{\\text{потреба}}}{E_{\\text{ефект}}}$$\n",
    "\n",
    "4. Обчислення вартості газу:\n",
    "   $$C_{\\text{газ}} = V_{\\text{газ}} \\cdot T_{\\text{газ}}$$\n",
    "\n",
    "5. Розрахунок необхідної кількості електроенергії з урахуванням ККД:\n",
    "   $$E_{\\text{електр}} = \\frac{E_{\\text{потреба}}}{\\eta_{\\text{електр}} \\cdot \\eta_{\\text{система}}}$$\n",
    "\n",
    "6. Обчислення вартості електроенергії:\n",
    "   $$C_{\\text{електр}} = E_{\\text{електр}} \\cdot T_{\\text{електр}}$$\n",
    "\n",
    "7. Порівняння витрат та визначення відносної ефективності:\n",
    "   $$\\text{Коефіцієнт} = \\frac{C_{\\text{електр}}}{C_{\\text{газ}}}$$\n",
    "\n",
    "8. Для теплового насоса додатково розраховується витрата електроенергії з урахуванням COP:\n",
    "   $$E_{\\text{тн}} = \\frac{E_{\\text{потреба}}}{COP \\cdot \\eta_{\\text{система}}}$$\n",
    "\n",
    "9. Визначення критичного значення COP, при якому електричне опалення з тепловим насосом стає економічно вигіднішим за газове:\n",
    "   $$COP_{\\text{крит}} = \\frac{E_{\\text{електр}} \\cdot T_{\\text{електр}}}{C_{\\text{газ}}}$$"
   ]
  },
  {
   "cell_type": "markdown",
   "id": "41fc6006fa4d7e8e",
   "metadata": {},
   "source": [
    "### Розрахунок енергетичних характеристик метану\n",
    "\n",
    "Розрахуємо енергетичний еквівалент 1 м³ метану:"
   ]
  },
  {
   "cell_type": "code",
   "execution_count": 51,
   "id": "ef827b0d4452de82",
   "metadata": {
    "ExecuteTime": {
     "end_time": "2025-04-19T09:29:09.332085Z",
     "start_time": "2025-04-19T09:29:09.329036Z"
    }
   },
   "outputs": [
    {
     "name": "stdout",
     "output_type": "stream",
     "text": [
      "Енергія від 1 м³ метану: 13.90 кВт·год\n"
     ]
    }
   ],
   "source": [
    "# Розрахунок енергії від 1 м³ метану\n",
    "methane_energy_per_m3 = METHANE_HEAT_VALUE * MJ_TO_KWH  # кВт·год/м³\n",
    "print(f\"Енергія від 1 м³ метану: {methane_energy_per_m3:.2f} кВт·год\")"
   ]
  },
  {
   "cell_type": "markdown",
   "id": "8a618d5ea19dfd9f",
   "metadata": {},
   "source": [
    "$$E_{\\text{метан/м³}} = Q_{\\text{метан}} \\cdot 0.2778 = 50.03 \\text{ МДж/м³} \\cdot 0.2778 \\text{ кВт·год/МДж} = 13.90 \\text{ кВт·год/м³}$$"
   ]
  },
  {
   "cell_type": "markdown",
   "id": "e9b01c5b3fc42c42",
   "metadata": {},
   "source": [
    "З урахуванням ККД газового котла та системи опалення:"
   ]
  },
  {
   "cell_type": "code",
   "execution_count": 52,
   "id": "3bf01d7df3f0dba9",
   "metadata": {
    "ExecuteTime": {
     "end_time": "2025-04-19T09:29:09.361898Z",
     "start_time": "2025-04-19T09:29:09.358825Z"
    }
   },
   "outputs": [
    {
     "name": "stdout",
     "output_type": "stream",
     "text": [
      "Енергія від 1 м³ метану з урахуванням ККД: 11.26 кВт·год\n"
     ]
    }
   ],
   "source": [
    "methane_energy_with_efficiency = methane_energy_per_m3 * GAS_BOILER_EFFICIENCY * SYSTEM_EFFICIENCY  # кВт·год/м³ з урахуванням ККД\n",
    "print(f\"Енергія від 1 м³ метану з урахуванням ККД: {methane_energy_with_efficiency:.2f} кВт·год\")"
   ]
  },
  {
   "cell_type": "markdown",
   "id": "4652cd5acac3e31b",
   "metadata": {},
   "source": [
    "$$E_{\\text{метан/ефект}} = E_{\\text{метан/м³}} \\cdot \\eta_{\\text{газ}} \\cdot \\eta_{\\text{система}} = 13.90 \\text{ кВт·год/м³} \\cdot 0.9 \\cdot 0.9 = 11.26 \\text{ кВт·год/м³}$$"
   ]
  },
  {
   "cell_type": "markdown",
   "id": "7c80230ddbf53c7b",
   "metadata": {},
   "source": [
    "Для забезпечення 1000 кВт·год теплової енергії потрібно:"
   ]
  },
  {
   "cell_type": "code",
   "execution_count": 53,
   "id": "baab68a90b7aa08e",
   "metadata": {
    "ExecuteTime": {
     "end_time": "2025-04-19T09:29:09.394306Z",
     "start_time": "2025-04-19T09:29:09.391279Z"
    }
   },
   "outputs": [
    {
     "name": "stdout",
     "output_type": "stream",
     "text": [
      "Кількість метану для забезпечення 1000 кВт·год тепла: 88.83 м³\n"
     ]
    }
   ],
   "source": [
    "# Розрахунок кількості метану для забезпечення теплової потреби\n",
    "methane_volume_needed = HEAT_DEMAND / methane_energy_with_efficiency  # м³\n",
    "print(f\"Кількість метану для забезпечення {HEAT_DEMAND} кВт·год тепла: {methane_volume_needed:.2f} м³\")"
   ]
  },
  {
   "cell_type": "markdown",
   "id": "c7eaff79c179c20a",
   "metadata": {},
   "source": [
    "$$V_{\\text{метан}} = \\frac{E_{\\text{потреба}}}{E_{\\text{ефект}}} = \\frac{1000 \\text{ кВт·год}}{11.26 \\text{ кВт·год/м³}} = 88.83 \\text{ м³}$$"
   ]
  },
  {
   "cell_type": "markdown",
   "id": "ceff2841bc48cc85",
   "metadata": {},
   "source": [
    "Вартість метану:"
   ]
  },
  {
   "cell_type": "code",
   "execution_count": 54,
   "id": "1200aa5765bf738d",
   "metadata": {
    "ExecuteTime": {
     "end_time": "2025-04-19T09:29:09.484021Z",
     "start_time": "2025-04-19T09:29:09.481457Z"
    }
   },
   "outputs": [
    {
     "name": "stdout",
     "output_type": "stream",
     "text": [
      "Витрати на метан: 707.07 грн\n"
     ]
    }
   ],
   "source": [
    "# Розрахунок витрат на газ\n",
    "methane_cost = methane_volume_needed * GAS_PRICE  # грн\n",
    "print(f\"Витрати на метан: {methane_cost:.2f} грн\")"
   ]
  },
  {
   "cell_type": "markdown",
   "id": "f69b46d2af2252e8",
   "metadata": {},
   "source": [
    "$$C_{\\text{метан}} = V_{\\text{метан}} \\cdot T_{\\text{газ}} = 88.83 \\text{ м³} \\cdot 7.96 \\text{ грн/м³} = 707.07 \\text{ грн}$$"
   ]
  },
  {
   "cell_type": "markdown",
   "id": "a90dfeec3a47b97d",
   "metadata": {},
   "source": [
    "### Розрахунок енергетичних характеристик природного газу\n",
    "\n",
    "Розрахуємо енергетичний еквівалент 1 м³ природного газу:"
   ]
  },
  {
   "cell_type": "code",
   "execution_count": 55,
   "id": "a8b8f426ebcbc37a",
   "metadata": {
    "ExecuteTime": {
     "end_time": "2025-04-19T09:29:09.522930Z",
     "start_time": "2025-04-19T09:29:09.519550Z"
    }
   },
   "outputs": [
    {
     "name": "stdout",
     "output_type": "stream",
     "text": [
      "Енергія від 1 м³ природного газу: 9.31 кВт·год\n"
     ]
    }
   ],
   "source": [
    "# Розрахунок енергії від 1 м³ природного газу\n",
    "natural_gas_energy_per_m3 = NATURAL_GAS_HEAT_VALUE * MJ_TO_KWH  # кВт·год/м³\n",
    "print(f\"Енергія від 1 м³ природного газу: {natural_gas_energy_per_m3:.2f} кВт·год\")"
   ]
  },
  {
   "cell_type": "markdown",
   "id": "96f95cb409b148c0",
   "metadata": {},
   "source": [
    "$$E_{\\text{прир.газ/м³}} = Q_{\\text{прир.газ}} \\cdot 0.2778 = 33.50 \\text{ МДж/м³} \\cdot 0.2778 \\text{ кВт·год/МДж} = 9.31 \\text{ кВт·год/м³}$$"
   ]
  },
  {
   "cell_type": "markdown",
   "id": "60b5238a718f104b",
   "metadata": {},
   "source": [
    "З урахуванням ККД газового котла та системи опалення:"
   ]
  },
  {
   "cell_type": "code",
   "execution_count": 56,
   "id": "634de7d092e3c702",
   "metadata": {
    "ExecuteTime": {
     "end_time": "2025-04-19T09:29:09.578828Z",
     "start_time": "2025-04-19T09:29:09.575994Z"
    }
   },
   "outputs": [
    {
     "name": "stdout",
     "output_type": "stream",
     "text": [
      "Енергія від 1 м³ природного газу з урахуванням ККД: 7.54 кВт·год\n"
     ]
    }
   ],
   "source": [
    "natural_gas_energy_with_efficiency = natural_gas_energy_per_m3 * GAS_BOILER_EFFICIENCY * SYSTEM_EFFICIENCY  # кВт·год/м³ з урахуванням ККД\n",
    "print(f\"Енергія від 1 м³ природного газу з урахуванням ККД: {natural_gas_energy_with_efficiency:.2f} кВт·год\")"
   ]
  },
  {
   "cell_type": "markdown",
   "id": "820259510df4af98",
   "metadata": {},
   "source": [
    "$$E_{\\text{прир.газ/ефект}} = E_{\\text{прир.газ/м³}} \\cdot \\eta_{\\text{газ}} \\cdot \\eta_{\\text{система}} = 9.31 \\text{ кВт·год/м³} \\cdot 0.9 \\cdot 0.9 = 7.54 \\text{ кВт·год/м³}$$"
   ]
  },
  {
   "cell_type": "markdown",
   "id": "8edad403ddb9bd5d",
   "metadata": {},
   "source": [
    "Для забезпечення 1000 кВт·год теплової енергії потрібно:"
   ]
  },
  {
   "cell_type": "code",
   "execution_count": 57,
   "id": "5d92c293666a70d3",
   "metadata": {
    "ExecuteTime": {
     "end_time": "2025-04-19T09:29:09.615450Z",
     "start_time": "2025-04-19T09:29:09.612456Z"
    }
   },
   "outputs": [
    {
     "name": "stdout",
     "output_type": "stream",
     "text": [
      "Кількість природного газу для забезпечення 1000 кВт·год тепла: 132.66 м³\n"
     ]
    }
   ],
   "source": [
    "# Розрахунок кількості природного газу для забезпечення теплової потреби\n",
    "natural_gas_volume_needed = HEAT_DEMAND / natural_gas_energy_with_efficiency  # м³\n",
    "print(f\"Кількість природного газу для забезпечення {HEAT_DEMAND} кВт·год тепла: {natural_gas_volume_needed:.2f} м³\")"
   ]
  },
  {
   "cell_type": "markdown",
   "id": "d30187d968f69377",
   "metadata": {},
   "source": [
    "$$V_{\\text{прир.газ}} = \\frac{E_{\\text{потреба}}}{E_{\\text{ефект}}} = \\frac{1000 \\text{ кВт·год}}{7.54 \\text{ кВт·год/м³}} = 132.66 \\text{ м³}$$"
   ]
  },
  {
   "cell_type": "markdown",
   "id": "ac6796bcddb9a9d5",
   "metadata": {},
   "source": [
    "Вартість природного газу:"
   ]
  },
  {
   "cell_type": "code",
   "execution_count": 58,
   "id": "8f49d648cca685c6",
   "metadata": {
    "ExecuteTime": {
     "end_time": "2025-04-19T09:29:09.673666Z",
     "start_time": "2025-04-19T09:29:09.670413Z"
    }
   },
   "outputs": [
    {
     "name": "stdout",
     "output_type": "stream",
     "text": [
      "Витрати на природний газ: 1055.97 грн\n"
     ]
    }
   ],
   "source": [
    "# Розрахунок витрат на природний газ\n",
    "natural_gas_cost = natural_gas_volume_needed * GAS_PRICE  # грн\n",
    "print(f\"Витрати на природний газ: {natural_gas_cost:.2f} грн\")"
   ]
  },
  {
   "cell_type": "markdown",
   "id": "9d5fff898db23bb8",
   "metadata": {},
   "source": [
    "### Розрахунок енергетичних характеристик електричного опалення\n",
    "\n",
    "Для забезпечення 1000 кВт·год теплової енергії з використанням електричного котла потрібно:"
   ]
  },
  {
   "cell_type": "code",
   "execution_count": 59,
   "id": "290acbf75598aab9",
   "metadata": {
    "ExecuteTime": {
     "end_time": "2025-04-19T09:29:09.703090Z",
     "start_time": "2025-04-19T09:29:09.700450Z"
    }
   },
   "outputs": [
    {
     "name": "stdout",
     "output_type": "stream",
     "text": [
      "Кількість електроенергії для забезпечення 1000 кВт·год тепла: 1234.57 кВт·год\n"
     ]
    }
   ],
   "source": [
    "# Розрахунок кількості електроенергії для забезпечення теплової потреби\n",
    "electricity_needed = HEAT_DEMAND / (ELECTRIC_BOILER_EFFICIENCY * SYSTEM_EFFICIENCY)  # кВт·год\n",
    "print(f\"Кількість електроенергії для забезпечення {HEAT_DEMAND} кВт·год тепла: {electricity_needed:.2f} кВт·год\")"
   ]
  },
  {
   "cell_type": "markdown",
   "id": "1b85bd664f63a4b9",
   "metadata": {},
   "source": [
    "$$E_{\\text{електр}} = \\frac{E_{\\text{потреба}}}{\\eta_{\\text{електр}} \\cdot \\eta_{\\text{система}}} = \\frac{1000 \\text{ кВт·год}}{0.9 \\cdot 0.9} = 1234.57 \\text{ кВт·год}$$"
   ]
  },
  {
   "cell_type": "markdown",
   "id": "49c86420af6e6a6a",
   "metadata": {},
   "source": [
    "Вартість електроенергії:"
   ]
  },
  {
   "cell_type": "code",
   "execution_count": 60,
   "id": "baa59dc178f0b3ad",
   "metadata": {
    "ExecuteTime": {
     "end_time": "2025-04-19T09:29:09.725029Z",
     "start_time": "2025-04-19T09:29:09.722040Z"
    }
   },
   "outputs": [
    {
     "name": "stdout",
     "output_type": "stream",
     "text": [
      "Витрати на електроенергію: 5333.33 грн\n"
     ]
    }
   ],
   "source": [
    "# Розрахунок витрат на електроенергію\n",
    "electricity_cost = electricity_needed * ELECTRICITY_PRICE  # грн\n",
    "print(f\"Витрати на електроенергію: {electricity_cost:.2f} грн\")"
   ]
  },
  {
   "cell_type": "markdown",
   "id": "637b42f976881f01",
   "metadata": {},
   "source": [
    "$$C_{\\text{електр}} = E_{\\text{електр}} \\cdot T_{\\text{електр}} = 1234.57 \\text{ кВт·год} \\cdot 4.32 \\text{ грн/кВт·год} = 5333.33 \\text{ грн}$$"
   ]
  },
  {
   "cell_type": "markdown",
   "id": "ed55c1d5d5db778f",
   "metadata": {},
   "source": [
    "### Порівняльний аналіз енергоносіїв\n",
    "\n",
    "Результати розрахунків демонструють істотну різницю в вартості опалення різними енергоносіями:\n",
    "\n",
    "- Витрати на опалення метаном: 707.07 грн\n",
    "- Витрати на опалення природним газом: 1055.97 грн\n",
    "- Витрати на опалення електроенергією: 5333.33 грн"
   ]
  },
  {
   "cell_type": "markdown",
   "id": "c671b042a7e8cd05",
   "metadata": {},
   "source": [
    "Порівняльні коефіцієнти:"
   ]
  },
  {
   "cell_type": "code",
   "execution_count": 61,
   "id": "811c680436a04e16",
   "metadata": {
    "ExecuteTime": {
     "end_time": "2025-04-19T09:34:38.215724Z",
     "start_time": "2025-04-19T09:34:38.212912Z"
    }
   },
   "outputs": [
    {
     "name": "stdout",
     "output_type": "stream",
     "text": [
      "Природний газ дорожчий за чистий метан у 1.49 рази\n"
     ]
    }
   ],
   "source": [
    "# Порівняння витрат\n",
    "print(f\"Природний газ дорожчий за чистий метан у {natural_gas_cost / methane_cost:.2f} рази\")"
   ]
  },
  {
   "cell_type": "markdown",
   "id": "f93be21cb624a792",
   "metadata": {},
   "source": [
    "- Природний газ дорожчий за метан у 1.49 рази"
   ]
  },
  {
   "cell_type": "code",
   "execution_count": 62,
   "id": "65d4bdb36cf1f3cf",
   "metadata": {
    "ExecuteTime": {
     "end_time": "2025-04-19T09:37:12.072573Z",
     "start_time": "2025-04-19T09:37:12.069066Z"
    }
   },
   "outputs": [
    {
     "name": "stdout",
     "output_type": "stream",
     "text": [
      "Опалення електроенергією дорожче за метан у 7.54 рази\n"
     ]
    }
   ],
   "source": [
    "methane_cost_ratio = electricity_cost / methane_cost\n",
    "print(f\"Опалення електроенергією дорожче за метан у {methane_cost_ratio:.2f} рази\")"
   ]
  },
  {
   "cell_type": "markdown",
   "id": "cb8a722c1de716ce",
   "metadata": {},
   "source": [
    "- Електричне опалення дорожче за метан у 7.54 рази"
   ]
  },
  {
   "cell_type": "code",
   "execution_count": 63,
   "id": "6feda6f449df8528",
   "metadata": {
    "ExecuteTime": {
     "end_time": "2025-04-19T09:38:35.234874Z",
     "start_time": "2025-04-19T09:38:35.231184Z"
    }
   },
   "outputs": [
    {
     "name": "stdout",
     "output_type": "stream",
     "text": [
      "Опалення електроенергією дорожче за природний газ у 5.05 рази\n"
     ]
    }
   ],
   "source": [
    "natural_gas_cost_ratio = electricity_cost / natural_gas_cost\n",
    "print(f\"Опалення електроенергією дорожче за природний газ у {natural_gas_cost_ratio:.2f} рази\")"
   ]
  },
  {
   "cell_type": "markdown",
   "id": "a74dae8521c35ce1",
   "metadata": {},
   "source": [
    "- Електричне опалення дорожче за природний газ у 5.05 рази"
   ]
  },
  {
   "cell_type": "markdown",
   "id": "b295a604148ba9b3",
   "metadata": {},
   "source": [
    "### Аналіз ефективності використання теплового насоса\n",
    "\n",
    "При використанні теплового насоса вартість опалення електроенергією суттєво зменшується. Розрахунки проведені для різних значень COP:"
   ]
  },
  {
   "cell_type": "code",
   "execution_count": 64,
   "id": "495a2e5b34c4c190",
   "metadata": {
    "ExecuteTime": {
     "end_time": "2025-04-19T09:41:49.274186Z",
     "start_time": "2025-04-19T09:41:49.269119Z"
    }
   },
   "outputs": [
    {
     "name": "stdout",
     "output_type": "stream",
     "text": [
      "===== Аналіз використання теплового насоса =====\n",
      "COP = 2.5:\n",
      "  Витрати: 1920.00 грн\n",
      "  Співвідношення до метану: 2.72\n",
      "  Співвідношення до природного газу: 1.82\n",
      "COP = 3.0:\n",
      "  Витрати: 1600.00 грн\n",
      "  Співвідношення до метану: 2.26\n",
      "  Співвідношення до природного газу: 1.52\n",
      "COP = 3.5:\n",
      "  Витрати: 1371.43 грн\n",
      "  Співвідношення до метану: 1.94\n",
      "  Співвідношення до природного газу: 1.30\n",
      "COP = 4.0:\n",
      "  Витрати: 1200.00 грн\n",
      "  Співвідношення до метану: 1.70\n",
      "  Співвідношення до природного газу: 1.14\n",
      "COP = 4.5:\n",
      "  Витрати: 1066.67 грн\n",
      "  Співвідношення до метану: 1.51\n",
      "  Співвідношення до природного газу: 1.01\n"
     ]
    }
   ],
   "source": [
    "# Аналіз використання теплового насоса\n",
    "print(\"===== Аналіз використання теплового насоса =====\")\n",
    "heat_pump_results = []\n",
    "for cop in [2.5, 3.0, 3.5, 4.0, 4.5]:\n",
    "    electricity_with_heat_pump = HEAT_DEMAND / (cop * SYSTEM_EFFICIENCY)\n",
    "    cost_with_heat_pump = electricity_with_heat_pump * ELECTRICITY_PRICE\n",
    "    methane_ratio = cost_with_heat_pump / methane_cost\n",
    "    natural_gas_ratio = cost_with_heat_pump / natural_gas_cost\n",
    "\n",
    "    result = {\n",
    "        'cop': cop,\n",
    "        'cost': cost_with_heat_pump,\n",
    "        'methane_ratio': methane_ratio,\n",
    "        'natural_gas_ratio': natural_gas_ratio\n",
    "    }\n",
    "    heat_pump_results.append(result)\n",
    "\n",
    "    print(f\"COP = {cop}:\")\n",
    "    print(f\"  Витрати: {cost_with_heat_pump:.2f} грн\")\n",
    "    print(f\"  Співвідношення до метану: {methane_ratio:.2f}\")\n",
    "    print(f\"  Співвідношення до природного газу: {natural_gas_ratio:.2f}\")"
   ]
  },
  {
   "cell_type": "markdown",
   "id": "fb22bae04d95f7",
   "metadata": {},
   "source": [
    "- При COP = 2.5: 1920.00 грн (в 2.72 рази дорожче за метан, в 1.82 рази дорожче за природний газ)\n",
    "- При COP = 3.0: 1600.00 грн (в 2.26 рази дорожче за метан, в 1.52 рази дорожче за природний газ)\n",
    "- При COP = 3.5: 1371.43 грн (в 1.94 рази дорожче за метан, в 1.30 рази дорожче за природний газ)\n",
    "- При COP = 4.0: 1200.00 грн (в 1.70 рази дорожче за метан, в 1.14 рази дорожче за природний газ)\n",
    "- При COP = 4.5: 1066.67 грн (в 1.51 рази дорожче за метан, в 1.01 рази дорожче за природний газ)"
   ]
  },
  {
   "cell_type": "markdown",
   "id": "dc46cd25975cff15",
   "metadata": {},
   "source": [
    "#### Визначення критичного COP\n",
    "\n",
    "Критичний COP – це значення, при якому вартість опалення за допомогою теплового насоса стає рівною вартості опалення газом."
   ]
  },
  {
   "cell_type": "code",
   "execution_count": 65,
   "id": "1308ff2393a7d868",
   "metadata": {
    "ExecuteTime": {
     "end_time": "2025-04-19T09:46:01.644160Z",
     "start_time": "2025-04-19T09:46:01.576948Z"
    }
   },
   "outputs": [
    {
     "name": "stdout",
     "output_type": "stream",
     "text": [
      "\n",
      "===== Знаходження критичного COP =====\n",
      "Критичний COP для метану: 6.8\n",
      "Критичний COP для природного газу: 4.6\n"
     ]
    }
   ],
   "source": [
    "# Знаходження критичного COP для метану та природного газу\n",
    "import numpy as np\n",
    "print(\"\\n===== Знаходження критичного COP =====\")\n",
    "cop_values = np.arange(1, 15.1, 0.1)\n",
    "\n",
    "# Для метану\n",
    "methane_critical_cop_found = False\n",
    "for cop in cop_values:\n",
    "    electricity_with_heat_pump = HEAT_DEMAND / (cop * SYSTEM_EFFICIENCY)\n",
    "    cost_with_heat_pump = electricity_with_heat_pump * ELECTRICITY_PRICE\n",
    "    if cost_with_heat_pump < methane_cost:\n",
    "        print(f\"Критичний COP для метану: {cop:.1f}\")\n",
    "        methane_critical_cop_found = True\n",
    "        break\n",
    "\n",
    "if not methane_critical_cop_found:\n",
    "    print(\"При COP до 15 тепловий насос не стає вигіднішим за метан\")\n",
    "\n",
    "# Для природного газу\n",
    "natural_gas_critical_cop_found = False\n",
    "for cop in cop_values:\n",
    "    electricity_with_heat_pump = HEAT_DEMAND / (cop * SYSTEM_EFFICIENCY)\n",
    "    cost_with_heat_pump = electricity_with_heat_pump * ELECTRICITY_PRICE\n",
    "    if cost_with_heat_pump < natural_gas_cost:\n",
    "        print(f\"Критичний COP для природного газу: {cop:.1f}\")\n",
    "        natural_gas_critical_cop_found = True\n",
    "        break\n",
    "\n",
    "if not natural_gas_critical_cop_found:\n",
    "    print(\"При COP до 15 тепловий насос не стає вигіднішим за природний газ\")"
   ]
  },
  {
   "cell_type": "markdown",
   "id": "2da6b22c453e5184",
   "metadata": {},
   "source": [
    " Розрахунки показали:"
   ]
  },
  {
   "cell_type": "markdown",
   "id": "23d2b080c4c6f7af",
   "metadata": {},
   "source": [
    "- Критичний COP для метану: 6.8\n",
    "- Критичний COP для природного газу: 4.6\n",
    "\n",
    "Це означає, що при досягненні теплових насосів з COP ≥ 6.8, електричне опалення стає економічно вигіднішим за опалення чистим метаном, а при COP ≥ 4.6 – вигіднішим за опалення природним газом."
   ]
  },
  {
   "cell_type": "markdown",
   "id": "1e1b5a5ed31a3a87",
   "metadata": {},
   "source": [
    "## Візуалізація результатів"
   ]
  },
  {
   "cell_type": "code",
   "execution_count": 67,
   "id": "b6b1f5f5831d4600",
   "metadata": {
    "ExecuteTime": {
     "end_time": "2025-04-19T09:50:03.190242Z",
     "start_time": "2025-04-19T09:50:03.095695Z"
    }
   },
   "outputs": [
    {
     "data": {
      "image/png": "[encoded data removed]",
      "text/plain": [
       "<Figure size 1000x600 with 1 Axes>"
      ]
     },
     "metadata": {},
     "output_type": "display_data"
    }
   ],
   "source": [
    "# Порівняння витрат на різні енергоносії\n",
    "import matplotlib.pyplot as plt\n",
    "plt.figure(figsize=(10, 6))\n",
    "costs = [methane_cost, natural_gas_cost, electricity_cost]\n",
    "labels = ['Чистий метан', 'Природний газ', 'Електроенергія']\n",
    "colors = ['#1f77b4', '#ff7f0e', '#2ca02c']\n",
    "\n",
    "plt.bar(labels, costs, color=colors)\n",
    "plt.ylabel('Витрати, грн')\n",
    "plt.title('Порівняння витрат на опалення для 1000 кВт·год теплової енергії')\n",
    "\n",
    "for i, cost in enumerate(costs):\n",
    "    plt.text(i, cost + 50, f'{cost:.2f} грн', ha='center')\n",
    "\n",
    "plt.grid(axis='y', linestyle='--', alpha=0.7)\n",
    "plt.tight_layout()\n",
    "plt.show()"
   ]
  },
  {
   "cell_type": "code",
   "execution_count": 68,
   "id": "816d3c1a443fbdd8",
   "metadata": {
    "ExecuteTime": {
     "end_time": "2025-04-19T09:51:44.792899Z",
     "start_time": "2025-04-19T09:51:44.647470Z"
    }
   },
   "outputs": [
    {
     "data": {
      "image/png": "[encoded data removed]",
      "text/plain": [
       "<Figure size 1200x700 with 1 Axes>"
      ]
     },
     "metadata": {},
     "output_type": "display_data"
    }
   ],
   "source": [
    "# Графік залежності витрат від COP теплового насоса\n",
    "plt.figure(figsize=(12, 7))\n",
    "cop_range = np.arange(1, 10.1, 0.5)\n",
    "heat_pump_costs = []\n",
    "\n",
    "for cop in cop_range:\n",
    "    electricity_with_heat_pump = HEAT_DEMAND / (cop * SYSTEM_EFFICIENCY)\n",
    "    cost_with_heat_pump = electricity_with_heat_pump * ELECTRICITY_PRICE\n",
    "    heat_pump_costs.append(cost_with_heat_pump)\n",
    "\n",
    "plt.plot(cop_range, heat_pump_costs, 'g-', marker='o', label='Електроенергія з тепловим насосом')\n",
    "plt.axhline(y=methane_cost, color='b', linestyle='--',\n",
    "            label=f'Чистий метан ({methane_cost:.2f} грн)')\n",
    "plt.axhline(y=natural_gas_cost, color='orange', linestyle='--',\n",
    "            label=f'Природний газ ({natural_gas_cost:.2f} грн)')\n",
    "plt.axhline(y=electricity_cost, color='r', linestyle='--',\n",
    "            label=f'Пряме електричне опалення ({electricity_cost:.2f} грн)')\n",
    "\n",
    "plt.xlabel('COP теплового насоса')\n",
    "plt.ylabel('Витрати, грн')\n",
    "plt.title('Порівняння витрат при використанні теплового насоса з різними COP')\n",
    "plt.grid(True, linestyle='--', alpha=0.7)\n",
    "plt.legend()\n",
    "plt.tight_layout()\n",
    "plt.show()"
   ]
  },
  {
   "metadata": {
    "ExecuteTime": {
     "end_time": "2025-04-19T10:06:18.989974Z",
     "start_time": "2025-04-19T10:06:18.982806Z"
    }
   },
   "cell_type": "code",
   "source": [
    "# Додавання нового імпорту для роботи з таблицями\n",
    "import pandas as pd\n",
    "\n",
    "# Створення таблиці для порівняння трьох енергоносіїв\n",
    "comparison_data = {\n",
    "    'Параметр': ['Енергоносій', 'Теплота згоряння', 'Вартість 1 одиниці', 'Кількість для 1000 кВт·год тепла', 'Загальні витрати', 'Відносна вартість'],\n",
    "    'Чистий метан': ['Метан (100%)', f'{METHANE_HEAT_VALUE:.2f} МДж/м³', f'{GAS_PRICE:.2f} грн/м³',\n",
    "                     f'{methane_volume_needed:.2f} м³', f'{methane_cost:.2f} грн', '1'],\n",
    "    'Природний газ': ['Природний газ', f'{NATURAL_GAS_HEAT_VALUE:.2f} МДж/м³', f'{GAS_PRICE:.2f} грн/м³',\n",
    "                      f'{natural_gas_volume_needed:.2f} м³', f'{natural_gas_cost:.2f} грн',\n",
    "                      f'{natural_gas_cost / methane_cost:.2f}'],\n",
    "    'Електроенергія': ['Електрика', 'Н/Д', f'{ELECTRICITY_PRICE:.2f} грн/кВт·год',\n",
    "                       f'{electricity_needed:.2f} кВт·год', f'{electricity_cost:.2f} грн',\n",
    "                       f'{electricity_cost / methane_cost:.2f}']\n",
    "}\n",
    "\n",
    "# Створення DataFrame з даними\n",
    "comparison_df = pd.DataFrame(comparison_data)\n",
    "\n",
    "comparison_df"
   ],
   "id": "602af3d5f55a5da0",
   "outputs": [
    {
     "data": {
      "text/plain": [
       "                           Параметр  Чистий метан  Природний газ  \\\n",
       "0                       Енергоносій  Метан (100%)  Природний газ   \n",
       "1                  Теплота згоряння  50.03 МДж/м³   33.50 МДж/м³   \n",
       "2                Вартість 1 одиниці   7.96 грн/м³    7.96 грн/м³   \n",
       "3  Кількість для 1000 кВт·год тепла      88.83 м³      132.66 м³   \n",
       "4                  Загальні витрати    707.07 грн    1055.97 грн   \n",
       "5                 Відносна вартість             1           1.49   \n",
       "\n",
       "     Електроенергія  \n",
       "0         Електрика  \n",
       "1               Н/Д  \n",
       "2  4.32 грн/кВт·год  \n",
       "3   1234.57 кВт·год  \n",
       "4       5333.33 грн  \n",
       "5              7.54  "
      ],
      "text/html": [
       "<div>\n",
       "<style scoped>\n",
       "    .dataframe tbody tr th:only-of-type {\n",
       "        vertical-align: middle;\n",
       "    }\n",
       "\n",
       "    .dataframe tbody tr th {\n",
       "        vertical-align: top;\n",
       "    }\n",
       "\n",
       "    .dataframe thead th {\n",
       "        text-align: right;\n",
       "    }\n",
       "</style>\n",
       "<table border=\"1\" class=\"dataframe\">\n",
       "  <thead>\n",
       "    <tr style=\"text-align: right;\">\n",
       "      <th></th>\n",
       "      <th>Параметр</th>\n",
       "      <th>Чистий метан</th>\n",
       "      <th>Природний газ</th>\n",
       "      <th>Електроенергія</th>\n",
       "    </tr>\n",
       "  </thead>\n",
       "  <tbody>\n",
       "    <tr>\n",
       "      <th>0</th>\n",
       "      <td>Енергоносій</td>\n",
       "      <td>Метан (100%)</td>\n",
       "      <td>Природний газ</td>\n",
       "      <td>Електрика</td>\n",
       "    </tr>\n",
       "    <tr>\n",
       "      <th>1</th>\n",
       "      <td>Теплота згоряння</td>\n",
       "      <td>50.03 МДж/м³</td>\n",
       "      <td>33.50 МДж/м³</td>\n",
       "      <td>Н/Д</td>\n",
       "    </tr>\n",
       "    <tr>\n",
       "      <th>2</th>\n",
       "      <td>Вартість 1 одиниці</td>\n",
       "      <td>7.96 грн/м³</td>\n",
       "      <td>7.96 грн/м³</td>\n",
       "      <td>4.32 грн/кВт·год</td>\n",
       "    </tr>\n",
       "    <tr>\n",
       "      <th>3</th>\n",
       "      <td>Кількість для 1000 кВт·год тепла</td>\n",
       "      <td>88.83 м³</td>\n",
       "      <td>132.66 м³</td>\n",
       "      <td>1234.57 кВт·год</td>\n",
       "    </tr>\n",
       "    <tr>\n",
       "      <th>4</th>\n",
       "      <td>Загальні витрати</td>\n",
       "      <td>707.07 грн</td>\n",
       "      <td>1055.97 грн</td>\n",
       "      <td>5333.33 грн</td>\n",
       "    </tr>\n",
       "    <tr>\n",
       "      <th>5</th>\n",
       "      <td>Відносна вартість</td>\n",
       "      <td>1</td>\n",
       "      <td>1.49</td>\n",
       "      <td>7.54</td>\n",
       "    </tr>\n",
       "  </tbody>\n",
       "</table>\n",
       "</div>"
      ]
     },
     "execution_count": 71,
     "metadata": {},
     "output_type": "execute_result"
    }
   ],
   "execution_count": 71
  },
  {
   "metadata": {},
   "cell_type": "markdown",
   "source": [
    "## Результати\n",
    "\n",
    "Проведений аналіз демонструє значну економічну перевагу використання газового опалення порівняно з прямим електричним опаленням за поточних тарифів на енергоносії. Електричне опалення практично в 7.54 рази дорожче за опалення чистим метаном та в 5.05 разів дорожче за опалення природним газом.\n",
    "\n",
    "Треба відзначити різницю в економічній ефективності між чистим метаном і природним газом. Природний газ вихожить дорожчим за метан у 1.49 рази, що пояснюється значною різницею в теплоті згоряння: 50.03 МДж/м³ для метану проти 33.50 МДж/м³ для природного газу.\n",
    "\n",
    "Важливо зауважити, що в нашому дослідженні ККД електричного котла прийнято на рівні 90%, що відповідає реальним умовам експлуатації з урахуванням можливих втрат. Хоча теоретично електричні котли мають вищій ККД, на практиці різні фактори можуть знижувати їхню ефективність.\n",
    "\n",
    "Впровадження теплового насоса суттєво підвищує економічну привабливість електричного опалення. При досягненні COP = 4.5 вартість опалення тепловим насосом наближається до вартості природного газу (співвідношення 1.01).\n",
    "\n",
    "Однак критичний аналіз показує, що для досягнення паритету з чистим метаном необхідний тепловий насос з надзвичайно високим COP = 6.8, що перевищує характеристики більшості доступних на ринку моделей. Натомість, для досягнення паритету з природним газом достатньо теплового насоса з COP = 4.6, що є більш реалістичним показником для сучасних високоефективних моделей.\n",
    "\n",
    "Важливо зазначити, що результати дослідження ґрунтуються на поточних тарифах на енергоносії та можуть суттєво змінюватися при їх коригуванні. Крім того, на вибір системи опалення впливають не лише економічні фактори, але й екологічні аспекти, доступність енергоносіїв, наявність інфраструктури та інші чинники."
   ],
   "id": "b2b2fb1880137142"
  },
  {
   "metadata": {},
   "cell_type": "markdown",
   "source": [
    "## Висновки\n",
    "\n",
    "На підставі проведеного дослідження можна зробити наступні висновки:\n",
    "\n",
    "1. Опалення природним газом за поточних тарифів суттєво економічно вигідніше порівняно з прямим електричним опаленням. Вартість опалення електроенергією перевищує вартість опалення природним газом у 5.05 рази.\n",
    "\n",
    "2. Істотна різниця у вартості опалення чистим метаном та природним газом (у 1.49 рази) пояснюється значною різницею у їхній теплотворній здатності.\n",
    "\n",
    "3. Використання теплового насоса значно підвищує економічну ефективність електричного опалення. При досягненні COP = 4.6 вартість опалення тепловим насосом стає рівною вартості опалення природним газом.\n",
    "\n",
    "4. Для досягнення економічної ефективності, рівної опаленню чистим метаном, необхідний тепловий насос з COP = 6.8, що є технічно складним завданням для сучасних систем.\n",
    "\n",
    "5. При виборі оптимальної системи опалення необхідно враховувати не лише економічні фактори, але й екологічні, технічні та інфраструктурні аспекти.\n",
    "\n",
    "6. З огляду на постійні зміни тарифів на енергоносії, періодичне оновлення подібних розрахунків є необхідним для прийняття обґрунтованих рішень щодо вибору або модернізації системи опалення.\n",
    "\n",
    "Отримані результати можуть бути використані як при індивідуальному виборі системи опалення для приватної оселі, так і при формуванні рекомендацій щодо енергоефективності на рівні об'єднаних територіальних громад та регіонів."
   ],
   "id": "d8a22fe3091f0f1d"
  }
 ],
 "metadata": {
  "kernelspec": {
   "display_name": "Python 3 (ipykernel)",
   "language": "python",
   "name": "python3"
  },
  "language_info": {
   "codemirror_mode": {
    "name": "ipython",
    "version": 3
   },
   "file_extension": ".py",
   "mimetype": "text/x-python",
   "name": "python",
   "nbconvert_exporter": "python",
   "pygments_lexer": "ipython3",
   "version": "3.13.0"
  }
 },
 "nbformat": 4,
 "nbformat_minor": 5
}
